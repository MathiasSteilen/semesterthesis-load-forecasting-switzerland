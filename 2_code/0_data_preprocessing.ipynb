{
 "cells": [
  {
   "cell_type": "markdown",
   "metadata": {},
   "source": [
    "# Packages"
   ]
  },
  {
   "cell_type": "code",
   "execution_count": 1,
   "metadata": {},
   "outputs": [],
   "source": [
    "import pandas as pd\n",
    "import polars as pl\n",
    "import polars.selectors as cs\n",
    "import numpy as np\n",
    "import plotnine as pn\n",
    "import matplotlib.pyplot as plt\n",
    "from mizani.formatters import comma_format, custom_format, currency_format, percent_format\n",
    "from IPython.display import clear_output, display\n",
    "import os\n",
    "import glob\n",
    "from tqdm.notebook import tqdm\n",
    "import itertools\n",
    "import yaml\n",
    "import matplotlib.font_manager as fm\n",
    "import matplotlib as mpl\n",
    "from matplotlib import rc\n",
    "import time\n",
    "\n",
    "# OpenMeteo API\n",
    "import openmeteo_requests\n",
    "import requests_cache\n",
    "from retry_requests import retry\n",
    "\n",
    "# ENTSOE\n",
    "from entsoe import EntsoePandasClient, EntsoeRawClient\n",
    "\n",
    "rc('text', usetex=False)\n",
    "\n",
    "jama_colour = [\n",
    "    \"#374e55\",\n",
    "    \"#df8f44\",\n",
    "    \"#00a1d5\",\n",
    "    \"#b24745\",\n",
    "    \"#79af97\",\n",
    "]\n",
    "\n",
    "pd.set_option(\"display.max.columns\", 500)\n",
    "pd.set_option(\"display.max.columns\", 500)\n",
    "\n",
    "\n",
    "theme_academic = pn.theme(\n",
    "    text=pn.element_text(family=\"Latin Modern Roman\"),\n",
    "    plot_title=pn.element_text(weight=\"bold\", size=14, ha=\"center\"),\n",
    "    legend_text=pn.element_text(size=9),  # Smaller font for legend items\n",
    "    panel_background=pn.element_rect(fill=\"white\"),  # Clean white background\n",
    "    panel_border=pn.element_rect(color=\"grey\", size=0.5),\n",
    "    axis_ticks=pn.element_line(color=\"grey\"),\n",
    "    panel_grid_major=pn.element_line(color=\"grey\", size=0.1),\n",
    "    panel_grid_minor=pn.element_line(color=\"grey\", size=0.1),\n",
    "    legend_background=pn.element_rect(fill=\"white\", color=None),\n",
    "    legend_key=pn.element_rect(fill=\"white\", color=None),\n",
    "    plot_margin=0.02,\n",
    "    figure_size=(6, 4),  # Set default figure size (width, height in inches)\n",
    ")\n",
    "\n",
    "%matplotlib inline"
   ]
  },
  {
   "cell_type": "markdown",
   "metadata": {},
   "source": [
    "# Raw Data"
   ]
  },
  {
   "cell_type": "markdown",
   "metadata": {},
   "source": [
    "## Swissgrid Energiestatistik"
   ]
  },
  {
   "cell_type": "code",
   "execution_count": 64,
   "metadata": {},
   "outputs": [],
   "source": [
    "energieuebersicht_paths = [\n",
    "    path for path in os.listdir(\"../0_data/raw/\") if \"EnergieUebersicht\" in path\n",
    "]"
   ]
  },
  {
   "cell_type": "code",
   "execution_count": null,
   "metadata": {},
   "outputs": [],
   "source": [
    "load_dfs = []\n",
    "\n",
    "for path in tqdm(energieuebersicht_paths):\n",
    "    df_tmp = (\n",
    "        pl.read_excel(\n",
    "            source=f\"../0_data/raw/{path}\",\n",
    "            sheet_name=\"Zeitreihen0h15\",\n",
    "        )\n",
    "        .select(pl.nth(0), pl.nth(1))\n",
    "        .tail(-1)\n",
    "    )\n",
    "\n",
    "    df_tmp.columns = [\"datetime\", \"kWh\"]\n",
    "\n",
    "    df_tmp = df_tmp.with_columns(\n",
    "        datetime=(\n",
    "            pl.col(\"datetime\").str.to_datetime() - pd.Timedelta(15, unit=\"minutes\")\n",
    "        ),\n",
    "        kWh=pl.col(\"kWh\").cast(pl.Float64),\n",
    "    ).sort(\"datetime\")\n",
    "\n",
    "    load_dfs.append(df_tmp)"
   ]
  },
  {
   "cell_type": "code",
   "execution_count": null,
   "metadata": {},
   "outputs": [],
   "source": [
    "load = pl.concat(load_dfs, how=\"vertical\").sort(\"datetime\")\n",
    "load.head()"
   ]
  },
  {
   "cell_type": "code",
   "execution_count": 14,
   "metadata": {},
   "outputs": [],
   "source": [
    "load.to_pandas().to_csv(\"../0_data/preprocessed/load.csv\", index=False)"
   ]
  },
  {
   "cell_type": "markdown",
   "metadata": {},
   "source": [
    "## OpenMeteo API\n",
    "\n",
    "[API Link](https://open-meteo.com/en/docs/historical-weather-api)"
   ]
  },
  {
   "cell_type": "markdown",
   "metadata": {},
   "source": [
    "### Pull the raw data"
   ]
  },
  {
   "cell_type": "code",
   "execution_count": null,
   "metadata": {},
   "outputs": [],
   "source": [
    "cities = pd.DataFrame(\n",
    "    {\n",
    "        \"name\": [\n",
    "            \"Zurich\",\n",
    "            \"Geneva\",\n",
    "            \"Basel\",\n",
    "            \"Bern\",\n",
    "            \"St. Gallen\",\n",
    "            \"Lugano\",\n",
    "            \"Sion\",\n",
    "        ],\n",
    "        \"latitude\": [\n",
    "            47.3769,\n",
    "            46.2044,\n",
    "            47.5596,\n",
    "            46.948,\n",
    "            47.4245,\n",
    "            46.0037,\n",
    "            46.2331,\n",
    "        ],\n",
    "        \"longitude\": [\n",
    "            8.5417,\n",
    "            6.1432,\n",
    "            7.5886,\n",
    "            7.4474,\n",
    "            9.3767,\n",
    "            8.9511,\n",
    "            7.3606,\n",
    "        ],\n",
    "    }\n",
    ")\n",
    "\n",
    "cities"
   ]
  },
  {
   "cell_type": "code",
   "execution_count": 16,
   "metadata": {},
   "outputs": [],
   "source": [
    "# Setup the Open-Meteo API client with cache and retry on error\n",
    "cache_session = requests_cache.CachedSession(\".cache\", expire_after=-1)\n",
    "retry_session = retry(cache_session, retries=5, backoff_factor=0.2)\n",
    "openmeteo = openmeteo_requests.Client(session=retry_session)\n",
    "\n",
    "# Make sure all required weather variables are listed here\n",
    "# The order of variables in hourly or daily is important to assign them correctly below\n",
    "url = \"https://archive-api.open-meteo.com/v1/archive\""
   ]
  },
  {
   "cell_type": "code",
   "execution_count": null,
   "metadata": {},
   "outputs": [],
   "source": [
    "for idx, city in cities.iterrows():\n",
    "    params = {\n",
    "        \"latitude\": city[\"latitude\"],\n",
    "        \"longitude\": city[\"longitude\"],\n",
    "        \"start_date\": \"2009-01-01\",\n",
    "        \"end_date\": \"2024-10-10\",\n",
    "        \"hourly\": [\n",
    "            \"temperature_2m\",\n",
    "            \"relative_humidity_2m\",\n",
    "            \"dew_point_2m\",\n",
    "            \"apparent_temperature\",\n",
    "            \"precipitation\",\n",
    "            \"rain\",\n",
    "            \"snowfall\",\n",
    "            \"snow_depth\",\n",
    "            \"cloud_cover\",\n",
    "            \"wind_speed_10m\",\n",
    "            \"wind_speed_100m\",\n",
    "            \"wind_direction_10m\",\n",
    "            \"wind_direction_100m\",\n",
    "            \"wind_gusts_10m\",\n",
    "            \"soil_temperature_0_to_7cm\",\n",
    "            \"soil_temperature_7_to_28cm\",\n",
    "            \"soil_temperature_28_to_100cm\",\n",
    "            \"soil_temperature_100_to_255cm\",\n",
    "            \"soil_moisture_0_to_7cm\",\n",
    "            \"soil_moisture_7_to_28cm\",\n",
    "            \"soil_moisture_28_to_100cm\",\n",
    "            \"soil_moisture_100_to_255cm\",\n",
    "            \"shortwave_radiation\",\n",
    "        ],\n",
    "        \"timezone\": \"Europe/Berlin\",\n",
    "    }\n",
    "    responses = openmeteo.weather_api(url, params=params)\n",
    "\n",
    "    # Process first location. Add a for-loop for multiple locations or weather models\n",
    "    response = responses[0]\n",
    "    print(f\"Coordinates {response.Latitude()}°N {response.Longitude()}°E\")\n",
    "    print(f\"Elevation {response.Elevation()} m asl\")\n",
    "    print(f\"Timezone {response.Timezone()} {response.TimezoneAbbreviation()}\")\n",
    "    print(f\"Timezone difference to GMT+0 {response.UtcOffsetSeconds()} s\")\n",
    "\n",
    "    # Process hourly data. The order of variables needs to be the same as requested.\n",
    "    hourly = response.Hourly()\n",
    "    hourly_temperature_2m = hourly.Variables(0).ValuesAsNumpy()\n",
    "    hourly_relative_humidity_2m = hourly.Variables(1).ValuesAsNumpy()\n",
    "    hourly_dew_point_2m = hourly.Variables(2).ValuesAsNumpy()\n",
    "    hourly_apparent_temperature = hourly.Variables(3).ValuesAsNumpy()\n",
    "    hourly_precipitation = hourly.Variables(4).ValuesAsNumpy()\n",
    "    hourly_rain = hourly.Variables(5).ValuesAsNumpy()\n",
    "    hourly_snowfall = hourly.Variables(6).ValuesAsNumpy()\n",
    "    hourly_snow_depth = hourly.Variables(7).ValuesAsNumpy()\n",
    "    hourly_cloud_cover = hourly.Variables(8).ValuesAsNumpy()\n",
    "    hourly_wind_speed_10m = hourly.Variables(9).ValuesAsNumpy()\n",
    "    hourly_wind_speed_100m = hourly.Variables(10).ValuesAsNumpy()\n",
    "    hourly_wind_direction_10m = hourly.Variables(11).ValuesAsNumpy()\n",
    "    hourly_wind_direction_100m = hourly.Variables(12).ValuesAsNumpy()\n",
    "    hourly_wind_gusts_10m = hourly.Variables(13).ValuesAsNumpy()\n",
    "    hourly_soil_temperature_0_to_7cm = hourly.Variables(14).ValuesAsNumpy()\n",
    "    hourly_soil_temperature_7_to_28cm = hourly.Variables(15).ValuesAsNumpy()\n",
    "    hourly_soil_temperature_28_to_100cm = hourly.Variables(16).ValuesAsNumpy()\n",
    "    hourly_soil_temperature_100_to_255cm = hourly.Variables(17).ValuesAsNumpy()\n",
    "    hourly_soil_moisture_0_to_7cm = hourly.Variables(18).ValuesAsNumpy()\n",
    "    hourly_soil_moisture_7_to_28cm = hourly.Variables(19).ValuesAsNumpy()\n",
    "    hourly_soil_moisture_28_to_100cm = hourly.Variables(20).ValuesAsNumpy()\n",
    "    hourly_soil_moisture_100_to_255cm = hourly.Variables(21).ValuesAsNumpy()\n",
    "    hourly_shortwave_radiation = hourly.Variables(22).ValuesAsNumpy()\n",
    "\n",
    "    hourly_data = {\n",
    "        \"date\": pd.date_range(\n",
    "            start=pd.to_datetime(hourly.Time(), unit=\"s\", utc=True),\n",
    "            end=pd.to_datetime(hourly.TimeEnd(), unit=\"s\", utc=True),\n",
    "            freq=pd.Timedelta(seconds=hourly.Interval()),\n",
    "            inclusive=\"left\",\n",
    "        )\n",
    "    }\n",
    "    hourly_data[\"temperature_2m\"] = hourly_temperature_2m\n",
    "    hourly_data[\"relative_humidity_2m\"] = hourly_relative_humidity_2m\n",
    "    hourly_data[\"dew_point_2m\"] = hourly_dew_point_2m\n",
    "    hourly_data[\"apparent_temperature\"] = hourly_apparent_temperature\n",
    "    hourly_data[\"precipitation\"] = hourly_precipitation\n",
    "    hourly_data[\"rain\"] = hourly_rain\n",
    "    hourly_data[\"snowfall\"] = hourly_snowfall\n",
    "    hourly_data[\"snow_depth\"] = hourly_snow_depth\n",
    "    hourly_data[\"cloud_cover\"] = hourly_cloud_cover\n",
    "    hourly_data[\"wind_speed_10m\"] = hourly_wind_speed_10m\n",
    "    hourly_data[\"wind_speed_100m\"] = hourly_wind_speed_100m\n",
    "    hourly_data[\"wind_direction_10m\"] = hourly_wind_direction_10m\n",
    "    hourly_data[\"wind_direction_100m\"] = hourly_wind_direction_100m\n",
    "    hourly_data[\"wind_gusts_10m\"] = hourly_wind_gusts_10m\n",
    "    hourly_data[\"soil_temperature_0_to_7cm\"] = hourly_soil_temperature_0_to_7cm\n",
    "    hourly_data[\"soil_temperature_7_to_28cm\"] = hourly_soil_temperature_7_to_28cm\n",
    "    hourly_data[\"soil_temperature_28_to_100cm\"] = hourly_soil_temperature_28_to_100cm\n",
    "    hourly_data[\"soil_temperature_100_to_255cm\"] = hourly_soil_temperature_100_to_255cm\n",
    "    hourly_data[\"soil_moisture_0_to_7cm\"] = hourly_soil_moisture_0_to_7cm\n",
    "    hourly_data[\"soil_moisture_7_to_28cm\"] = hourly_soil_moisture_7_to_28cm\n",
    "    hourly_data[\"soil_moisture_28_to_100cm\"] = hourly_soil_moisture_28_to_100cm\n",
    "    hourly_data[\"soil_moisture_100_to_255cm\"] = hourly_soil_moisture_100_to_255cm\n",
    "    hourly_data[\"shortwave_radiation\"] = hourly_shortwave_radiation\n",
    "\n",
    "    hourly_dataframe = pd.DataFrame(data=hourly_data)\n",
    "    hourly_dataframe.to_csv(\n",
    "        f\"../0_data/raw/weather_data_{city['name']}.csv\", index=False\n",
    "    )\n",
    "\n",
    "    print(f\"{city['name']} done... sleeping to prevent timeout\")\n",
    "    time.sleep(90)"
   ]
  },
  {
   "cell_type": "markdown",
   "metadata": {},
   "source": [
    "### Aggregate to a single file"
   ]
  },
  {
   "cell_type": "code",
   "execution_count": 50,
   "metadata": {},
   "outputs": [
    {
     "data": {
      "text/plain": [
       "['weather_data_Basel.csv',\n",
       " 'weather_data_Bern.csv',\n",
       " 'weather_data_Geneva.csv',\n",
       " 'weather_data_Lugano.csv',\n",
       " 'weather_data_Sion.csv',\n",
       " 'weather_data_St. Gallen.csv',\n",
       " 'weather_data_Zurich.csv']"
      ]
     },
     "execution_count": 50,
     "metadata": {},
     "output_type": "execute_result"
    }
   ],
   "source": [
    "weather_paths = [path for path in os.listdir(\"../0_data/raw/\") if \"weather\" in path]\n",
    "\n",
    "weather_paths"
   ]
  },
  {
   "cell_type": "code",
   "execution_count": 51,
   "metadata": {},
   "outputs": [],
   "source": [
    "weather_dfs = []\n",
    "\n",
    "for path in weather_paths:\n",
    "\n",
    "    weather_city = path.split(\".\")[0].split(\"_\")[-1]\n",
    "\n",
    "    weather_df = (\n",
    "        pl.read_csv(f\"../0_data/raw/{path}\", try_parse_dates=True)\n",
    "        .with_columns(pl.selectors.exclude(\"date\").name.prefix(f\"{weather_city}_\"))\n",
    "        .select(\"date\", pl.selectors.contains(weather_city))\n",
    "    )\n",
    "\n",
    "    weather_dfs.append(weather_df)"
   ]
  },
  {
   "cell_type": "code",
   "execution_count": 54,
   "metadata": {},
   "outputs": [],
   "source": [
    "result_df = weather_dfs[0]\n",
    "\n",
    "for df in weather_dfs[1:]:\n",
    "    result_df = result_df.join(df, on=\"date\", how=\"left\")"
   ]
  },
  {
   "cell_type": "code",
   "execution_count": 55,
   "metadata": {},
   "outputs": [
    {
     "name": "stdout",
     "output_type": "stream",
     "text": [
      "Rows: 138288\n",
      "Columns: 162\n",
      "$ date                                 <datetime[μs, UTC]> 2008-12-31 22:00:00+00:00, 2008-12-31 23:00:00+00:00, 2009-01-01 00:00:00+00:00, 2009-01-01 01:00:00+00:00, 2009-01-01 02:00:00+00:00, 2009-01-01 03:00:00+00:00, 2009-01-01 04:00:00+00:00, 2009-01-01 05:00:00+00:00, 2009-01-01 06:00:00+00:00, 2009-01-01 07:00:00+00:00\n",
      "$ Basel_temperature_2m                               <f64> -1.1465, -1.4965, -1.8464999, -1.2965, -1.1465, -1.5465, -1.4965, -1.3965, -2.4965, -1.5965\n",
      "$ Basel_relative_humidity_2m                         <f64> 95.69214, 94.97623, 94.96198, 96.03991, 96.398476, 96.38674, 95.32749, 94.63044, 94.23078, 92.88698\n",
      "$ Basel_dew_point_2m                                 <f64> -1.7465, -2.1965, -2.5465, -1.8464999, -1.6465, -2.0465, -2.1465, -2.1465, -3.2965, -2.5965\n",
      "$ Basel_apparent_temperature                         <f64> -3.8328483, -4.269863, -4.892221, -4.3226614, -4.0807962, -4.5546722, -4.456135, -4.3716264, -5.6152325, -4.773083\n",
      "$ Basel_precipitation                                <f64> 0.1, 0.1, 0.0, 0.0, 0.0, 0.0, 0.0, 0.0, 0.0, 0.0\n",
      "$ Basel_rain                                         <f64> 0.1, 0.0, 0.0, 0.0, 0.0, 0.0, 0.0, 0.0, 0.0, 0.0\n",
      "$ Basel_snowfall                                     <f64> 0.0, 0.07, 0.07, 0.07, 0.07, 0.07, 0.07, 0.0, 0.0, 0.0\n",
      "$ Basel_snow_depth                                   <f64> 0.06, 0.06, 0.06, 0.06, 0.06, 0.06, 0.06, 0.06, 0.06, 0.06\n",
      "$ Basel_cloud_cover                                  <f64> 53.1, 57.899998, 78.3, 50.100002, 69.3, 58.199997, 75.6, 82.799995, 79.2, 69.299995\n",
      "$ Basel_wind_speed_10m                               <f64> 2.0991426, 2.2768397, 3.8268526, 4.3349743, 3.8939953, 4.0249224, 3.6, 3.7064266, 3.671294, 4.68\n",
      "$ Basel_wind_speed_100m                              <f64> 4.6102495, 3.8268526, 8.049845, 9.826088, 8.766573, 9.021574, 9.659814, 9.19939, 7.6367526, 6.489992\n",
      "$ Basel_wind_direction_10m                           <f64> 120.96369, 161.56496, 221.18582, 228.36655, 213.6901, 206.56499, 216.86998, 209.0545, 191.30989, 180.0\n",
      "$ Basel_wind_direction_100m                          <f64> 141.34016, 228.81418, 259.69522, 261.57312, 250.82089, 241.38963, 243.43501, 239.42085, 224.9999, 213.6901\n",
      "$ Basel_wind_gusts_10m                               <f64> 9.72, 8.28, 9.0, 9.36, 9.36, 9.0, 9.0, 9.72, 10.799999, 9.0\n",
      "$ Basel_soil_temperature_0_to_7cm                    <f64> -0.7465, -0.79649997, -0.79649997, -0.79649997, -0.79649997, -0.79649997, -0.79649997, -0.79649997, -0.84650004, -0.8965\n",
      "$ Basel_soil_temperature_7_to_28cm                   <f64> 0.2535, 0.2535, 0.2535, 0.2535, 0.2535, 0.2535, 0.2535, 0.2535, 0.2535, 0.2535\n",
      "$ Basel_soil_temperature_28_to_100cm                 <f64> 3.2535, 3.2535, 3.2535, 3.2535, 3.2535, 3.2535, 3.2035, 3.2035, 3.2035, 3.2035\n",
      "$ Basel_soil_temperature_100_to_255cm                <f64> 8.3535, 8.3535, 8.3535, 8.3535, 8.3535, 8.3535, 8.3535, 8.3535, 8.3535, 8.3035\n",
      "$ Basel_soil_moisture_0_to_7cm                       <f64> 0.478, 0.477, 0.475, 0.473, 0.472, 0.471, 0.47, 0.469, 0.468, 0.467\n",
      "$ Basel_soil_moisture_7_to_28cm                      <f64> 0.468, 0.468, 0.468, 0.468, 0.468, 0.468, 0.468, 0.468, 0.468, 0.468\n",
      "$ Basel_soil_moisture_28_to_100cm                    <f64> 0.47, 0.47, 0.47, 0.47, 0.47, 0.47, 0.47, 0.47, 0.47, 0.47\n",
      "$ Basel_soil_moisture_100_to_255cm                   <f64> 0.47, 0.47, 0.47, 0.47, 0.47, 0.47, 0.47, 0.47, 0.47, 0.47\n",
      "$ Basel_shortwave_radiation                          <f64> 0.0, 0.0, 0.0, 0.0, 0.0, 0.0, 0.0, 0.0, 0.0, 0.0\n",
      "$ Bern_temperature_2m                                <f64> -0.046000004, -0.49600002, -1.046, -0.84599996, -0.84599996, -1.046, -1.546, -2.346, -1.8460001, -1.546\n",
      "$ Bern_relative_humidity_2m                          <f64> 94.34341, 95.016594, 94.99447, 94.6542, 93.616, 92.235115, 91.862976, 91.81095, 89.815384, 88.51246\n",
      "$ Bern_dew_point_2m                                  <f64> -0.84599996, -1.196, -1.746, -1.5960001, -1.746, -2.146, -2.6959999, -3.4959998, -3.296, -3.1959999\n",
      "$ Bern_apparent_temperature                          <f64> -2.4643452, -3.1139321, -3.9015336, -3.8198292, -3.7213538, -4.1848025, -4.90761, -5.7955484, -4.9772067, -4.4951286\n",
      "$ Bern_precipitation                                 <f64> 0.8, 0.4, 0.2, 0.0, 0.0, 0.0, 0.0, 0.0, 0.0, 0.0\n",
      "$ Bern_rain                                          <f64> 0.19999999, 0.099999994, 0.1, 0.0, 0.0, 0.0, 0.0, 0.0, 0.0, 0.0\n",
      "$ Bern_snowfall                                      <f64> 0.42000002, 0.21000001, 0.07, 0.07, 0.0, 0.0, 0.0, 0.0, 0.0, 0.0\n",
      "$ Bern_snow_depth                                    <f64> 0.28, 0.29, 0.29, 0.29, 0.29, 0.29, 0.29, 0.29, 0.29, 0.29\n",
      "$ Bern_cloud_cover                                   <f64> 100.0, 95.7, 64.799995, 72.6, 58.499996, 52.199997, 64.799995, 66.6, 54.3, 58.8\n",
      "$ Bern_wind_speed_10m                                <f64> 1.1384199, 2.16, 3.2599385, 4.2136917, 3.396233, 4.829907, 5.8603754, 5.771239, 3.7585104, 2.5959969\n",
      "$ Bern_wind_speed_100m                               <f64> 4.510787, 3.8939953, 8.350138, 10.365251, 10.086427, 8.14587, 8.217153, 6.9899354, 4.452954, 3.6\n",
      "$ Bern_wind_direction_10m                            <f64> 71.564964, 270.0, 263.6599, 289.9832, 302.00534, 333.43503, 349.3804, 356.42374, 16.699326, 33.6901\n",
      "$ Bern_wind_direction_100m                           <f64> 151.38963, 213.6901, 262.5687, 290.3232, 304.82455, 315.0001, 331.1893, 348.11136, 14.036275, 53.13002\n",
      "$ Bern_wind_gusts_10m                                <f64> 7.5599995, 9.36, 10.440001, 11.159999, 11.5199995, 9.72, 9.0, 8.64, 10.08, 7.92\n",
      "$ Bern_soil_temperature_0_to_7cm                     <f64> -0.096, -0.096, -0.096, -0.046000004, -0.046000004, -0.046000004, -0.046000004, -0.046000004, -0.046000004, -0.046000004\n",
      "$ Bern_soil_temperature_7_to_28cm                    <f64> 0.404, 0.404, 0.404, 0.404, 0.404, 0.404, 0.404, 0.404, 0.404, 0.404\n",
      "$ Bern_soil_temperature_28_to_100cm                  <f64> 1.954, 1.954, 1.954, 1.954, 1.954, 1.954, 1.954, 1.954, 1.954, 1.954\n",
      "$ Bern_soil_temperature_100_to_255cm                 <f64> 5.704, 5.704, 5.704, 5.704, 5.704, 5.704, 5.704, 5.704, 5.704, 5.704\n",
      "$ Bern_soil_moisture_0_to_7cm                        <f64> 0.4, 0.399, 0.397, 0.396, 0.394, 0.393, 0.392, 0.391, 0.39, 0.389\n",
      "$ Bern_soil_moisture_7_to_28cm                       <f64> 0.381, 0.381, 0.382, 0.382, 0.382, 0.382, 0.382, 0.382, 0.383, 0.383\n",
      "$ Bern_soil_moisture_28_to_100cm                     <f64> 0.399, 0.399, 0.399, 0.399, 0.399, 0.399, 0.399, 0.399, 0.399, 0.399\n",
      "$ Bern_soil_moisture_100_to_255cm                    <f64> 0.401, 0.401, 0.401, 0.401, 0.401, 0.401, 0.401, 0.401, 0.401, 0.401\n",
      "$ Bern_shortwave_radiation                           <f64> 0.0, 0.0, 0.0, 0.0, 0.0, 0.0, 0.0, 0.0, 0.0, 0.0\n",
      "$ Geneva_temperature_2m                              <f64> 2.061, 1.961, 1.961, 1.6110001, 1.661, 1.561, 1.2609999, 0.96099997, 0.261, -0.58900005\n",
      "$ Geneva_relative_humidity_2m                        <f64> 98.58288, 98.58173, 98.58173, 98.22494, 96.47926, 95.09809, 95.08633, 95.07453, 96.79025, 96.41474\n",
      "$ Geneva_dew_point_2m                                <f64> 1.8610001, 1.7609999, 1.7609999, 1.3610001, 1.161, 0.861, 0.561, 0.261, -0.18900001, -1.089\n",
      "$ Geneva_apparent_temperature                        <f64> -0.34634352, -0.56121564, -0.4636674, -0.79295325, -0.48828936, -0.5936563, -1.274158, -1.7814639, -2.491922, -3.5088305\n",
      "$ Geneva_precipitation                               <f64> 1.6, 1.7, 1.5, 1.1, 0.4, 0.0, 0.0, 0.0, 0.0, 0.0\n",
      "$ Geneva_rain                                        <f64> 1.3, 1.5, 1.0, 0.90000004, 0.4, 0.0, 0.0, 0.0, 0.0, 0.0\n",
      "$ Geneva_snowfall                                    <f64> 0.21000001, 0.14, 0.35, 0.14, 0.0, 0.0, 0.0, 0.0, 0.0, 0.0\n",
      "$ Geneva_snow_depth                                  <f64> 0.42, 0.43, 0.43, 0.43, 0.43, 0.43, 0.43, 0.43, 0.43, 0.43\n",
      "$ Geneva_cloud_cover                                 <f64> 100.0, 100.0, 100.0, 100.0, 100.0, 91.8, 88.2, 86.399994, 82.799995, 84.299995\n",
      "$ Geneva_wind_speed_10m                              <f64> 4.0249224, 4.6938252, 4.0249224, 3.4152596, 1.4399999, 1.1384199, 3.4152596, 4.510787, 4.1046314, 4.3349743\n",
      "$ Geneva_wind_speed_100m                             <f64> 7.289444, 7.208994, 6.379216, 4.3498964, 1.4399999, 0.35999998, 3.6, 5.904439, 6.9153743, 7.9932966\n",
      "$ Geneva_wind_direction_10m                          <f64> 243.43501, 265.60138, 280.30478, 288.43503, 270.0, 341.56494, 18.435053, 28.610369, 37.875053, 48.366554\n",
      "$ Geneva_wind_direction_100m                         <f64> 249.77505, 272.86234, 286.38962, 294.44394, 270.0, 360.0, 36.86999, 52.431335, 51.34017, 54.16227\n",
      "$ Geneva_wind_gusts_10m                              <f64> 24.48, 16.919998, 16.199999, 14.759999, 13.679999, 10.799999, 9.36, 9.72, 10.08, 14.4\n",
      "$ Geneva_soil_temperature_0_to_7cm                   <f64> 4.961, 4.961, 4.961, 5.011, 5.011, 5.011, 5.011, 5.061, 5.061, 5.061\n",
      "$ Geneva_soil_temperature_7_to_28cm                  <f64> 5.1610003, 5.1610003, 5.211, 5.211, 5.211, 5.211, 5.211, 5.261, 5.261, 5.261\n",
      "$ Geneva_soil_temperature_28_to_100cm                <f64> 6.4110003, 6.4110003, 6.4110003, 6.4110003, 6.4110003, 6.4110003, 6.4110003, 6.361, 6.361, 6.361\n",
      "$ Geneva_soil_temperature_100_to_255cm               <f64> 8.711, 8.711, 8.711, 8.711, 8.711, 8.711, 8.711, 8.711, 8.711, 8.711\n",
      "$ Geneva_soil_moisture_0_to_7cm                      <f64> 0.344, 0.339, 0.335, 0.331, 0.328, 0.325, 0.323, 0.321, 0.319, 0.318\n",
      "$ Geneva_soil_moisture_7_to_28cm                     <f64> 0.32, 0.321, 0.322, 0.322, 0.322, 0.322, 0.321, 0.321, 0.32, 0.32\n",
      "$ Geneva_soil_moisture_28_to_100cm                   <f64> 0.269, 0.269, 0.269, 0.27, 0.27, 0.27, 0.27, 0.27, 0.271, 0.271\n",
      "$ Geneva_soil_moisture_100_to_255cm                  <f64> 0.315, 0.315, 0.315, 0.315, 0.315, 0.315, 0.315, 0.315, 0.315, 0.315\n",
      "$ Geneva_shortwave_radiation                         <f64> 0.0, 0.0, 0.0, 0.0, 0.0, 0.0, 0.0, 0.0, 0.0, 0.0\n",
      "$ Lugano_temperature_2m                              <f64> 1.692, 1.492, 1.692, 1.742, 1.742, 1.092, 1.092, 1.092, 0.39199996, 1.242\n",
      "$ Lugano_relative_humidity_2m                        <f64> 95.78948, 96.12805, 94.76173, 94.42354, 94.76382, 96.463104, 96.11559, 96.463104, 98.207275, 97.866936\n",
      "$ Lugano_dew_point_2m                                <f64> 1.092, 0.942, 0.942, 0.942, 0.992, 0.592, 0.54199994, 0.592, 0.14199996, 0.942\n",
      "$ Lugano_apparent_temperature                        <f64> -0.9310374, -1.3524599, -1.175879, -0.65663505, -0.4599564, -1.174974, -1.0655701, -1.1062064, -2.121408, -1.0528412\n",
      "$ Lugano_precipitation                               <f64> 0.2, 0.2, 0.2, 0.3, 0.3, 0.3, 0.3, 0.1, 0.0, 0.0\n",
      "$ Lugano_rain                                        <f64> 0.0, 0.0, 0.0, 0.0, 0.0, 0.0, 0.0, 0.0, 0.0, 0.0\n",
      "$ Lugano_snowfall                                    <f64> 0.14, 0.14, 0.14, 0.21000001, 0.21000001, 0.21000001, 0.21000001, 0.07, 0.0, 0.0\n",
      "$ Lugano_snow_depth                                  <f64> 0.27, 0.28, 0.28, 0.28, 0.28, 0.29, 0.29, 0.29, 0.29, 0.29\n",
      "$ Lugano_cloud_cover                                 <f64> 100.0, 100.0, 100.0, 100.0, 100.0, 100.0, 66.600006, 54.6, 64.5, 57.3\n",
      "$ Lugano_wind_speed_10m                              <f64> 4.6102495, 5.95906, 6.12, 2.9024127, 1.609969, 1.609969, 0.8049845, 1.1384199, 2.8116899, 2.1897945\n",
      "$ Lugano_wind_speed_100m                             <f64> 6.4096174, 7.42159, 8.373386, 3.6, 2.0364676, 2.0364676, 1.08, 0.35999998, 2.0364676, 2.16\n",
      "$ Lugano_wind_direction_10m                          <f64> 128.65984, 154.98314, 151.92761, 150.2552, 153.43501, 153.43501, 116.56499, 198.43504, 219.80553, 260.53775\n",
      "$ Lugano_wind_direction_100m                         <f64> 128.15727, 157.1663, 154.5367, 143.13002, 135.0001, 135.0001, 90.0, 180.0, 224.9999, 270.0\n",
      "$ Lugano_wind_gusts_10m                              <f64> 10.799999, 10.799999, 10.08, 9.36, 8.64, 8.28, 8.28, 7.92, 9.0, 7.92\n",
      "$ Lugano_soil_temperature_0_to_7cm                   <f64> 4.892, 4.892, 4.892, 4.892, 4.942, 4.942, 4.942, 4.942, 4.942, 4.942\n",
      "$ Lugano_soil_temperature_7_to_28cm                  <f64> 5.342, 5.342, 5.342, 5.342, 5.342, 5.342, 5.342, 5.392, 5.392, 5.392\n",
      "$ Lugano_soil_temperature_28_to_100cm                <f64> 7.092, 7.092, 7.092, 7.092, 7.092, 7.092, 7.092, 7.092, 7.092, 7.092\n",
      "$ Lugano_soil_temperature_100_to_255cm               <f64> 10.891999, 10.891999, 10.842, 10.842, 10.842, 10.842, 10.842, 10.842, 10.842, 10.842\n",
      "$ Lugano_soil_moisture_0_to_7cm                      <f64> 0.379, 0.378, 0.378, 0.378, 0.377, 0.377, 0.377, 0.376, 0.376, 0.376\n",
      "$ Lugano_soil_moisture_7_to_28cm                     <f64> 0.38, 0.38, 0.38, 0.38, 0.379, 0.379, 0.379, 0.379, 0.379, 0.379\n",
      "$ Lugano_soil_moisture_28_to_100cm                   <f64> 0.361, 0.361, 0.361, 0.361, 0.361, 0.361, 0.361, 0.361, 0.36, 0.36\n",
      "$ Lugano_soil_moisture_100_to_255cm                  <f64> 0.423, 0.423, 0.423, 0.423, 0.423, 0.423, 0.423, 0.423, 0.423, 0.423\n",
      "$ Lugano_shortwave_radiation                         <f64> 0.0, 0.0, 0.0, 0.0, 0.0, 0.0, 0.0, 0.0, 0.0, 0.0\n",
      "$ Sion_temperature_2m                                <f64> -0.9549999, -0.9549999, -0.60499954, -0.20499992, -0.05499983, 0.14500046, 0.19500017, 0.09500027, -0.004999638, -1.0050001\n",
      "$ Sion_relative_humidity_2m                          <f64> 79.78969, 82.21453, 84.118164, 86.05507, 86.708305, 86.72872, 87.05343, 87.36433, 87.999954, 90.21568\n",
      "$ Sion_dew_point_2m                                  <f64> -4.005, -3.6049995, -2.955, -2.255, -2.005, -1.8049994, -1.7049999, -1.7550001, -1.7550001, -2.4049997\n",
      "$ Sion_apparent_temperature                          <f64> -4.2647543, -4.0454345, -3.6203284, -3.0059583, -2.7326953, -2.5950918, -2.719668, -2.8983092, -2.9730525, -4.112538\n",
      "$ Sion_precipitation                                 <f64> 1.7, 1.3, 0.8, 0.4, 0.1, 0.0, 0.0, 0.0, 0.0, 0.0\n",
      "$ Sion_rain                                          <f64> 0.0, 0.099999905, 0.0, 0.099999994, 0.0, 0.0, 0.0, 0.0, 0.0, 0.0\n",
      "$ Sion_snowfall                                      <f64> 1.19, 0.84000003, 0.56, 0.21000001, 0.07, 0.0, 0.0, 0.0, 0.0, 0.0\n",
      "$ Sion_snow_depth                                    <f64> 1.24, 1.25, 1.27, 1.29, 1.31, 1.31, 1.32, 1.32, 1.32, 1.32\n",
      "$ Sion_cloud_cover                                   <f64> 100.0, 100.0, 95.7, 83.1, 63.6, 88.2, 87.299995, 89.1, 86.399994, 74.7\n",
      "$ Sion_wind_speed_10m                                <f64> 4.39436, 3.219938, 3.2599385, 2.4149535, 1.8, 2.4149535, 3.7064266, 4.198285, 4.0249224, 4.379589\n",
      "$ Sion_wind_speed_100m                               <f64> 7.42159, 5.7599998, 6.28713, 5.3517847, 2.0991426, 4.379589, 5.506941, 6.9247384, 7.9036193, 9.36\n",
      "$ Sion_wind_direction_10m                            <f64> 145.0079, 153.43501, 173.6599, 153.43501, 126.86999, 63.435013, 60.94549, 59.03632, 79.69521, 99.46225\n",
      "$ Sion_wind_direction_100m                           <f64> 165.96373, 180.0, 193.24052, 199.65392, 239.0363, 350.53775, 11.3098955, 27.897186, 59.93151, 90.0\n",
      "$ Sion_wind_gusts_10m                                <f64> 40.68, 24.48, 23.759998, 23.759998, 22.68, 19.8, 15.84, 12.959999, 13.679999, 16.919998\n",
      "$ Sion_soil_temperature_0_to_7cm                     <f64> 7.3950005, 7.3950005, 7.3950005, 7.3950005, 7.3950005, 7.3950005, 7.3950005, 7.3950005, 7.3950005, 7.3950005\n",
      "$ Sion_soil_temperature_7_to_28cm                    <f64> 7.8950005, 7.8950005, 7.8950005, 7.8950005, 7.8950005, 7.8950005, 7.8950005, 7.8950005, 7.8950005, 7.8950005\n",
      "$ Sion_soil_temperature_28_to_100cm                  <f64> 9.245, 9.245, 9.245, 9.245, 9.245, 9.245, 9.245, 9.245, 9.245, 9.245\n",
      "$ Sion_soil_temperature_100_to_255cm                 <f64> 11.395, 11.395, 11.395, 11.395, 11.395, 11.395, 11.395, 11.345, 11.345, 11.345\n",
      "$ Sion_soil_moisture_0_to_7cm                        <f64> 0.369, 0.369, 0.369, 0.369, 0.369, 0.369, 0.369, 0.369, 0.369, 0.369\n",
      "$ Sion_soil_moisture_7_to_28cm                       <f64> 0.372, 0.372, 0.372, 0.372, 0.372, 0.372, 0.372, 0.372, 0.372, 0.372\n",
      "$ Sion_soil_moisture_28_to_100cm                     <f64> 0.382, 0.382, 0.382, 0.382, 0.382, 0.382, 0.382, 0.382, 0.382, 0.382\n",
      "$ Sion_soil_moisture_100_to_255cm                    <f64> 0.412, 0.412, 0.412, 0.412, 0.412, 0.412, 0.412, 0.412, 0.412, 0.412\n",
      "$ Sion_shortwave_radiation                           <i64> 0, 0, 0, 0, 0, 0, 0, 0, 0, 0\n",
      "$ St_temperature_2m                                  <f64> -2.7065, -2.7565, -2.6565, -2.5565, -2.3065, -2.3565, -2.3065, -2.2565, -2.2065, -1.6065\n",
      "$ St_relative_humidity_2m                            <f64> 89.40971, 91.78406, 92.82629, 93.179306, 92.84641, 92.843544, 93.192986, 93.54332, 93.198456, 93.92394\n",
      "$ St_dew_point_2m                                    <f64> -4.2064996, -3.9065, -3.6565, -3.5065, -3.3065, -3.3565, -3.2565, -3.1565, -3.1565, -2.4565\n",
      "$ St_apparent_temperature                            <f64> -6.0840955, -6.026415, -5.9665675, -5.598682, -5.3664303, -5.431259, -5.35438, -5.4631395, -5.404465, -4.7668037\n",
      "$ St_precipitation                                   <f64> 0.5, 0.8, 0.9, 0.7, 0.4, 0.2, 0.2, 0.2, 0.1, 0.0\n",
      "$ St_rain                                            <f64> 0.099999994, 0.100000024, 0.0, 0.0, 0.0, 0.0, 0.0, 0.0, 0.0, 0.0\n",
      "$ St_snowfall                                        <f64> 0.28, 0.48999998, 0.63, 0.48999998, 0.28, 0.14, 0.14, 0.14, 0.07, 0.07\n",
      "$ St_snow_depth                                      <f64> 0.37, 0.37, 0.38, 0.39, 0.39, 0.39, 0.4, 0.4, 0.4, 0.4\n",
      "$ St_cloud_cover                                     <f64> 91.2, 100.0, 93.0, 100.0, 100.0, 100.0, 100.0, 100.0, 100.0, 91.2\n",
      "$ St_wind_speed_10m                                  <f64> 4.6938252, 4.198285, 4.6800003, 2.968636, 3.2599385, 3.319036, 3.219938, 4.39436, 4.3349743, 4.6938257\n",
      "$ St_wind_speed_100m                                 <f64> 6.763786, 8.350138, 6.8399997, 6.297428, 5.991594, 6.9153743, 8.714677, 10.685391, 11.119281, 10.30883\n",
      "$ St_wind_direction_10m                              <f64> 175.60138, 149.03632, 157.3801, 194.03627, 186.3401, 192.5288, 206.56499, 214.9921, 221.63345, 212.47118\n",
      "$ St_wind_direction_100m                             <f64> 205.2011, 172.56868, 180.0, 210.96368, 212.73521, 218.65984, 231.7098, 237.38077, 240.94548, 245.22488\n",
      "$ St_wind_gusts_10m                                  <f64> 12.599999, 11.879999, 11.159999, 10.799999, 9.72, 9.36, 10.440001, 12.959999, 14.759999, 13.32\n",
      "$ St_soil_temperature_0_to_7cm                       <f64> 0.9935, 1.0435, 1.0435, 1.0935, 1.1435, 1.1435, 1.1935, 1.2435, 1.2435, 1.2935\n",
      "$ St_soil_temperature_7_to_28cm                      <f64> 1.6435, 1.6435, 1.6435, 1.6935, 1.6935, 1.6935, 1.6935, 1.7435, 1.7435, 1.7435\n",
      "$ St_soil_temperature_28_to_100cm                    <f64> 4.0435004, 4.0435004, 4.0435004, 4.0435004, 4.0435004, 3.9935, 3.9935, 3.9935, 3.9935, 3.9935\n",
      "$ St_soil_temperature_100_to_255cm                   <f64> 7.3435, 7.3435, 7.3435, 7.3435, 7.3435, 7.3435, 7.3435, 7.3435, 7.3435, 7.3435\n",
      "$ St_soil_moisture_0_to_7cm                          <f64> 0.368, 0.368, 0.367, 0.367, 0.367, 0.367, 0.367, 0.367, 0.367, 0.367\n",
      "$ St_soil_moisture_7_to_28cm                         <f64> 0.376, 0.375, 0.375, 0.375, 0.375, 0.375, 0.375, 0.375, 0.375, 0.375\n",
      "$ St_soil_moisture_28_to_100cm                       <f64> 0.392, 0.392, 0.391, 0.391, 0.391, 0.391, 0.391, 0.391, 0.391, 0.391\n",
      "$ St_soil_moisture_100_to_255cm                      <f64> 0.405, 0.405, 0.405, 0.405, 0.405, 0.405, 0.405, 0.405, 0.405, 0.405\n",
      "$ St_shortwave_radiation                             <f64> 0.0, 0.0, 0.0, 0.0, 0.0, 0.0, 0.0, 0.0, 0.0, 0.0\n",
      "$ Zurich_temperature_2m                              <f64> -0.19949996, 0.00050002337, -0.04949999, -0.3495, -0.6995, -1.2495, -1.6495001, -1.9995, -2.9495, -0.64949995\n",
      "$ Zurich_relative_humidity_2m                        <f64> 95.37616, 95.03646, 95.381744, 95.02247, 95.70769, 96.04143, 96.383705, 96.73071, 97.06647, 93.62603\n",
      "$ Zurich_dew_point_2m                                <f64> -0.8495, -0.6995, -0.6995, -1.0495, -1.2995, -1.7995, -2.1495001, -2.4495, -3.3495, -1.5495\n",
      "$ Zurich_apparent_temperature                        <f64> -2.7148783, -2.4980378, -2.4968162, -2.9141216, -3.6996984, -4.3794928, -4.939219, -5.322645, -6.387703, -3.6344914\n",
      "$ Zurich_precipitation                               <f64> 0.5, 0.3, 0.2, 0.3, 0.5, 0.4, 0.2, 0.0, 0.0, 0.0\n",
      "$ Zurich_rain                                        <f64> 0.099999994, 0.10000001, 0.1, 0.10000001, 0.0, 0.0, 0.0, 0.0, 0.0, 0.0\n",
      "$ Zurich_snowfall                                    <f64> 0.28, 0.14, 0.07, 0.14, 0.35, 0.28, 0.14, 0.0, 0.0, 0.0\n",
      "$ Zurich_snow_depth                                  <f64> 0.05, 0.05, 0.05, 0.06, 0.06, 0.06, 0.06, 0.07, 0.07, 0.07\n",
      "$ Zurich_cloud_cover                                 <f64> 100.0, 91.8, 99.899994, 99.9, 100.0, 86.399994, 57.3, 45.3, 41.399998, 45.0\n",
      "$ Zurich_wind_speed_10m                              <f64> 1.8, 1.835647, 1.484318, 1.9386592, 4.68, 5.0911684, 5.8603754, 5.815978, 5.815978, 4.3349743\n",
      "$ Zurich_wind_speed_100m                             <f64> 5.00128, 4.896529, 3.0547013, 5.0142193, 8.707238, 10.799999, 13.084402, 13.708391, 12.758432, 9.028754\n",
      "$ Zurich_wind_direction_10m                          <f64> 126.86999, 168.69011, 284.03625, 291.80148, 270.0, 261.87, 259.3804, 248.19853, 248.19853, 265.23645\n",
      "$ Zurich_wind_direction_100m                         <f64> 149.74365, 162.89719, 224.9999, 291.03757, 277.1249, 270.0, 262.09293, 256.32867, 253.61038, 265.42615\n",
      "$ Zurich_wind_gusts_10m                              <f64> 6.8399997, 7.2, 8.28, 8.64, 10.08, 11.159999, 10.799999, 10.799999, 11.879999, 13.32\n",
      "$ Zurich_soil_temperature_0_to_7cm                   <f64> -0.5494999, -0.5494999, -0.5494999, -0.5494999, -0.5494999, -0.5494999, -0.5995, -0.5995, -0.64949995, -0.7495\n",
      "$ Zurich_soil_temperature_7_to_28cm                  <f64> 0.4505, 0.4505, 0.4505, 0.4505, 0.4505, 0.4505, 0.4505, 0.4505, 0.4505, 0.4505\n",
      "$ Zurich_soil_temperature_28_to_100cm                <f64> 2.9505, 2.9505, 2.9005, 2.9005, 2.9005, 2.9005, 2.9005, 2.9005, 2.9005, 2.8504999\n",
      "$ Zurich_soil_temperature_100_to_255cm               <f64> 7.2505, 7.2505, 7.2505, 7.2005, 7.2005, 7.2005, 7.2005, 7.2005, 7.2005, 7.2005\n",
      "$ Zurich_soil_moisture_0_to_7cm                      <f64> 0.4, 0.4, 0.399, 0.398, 0.397, 0.395, 0.394, 0.393, 0.392, 0.391\n",
      "$ Zurich_soil_moisture_7_to_28cm                     <f64> 0.375, 0.376, 0.376, 0.377, 0.377, 0.377, 0.377, 0.378, 0.378, 0.378\n",
      "$ Zurich_soil_moisture_28_to_100cm                   <f64> 0.406, 0.406, 0.406, 0.406, 0.406, 0.406, 0.406, 0.406, 0.406, 0.406\n",
      "$ Zurich_soil_moisture_100_to_255cm                  <f64> 0.41, 0.41, 0.41, 0.41, 0.41, 0.41, 0.41, 0.41, 0.41, 0.41\n",
      "$ Zurich_shortwave_radiation                         <f64> 0.0, 0.0, 0.0, 0.0, 0.0, 0.0, 0.0, 0.0, 0.0, 0.0\n",
      "\n"
     ]
    }
   ],
   "source": [
    "result_df.glimpse()"
   ]
  },
  {
   "cell_type": "code",
   "execution_count": 69,
   "metadata": {},
   "outputs": [],
   "source": [
    "result_df.to_pandas().to_csv(\"../0_data/preprocessed/weather.csv\", index=False)"
   ]
  },
  {
   "cell_type": "markdown",
   "metadata": {},
   "source": [
    "## Balance Prices Swissgrid"
   ]
  },
  {
   "cell_type": "code",
   "execution_count": 4,
   "metadata": {},
   "outputs": [],
   "source": [
    "be_paths = [path for path in os.listdir(\"../0_data/raw/\") if \"balance\" in path]\n",
    "be_paths.sort()"
   ]
  },
  {
   "cell_type": "code",
   "execution_count": 5,
   "metadata": {},
   "outputs": [
    {
     "data": {
      "text/plain": [
       "'swissgrid-prices-for-balance-energy-240301-240401.xlsx'"
      ]
     },
     "execution_count": 5,
     "metadata": {},
     "output_type": "execute_result"
    }
   ],
   "source": [
    "be_paths[0]"
   ]
  },
  {
   "cell_type": "code",
   "execution_count": null,
   "metadata": {},
   "outputs": [],
   "source": [
    "dfs = []\n",
    "\n",
    "for path in tqdm(be_paths):\n",
    "    df = pd.read_excel(f\"../0_data/raw/{path}\", skiprows=11, usecols=[0, 1, 2]).head(-6)\n",
    "    df.columns = [\"datetime\", \"long_ct_kWh\", \"short_ct_kWh\"]\n",
    "    dfs.append(df)"
   ]
  },
  {
   "cell_type": "code",
   "execution_count": null,
   "metadata": {},
   "outputs": [],
   "source": [
    "balance_prices = (\n",
    "    pd.concat(dfs, axis=0)\n",
    "    .reset_index(drop=True)\n",
    "    .assign(\n",
    "        datetime=lambda x: pd.to_datetime(x[\"datetime\"], format=\"%d.%m.%Y %H:%M:%S\")\n",
    "    )\n",
    "    .sort_values(\"datetime\")\n",
    "    .reset_index(drop=True)\n",
    "    .drop_duplicates()\n",
    ")\n",
    "\n",
    "balance_prices.head()"
   ]
  },
  {
   "cell_type": "code",
   "execution_count": 67,
   "metadata": {},
   "outputs": [],
   "source": [
    "balance_prices.to_csv(\"../0_data/preprocessed/balance_energy_price.csv\", index=False)"
   ]
  },
  {
   "cell_type": "markdown",
   "metadata": {},
   "source": [
    "## ENTSO-E"
   ]
  },
  {
   "cell_type": "code",
   "execution_count": 3,
   "metadata": {},
   "outputs": [],
   "source": [
    "with open(\"../config.yaml\", \"r\") as f:\n",
    "    config = yaml.safe_load(f)\n",
    "\n",
    "client = EntsoePandasClient(api_key=config[\"entsoe\"])"
   ]
  },
  {
   "cell_type": "markdown",
   "metadata": {},
   "source": [
    "### Day-Ahead Spot Price"
   ]
  },
  {
   "cell_type": "code",
   "execution_count": 7,
   "metadata": {},
   "outputs": [],
   "source": [
    "start = pd.Timestamp(\"20150101\", tz=\"Europe/Brussels\")\n",
    "end = pd.Timestamp(\"20241001\", tz=\"Europe/Brussels\")\n",
    "\n",
    "\n",
    "data = client.query_day_ahead_prices(\n",
    "    country_code=\"CH\",\n",
    "    start=start,\n",
    "    end=end,\n",
    "    resolution=\"60min\",\n",
    ")"
   ]
  },
  {
   "cell_type": "code",
   "execution_count": null,
   "metadata": {},
   "outputs": [],
   "source": [
    "df_out = pd.DataFrame(data, columns=[\"da_spot_ch_eur_mwh\"]).reset_index(names=\"date\")\n",
    "df_out"
   ]
  },
  {
   "cell_type": "code",
   "execution_count": 9,
   "metadata": {},
   "outputs": [],
   "source": [
    "df_out.to_csv(f\"../0_data/preprocessed/day_ahead_prices_ch.csv\", index=False)"
   ]
  },
  {
   "cell_type": "markdown",
   "metadata": {},
   "source": [
    "# Combining data sources"
   ]
  },
  {
   "cell_type": "code",
   "execution_count": 2,
   "metadata": {},
   "outputs": [
    {
     "data": {
      "text/plain": [
       "['balance_energy_price.csv',\n",
       " 'day_ahead_prices_ch.csv',\n",
       " 'df_final.csv',\n",
       " 'load.csv',\n",
       " 'weather.csv']"
      ]
     },
     "execution_count": 2,
     "metadata": {},
     "output_type": "execute_result"
    }
   ],
   "source": [
    "os.listdir(\"../0_data/preprocessed/\")"
   ]
  },
  {
   "cell_type": "markdown",
   "metadata": {},
   "source": [
    "Aggregating load data to hourly values"
   ]
  },
  {
   "cell_type": "code",
   "execution_count": 3,
   "metadata": {},
   "outputs": [],
   "source": [
    "load = (\n",
    "    pl.read_csv(\"../0_data/preprocessed/load.csv\", try_parse_dates=True)\n",
    "    .with_columns(pl.col(\"datetime\").dt.truncate(\"1h\"))\n",
    "    .group_by(\"datetime\")\n",
    "    .agg(pl.col(\"kWh\").mean() * 4)\n",
    "    .sort(\"datetime\")\n",
    ")"
   ]
  },
  {
   "cell_type": "code",
   "execution_count": 5,
   "metadata": {},
   "outputs": [],
   "source": [
    "weather = pl.read_csv(\n",
    "    \"../0_data/preprocessed/weather.csv\", try_parse_dates=True\n",
    ").with_columns(\n",
    "    pl.col(\"date\").dt.convert_time_zone(\"Europe/Zurich\").dt.replace_time_zone(None)\n",
    ")"
   ]
  },
  {
   "cell_type": "code",
   "execution_count": 6,
   "metadata": {},
   "outputs": [
    {
     "data": {
      "text/html": [
       "<div><style>\n",
       ".dataframe > thead > tr,\n",
       ".dataframe > tbody > tr {\n",
       "  text-align: right;\n",
       "  white-space: pre-wrap;\n",
       "}\n",
       "</style>\n",
       "<small>shape: (5, 163)</small><table border=\"1\" class=\"dataframe\"><thead><tr><th>datetime</th><th>kWh</th><th>Basel_temperature_2m</th><th>Basel_relative_humidity_2m</th><th>Basel_dew_point_2m</th><th>Basel_apparent_temperature</th><th>Basel_precipitation</th><th>Basel_rain</th><th>Basel_snowfall</th><th>Basel_snow_depth</th><th>Basel_cloud_cover</th><th>Basel_wind_speed_10m</th><th>Basel_wind_speed_100m</th><th>Basel_wind_direction_10m</th><th>Basel_wind_direction_100m</th><th>Basel_wind_gusts_10m</th><th>Basel_soil_temperature_0_to_7cm</th><th>Basel_soil_temperature_7_to_28cm</th><th>Basel_soil_temperature_28_to_100cm</th><th>Basel_soil_temperature_100_to_255cm</th><th>Basel_soil_moisture_0_to_7cm</th><th>Basel_soil_moisture_7_to_28cm</th><th>Basel_soil_moisture_28_to_100cm</th><th>Basel_soil_moisture_100_to_255cm</th><th>Basel_shortwave_radiation</th><th>Bern_temperature_2m</th><th>Bern_relative_humidity_2m</th><th>Bern_dew_point_2m</th><th>Bern_apparent_temperature</th><th>Bern_precipitation</th><th>Bern_rain</th><th>Bern_snowfall</th><th>Bern_snow_depth</th><th>Bern_cloud_cover</th><th>Bern_wind_speed_10m</th><th>Bern_wind_speed_100m</th><th>Bern_wind_direction_10m</th><th>&hellip;</th><th>St_wind_speed_10m</th><th>St_wind_speed_100m</th><th>St_wind_direction_10m</th><th>St_wind_direction_100m</th><th>St_wind_gusts_10m</th><th>St_soil_temperature_0_to_7cm</th><th>St_soil_temperature_7_to_28cm</th><th>St_soil_temperature_28_to_100cm</th><th>St_soil_temperature_100_to_255cm</th><th>St_soil_moisture_0_to_7cm</th><th>St_soil_moisture_7_to_28cm</th><th>St_soil_moisture_28_to_100cm</th><th>St_soil_moisture_100_to_255cm</th><th>St_shortwave_radiation</th><th>Zurich_temperature_2m</th><th>Zurich_relative_humidity_2m</th><th>Zurich_dew_point_2m</th><th>Zurich_apparent_temperature</th><th>Zurich_precipitation</th><th>Zurich_rain</th><th>Zurich_snowfall</th><th>Zurich_snow_depth</th><th>Zurich_cloud_cover</th><th>Zurich_wind_speed_10m</th><th>Zurich_wind_speed_100m</th><th>Zurich_wind_direction_10m</th><th>Zurich_wind_direction_100m</th><th>Zurich_wind_gusts_10m</th><th>Zurich_soil_temperature_0_to_7cm</th><th>Zurich_soil_temperature_7_to_28cm</th><th>Zurich_soil_temperature_28_to_100cm</th><th>Zurich_soil_temperature_100_to_255cm</th><th>Zurich_soil_moisture_0_to_7cm</th><th>Zurich_soil_moisture_7_to_28cm</th><th>Zurich_soil_moisture_28_to_100cm</th><th>Zurich_soil_moisture_100_to_255cm</th><th>Zurich_shortwave_radiation</th></tr><tr><td>datetime[μs]</td><td>f64</td><td>f64</td><td>f64</td><td>f64</td><td>f64</td><td>f64</td><td>f64</td><td>f64</td><td>f64</td><td>f64</td><td>f64</td><td>f64</td><td>f64</td><td>f64</td><td>f64</td><td>f64</td><td>f64</td><td>f64</td><td>f64</td><td>f64</td><td>f64</td><td>f64</td><td>f64</td><td>f64</td><td>f64</td><td>f64</td><td>f64</td><td>f64</td><td>f64</td><td>f64</td><td>f64</td><td>f64</td><td>f64</td><td>f64</td><td>f64</td><td>f64</td><td>&hellip;</td><td>f64</td><td>f64</td><td>f64</td><td>f64</td><td>f64</td><td>f64</td><td>f64</td><td>f64</td><td>f64</td><td>f64</td><td>f64</td><td>f64</td><td>f64</td><td>f64</td><td>f64</td><td>f64</td><td>f64</td><td>f64</td><td>f64</td><td>f64</td><td>f64</td><td>f64</td><td>f64</td><td>f64</td><td>f64</td><td>f64</td><td>f64</td><td>f64</td><td>f64</td><td>f64</td><td>f64</td><td>f64</td><td>f64</td><td>f64</td><td>f64</td><td>f64</td><td>f64</td></tr></thead><tbody><tr><td>2009-01-01 00:00:00</td><td>6.9844e6</td><td>-1.4965</td><td>94.97623</td><td>-2.1965</td><td>-4.269863</td><td>0.1</td><td>0.0</td><td>0.07</td><td>0.06</td><td>57.899998</td><td>2.2768397</td><td>3.8268526</td><td>161.56496</td><td>228.81418</td><td>8.28</td><td>-0.7965</td><td>0.2535</td><td>3.2535</td><td>8.3535</td><td>0.477</td><td>0.468</td><td>0.47</td><td>0.47</td><td>0.0</td><td>-0.496</td><td>95.016594</td><td>-1.196</td><td>-3.113932</td><td>0.4</td><td>0.1</td><td>0.21</td><td>0.29</td><td>95.7</td><td>2.16</td><td>3.8939953</td><td>270.0</td><td>&hellip;</td><td>4.198285</td><td>8.350138</td><td>149.03632</td><td>172.56868</td><td>11.879999</td><td>1.0435</td><td>1.6435</td><td>4.0435004</td><td>7.3435</td><td>0.368</td><td>0.375</td><td>0.392</td><td>0.405</td><td>0.0</td><td>0.0005</td><td>95.03646</td><td>-0.6995</td><td>-2.498038</td><td>0.3</td><td>0.1</td><td>0.14</td><td>0.05</td><td>91.8</td><td>1.835647</td><td>4.896529</td><td>168.69011</td><td>162.89719</td><td>7.2</td><td>-0.5495</td><td>0.4505</td><td>2.9505</td><td>7.2505</td><td>0.4</td><td>0.376</td><td>0.406</td><td>0.41</td><td>0.0</td></tr><tr><td>2009-01-01 01:00:00</td><td>6.7564e6</td><td>-1.8465</td><td>94.96198</td><td>-2.5465</td><td>-4.892221</td><td>0.0</td><td>0.0</td><td>0.07</td><td>0.06</td><td>78.3</td><td>3.8268526</td><td>8.049845</td><td>221.18582</td><td>259.69522</td><td>9.0</td><td>-0.7965</td><td>0.2535</td><td>3.2535</td><td>8.3535</td><td>0.475</td><td>0.468</td><td>0.47</td><td>0.47</td><td>0.0</td><td>-1.046</td><td>94.99447</td><td>-1.746</td><td>-3.901534</td><td>0.2</td><td>0.1</td><td>0.07</td><td>0.29</td><td>64.799995</td><td>3.2599385</td><td>8.350138</td><td>263.6599</td><td>&hellip;</td><td>4.6800003</td><td>6.8399997</td><td>157.3801</td><td>180.0</td><td>11.159999</td><td>1.0435</td><td>1.6435</td><td>4.0435004</td><td>7.3435</td><td>0.367</td><td>0.375</td><td>0.391</td><td>0.405</td><td>0.0</td><td>-0.0495</td><td>95.381744</td><td>-0.6995</td><td>-2.496816</td><td>0.2</td><td>0.1</td><td>0.07</td><td>0.05</td><td>99.899994</td><td>1.484318</td><td>3.0547013</td><td>284.03625</td><td>224.9999</td><td>8.28</td><td>-0.5495</td><td>0.4505</td><td>2.9005</td><td>7.2505</td><td>0.399</td><td>0.376</td><td>0.406</td><td>0.41</td><td>0.0</td></tr><tr><td>2009-01-01 02:00:00</td><td>6.5171e6</td><td>-1.2965</td><td>96.03991</td><td>-1.8465</td><td>-4.322661</td><td>0.0</td><td>0.0</td><td>0.07</td><td>0.06</td><td>50.100002</td><td>4.3349743</td><td>9.826088</td><td>228.36655</td><td>261.57312</td><td>9.36</td><td>-0.7965</td><td>0.2535</td><td>3.2535</td><td>8.3535</td><td>0.473</td><td>0.468</td><td>0.47</td><td>0.47</td><td>0.0</td><td>-0.846</td><td>94.6542</td><td>-1.596</td><td>-3.819829</td><td>0.0</td><td>0.0</td><td>0.07</td><td>0.29</td><td>72.6</td><td>4.2136917</td><td>10.365251</td><td>289.9832</td><td>&hellip;</td><td>2.968636</td><td>6.297428</td><td>194.03627</td><td>210.96368</td><td>10.799999</td><td>1.0935</td><td>1.6935</td><td>4.0435004</td><td>7.3435</td><td>0.367</td><td>0.375</td><td>0.391</td><td>0.405</td><td>0.0</td><td>-0.3495</td><td>95.02247</td><td>-1.0495</td><td>-2.914122</td><td>0.3</td><td>0.1</td><td>0.14</td><td>0.06</td><td>99.9</td><td>1.9386592</td><td>5.0142193</td><td>291.80148</td><td>291.03757</td><td>8.64</td><td>-0.5495</td><td>0.4505</td><td>2.9005</td><td>7.2005</td><td>0.398</td><td>0.377</td><td>0.406</td><td>0.41</td><td>0.0</td></tr><tr><td>2009-01-01 03:00:00</td><td>6.2269e6</td><td>-1.1465</td><td>96.398476</td><td>-1.6465</td><td>-4.080796</td><td>0.0</td><td>0.0</td><td>0.07</td><td>0.06</td><td>69.3</td><td>3.8939953</td><td>8.766573</td><td>213.6901</td><td>250.82089</td><td>9.36</td><td>-0.7965</td><td>0.2535</td><td>3.2535</td><td>8.3535</td><td>0.472</td><td>0.468</td><td>0.47</td><td>0.47</td><td>0.0</td><td>-0.846</td><td>93.616</td><td>-1.746</td><td>-3.721354</td><td>0.0</td><td>0.0</td><td>0.0</td><td>0.29</td><td>58.499996</td><td>3.396233</td><td>10.086427</td><td>302.00534</td><td>&hellip;</td><td>3.2599385</td><td>5.991594</td><td>186.3401</td><td>212.73521</td><td>9.72</td><td>1.1435</td><td>1.6935</td><td>4.0435004</td><td>7.3435</td><td>0.367</td><td>0.375</td><td>0.391</td><td>0.405</td><td>0.0</td><td>-0.6995</td><td>95.70769</td><td>-1.2995</td><td>-3.699698</td><td>0.5</td><td>0.0</td><td>0.35</td><td>0.06</td><td>100.0</td><td>4.68</td><td>8.707238</td><td>270.0</td><td>277.1249</td><td>10.08</td><td>-0.5495</td><td>0.4505</td><td>2.9005</td><td>7.2005</td><td>0.397</td><td>0.377</td><td>0.406</td><td>0.41</td><td>0.0</td></tr><tr><td>2009-01-01 04:00:00</td><td>5.8701e6</td><td>-1.5465</td><td>96.38674</td><td>-2.0465</td><td>-4.554672</td><td>0.0</td><td>0.0</td><td>0.07</td><td>0.06</td><td>58.199997</td><td>4.0249224</td><td>9.021574</td><td>206.56499</td><td>241.38963</td><td>9.0</td><td>-0.7965</td><td>0.2535</td><td>3.2535</td><td>8.3535</td><td>0.471</td><td>0.468</td><td>0.47</td><td>0.47</td><td>0.0</td><td>-1.046</td><td>92.235115</td><td>-2.146</td><td>-4.184802</td><td>0.0</td><td>0.0</td><td>0.0</td><td>0.29</td><td>52.199997</td><td>4.829907</td><td>8.14587</td><td>333.43503</td><td>&hellip;</td><td>3.319036</td><td>6.9153743</td><td>192.5288</td><td>218.65984</td><td>9.36</td><td>1.1435</td><td>1.6935</td><td>3.9935</td><td>7.3435</td><td>0.367</td><td>0.375</td><td>0.391</td><td>0.405</td><td>0.0</td><td>-1.2495</td><td>96.04143</td><td>-1.7995</td><td>-4.379493</td><td>0.4</td><td>0.0</td><td>0.28</td><td>0.06</td><td>86.399994</td><td>5.0911684</td><td>10.799999</td><td>261.87</td><td>270.0</td><td>11.159999</td><td>-0.5495</td><td>0.4505</td><td>2.9005</td><td>7.2005</td><td>0.395</td><td>0.377</td><td>0.406</td><td>0.41</td><td>0.0</td></tr></tbody></table></div>"
      ],
      "text/plain": [
       "shape: (5, 163)\n",
       "┌───────────┬──────────┬───────────┬───────────┬───┬───────────┬───────────┬───────────┬───────────┐\n",
       "│ datetime  ┆ kWh      ┆ Basel_tem ┆ Basel_rel ┆ … ┆ Zurich_so ┆ Zurich_so ┆ Zurich_so ┆ Zurich_sh │\n",
       "│ ---       ┆ ---      ┆ perature_ ┆ ative_hum ┆   ┆ il_moistu ┆ il_moistu ┆ il_moistu ┆ ortwave_r │\n",
       "│ datetime[ ┆ f64      ┆ 2m        ┆ idity_2m  ┆   ┆ re_7_to_2 ┆ re_28_to_ ┆ re_100_to ┆ adiation  │\n",
       "│ μs]       ┆          ┆ ---       ┆ ---       ┆   ┆ 8cm       ┆ 100…      ┆ _25…      ┆ ---       │\n",
       "│           ┆          ┆ f64       ┆ f64       ┆   ┆ ---       ┆ ---       ┆ ---       ┆ f64       │\n",
       "│           ┆          ┆           ┆           ┆   ┆ f64       ┆ f64       ┆ f64       ┆           │\n",
       "╞═══════════╪══════════╪═══════════╪═══════════╪═══╪═══════════╪═══════════╪═══════════╪═══════════╡\n",
       "│ 2009-01-0 ┆ 6.9844e6 ┆ -1.4965   ┆ 94.97623  ┆ … ┆ 0.376     ┆ 0.406     ┆ 0.41      ┆ 0.0       │\n",
       "│ 1         ┆          ┆           ┆           ┆   ┆           ┆           ┆           ┆           │\n",
       "│ 00:00:00  ┆          ┆           ┆           ┆   ┆           ┆           ┆           ┆           │\n",
       "│ 2009-01-0 ┆ 6.7564e6 ┆ -1.8465   ┆ 94.96198  ┆ … ┆ 0.376     ┆ 0.406     ┆ 0.41      ┆ 0.0       │\n",
       "│ 1         ┆          ┆           ┆           ┆   ┆           ┆           ┆           ┆           │\n",
       "│ 01:00:00  ┆          ┆           ┆           ┆   ┆           ┆           ┆           ┆           │\n",
       "│ 2009-01-0 ┆ 6.5171e6 ┆ -1.2965   ┆ 96.03991  ┆ … ┆ 0.377     ┆ 0.406     ┆ 0.41      ┆ 0.0       │\n",
       "│ 1         ┆          ┆           ┆           ┆   ┆           ┆           ┆           ┆           │\n",
       "│ 02:00:00  ┆          ┆           ┆           ┆   ┆           ┆           ┆           ┆           │\n",
       "│ 2009-01-0 ┆ 6.2269e6 ┆ -1.1465   ┆ 96.398476 ┆ … ┆ 0.377     ┆ 0.406     ┆ 0.41      ┆ 0.0       │\n",
       "│ 1         ┆          ┆           ┆           ┆   ┆           ┆           ┆           ┆           │\n",
       "│ 03:00:00  ┆          ┆           ┆           ┆   ┆           ┆           ┆           ┆           │\n",
       "│ 2009-01-0 ┆ 5.8701e6 ┆ -1.5465   ┆ 96.38674  ┆ … ┆ 0.377     ┆ 0.406     ┆ 0.41      ┆ 0.0       │\n",
       "│ 1         ┆          ┆           ┆           ┆   ┆           ┆           ┆           ┆           │\n",
       "│ 04:00:00  ┆          ┆           ┆           ┆   ┆           ┆           ┆           ┆           │\n",
       "└───────────┴──────────┴───────────┴───────────┴───┴───────────┴───────────┴───────────┴───────────┘"
      ]
     },
     "execution_count": 6,
     "metadata": {},
     "output_type": "execute_result"
    }
   ],
   "source": [
    "df = (\n",
    "    pl.DataFrame(\n",
    "        {\n",
    "            \"datetime\": pd.date_range(\n",
    "                start=pl.read_csv(\n",
    "                    \"../0_data/preprocessed/load.csv\", try_parse_dates=True\n",
    "                )[\"datetime\"].min(),\n",
    "                end=pl.read_csv(\n",
    "                    \"../0_data/preprocessed/load.csv\", try_parse_dates=True\n",
    "                )[\"datetime\"].max(),\n",
    "                freq=\"1h\",\n",
    "            )\n",
    "        }\n",
    "    )\n",
    "    .with_columns(pl.col(\"datetime\").dt.cast_time_unit(\"us\"))\n",
    "    .join(\n",
    "        load,\n",
    "        on=\"datetime\",\n",
    "        how=\"left\",\n",
    "    )\n",
    "    .join(\n",
    "        weather,\n",
    "        how=\"left\",\n",
    "        left_on=\"datetime\",\n",
    "        right_on=\"date\",\n",
    "    )\n",
    "    .unique(\"datetime\")\n",
    "    .sort(\"datetime\")\n",
    ")\n",
    "\n",
    "df.head()"
   ]
  },
  {
   "cell_type": "code",
   "execution_count": null,
   "metadata": {},
   "outputs": [
    {
     "data": {
      "text/html": [
       "<div><style>\n",
       ".dataframe > thead > tr,\n",
       ".dataframe > tbody > tr {\n",
       "  text-align: right;\n",
       "  white-space: pre-wrap;\n",
       "}\n",
       "</style>\n",
       "<small>shape: (2, 2)</small><table border=\"1\" class=\"dataframe\"><thead><tr><th>delta</th><th>count</th></tr><tr><td>duration[μs]</td><td>u32</td></tr></thead><tbody><tr><td>null</td><td>1</td></tr><tr><td>1h</td><td>137327</td></tr></tbody></table></div>"
      ],
      "text/plain": [
       "shape: (2, 2)\n",
       "┌──────────────┬────────┐\n",
       "│ delta        ┆ count  │\n",
       "│ ---          ┆ ---    │\n",
       "│ duration[μs] ┆ u32    │\n",
       "╞══════════════╪════════╡\n",
       "│ null         ┆ 1      │\n",
       "│ 1h           ┆ 137327 │\n",
       "└──────────────┴────────┘"
      ]
     },
     "execution_count": 12,
     "metadata": {},
     "output_type": "execute_result"
    }
   ],
   "source": [
    "df.with_columns(delta=pl.col(\"datetime\") - pl.col(\"datetime\").shift(1))[\n",
    "    \"delta\"\n",
    "].value_counts()"
   ]
  },
  {
   "cell_type": "code",
   "execution_count": 13,
   "metadata": {},
   "outputs": [
    {
     "data": {
      "text/plain": [
       "(137328, 163)"
      ]
     },
     "execution_count": 13,
     "metadata": {},
     "output_type": "execute_result"
    }
   ],
   "source": [
    "df.shape"
   ]
  },
  {
   "cell_type": "code",
   "execution_count": 14,
   "metadata": {},
   "outputs": [
    {
     "data": {
      "text/plain": [
       "<Axes: ylabel='Frequency'>"
      ]
     },
     "execution_count": 14,
     "metadata": {},
     "output_type": "execute_result"
    },
    {
     "data": {
      "image/png": "[encoded data removed]",
      "text/plain": [
       "<Figure size 640x480 with 1 Axes>"
      ]
     },
     "metadata": {},
     "output_type": "display_data"
    }
   ],
   "source": [
    "df.with_columns(pl.all().is_null()).sum().unpivot().filter(pl.col(\"value\") > 0).sort(\n",
    "    \"value\", descending=True\n",
    ").to_pandas().plot(kind=\"hist\")"
   ]
  },
  {
   "cell_type": "code",
   "execution_count": 15,
   "metadata": {},
   "outputs": [],
   "source": [
    "df.to_pandas().to_csv(\"../0_data/preprocessed/df_final.csv\", index=False)"
   ]
  }
 ],
 "metadata": {
  "kernelspec": {
   "display_name": "lapro",
   "language": "python",
   "name": "python3"
  },
  "language_info": {
   "codemirror_mode": {
    "name": "ipython",
    "version": 3
   },
   "file_extension": ".py",
   "mimetype": "text/x-python",
   "name": "python",
   "nbconvert_exporter": "python",
   "pygments_lexer": "ipython3",
   "version": "3.10.15"
  }
 },
 "nbformat": 4,
 "nbformat_minor": 2
}
