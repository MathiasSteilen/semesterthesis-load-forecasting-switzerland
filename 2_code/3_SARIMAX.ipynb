{
 "cells": [
  {
   "cell_type": "markdown",
   "metadata": {},
   "source": [
    "# Packages"
   ]
  },
  {
   "cell_type": "code",
   "execution_count": 1,
   "metadata": {},
   "outputs": [],
   "source": [
    "# Data wrangling\n",
    "import pandas as pd\n",
    "import polars as pl\n",
    "import polars.selectors as cs\n",
    "import numpy as np\n",
    "\n",
    "# Visualisation\n",
    "import plotnine as pn\n",
    "import matplotlib.pyplot as plt\n",
    "from mizani.formatters import comma_format, custom_format, currency_format, percent_format\n",
    "from IPython.display import clear_output, display\n",
    "import matplotlib.font_manager as fm\n",
    "import matplotlib as mpl\n",
    "from matplotlib import rc\n",
    "import plotly.express as px\n",
    "\n",
    "# Utils\n",
    "import os\n",
    "from tqdm.notebook import tqdm\n",
    "import itertools\n",
    "import yaml\n",
    "import warnings\n",
    "import time\n",
    "import holidays\n",
    "import pickle\n",
    "\n",
    "# Modelling\n",
    "from sklearn.linear_model import Lasso\n",
    "from sklearn.model_selection import TimeSeriesSplit\n",
    "from sklearn.preprocessing import (\n",
    "    StandardScaler,\n",
    "    OneHotEncoder,\n",
    "    FunctionTransformer,\n",
    ")\n",
    "from sklearn.metrics import (\n",
    "    r2_score,\n",
    "    mean_absolute_error,\n",
    "    mean_absolute_percentage_error,\n",
    "    root_mean_squared_error,\n",
    "    mean_squared_error\n",
    ")\n",
    "from sklearn.ensemble import RandomForestRegressor\n",
    "from sklearn.pipeline import FeatureUnion, make_pipeline, Pipeline\n",
    "from sklearn.compose import ColumnTransformer, make_column_selector\n",
    "from sklearn.impute import SimpleImputer\n",
    "from sklearn.experimental import enable_iterative_imputer\n",
    "from sklearn.impute import IterativeImputer, KNNImputer\n",
    "from sklearn.feature_selection import VarianceThreshold\n",
    "\n",
    "from statsmodels.tsa.stattools import acf, pacf, adfuller, kpss\n",
    "\n",
    "from statsforecast.models import AutoARIMA, ARIMA\n",
    "from statsforecast.utils import AirPassengers as ap\n",
    "\n",
    "import ray\n",
    "from ray import train, tune\n",
    "from ray.tune.search.optuna import OptunaSearch\n",
    "from ray.tune.schedulers import ASHAScheduler\n",
    "\n",
    "\n",
    "rc('text', usetex=False)\n",
    "\n",
    "jama_colour = [\n",
    "    \"#374e55\",\n",
    "    \"#df8f44\",\n",
    "    \"#00a1d5\",\n",
    "    \"#b24745\",\n",
    "    \"#79af97\",\n",
    "    \"#6a6599\",\n",
    "    \"#80796b\",\n",
    "]\n",
    "\n",
    "pd.set_option(\"display.max.columns\", 500)\n",
    "pd.set_option(\"display.max.columns\", 500)\n",
    "\n",
    "\n",
    "theme_academic = pn.theme(\n",
    "    text=pn.element_text(family=\"Latin Modern Roman\"),\n",
    "    plot_title=pn.element_text(weight=\"bold\", size=14, ha=\"center\"),\n",
    "    legend_text=pn.element_text(size=9),  # Smaller font for legend items\n",
    "    panel_background=pn.element_rect(fill=\"white\"),  # Clean white background\n",
    "    panel_border=pn.element_rect(color=\"grey\", size=0.5),\n",
    "    axis_ticks=pn.element_line(color=\"grey\"),\n",
    "    panel_grid_major=pn.element_line(color=\"grey\", size=0.1, alpha=0.3),\n",
    "    panel_grid_minor=pn.element_line(color=\"grey\", size=0.1, alpha=0.3),\n",
    "    legend_background=pn.element_rect(fill=\"white\", color=None),\n",
    "    legend_key=pn.element_rect(fill=\"white\", color=None),\n",
    "    plot_margin=0.02,\n",
    "    figure_size=(6, 4),  # Set default figure size (width, height in inches)\n",
    ")\n",
    "\n",
    "%matplotlib inline"
   ]
  },
  {
   "cell_type": "markdown",
   "metadata": {},
   "source": [
    "# Loading the data"
   ]
  },
  {
   "cell_type": "code",
   "execution_count": 2,
   "metadata": {},
   "outputs": [
    {
     "data": {
      "text/html": [
       "<div><style>\n",
       ".dataframe > thead > tr,\n",
       ".dataframe > tbody > tr {\n",
       "  text-align: right;\n",
       "  white-space: pre-wrap;\n",
       "}\n",
       "</style>\n",
       "<small>shape: (5, 4)</small><table border=\"1\" class=\"dataframe\"><thead><tr><th>datetime</th><th>kWh</th><th>Zurich_shortwave_radiation</th><th>Zurich_soil_temperature_7_to_28cm</th></tr><tr><td>datetime[μs]</td><td>f64</td><td>f64</td><td>f64</td></tr></thead><tbody><tr><td>2021-09-01 00:00:00</td><td>5.1633e6</td><td>0.0</td><td>16.042</td></tr><tr><td>2021-09-01 01:00:00</td><td>5.0777e6</td><td>0.0</td><td>15.892</td></tr><tr><td>2021-09-01 02:00:00</td><td>4.9315e6</td><td>0.0</td><td>16.042</td></tr><tr><td>2021-09-01 03:00:00</td><td>4.7878e6</td><td>0.0</td><td>15.942</td></tr><tr><td>2021-09-01 04:00:00</td><td>4.7038e6</td><td>0.0</td><td>15.792001</td></tr></tbody></table></div>"
      ],
      "text/plain": [
       "shape: (5, 4)\n",
       "┌─────────────────────┬──────────┬────────────────────────────┬─────────────────────────────────┐\n",
       "│ datetime            ┆ kWh      ┆ Zurich_shortwave_radiation ┆ Zurich_soil_temperature_7_to_2… │\n",
       "│ ---                 ┆ ---      ┆ ---                        ┆ ---                             │\n",
       "│ datetime[μs]        ┆ f64      ┆ f64                        ┆ f64                             │\n",
       "╞═════════════════════╪══════════╪════════════════════════════╪═════════════════════════════════╡\n",
       "│ 2021-09-01 00:00:00 ┆ 5.1633e6 ┆ 0.0                        ┆ 16.042                          │\n",
       "│ 2021-09-01 01:00:00 ┆ 5.0777e6 ┆ 0.0                        ┆ 15.892                          │\n",
       "│ 2021-09-01 02:00:00 ┆ 4.9315e6 ┆ 0.0                        ┆ 16.042                          │\n",
       "│ 2021-09-01 03:00:00 ┆ 4.7878e6 ┆ 0.0                        ┆ 15.942                          │\n",
       "│ 2021-09-01 04:00:00 ┆ 4.7038e6 ┆ 0.0                        ┆ 15.792001                       │\n",
       "└─────────────────────┴──────────┴────────────────────────────┴─────────────────────────────────┘"
      ]
     },
     "execution_count": 2,
     "metadata": {},
     "output_type": "execute_result"
    }
   ],
   "source": [
    "df = pl.read_csv(\n",
    "    \"../0_data/preprocessed/df_final_reduced.csv\", try_parse_dates=True\n",
    ").filter(pl.col(\"datetime\") >= pd.Timestamp(\"2021-09-01 00:00\"))\n",
    "\n",
    "df.head()"
   ]
  },
  {
   "cell_type": "code",
   "execution_count": 3,
   "metadata": {},
   "outputs": [
    {
     "data": {
      "text/plain": [
       "(26304, 4)"
      ]
     },
     "execution_count": 3,
     "metadata": {},
     "output_type": "execute_result"
    }
   ],
   "source": [
    "df.shape"
   ]
  },
  {
   "cell_type": "code",
   "execution_count": 4,
   "metadata": {},
   "outputs": [
    {
     "data": {
      "text/html": [
       "<div><style>\n",
       ".dataframe > thead > tr,\n",
       ".dataframe > tbody > tr {\n",
       "  text-align: right;\n",
       "  white-space: pre-wrap;\n",
       "}\n",
       "</style>\n",
       "<small>shape: (26_304, 4)</small><table border=\"1\" class=\"dataframe\"><thead><tr><th>datetime</th><th>kWh</th><th>Zurich_shortwave_radiation</th><th>Zurich_soil_temperature_7_to_28cm</th></tr><tr><td>datetime[μs]</td><td>f64</td><td>f64</td><td>f64</td></tr></thead><tbody><tr><td>2021-09-01 00:00:00</td><td>5.1633e6</td><td>0.0</td><td>16.042</td></tr><tr><td>2021-09-01 01:00:00</td><td>5.0777e6</td><td>0.0</td><td>15.892</td></tr><tr><td>2021-09-01 02:00:00</td><td>4.9315e6</td><td>0.0</td><td>16.042</td></tr><tr><td>2021-09-01 03:00:00</td><td>4.7878e6</td><td>0.0</td><td>15.942</td></tr><tr><td>2021-09-01 04:00:00</td><td>4.7038e6</td><td>0.0</td><td>15.792001</td></tr><tr><td>&hellip;</td><td>&hellip;</td><td>&hellip;</td><td>&hellip;</td></tr><tr><td>2024-08-31 19:00:00</td><td>5.3614e6</td><td>179.0</td><td>22.942</td></tr><tr><td>2024-08-31 20:00:00</td><td>5.3775e6</td><td>41.0</td><td>23.042</td></tr><tr><td>2024-08-31 21:00:00</td><td>5.2130e6</td><td>0.0</td><td>23.092</td></tr><tr><td>2024-08-31 22:00:00</td><td>5.0767e6</td><td>0.0</td><td>23.092</td></tr><tr><td>2024-08-31 23:00:00</td><td>4.7850e6</td><td>0.0</td><td>22.991999</td></tr></tbody></table></div>"
      ],
      "text/plain": [
       "shape: (26_304, 4)\n",
       "┌─────────────────────┬──────────┬────────────────────────────┬─────────────────────────────────┐\n",
       "│ datetime            ┆ kWh      ┆ Zurich_shortwave_radiation ┆ Zurich_soil_temperature_7_to_2… │\n",
       "│ ---                 ┆ ---      ┆ ---                        ┆ ---                             │\n",
       "│ datetime[μs]        ┆ f64      ┆ f64                        ┆ f64                             │\n",
       "╞═════════════════════╪══════════╪════════════════════════════╪═════════════════════════════════╡\n",
       "│ 2021-09-01 00:00:00 ┆ 5.1633e6 ┆ 0.0                        ┆ 16.042                          │\n",
       "│ 2021-09-01 01:00:00 ┆ 5.0777e6 ┆ 0.0                        ┆ 15.892                          │\n",
       "│ 2021-09-01 02:00:00 ┆ 4.9315e6 ┆ 0.0                        ┆ 16.042                          │\n",
       "│ 2021-09-01 03:00:00 ┆ 4.7878e6 ┆ 0.0                        ┆ 15.942                          │\n",
       "│ 2021-09-01 04:00:00 ┆ 4.7038e6 ┆ 0.0                        ┆ 15.792001                       │\n",
       "│ …                   ┆ …        ┆ …                          ┆ …                               │\n",
       "│ 2024-08-31 19:00:00 ┆ 5.3614e6 ┆ 179.0                      ┆ 22.942                          │\n",
       "│ 2024-08-31 20:00:00 ┆ 5.3775e6 ┆ 41.0                       ┆ 23.042                          │\n",
       "│ 2024-08-31 21:00:00 ┆ 5.2130e6 ┆ 0.0                        ┆ 23.092                          │\n",
       "│ 2024-08-31 22:00:00 ┆ 5.0767e6 ┆ 0.0                        ┆ 23.092                          │\n",
       "│ 2024-08-31 23:00:00 ┆ 4.7850e6 ┆ 0.0                        ┆ 22.991999                       │\n",
       "└─────────────────────┴──────────┴────────────────────────────┴─────────────────────────────────┘"
      ]
     },
     "execution_count": 4,
     "metadata": {},
     "output_type": "execute_result"
    }
   ],
   "source": [
    "df"
   ]
  },
  {
   "cell_type": "markdown",
   "metadata": {},
   "source": [
    "# Missing values\n",
    "\n",
    "Just forward fill for now."
   ]
  },
  {
   "cell_type": "code",
   "execution_count": 5,
   "metadata": {},
   "outputs": [],
   "source": [
    "df = df.fill_null(strategy=\"forward\")"
   ]
  },
  {
   "cell_type": "markdown",
   "metadata": {},
   "source": [
    "# Lags\n",
    "\n",
    "Include target variable lags.\n",
    "\n",
    "- Same hour on previous day\n",
    "- Average consumption during the past week"
   ]
  },
  {
   "cell_type": "markdown",
   "metadata": {},
   "source": [
    "## Exogenous Variables"
   ]
  },
  {
   "cell_type": "markdown",
   "metadata": {},
   "source": [
    "Rolling features:\n",
    "\n",
    "- 7d average:\n",
    "    - Temperature"
   ]
  },
  {
   "cell_type": "code",
   "execution_count": 6,
   "metadata": {},
   "outputs": [],
   "source": [
    "rolling_features_7d = (\n",
    "    df.select(\"datetime\", \"Zurich_soil_temperature_7_to_28cm\")\n",
    "    .with_columns(\n",
    "        temp_rolling=pl.col(\"Zurich_soil_temperature_7_to_28cm\").rolling_mean(24 * 7),\n",
    "        datetime=pl.col(\"datetime\").dt.offset_by(\"1d\"),\n",
    "    )\n",
    "    .drop(\"Zurich_soil_temperature_7_to_28cm\")\n",
    ")"
   ]
  },
  {
   "cell_type": "code",
   "execution_count": 7,
   "metadata": {},
   "outputs": [],
   "source": [
    "df = df.join(rolling_features_7d, how=\"left\", on=\"datetime\", coalesce=True)"
   ]
  },
  {
   "cell_type": "code",
   "execution_count": 8,
   "metadata": {},
   "outputs": [
    {
     "data": {
      "text/html": [
       "<div><style>\n",
       ".dataframe > thead > tr,\n",
       ".dataframe > tbody > tr {\n",
       "  text-align: right;\n",
       "  white-space: pre-wrap;\n",
       "}\n",
       "</style>\n",
       "<small>shape: (2, 2)</small><table border=\"1\" class=\"dataframe\"><thead><tr><th>datetime</th><th>count</th></tr><tr><td>duration[μs]</td><td>u32</td></tr></thead><tbody><tr><td>1h</td><td>26303</td></tr><tr><td>null</td><td>1</td></tr></tbody></table></div>"
      ],
      "text/plain": [
       "shape: (2, 2)\n",
       "┌──────────────┬───────┐\n",
       "│ datetime     ┆ count │\n",
       "│ ---          ┆ ---   │\n",
       "│ duration[μs] ┆ u32   │\n",
       "╞══════════════╪═══════╡\n",
       "│ 1h           ┆ 26303 │\n",
       "│ null         ┆ 1     │\n",
       "└──────────────┴───────┘"
      ]
     },
     "execution_count": 8,
     "metadata": {},
     "output_type": "execute_result"
    }
   ],
   "source": [
    "(df[\"datetime\"] - df[\"datetime\"].shift(1)).value_counts()"
   ]
  },
  {
   "cell_type": "markdown",
   "metadata": {},
   "source": [
    "# Calendar Features"
   ]
  },
  {
   "cell_type": "code",
   "execution_count": 9,
   "metadata": {},
   "outputs": [
    {
     "data": {
      "text/html": [
       "<div><style>\n",
       ".dataframe > thead > tr,\n",
       ".dataframe > tbody > tr {\n",
       "  text-align: right;\n",
       "  white-space: pre-wrap;\n",
       "}\n",
       "</style>\n",
       "<small>shape: (5, 10)</small><table border=\"1\" class=\"dataframe\"><thead><tr><th>datetime</th><th>kWh</th><th>Zurich_shortwave_radiation</th><th>Zurich_soil_temperature_7_to_28cm</th><th>temp_rolling</th><th>day_of_month</th><th>day_of_year</th><th>day_of_week</th><th>month</th><th>hour</th></tr><tr><td>datetime[μs]</td><td>f64</td><td>f64</td><td>f64</td><td>f64</td><td>i8</td><td>i16</td><td>i8</td><td>i8</td><td>i8</td></tr></thead><tbody><tr><td>2021-09-01 00:00:00</td><td>5.1633e6</td><td>0.0</td><td>16.042</td><td>null</td><td>1</td><td>244</td><td>3</td><td>9</td><td>0</td></tr><tr><td>2021-09-01 01:00:00</td><td>5.0777e6</td><td>0.0</td><td>15.892</td><td>null</td><td>1</td><td>244</td><td>3</td><td>9</td><td>1</td></tr><tr><td>2021-09-01 02:00:00</td><td>4.9315e6</td><td>0.0</td><td>16.042</td><td>null</td><td>1</td><td>244</td><td>3</td><td>9</td><td>2</td></tr><tr><td>2021-09-01 03:00:00</td><td>4.7878e6</td><td>0.0</td><td>15.942</td><td>null</td><td>1</td><td>244</td><td>3</td><td>9</td><td>3</td></tr><tr><td>2021-09-01 04:00:00</td><td>4.7038e6</td><td>0.0</td><td>15.792001</td><td>null</td><td>1</td><td>244</td><td>3</td><td>9</td><td>4</td></tr></tbody></table></div>"
      ],
      "text/plain": [
       "shape: (5, 10)\n",
       "┌─────────────┬──────────┬─────────────┬─────────────┬───┬─────────────┬────────────┬───────┬──────┐\n",
       "│ datetime    ┆ kWh      ┆ Zurich_shor ┆ Zurich_soil ┆ … ┆ day_of_year ┆ day_of_wee ┆ month ┆ hour │\n",
       "│ ---         ┆ ---      ┆ twave_radia ┆ _temperatur ┆   ┆ ---         ┆ k          ┆ ---   ┆ ---  │\n",
       "│ datetime[μs ┆ f64      ┆ tion        ┆ e_7_to_2…   ┆   ┆ i16         ┆ ---        ┆ i8    ┆ i8   │\n",
       "│ ]           ┆          ┆ ---         ┆ ---         ┆   ┆             ┆ i8         ┆       ┆      │\n",
       "│             ┆          ┆ f64         ┆ f64         ┆   ┆             ┆            ┆       ┆      │\n",
       "╞═════════════╪══════════╪═════════════╪═════════════╪═══╪═════════════╪════════════╪═══════╪══════╡\n",
       "│ 2021-09-01  ┆ 5.1633e6 ┆ 0.0         ┆ 16.042      ┆ … ┆ 244         ┆ 3          ┆ 9     ┆ 0    │\n",
       "│ 00:00:00    ┆          ┆             ┆             ┆   ┆             ┆            ┆       ┆      │\n",
       "│ 2021-09-01  ┆ 5.0777e6 ┆ 0.0         ┆ 15.892      ┆ … ┆ 244         ┆ 3          ┆ 9     ┆ 1    │\n",
       "│ 01:00:00    ┆          ┆             ┆             ┆   ┆             ┆            ┆       ┆      │\n",
       "│ 2021-09-01  ┆ 4.9315e6 ┆ 0.0         ┆ 16.042      ┆ … ┆ 244         ┆ 3          ┆ 9     ┆ 2    │\n",
       "│ 02:00:00    ┆          ┆             ┆             ┆   ┆             ┆            ┆       ┆      │\n",
       "│ 2021-09-01  ┆ 4.7878e6 ┆ 0.0         ┆ 15.942      ┆ … ┆ 244         ┆ 3          ┆ 9     ┆ 3    │\n",
       "│ 03:00:00    ┆          ┆             ┆             ┆   ┆             ┆            ┆       ┆      │\n",
       "│ 2021-09-01  ┆ 4.7038e6 ┆ 0.0         ┆ 15.792001   ┆ … ┆ 244         ┆ 3          ┆ 9     ┆ 4    │\n",
       "│ 04:00:00    ┆          ┆             ┆             ┆   ┆             ┆            ┆       ┆      │\n",
       "└─────────────┴──────────┴─────────────┴─────────────┴───┴─────────────┴────────────┴───────┴──────┘"
      ]
     },
     "execution_count": 9,
     "metadata": {},
     "output_type": "execute_result"
    }
   ],
   "source": [
    "df = df.with_columns(\n",
    "    day_of_month=pl.col(\"datetime\").dt.day(),\n",
    "    day_of_year=pl.col(\"datetime\").dt.ordinal_day(),\n",
    "    day_of_week=pl.col(\"datetime\").dt.weekday(),\n",
    "    month=pl.col(\"datetime\").dt.month(),\n",
    "    hour=pl.col(\"datetime\").dt.hour(),\n",
    ")\n",
    "\n",
    "df.head()"
   ]
  },
  {
   "cell_type": "markdown",
   "metadata": {},
   "source": [
    "# Holidays"
   ]
  },
  {
   "cell_type": "code",
   "execution_count": 10,
   "metadata": {},
   "outputs": [
    {
     "data": {
      "text/html": [
       "<div><style>\n",
       ".dataframe > thead > tr,\n",
       ".dataframe > tbody > tr {\n",
       "  text-align: right;\n",
       "  white-space: pre-wrap;\n",
       "}\n",
       "</style>\n",
       "<small>shape: (10, 2)</small><table border=\"1\" class=\"dataframe\"><thead><tr><th>holiday_name</th><th>count</th></tr><tr><td>str</td><td>u32</td></tr></thead><tbody><tr><td>&quot;Ostermontag&quot;</td><td>4</td></tr><tr><td>&quot;Neujahrestag&quot;</td><td>4</td></tr><tr><td>&quot;Tag der Arbeit&quot;</td><td>4</td></tr><tr><td>&quot;Auffahrt&quot;</td><td>4</td></tr><tr><td>&quot;Weihnachten&quot;</td><td>4</td></tr><tr><td>&quot;Karfreitag&quot;</td><td>4</td></tr><tr><td>&quot;Nationalfeiertag&quot;</td><td>4</td></tr><tr><td>&quot;Pfingstmontag&quot;</td><td>4</td></tr><tr><td>&quot;Stephanstag&quot;</td><td>4</td></tr><tr><td>&quot;Berchtoldstag&quot;</td><td>4</td></tr></tbody></table></div>"
      ],
      "text/plain": [
       "shape: (10, 2)\n",
       "┌──────────────────┬───────┐\n",
       "│ holiday_name     ┆ count │\n",
       "│ ---              ┆ ---   │\n",
       "│ str              ┆ u32   │\n",
       "╞══════════════════╪═══════╡\n",
       "│ Ostermontag      ┆ 4     │\n",
       "│ Neujahrestag     ┆ 4     │\n",
       "│ Tag der Arbeit   ┆ 4     │\n",
       "│ Auffahrt         ┆ 4     │\n",
       "│ Weihnachten      ┆ 4     │\n",
       "│ Karfreitag       ┆ 4     │\n",
       "│ Nationalfeiertag ┆ 4     │\n",
       "│ Pfingstmontag    ┆ 4     │\n",
       "│ Stephanstag      ┆ 4     │\n",
       "│ Berchtoldstag    ┆ 4     │\n",
       "└──────────────────┴───────┘"
      ]
     },
     "execution_count": 10,
     "metadata": {},
     "output_type": "execute_result"
    }
   ],
   "source": [
    "# Define the region (Canton of Berne) and the country (Switzerland)\n",
    "country = \"CH\"\n",
    "prov = \"ZH\"\n",
    "\n",
    "# Create a list of the regional holidays for the canton of Berne\n",
    "regional_holidays = holidays.CH(\n",
    "    years=df[\"datetime\"].dt.year().unique().to_list(), prov=prov\n",
    ")\n",
    "\n",
    "holiday_df = pl.DataFrame(\n",
    "    {\n",
    "        \"holiday_name\": list(regional_holidays.values()),\n",
    "        \"holiday_date\": list(regional_holidays.keys()),\n",
    "    }\n",
    ").sort(\"holiday_date\")\n",
    "\n",
    "holiday_df[\"holiday_name\"].value_counts()"
   ]
  },
  {
   "cell_type": "code",
   "execution_count": 11,
   "metadata": {},
   "outputs": [],
   "source": [
    "# Define holiday names\n",
    "holiday_names = [\n",
    "    # Osterferienzeit (Easter Holiday Season)\n",
    "    \"Osterferienzeit_1\",\n",
    "    \"Osterferienzeit_2\",\n",
    "    \"Osterferienzeit_3\",\n",
    "    \"Osterferienzeit_4\",\n",
    "    \"Osterferienzeit_5\",\n",
    "    # Auffahrtferienzeit (Ascension Holiday Season)\n",
    "    \"Auffahrtferienzeit_1\",\n",
    "    \"Auffahrtferienzeit_2\",\n",
    "    \"Auffahrtferienzeit_3\",\n",
    "    \"Auffahrtferienzeit_4\",\n",
    "    \"Auffahrtferienzeit_5\",\n",
    "]\n",
    "\n",
    "# Repeat holiday names for each year\n",
    "holiday_names_full = holiday_names * 4\n",
    "\n",
    "# Define holiday dates\n",
    "holiday_dates = [\n",
    "    # 2021\n",
    "    \"2021-03-31\",\n",
    "    \"2021-04-01\",\n",
    "    \"2021-04-02\",\n",
    "    \"2021-04-03\",\n",
    "    \"2021-04-04\",\n",
    "    \"2021-05-12\",\n",
    "    \"2021-05-13\",\n",
    "    \"2021-05-14\",\n",
    "    \"2021-05-15\",\n",
    "    \"2021-05-16\",\n",
    "    # 2022\n",
    "    \"2022-04-13\",\n",
    "    \"2022-04-14\",\n",
    "    \"2022-04-15\",\n",
    "    \"2022-04-16\",\n",
    "    \"2022-04-17\",\n",
    "    \"2022-05-25\",\n",
    "    \"2022-05-26\",\n",
    "    \"2022-05-27\",\n",
    "    \"2022-05-28\",\n",
    "    \"2022-05-29\",\n",
    "    # 2023\n",
    "    \"2023-04-05\",\n",
    "    \"2023-04-06\",\n",
    "    \"2023-04-07\",\n",
    "    \"2023-04-08\",\n",
    "    \"2023-04-09\",\n",
    "    \"2023-05-17\",\n",
    "    \"2023-05-18\",\n",
    "    \"2023-05-19\",\n",
    "    \"2023-05-20\",\n",
    "    \"2023-05-21\",\n",
    "    # 2024\n",
    "    \"2024-03-27\",\n",
    "    \"2024-03-28\",\n",
    "    \"2024-03-29\",\n",
    "    \"2024-03-30\",\n",
    "    \"2024-03-31\",\n",
    "    \"2024-05-08\",\n",
    "    \"2024-05-09\",\n",
    "    \"2024-05-10\",\n",
    "    \"2024-05-11\",\n",
    "    \"2024-05-12\",\n",
    "]\n",
    "\n",
    "# Create the DataFrame\n",
    "holiday_manual_df = pl.DataFrame(\n",
    "    {\n",
    "        \"holiday_name\": holiday_names_full,\n",
    "        \"holiday_date\": holiday_dates,\n",
    "    }\n",
    ").with_columns(\n",
    "    pl.col(\"holiday_date\").str.to_date()\n",
    ")  # Define holiday names\n",
    "holiday_names = [\n",
    "    # Osterferienzeit (Easter Holiday Season)\n",
    "    \"Osterferienzeit_1\",\n",
    "    \"Osterferienzeit_2\",\n",
    "    \"Osterferienzeit_3\",\n",
    "    \"Osterferienzeit_4\",\n",
    "    \"Osterferienzeit_5\",\n",
    "    # Auffahrtferienzeit (Ascension Holiday Season)\n",
    "    \"Auffahrtferienzeit_1\",\n",
    "    \"Auffahrtferienzeit_2\",\n",
    "    \"Auffahrtferienzeit_3\",\n",
    "    \"Auffahrtferienzeit_4\",\n",
    "    \"Auffahrtferienzeit_5\",\n",
    "]\n",
    "\n",
    "# Repeat holiday names for each year\n",
    "holiday_names_full = holiday_names * 4\n",
    "\n",
    "# Define holiday dates\n",
    "holiday_dates = [\n",
    "    # 2021\n",
    "    \"2021-03-31\",\n",
    "    \"2021-04-01\",\n",
    "    \"2021-04-02\",\n",
    "    \"2021-04-03\",\n",
    "    \"2021-04-04\",\n",
    "    \"2021-05-12\",\n",
    "    \"2021-05-13\",\n",
    "    \"2021-05-14\",\n",
    "    \"2021-05-15\",\n",
    "    \"2021-05-16\",\n",
    "    # 2022\n",
    "    \"2022-04-13\",\n",
    "    \"2022-04-14\",\n",
    "    \"2022-04-15\",\n",
    "    \"2022-04-16\",\n",
    "    \"2022-04-17\",\n",
    "    \"2022-05-25\",\n",
    "    \"2022-05-26\",\n",
    "    \"2022-05-27\",\n",
    "    \"2022-05-28\",\n",
    "    \"2022-05-29\",\n",
    "    # 2023\n",
    "    \"2023-04-05\",\n",
    "    \"2023-04-06\",\n",
    "    \"2023-04-07\",\n",
    "    \"2023-04-08\",\n",
    "    \"2023-04-09\",\n",
    "    \"2023-05-17\",\n",
    "    \"2023-05-18\",\n",
    "    \"2023-05-19\",\n",
    "    \"2023-05-20\",\n",
    "    \"2023-05-21\",\n",
    "    # 2024\n",
    "    \"2024-03-27\",\n",
    "    \"2024-03-28\",\n",
    "    \"2024-03-29\",\n",
    "    \"2024-03-30\",\n",
    "    \"2024-03-31\",\n",
    "    \"2024-05-08\",\n",
    "    \"2024-05-09\",\n",
    "    \"2024-05-10\",\n",
    "    \"2024-05-11\",\n",
    "    \"2024-05-12\",\n",
    "]\n",
    "\n",
    "# Create the DataFrame\n",
    "holiday_manual_df = pl.DataFrame(\n",
    "    {\n",
    "        \"holiday_name\": holiday_names_full,\n",
    "        \"holiday_date\": holiday_dates,\n",
    "    }\n",
    ").with_columns(pl.col(\"holiday_date\").str.to_date())"
   ]
  },
  {
   "cell_type": "code",
   "execution_count": 12,
   "metadata": {},
   "outputs": [],
   "source": [
    "holiday_df = (\n",
    "    pl.concat(\n",
    "        [\n",
    "            holiday_df,\n",
    "            holiday_manual_df,\n",
    "        ],\n",
    "        how=\"vertical\",\n",
    "    )\n",
    "    .sort(\"holiday_date\")\n",
    "    .unique(\"holiday_date\")\n",
    ")"
   ]
  },
  {
   "cell_type": "code",
   "execution_count": 13,
   "metadata": {},
   "outputs": [
    {
     "data": {
      "text/html": [
       "<div><style>\n",
       ".dataframe > thead > tr,\n",
       ".dataframe > tbody > tr {\n",
       "  text-align: right;\n",
       "  white-space: pre-wrap;\n",
       "}\n",
       "</style>\n",
       "<small>shape: (5, 11)</small><table border=\"1\" class=\"dataframe\"><thead><tr><th>datetime</th><th>kWh</th><th>Zurich_shortwave_radiation</th><th>Zurich_soil_temperature_7_to_28cm</th><th>temp_rolling</th><th>day_of_month</th><th>day_of_year</th><th>day_of_week</th><th>month</th><th>hour</th><th>holiday_name</th></tr><tr><td>datetime[μs]</td><td>f64</td><td>f64</td><td>f64</td><td>f64</td><td>i8</td><td>i16</td><td>i8</td><td>i8</td><td>i8</td><td>str</td></tr></thead><tbody><tr><td>2021-09-01 00:00:00</td><td>5.1633e6</td><td>0.0</td><td>16.042</td><td>null</td><td>1</td><td>244</td><td>3</td><td>9</td><td>0</td><td>&quot;no_holiday&quot;</td></tr><tr><td>2021-09-01 01:00:00</td><td>5.0777e6</td><td>0.0</td><td>15.892</td><td>null</td><td>1</td><td>244</td><td>3</td><td>9</td><td>1</td><td>&quot;no_holiday&quot;</td></tr><tr><td>2021-09-01 02:00:00</td><td>4.9315e6</td><td>0.0</td><td>16.042</td><td>null</td><td>1</td><td>244</td><td>3</td><td>9</td><td>2</td><td>&quot;no_holiday&quot;</td></tr><tr><td>2021-09-01 03:00:00</td><td>4.7878e6</td><td>0.0</td><td>15.942</td><td>null</td><td>1</td><td>244</td><td>3</td><td>9</td><td>3</td><td>&quot;no_holiday&quot;</td></tr><tr><td>2021-09-01 04:00:00</td><td>4.7038e6</td><td>0.0</td><td>15.792001</td><td>null</td><td>1</td><td>244</td><td>3</td><td>9</td><td>4</td><td>&quot;no_holiday&quot;</td></tr></tbody></table></div>"
      ],
      "text/plain": [
       "shape: (5, 11)\n",
       "┌─────────────┬──────────┬─────────────┬─────────────┬───┬─────────────┬───────┬──────┬────────────┐\n",
       "│ datetime    ┆ kWh      ┆ Zurich_shor ┆ Zurich_soil ┆ … ┆ day_of_week ┆ month ┆ hour ┆ holiday_na │\n",
       "│ ---         ┆ ---      ┆ twave_radia ┆ _temperatur ┆   ┆ ---         ┆ ---   ┆ ---  ┆ me         │\n",
       "│ datetime[μs ┆ f64      ┆ tion        ┆ e_7_to_2…   ┆   ┆ i8          ┆ i8    ┆ i8   ┆ ---        │\n",
       "│ ]           ┆          ┆ ---         ┆ ---         ┆   ┆             ┆       ┆      ┆ str        │\n",
       "│             ┆          ┆ f64         ┆ f64         ┆   ┆             ┆       ┆      ┆            │\n",
       "╞═════════════╪══════════╪═════════════╪═════════════╪═══╪═════════════╪═══════╪══════╪════════════╡\n",
       "│ 2021-09-01  ┆ 5.1633e6 ┆ 0.0         ┆ 16.042      ┆ … ┆ 3           ┆ 9     ┆ 0    ┆ no_holiday │\n",
       "│ 00:00:00    ┆          ┆             ┆             ┆   ┆             ┆       ┆      ┆            │\n",
       "│ 2021-09-01  ┆ 5.0777e6 ┆ 0.0         ┆ 15.892      ┆ … ┆ 3           ┆ 9     ┆ 1    ┆ no_holiday │\n",
       "│ 01:00:00    ┆          ┆             ┆             ┆   ┆             ┆       ┆      ┆            │\n",
       "│ 2021-09-01  ┆ 4.9315e6 ┆ 0.0         ┆ 16.042      ┆ … ┆ 3           ┆ 9     ┆ 2    ┆ no_holiday │\n",
       "│ 02:00:00    ┆          ┆             ┆             ┆   ┆             ┆       ┆      ┆            │\n",
       "│ 2021-09-01  ┆ 4.7878e6 ┆ 0.0         ┆ 15.942      ┆ … ┆ 3           ┆ 9     ┆ 3    ┆ no_holiday │\n",
       "│ 03:00:00    ┆          ┆             ┆             ┆   ┆             ┆       ┆      ┆            │\n",
       "│ 2021-09-01  ┆ 4.7038e6 ┆ 0.0         ┆ 15.792001   ┆ … ┆ 3           ┆ 9     ┆ 4    ┆ no_holiday │\n",
       "│ 04:00:00    ┆          ┆             ┆             ┆   ┆             ┆       ┆      ┆            │\n",
       "└─────────────┴──────────┴─────────────┴─────────────┴───┴─────────────┴───────┴──────┴────────────┘"
      ]
     },
     "execution_count": 13,
     "metadata": {},
     "output_type": "execute_result"
    }
   ],
   "source": [
    "df = (\n",
    "    df.with_columns(date=pl.col(\"datetime\").dt.date())\n",
    "    .join(holiday_df, how=\"left\", left_on=\"date\", right_on=\"holiday_date\")\n",
    "    .drop(\"date\")\n",
    "    .with_columns(holiday_name=pl.col(\"holiday_name\").fill_null(\"no_holiday\"))\n",
    ")\n",
    "\n",
    "df.head()"
   ]
  },
  {
   "cell_type": "markdown",
   "metadata": {},
   "source": [
    "# Cyclical Encoding"
   ]
  },
  {
   "cell_type": "code",
   "execution_count": 14,
   "metadata": {},
   "outputs": [],
   "source": [
    "def sin_transformer(period):\n",
    "    return FunctionTransformer(lambda x: np.sin(x / period * 2 * np.pi))\n",
    "\n",
    "\n",
    "def cos_transformer(period):\n",
    "    return FunctionTransformer(lambda x: np.cos(x / period * 2 * np.pi))\n",
    "\n",
    "\n",
    "def encode_cyclically(column_name, periodicity, table):\n",
    "    # Create sin and cos encoding\n",
    "    table = table.with_columns(\n",
    "        sin_transformer(periodicity)\n",
    "        .fit_transform(table[column_name])\n",
    "        .alias(f\"{column_name}_sin\")\n",
    "    )\n",
    "\n",
    "    table = table.with_columns(\n",
    "        cos_transformer(periodicity)\n",
    "        .fit_transform(table[column_name])\n",
    "        .alias(f\"{column_name}_cos\")\n",
    "    )\n",
    "    # Drop the old column\n",
    "    table = table.drop(column_name)\n",
    "\n",
    "    return table"
   ]
  },
  {
   "cell_type": "code",
   "execution_count": 15,
   "metadata": {},
   "outputs": [],
   "source": [
    "# Dictionary with column name and calendar periodicity\n",
    "calendar_features = {\n",
    "    \"day_of_month\": 31,\n",
    "    \"day_of_year\": 365,\n",
    "    \"day_of_week\": 7,\n",
    "    \"month\": 12,\n",
    "    \"hour\": 24,\n",
    "}\n",
    "\n",
    "for column_name, periodicity in calendar_features.items():\n",
    "    df = encode_cyclically(column_name, periodicity, df)"
   ]
  },
  {
   "cell_type": "markdown",
   "metadata": {},
   "source": [
    "# sklearn Pipeline"
   ]
  },
  {
   "cell_type": "code",
   "execution_count": 16,
   "metadata": {},
   "outputs": [],
   "source": [
    "cat_cols = [\"holiday_name\"]\n",
    "\n",
    "num_cols = df.select(\n",
    "    cs.contains(\n",
    "        \"soil_temperature_7_to_28cm\",\n",
    "        \"shortwave_radiation\",\n",
    "    )\n",
    ").columns + [\"temp_rolling\"]\n",
    "\n",
    "manual_cols = df.select(pl.selectors.contains(\"_cos\", \"_sin\", \"is_\")).columns"
   ]
  },
  {
   "cell_type": "code",
   "execution_count": 17,
   "metadata": {},
   "outputs": [
    {
     "data": {
      "text/plain": [
       "['datetime', 'kWh']"
      ]
     },
     "execution_count": 17,
     "metadata": {},
     "output_type": "execute_result"
    }
   ],
   "source": [
    "df.drop(manual_cols + cat_cols + num_cols).columns"
   ]
  },
  {
   "cell_type": "code",
   "execution_count": 18,
   "metadata": {},
   "outputs": [],
   "source": [
    "numeric_transformer = Pipeline(\n",
    "    steps=[(\"imputer\", SimpleImputer(strategy=\"mean\")), (\"scaler\", StandardScaler())]\n",
    ")"
   ]
  },
  {
   "cell_type": "code",
   "execution_count": 19,
   "metadata": {},
   "outputs": [],
   "source": [
    "categorical_transformer = Pipeline(\n",
    "    steps=[\n",
    "        (\n",
    "            \"encoder\",\n",
    "            OneHotEncoder(sparse_output=False, handle_unknown=\"ignore\"),\n",
    "        ),\n",
    "    ]\n",
    ")"
   ]
  },
  {
   "cell_type": "code",
   "execution_count": 20,
   "metadata": {},
   "outputs": [],
   "source": [
    "column_transformer = ColumnTransformer(\n",
    "    transformers=[\n",
    "        (\"numeric\", numeric_transformer, num_cols),\n",
    "        (\"categorical\", categorical_transformer, cat_cols),\n",
    "    ],\n",
    "    remainder=\"passthrough\",\n",
    ")"
   ]
  },
  {
   "cell_type": "code",
   "execution_count": 21,
   "metadata": {},
   "outputs": [],
   "source": [
    "preprocessor = Pipeline(\n",
    "    steps=[\n",
    "        (\"column_transformer\", column_transformer),\n",
    "        (\n",
    "            \"variance_threshold\",\n",
    "            VarianceThreshold(threshold=0.0),\n",
    "        ),  # Drops constant columns after transformations\n",
    "    ]\n",
    ")"
   ]
  },
  {
   "cell_type": "markdown",
   "metadata": {},
   "source": [
    "# Autocorrelation Visualisation"
   ]
  },
  {
   "cell_type": "markdown",
   "metadata": {},
   "source": [
    "## No differencing"
   ]
  },
  {
   "cell_type": "code",
   "execution_count": null,
   "metadata": {},
   "outputs": [],
   "source": [
    "time_series = df.to_pandas()[\"kWh\"]\n",
    "acf_lags = 24 * 8\n",
    "\n",
    "acf_x = acf(time_series, nlags=acf_lags, alpha=0.05)\n",
    "\n",
    "acf_vals, acf_conf_int = acf_x[:2]\n",
    "\n",
    "acf_df = pd.DataFrame(\n",
    "    {\n",
    "        \"ACF\": acf_vals,\n",
    "        \"ACF_low\": acf_conf_int[:, 0],\n",
    "        \"ACF_high\": acf_conf_int[:, 1],\n",
    "        \"Lag\": np.arange(0, acf_lags + 1),\n",
    "    }\n",
    ")\n",
    "\n",
    "acf_df.head()"
   ]
  },
  {
   "cell_type": "code",
   "execution_count": null,
   "metadata": {},
   "outputs": [],
   "source": [
    "significance_thr = 1.96 / np.sqrt(len(time_series))"
   ]
  },
  {
   "cell_type": "code",
   "execution_count": null,
   "metadata": {},
   "outputs": [],
   "source": [
    "plot_width = 7\n",
    "plot_height = 3\n",
    "\n",
    "fig = (\n",
    "    pn.ggplot(acf_df, pn.aes(x=\"Lag\", y=\"ACF\"))\n",
    "    + pn.geom_hline(yintercept=0, color=\"midnightblue\")\n",
    "    + pn.geom_segment(pn.aes(x=\"Lag\", xend=\"Lag\", y=0, yend=\"ACF\"), color=\"dodgerblue\")\n",
    "    + pn.geom_point(\n",
    "        color=\"dodgerblue\",\n",
    "    )\n",
    "    + pn.geom_hline(\n",
    "        yintercept=significance_thr, linetype=\"dotted\", color=\"midnightblue\"\n",
    "    )\n",
    "    + pn.geom_hline(\n",
    "        yintercept=-significance_thr, linetype=\"dotted\", color=\"midnightblue\"\n",
    "    )\n",
    "    + theme_academic\n",
    "    + pn.theme(figure_size=(plot_width, plot_height))\n",
    ")\n",
    "\n",
    "display(fig)\n",
    "\n",
    "fig.save(\n",
    "    filename=\"../1_figures/acf_differencing_0.pdf\",\n",
    "    width=plot_width,\n",
    "    height=plot_height,\n",
    "    dpi=300,\n",
    ")"
   ]
  },
  {
   "cell_type": "code",
   "execution_count": null,
   "metadata": {},
   "outputs": [],
   "source": [
    "pacf_x = pacf(time_series, nlags=acf_lags, alpha=0.05)\n",
    "\n",
    "pacf_vals, pacf_conf_int = pacf_x[:2]\n",
    "\n",
    "pacf_df = pd.DataFrame(\n",
    "    {\n",
    "        \"PACF\": pacf_vals,\n",
    "        \"PACF_low\": pacf_conf_int[:, 0],\n",
    "        \"PACF_high\": pacf_conf_int[:, 1],\n",
    "        \"Lag\": np.arange(0, acf_lags + 1),\n",
    "    }\n",
    ")\n",
    "\n",
    "pacf_df.head()"
   ]
  },
  {
   "cell_type": "code",
   "execution_count": null,
   "metadata": {},
   "outputs": [],
   "source": [
    "plot_width = 7\n",
    "plot_height = 3\n",
    "\n",
    "fig = (\n",
    "    pn.ggplot(pacf_df, pn.aes(x=\"Lag\", y=\"PACF\"))\n",
    "    + pn.geom_hline(yintercept=0, color=\"midnightblue\")\n",
    "    + pn.geom_segment(pn.aes(x=\"Lag\", xend=\"Lag\", y=0, yend=\"PACF\"), color=\"dodgerblue\")\n",
    "    + pn.geom_point(\n",
    "        color=\"dodgerblue\",\n",
    "    )\n",
    "    + pn.geom_hline(\n",
    "        yintercept=significance_thr, linetype=\"dotted\", color=\"midnightblue\"\n",
    "    )\n",
    "    + pn.geom_hline(\n",
    "        yintercept=-significance_thr, linetype=\"dotted\", color=\"midnightblue\"\n",
    "    )\n",
    "    + theme_academic\n",
    "    + pn.theme(figure_size=(plot_width, plot_height))\n",
    ")\n",
    "\n",
    "display(fig)\n",
    "\n",
    "fig.save(\n",
    "    filename=\"../1_figures/pacf_differencing_0.pdf\",\n",
    "    width=plot_width,\n",
    "    height=plot_height,\n",
    "    dpi=300,\n",
    ")"
   ]
  },
  {
   "cell_type": "code",
   "execution_count": null,
   "metadata": {},
   "outputs": [],
   "source": [
    "# Perform the ADF test\n",
    "adf_result = adfuller(time_series)\n",
    "\n",
    "# Display the results\n",
    "print(\"ADF Statistic:\", adf_result[0])\n",
    "print(\"p-value:\", adf_result[1])\n",
    "print(\"Critical Values:\")\n",
    "for key, value in adf_result[4].items():\n",
    "    print(f\"  {key}: {value:.3f}\")\n",
    "\n",
    "# Interpretation\n",
    "if adf_result[1] < 0.05:\n",
    "    print(\"The time series is likely stationary (reject the null hypothesis).\")\n",
    "else:\n",
    "    print(\n",
    "        \"The time series is likely non-stationary (fail to reject the null hypothesis).\"\n",
    "    )"
   ]
  },
  {
   "cell_type": "code",
   "execution_count": null,
   "metadata": {},
   "outputs": [],
   "source": [
    "def kpss_test(timeseries):\n",
    "    print(\"Results of KPSS Test:\")\n",
    "    kpsstest = kpss(timeseries, regression=\"c\", nlags=\"auto\")\n",
    "    kpss_output = pd.Series(\n",
    "        kpsstest[0:3], index=[\"Test Statistic\", \"p-value\", \"Lags Used\"]\n",
    "    )\n",
    "    for key, value in kpsstest[3].items():\n",
    "        kpss_output[\"Critical Value (%s)\" % key] = value\n",
    "    print(kpss_output)"
   ]
  },
  {
   "cell_type": "code",
   "execution_count": null,
   "metadata": {},
   "outputs": [],
   "source": [
    "kpss_test(time_series)"
   ]
  },
  {
   "cell_type": "markdown",
   "metadata": {},
   "source": [
    "## First order differencing"
   ]
  },
  {
   "cell_type": "code",
   "execution_count": null,
   "metadata": {},
   "outputs": [],
   "source": [
    "time_series = df.to_pandas()[\"kWh\"]\n",
    "time_series = (time_series - time_series.shift(1)).dropna()\n",
    "\n",
    "acf_x = acf(time_series, nlags=acf_lags, alpha=0.05)\n",
    "\n",
    "acf_vals, acf_conf_int = acf_x[:2]\n",
    "\n",
    "acf_df = pd.DataFrame(\n",
    "    {\n",
    "        \"ACF\": acf_vals,\n",
    "        \"ACF_low\": acf_conf_int[:, 0],\n",
    "        \"ACF_high\": acf_conf_int[:, 1],\n",
    "        \"Lag\": np.arange(0, acf_lags + 1),\n",
    "    }\n",
    ")\n",
    "\n",
    "acf_df.head()"
   ]
  },
  {
   "cell_type": "code",
   "execution_count": null,
   "metadata": {},
   "outputs": [],
   "source": [
    "plot_width = 7\n",
    "plot_height = 3\n",
    "\n",
    "fig = (\n",
    "    pn.ggplot(acf_df, pn.aes(x=\"Lag\", y=\"ACF\"))\n",
    "    + pn.geom_hline(yintercept=0, color=\"midnightblue\")\n",
    "    + pn.geom_segment(pn.aes(x=\"Lag\", xend=\"Lag\", y=0, yend=\"ACF\"), color=\"dodgerblue\")\n",
    "    + pn.geom_point(\n",
    "        color=\"dodgerblue\",\n",
    "    )\n",
    "    + pn.geom_hline(\n",
    "        yintercept=significance_thr, linetype=\"dotted\", color=\"midnightblue\"\n",
    "    )\n",
    "    + pn.geom_hline(\n",
    "        yintercept=-significance_thr, linetype=\"dotted\", color=\"midnightblue\"\n",
    "    )\n",
    "    + theme_academic\n",
    "    + pn.theme(figure_size=(plot_width, plot_height))\n",
    ")\n",
    "\n",
    "display(fig)\n",
    "\n",
    "fig.save(\n",
    "    filename=\"../1_figures/acf_differencing_1.pdf\",\n",
    "    width=plot_width,\n",
    "    height=plot_height,\n",
    "    dpi=300,\n",
    ")"
   ]
  },
  {
   "cell_type": "code",
   "execution_count": null,
   "metadata": {},
   "outputs": [],
   "source": [
    "pacf_x = pacf(time_series, nlags=acf_lags, alpha=0.05)\n",
    "\n",
    "pacf_vals, pacf_conf_int = pacf_x[:2]\n",
    "\n",
    "pacf_df = pd.DataFrame(\n",
    "    {\n",
    "        \"PACF\": pacf_vals,\n",
    "        \"PACF_low\": pacf_conf_int[:, 0],\n",
    "        \"PACF_high\": pacf_conf_int[:, 1],\n",
    "        \"Lag\": np.arange(0, acf_lags + 1),\n",
    "    }\n",
    ")\n",
    "\n",
    "pacf_df.head()"
   ]
  },
  {
   "cell_type": "code",
   "execution_count": null,
   "metadata": {},
   "outputs": [],
   "source": [
    "plot_width = 7\n",
    "plot_height = 3\n",
    "\n",
    "fig = (\n",
    "    pn.ggplot(pacf_df, pn.aes(x=\"Lag\", y=\"PACF\"))\n",
    "    + pn.geom_hline(yintercept=0, color=\"midnightblue\")\n",
    "    + pn.geom_segment(pn.aes(x=\"Lag\", xend=\"Lag\", y=0, yend=\"PACF\"), color=\"dodgerblue\")\n",
    "    + pn.geom_point(\n",
    "        color=\"dodgerblue\",\n",
    "    )\n",
    "    + pn.geom_hline(\n",
    "        yintercept=significance_thr, linetype=\"dotted\", color=\"midnightblue\"\n",
    "    )\n",
    "    + pn.geom_hline(\n",
    "        yintercept=-significance_thr, linetype=\"dotted\", color=\"midnightblue\"\n",
    "    )\n",
    "    + theme_academic\n",
    "    + pn.theme(figure_size=(plot_width, plot_height))\n",
    ")\n",
    "\n",
    "display(fig)\n",
    "\n",
    "fig.save(\n",
    "    filename=\"../1_figures/pacf_differencing_1.pdf\",\n",
    "    width=plot_width,\n",
    "    height=plot_height,\n",
    "    dpi=300,\n",
    ")"
   ]
  },
  {
   "cell_type": "code",
   "execution_count": null,
   "metadata": {},
   "outputs": [],
   "source": [
    "# Perform the ADF test\n",
    "adf_result = adfuller(time_series)\n",
    "\n",
    "# Display the results\n",
    "print(\"ADF Statistic:\", adf_result[0])\n",
    "print(\"p-value:\", adf_result[1])\n",
    "print(\"Critical Values:\")\n",
    "for key, value in adf_result[4].items():\n",
    "    print(f\"  {key}: {value:.3f}\")\n",
    "\n",
    "# Interpretation\n",
    "if adf_result[1] < 0.05:\n",
    "    print(\"The time series is likely stationary (reject the null hypothesis).\")\n",
    "else:\n",
    "    print(\n",
    "        \"The time series is likely non-stationary (fail to reject the null hypothesis).\"\n",
    "    )"
   ]
  },
  {
   "cell_type": "code",
   "execution_count": null,
   "metadata": {},
   "outputs": [],
   "source": [
    "kpss_test(time_series)"
   ]
  },
  {
   "cell_type": "markdown",
   "metadata": {},
   "source": [
    "# Order Selection (Parameter Tuning) with `statsforecast`"
   ]
  },
  {
   "cell_type": "markdown",
   "metadata": {},
   "source": [
    "## Computational complexity extrapolation chart"
   ]
  },
  {
   "cell_type": "code",
   "execution_count": 22,
   "metadata": {},
   "outputs": [
    {
     "data": {
      "text/html": [
       "<div>\n",
       "<style scoped>\n",
       "    .dataframe tbody tr th:only-of-type {\n",
       "        vertical-align: middle;\n",
       "    }\n",
       "\n",
       "    .dataframe tbody tr th {\n",
       "        vertical-align: top;\n",
       "    }\n",
       "\n",
       "    .dataframe thead th {\n",
       "        text-align: right;\n",
       "    }\n",
       "</style>\n",
       "<table border=\"1\" class=\"dataframe\">\n",
       "  <thead>\n",
       "    <tr style=\"text-align: right;\">\n",
       "      <th></th>\n",
       "      <th>kWh</th>\n",
       "      <th>Zurich_shortwave_radiation</th>\n",
       "      <th>Zurich_soil_temperature_7_to_28cm</th>\n",
       "      <th>temp_rolling</th>\n",
       "      <th>holiday_name</th>\n",
       "      <th>day_of_month_sin</th>\n",
       "      <th>day_of_month_cos</th>\n",
       "      <th>day_of_year_sin</th>\n",
       "      <th>day_of_year_cos</th>\n",
       "      <th>day_of_week_sin</th>\n",
       "      <th>day_of_week_cos</th>\n",
       "      <th>month_sin</th>\n",
       "      <th>month_cos</th>\n",
       "      <th>hour_sin</th>\n",
       "      <th>hour_cos</th>\n",
       "    </tr>\n",
       "    <tr>\n",
       "      <th>datetime</th>\n",
       "      <th></th>\n",
       "      <th></th>\n",
       "      <th></th>\n",
       "      <th></th>\n",
       "      <th></th>\n",
       "      <th></th>\n",
       "      <th></th>\n",
       "      <th></th>\n",
       "      <th></th>\n",
       "      <th></th>\n",
       "      <th></th>\n",
       "      <th></th>\n",
       "      <th></th>\n",
       "      <th></th>\n",
       "      <th></th>\n",
       "    </tr>\n",
       "  </thead>\n",
       "  <tbody>\n",
       "    <tr>\n",
       "      <th>2021-09-01 00:00:00</th>\n",
       "      <td>5.163270e+06</td>\n",
       "      <td>0.0</td>\n",
       "      <td>16.042000</td>\n",
       "      <td>NaN</td>\n",
       "      <td>no_holiday</td>\n",
       "      <td>0.201299</td>\n",
       "      <td>0.97953</td>\n",
       "      <td>-0.871706</td>\n",
       "      <td>-0.490029</td>\n",
       "      <td>0.433884</td>\n",
       "      <td>-0.900969</td>\n",
       "      <td>-1.0</td>\n",
       "      <td>-1.836970e-16</td>\n",
       "      <td>0.000000</td>\n",
       "      <td>1.000000</td>\n",
       "    </tr>\n",
       "    <tr>\n",
       "      <th>2021-09-01 01:00:00</th>\n",
       "      <td>5.077656e+06</td>\n",
       "      <td>0.0</td>\n",
       "      <td>15.892000</td>\n",
       "      <td>NaN</td>\n",
       "      <td>no_holiday</td>\n",
       "      <td>0.201299</td>\n",
       "      <td>0.97953</td>\n",
       "      <td>-0.871706</td>\n",
       "      <td>-0.490029</td>\n",
       "      <td>0.433884</td>\n",
       "      <td>-0.900969</td>\n",
       "      <td>-1.0</td>\n",
       "      <td>-1.836970e-16</td>\n",
       "      <td>0.258819</td>\n",
       "      <td>0.965926</td>\n",
       "    </tr>\n",
       "    <tr>\n",
       "      <th>2021-09-01 02:00:00</th>\n",
       "      <td>4.931528e+06</td>\n",
       "      <td>0.0</td>\n",
       "      <td>16.042000</td>\n",
       "      <td>NaN</td>\n",
       "      <td>no_holiday</td>\n",
       "      <td>0.201299</td>\n",
       "      <td>0.97953</td>\n",
       "      <td>-0.871706</td>\n",
       "      <td>-0.490029</td>\n",
       "      <td>0.433884</td>\n",
       "      <td>-0.900969</td>\n",
       "      <td>-1.0</td>\n",
       "      <td>-1.836970e-16</td>\n",
       "      <td>0.500000</td>\n",
       "      <td>0.866025</td>\n",
       "    </tr>\n",
       "    <tr>\n",
       "      <th>2021-09-01 03:00:00</th>\n",
       "      <td>4.787832e+06</td>\n",
       "      <td>0.0</td>\n",
       "      <td>15.942000</td>\n",
       "      <td>NaN</td>\n",
       "      <td>no_holiday</td>\n",
       "      <td>0.201299</td>\n",
       "      <td>0.97953</td>\n",
       "      <td>-0.871706</td>\n",
       "      <td>-0.490029</td>\n",
       "      <td>0.433884</td>\n",
       "      <td>-0.900969</td>\n",
       "      <td>-1.0</td>\n",
       "      <td>-1.836970e-16</td>\n",
       "      <td>0.707107</td>\n",
       "      <td>0.707107</td>\n",
       "    </tr>\n",
       "    <tr>\n",
       "      <th>2021-09-01 04:00:00</th>\n",
       "      <td>4.703846e+06</td>\n",
       "      <td>0.0</td>\n",
       "      <td>15.792001</td>\n",
       "      <td>NaN</td>\n",
       "      <td>no_holiday</td>\n",
       "      <td>0.201299</td>\n",
       "      <td>0.97953</td>\n",
       "      <td>-0.871706</td>\n",
       "      <td>-0.490029</td>\n",
       "      <td>0.433884</td>\n",
       "      <td>-0.900969</td>\n",
       "      <td>-1.0</td>\n",
       "      <td>-1.836970e-16</td>\n",
       "      <td>0.866025</td>\n",
       "      <td>0.500000</td>\n",
       "    </tr>\n",
       "  </tbody>\n",
       "</table>\n",
       "</div>"
      ],
      "text/plain": [
       "                              kWh  Zurich_shortwave_radiation  \\\n",
       "datetime                                                        \n",
       "2021-09-01 00:00:00  5.163270e+06                         0.0   \n",
       "2021-09-01 01:00:00  5.077656e+06                         0.0   \n",
       "2021-09-01 02:00:00  4.931528e+06                         0.0   \n",
       "2021-09-01 03:00:00  4.787832e+06                         0.0   \n",
       "2021-09-01 04:00:00  4.703846e+06                         0.0   \n",
       "\n",
       "                     Zurich_soil_temperature_7_to_28cm  temp_rolling  \\\n",
       "datetime                                                               \n",
       "2021-09-01 00:00:00                          16.042000           NaN   \n",
       "2021-09-01 01:00:00                          15.892000           NaN   \n",
       "2021-09-01 02:00:00                          16.042000           NaN   \n",
       "2021-09-01 03:00:00                          15.942000           NaN   \n",
       "2021-09-01 04:00:00                          15.792001           NaN   \n",
       "\n",
       "                    holiday_name  day_of_month_sin  day_of_month_cos  \\\n",
       "datetime                                                               \n",
       "2021-09-01 00:00:00   no_holiday          0.201299           0.97953   \n",
       "2021-09-01 01:00:00   no_holiday          0.201299           0.97953   \n",
       "2021-09-01 02:00:00   no_holiday          0.201299           0.97953   \n",
       "2021-09-01 03:00:00   no_holiday          0.201299           0.97953   \n",
       "2021-09-01 04:00:00   no_holiday          0.201299           0.97953   \n",
       "\n",
       "                     day_of_year_sin  day_of_year_cos  day_of_week_sin  \\\n",
       "datetime                                                                 \n",
       "2021-09-01 00:00:00        -0.871706        -0.490029         0.433884   \n",
       "2021-09-01 01:00:00        -0.871706        -0.490029         0.433884   \n",
       "2021-09-01 02:00:00        -0.871706        -0.490029         0.433884   \n",
       "2021-09-01 03:00:00        -0.871706        -0.490029         0.433884   \n",
       "2021-09-01 04:00:00        -0.871706        -0.490029         0.433884   \n",
       "\n",
       "                     day_of_week_cos  month_sin     month_cos  hour_sin  \\\n",
       "datetime                                                                  \n",
       "2021-09-01 00:00:00        -0.900969       -1.0 -1.836970e-16  0.000000   \n",
       "2021-09-01 01:00:00        -0.900969       -1.0 -1.836970e-16  0.258819   \n",
       "2021-09-01 02:00:00        -0.900969       -1.0 -1.836970e-16  0.500000   \n",
       "2021-09-01 03:00:00        -0.900969       -1.0 -1.836970e-16  0.707107   \n",
       "2021-09-01 04:00:00        -0.900969       -1.0 -1.836970e-16  0.866025   \n",
       "\n",
       "                     hour_cos  \n",
       "datetime                       \n",
       "2021-09-01 00:00:00  1.000000  \n",
       "2021-09-01 01:00:00  0.965926  \n",
       "2021-09-01 02:00:00  0.866025  \n",
       "2021-09-01 03:00:00  0.707107  \n",
       "2021-09-01 04:00:00  0.500000  "
      ]
     },
     "execution_count": 22,
     "metadata": {},
     "output_type": "execute_result"
    }
   ],
   "source": [
    "df_full = (\n",
    "    df.to_pandas()\n",
    "    .assign(datetime=lambda x: x.datetime.astype(\"datetime64[ns]\"))\n",
    "    .set_index(\"datetime\")\n",
    "    .asfreq(\"h\")\n",
    "    .sort_index()\n",
    ")\n",
    "df_full.head()"
   ]
  },
  {
   "cell_type": "code",
   "execution_count": 23,
   "metadata": {},
   "outputs": [],
   "source": [
    "# Go a lot smaller on the data to make computation feasible\n",
    "df_train = df_full[\"2023-06-01\":\"2023-06-30\"]\n",
    "df_val = df_full[\"2023-07-01\":\"2023-07-31\"]"
   ]
  },
  {
   "cell_type": "code",
   "execution_count": 24,
   "metadata": {},
   "outputs": [],
   "source": [
    "X_train = df_train.drop(columns=[\"kWh\"])\n",
    "X_val = df_val.drop(columns=[\"kWh\"])"
   ]
  },
  {
   "cell_type": "code",
   "execution_count": 25,
   "metadata": {},
   "outputs": [],
   "source": [
    "X_train_preprocessed = pd.DataFrame(\n",
    "    preprocessor.fit_transform(X_train),\n",
    "    columns=preprocessor.get_feature_names_out(),\n",
    ")\n",
    "\n",
    "X_val_preprocessed = pd.DataFrame(\n",
    "    preprocessor.transform(X_val),\n",
    "    columns=preprocessor.get_feature_names_out(),\n",
    ")\n",
    "\n",
    "y_train = df_train[\"kWh\"]\n",
    "y_val = df_val[\"kWh\"]"
   ]
  },
  {
   "cell_type": "code",
   "execution_count": 26,
   "metadata": {},
   "outputs": [],
   "source": [
    "X_train_preprocessed = X_train_preprocessed.apply(pd.to_numeric, errors=\"coerce\")\n",
    "X_val_preprocessed = X_val_preprocessed.apply(pd.to_numeric, errors=\"coerce\")"
   ]
  },
  {
   "cell_type": "code",
   "execution_count": null,
   "metadata": {},
   "outputs": [],
   "source": [
    "n_obs_list = np.arange(200, 700 + 1, 100)\n",
    "fit_times = []\n",
    "\n",
    "for n_obs in tqdm(n_obs_list):\n",
    "\n",
    "    model = ARIMA(\n",
    "        order=(1, 1, 1),\n",
    "        season_length=24,\n",
    "        seasonal_order=(1, 1, 1),\n",
    "        # include_drift=True\n",
    "    )\n",
    "\n",
    "    start_time = time.time()\n",
    "    model.fit(\n",
    "        y=y_train.head(n_obs).to_numpy(dtype=np.float64),\n",
    "        X=X_train_preprocessed.head(n_obs).to_numpy(dtype=np.float64),\n",
    "    )\n",
    "    end_time = time.time()\n",
    "    fit_times.append((end_time - start_time) / 60)"
   ]
  },
  {
   "cell_type": "code",
   "execution_count": null,
   "metadata": {},
   "outputs": [],
   "source": [
    "(\n",
    "    pn.ggplot(\n",
    "        data=pd.DataFrame({\"n\": n_obs_list, \"fit_time\": fit_times}),\n",
    "        mapping=pn.aes(\"n\", \"fit_time\"),\n",
    "    )\n",
    "    + pn.geom_line()\n",
    "    + pn.geom_point()\n",
    "    + pn.labs(\n",
    "        title=\"SARIMAX fit times depending on number of observations\",\n",
    "        subtitle=\"SARIMAX(1,1,1)(1,1,1)(24)\",\n",
    "        x=\"# observations\",\n",
    "        y=\"Fit Time (minutes)\",\n",
    "    )\n",
    "    + pn.geom_smooth(method=\"lm\", colour=\"blue\", size=0.25)\n",
    "    + theme_academic\n",
    ")"
   ]
  },
  {
   "cell_type": "markdown",
   "metadata": {},
   "source": [
    "Extrapolation linearly: SARIMAX on hourly data with this configuration will take (minutes):"
   ]
  },
  {
   "cell_type": "code",
   "execution_count": null,
   "metadata": {},
   "outputs": [],
   "source": [
    "df.shape[0] / n_obs_list[-1] * fit_times[-1]"
   ]
  },
  {
   "cell_type": "markdown",
   "metadata": {},
   "source": [
    "## Manually Fitting a Model"
   ]
  },
  {
   "cell_type": "code",
   "execution_count": 52,
   "metadata": {},
   "outputs": [],
   "source": [
    "def validation(model, X_train, X_val, y_train, y_val, verbose=True):\n",
    "    # Validation loop (predict the next 24 hours for the validation period)\n",
    "    X_train_val = pd.concat([X_train, X_val], axis=0)\n",
    "    y_train_val = pd.concat([y_train, y_val], axis=0)\n",
    "\n",
    "    # To prevent function becoming slow due to linearly growing history\n",
    "    max_history_obs = 168 * 2\n",
    "\n",
    "    val_index = X_train.shape[0]\n",
    "    horizon = 24\n",
    "    val_preds = np.array([])\n",
    "\n",
    "    while val_index + horizon <= X_train_val.shape[0]:\n",
    "\n",
    "        y_pred = model.forward(\n",
    "            y=y_train_val[\n",
    "                np.amax([0, val_index - max_history_obs]) : val_index\n",
    "            ].to_numpy(dtype=np.float64),\n",
    "            h=24,\n",
    "            X=X_train_val[\n",
    "                np.amax([0, val_index - max_history_obs]) : val_index\n",
    "            ].to_numpy(dtype=np.float64),\n",
    "            X_future=X_train_val[val_index : val_index + horizon].to_numpy(\n",
    "                dtype=np.float64\n",
    "            ),\n",
    "        )[\"mean\"]\n",
    "\n",
    "        # Append to array\n",
    "        val_preds = np.append(val_preds, y_pred)\n",
    "\n",
    "        # Increment validation index\n",
    "        val_index += horizon\n",
    "\n",
    "        if (val_position := val_index - X_train.shape[0]) % 24 == 0 and verbose:\n",
    "            print(f\"Hour {val_position} of {X_val.shape[0]}\")\n",
    "            clear_output(wait=True)\n",
    "\n",
    "    return np.vstack(val_preds).flatten()"
   ]
  },
  {
   "cell_type": "code",
   "execution_count": 53,
   "metadata": {},
   "outputs": [
    {
     "data": {
      "text/html": [
       "<div>\n",
       "<style scoped>\n",
       "    .dataframe tbody tr th:only-of-type {\n",
       "        vertical-align: middle;\n",
       "    }\n",
       "\n",
       "    .dataframe tbody tr th {\n",
       "        vertical-align: top;\n",
       "    }\n",
       "\n",
       "    .dataframe thead th {\n",
       "        text-align: right;\n",
       "    }\n",
       "</style>\n",
       "<table border=\"1\" class=\"dataframe\">\n",
       "  <thead>\n",
       "    <tr style=\"text-align: right;\">\n",
       "      <th></th>\n",
       "      <th>kWh</th>\n",
       "      <th>Zurich_shortwave_radiation</th>\n",
       "      <th>Zurich_soil_temperature_7_to_28cm</th>\n",
       "      <th>temp_rolling</th>\n",
       "      <th>holiday_name</th>\n",
       "      <th>day_of_month_sin</th>\n",
       "      <th>day_of_month_cos</th>\n",
       "      <th>day_of_year_sin</th>\n",
       "      <th>day_of_year_cos</th>\n",
       "      <th>day_of_week_sin</th>\n",
       "      <th>day_of_week_cos</th>\n",
       "      <th>month_sin</th>\n",
       "      <th>month_cos</th>\n",
       "      <th>hour_sin</th>\n",
       "      <th>hour_cos</th>\n",
       "    </tr>\n",
       "    <tr>\n",
       "      <th>datetime</th>\n",
       "      <th></th>\n",
       "      <th></th>\n",
       "      <th></th>\n",
       "      <th></th>\n",
       "      <th></th>\n",
       "      <th></th>\n",
       "      <th></th>\n",
       "      <th></th>\n",
       "      <th></th>\n",
       "      <th></th>\n",
       "      <th></th>\n",
       "      <th></th>\n",
       "      <th></th>\n",
       "      <th></th>\n",
       "      <th></th>\n",
       "    </tr>\n",
       "  </thead>\n",
       "  <tbody>\n",
       "    <tr>\n",
       "      <th>2021-09-01 00:00:00</th>\n",
       "      <td>5.163270e+06</td>\n",
       "      <td>0.0</td>\n",
       "      <td>16.042000</td>\n",
       "      <td>NaN</td>\n",
       "      <td>no_holiday</td>\n",
       "      <td>0.201299</td>\n",
       "      <td>0.97953</td>\n",
       "      <td>-0.871706</td>\n",
       "      <td>-0.490029</td>\n",
       "      <td>0.433884</td>\n",
       "      <td>-0.900969</td>\n",
       "      <td>-1.0</td>\n",
       "      <td>-1.836970e-16</td>\n",
       "      <td>0.000000</td>\n",
       "      <td>1.000000</td>\n",
       "    </tr>\n",
       "    <tr>\n",
       "      <th>2021-09-01 01:00:00</th>\n",
       "      <td>5.077656e+06</td>\n",
       "      <td>0.0</td>\n",
       "      <td>15.892000</td>\n",
       "      <td>NaN</td>\n",
       "      <td>no_holiday</td>\n",
       "      <td>0.201299</td>\n",
       "      <td>0.97953</td>\n",
       "      <td>-0.871706</td>\n",
       "      <td>-0.490029</td>\n",
       "      <td>0.433884</td>\n",
       "      <td>-0.900969</td>\n",
       "      <td>-1.0</td>\n",
       "      <td>-1.836970e-16</td>\n",
       "      <td>0.258819</td>\n",
       "      <td>0.965926</td>\n",
       "    </tr>\n",
       "    <tr>\n",
       "      <th>2021-09-01 02:00:00</th>\n",
       "      <td>4.931528e+06</td>\n",
       "      <td>0.0</td>\n",
       "      <td>16.042000</td>\n",
       "      <td>NaN</td>\n",
       "      <td>no_holiday</td>\n",
       "      <td>0.201299</td>\n",
       "      <td>0.97953</td>\n",
       "      <td>-0.871706</td>\n",
       "      <td>-0.490029</td>\n",
       "      <td>0.433884</td>\n",
       "      <td>-0.900969</td>\n",
       "      <td>-1.0</td>\n",
       "      <td>-1.836970e-16</td>\n",
       "      <td>0.500000</td>\n",
       "      <td>0.866025</td>\n",
       "    </tr>\n",
       "    <tr>\n",
       "      <th>2021-09-01 03:00:00</th>\n",
       "      <td>4.787832e+06</td>\n",
       "      <td>0.0</td>\n",
       "      <td>15.942000</td>\n",
       "      <td>NaN</td>\n",
       "      <td>no_holiday</td>\n",
       "      <td>0.201299</td>\n",
       "      <td>0.97953</td>\n",
       "      <td>-0.871706</td>\n",
       "      <td>-0.490029</td>\n",
       "      <td>0.433884</td>\n",
       "      <td>-0.900969</td>\n",
       "      <td>-1.0</td>\n",
       "      <td>-1.836970e-16</td>\n",
       "      <td>0.707107</td>\n",
       "      <td>0.707107</td>\n",
       "    </tr>\n",
       "    <tr>\n",
       "      <th>2021-09-01 04:00:00</th>\n",
       "      <td>4.703846e+06</td>\n",
       "      <td>0.0</td>\n",
       "      <td>15.792001</td>\n",
       "      <td>NaN</td>\n",
       "      <td>no_holiday</td>\n",
       "      <td>0.201299</td>\n",
       "      <td>0.97953</td>\n",
       "      <td>-0.871706</td>\n",
       "      <td>-0.490029</td>\n",
       "      <td>0.433884</td>\n",
       "      <td>-0.900969</td>\n",
       "      <td>-1.0</td>\n",
       "      <td>-1.836970e-16</td>\n",
       "      <td>0.866025</td>\n",
       "      <td>0.500000</td>\n",
       "    </tr>\n",
       "  </tbody>\n",
       "</table>\n",
       "</div>"
      ],
      "text/plain": [
       "                              kWh  Zurich_shortwave_radiation  \\\n",
       "datetime                                                        \n",
       "2021-09-01 00:00:00  5.163270e+06                         0.0   \n",
       "2021-09-01 01:00:00  5.077656e+06                         0.0   \n",
       "2021-09-01 02:00:00  4.931528e+06                         0.0   \n",
       "2021-09-01 03:00:00  4.787832e+06                         0.0   \n",
       "2021-09-01 04:00:00  4.703846e+06                         0.0   \n",
       "\n",
       "                     Zurich_soil_temperature_7_to_28cm  temp_rolling  \\\n",
       "datetime                                                               \n",
       "2021-09-01 00:00:00                          16.042000           NaN   \n",
       "2021-09-01 01:00:00                          15.892000           NaN   \n",
       "2021-09-01 02:00:00                          16.042000           NaN   \n",
       "2021-09-01 03:00:00                          15.942000           NaN   \n",
       "2021-09-01 04:00:00                          15.792001           NaN   \n",
       "\n",
       "                    holiday_name  day_of_month_sin  day_of_month_cos  \\\n",
       "datetime                                                               \n",
       "2021-09-01 00:00:00   no_holiday          0.201299           0.97953   \n",
       "2021-09-01 01:00:00   no_holiday          0.201299           0.97953   \n",
       "2021-09-01 02:00:00   no_holiday          0.201299           0.97953   \n",
       "2021-09-01 03:00:00   no_holiday          0.201299           0.97953   \n",
       "2021-09-01 04:00:00   no_holiday          0.201299           0.97953   \n",
       "\n",
       "                     day_of_year_sin  day_of_year_cos  day_of_week_sin  \\\n",
       "datetime                                                                 \n",
       "2021-09-01 00:00:00        -0.871706        -0.490029         0.433884   \n",
       "2021-09-01 01:00:00        -0.871706        -0.490029         0.433884   \n",
       "2021-09-01 02:00:00        -0.871706        -0.490029         0.433884   \n",
       "2021-09-01 03:00:00        -0.871706        -0.490029         0.433884   \n",
       "2021-09-01 04:00:00        -0.871706        -0.490029         0.433884   \n",
       "\n",
       "                     day_of_week_cos  month_sin     month_cos  hour_sin  \\\n",
       "datetime                                                                  \n",
       "2021-09-01 00:00:00        -0.900969       -1.0 -1.836970e-16  0.000000   \n",
       "2021-09-01 01:00:00        -0.900969       -1.0 -1.836970e-16  0.258819   \n",
       "2021-09-01 02:00:00        -0.900969       -1.0 -1.836970e-16  0.500000   \n",
       "2021-09-01 03:00:00        -0.900969       -1.0 -1.836970e-16  0.707107   \n",
       "2021-09-01 04:00:00        -0.900969       -1.0 -1.836970e-16  0.866025   \n",
       "\n",
       "                     hour_cos  \n",
       "datetime                       \n",
       "2021-09-01 00:00:00  1.000000  \n",
       "2021-09-01 01:00:00  0.965926  \n",
       "2021-09-01 02:00:00  0.866025  \n",
       "2021-09-01 03:00:00  0.707107  \n",
       "2021-09-01 04:00:00  0.500000  "
      ]
     },
     "execution_count": 53,
     "metadata": {},
     "output_type": "execute_result"
    }
   ],
   "source": [
    "df_full = (\n",
    "    df.to_pandas()\n",
    "    .assign(\n",
    "        datetime=lambda x: x.datetime.astype(\"datetime64[ns]\"),\n",
    "    )\n",
    "    .set_index(\"datetime\")\n",
    "    .asfreq(\"h\")\n",
    "    .sort_index()\n",
    ")\n",
    "df_full.head()"
   ]
  },
  {
   "cell_type": "code",
   "execution_count": 54,
   "metadata": {},
   "outputs": [],
   "source": [
    "# Go a lot smaller on the data to make computation feasible\n",
    "df_train = df_full[\"2023-06-01\":\"2023-06-30\"]\n",
    "df_val = df_full[\"2023-07-01\":\"2023-07-31\"]"
   ]
  },
  {
   "cell_type": "code",
   "execution_count": 55,
   "metadata": {},
   "outputs": [],
   "source": [
    "X_train = df_train.drop(columns=[\"kWh\"])\n",
    "X_val = df_val.drop(columns=[\"kWh\"])"
   ]
  },
  {
   "cell_type": "code",
   "execution_count": 56,
   "metadata": {},
   "outputs": [],
   "source": [
    "X_train_preprocessed = pd.DataFrame(\n",
    "    preprocessor.fit_transform(X_train),\n",
    "    columns=preprocessor.get_feature_names_out(),\n",
    ")\n",
    "\n",
    "X_val_preprocessed = pd.DataFrame(\n",
    "    preprocessor.transform(X_val),\n",
    "    columns=preprocessor.get_feature_names_out(),\n",
    ")\n",
    "\n",
    "y_train = df_train[\"kWh\"]\n",
    "y_val = df_val[\"kWh\"]"
   ]
  },
  {
   "cell_type": "code",
   "execution_count": null,
   "metadata": {},
   "outputs": [],
   "source": [
    "model = ARIMA(\n",
    "    order=(1, 1, 1),\n",
    "    season_length=168,\n",
    "    seasonal_order=(1, 1, 1),\n",
    "    # include_drift=True\n",
    ")\n",
    "\n",
    "model = model.fit(\n",
    "    y=y_train.to_numpy(dtype=np.float64),\n",
    "    X=X_train_preprocessed.to_numpy(dtype=np.float64),\n",
    ")"
   ]
  },
  {
   "cell_type": "code",
   "execution_count": null,
   "metadata": {},
   "outputs": [],
   "source": [
    "# this is the setup to predict one day into the future\n",
    "# without refitting the model\n",
    "\n",
    "y_preds = model.forward(\n",
    "    y=y_train.to_numpy(dtype=np.float64),\n",
    "    h=24,\n",
    "    X=X_train_preprocessed.to_numpy(dtype=np.float64),\n",
    "    X_future=X_val_preprocessed.head(24).to_numpy(dtype=np.float64),\n",
    ")[\"mean\"]\n",
    "\n",
    "y_preds"
   ]
  },
  {
   "cell_type": "code",
   "execution_count": null,
   "metadata": {},
   "outputs": [],
   "source": [
    "y_pred = validation(\n",
    "    model=model,\n",
    "    X_train=X_train_preprocessed,\n",
    "    X_val=X_val_preprocessed,\n",
    "    y_train=y_train,\n",
    "    y_val=y_val,\n",
    ")\n",
    "\n",
    "\n",
    "preds_168 = pd.DataFrame(\n",
    "    {\n",
    "        \"pred\": y_pred,\n",
    "        \"kWh\": y_val,\n",
    "    }\n",
    ")"
   ]
  },
  {
   "cell_type": "code",
   "execution_count": null,
   "metadata": {},
   "outputs": [],
   "source": [
    "# Create the figure with step lines for both actual and predicted values\n",
    "fig = px.line(\n",
    "    preds_168.reset_index(),\n",
    "    x=\"datetime\",\n",
    "    y=[\"kWh\", \"pred\"],\n",
    "    labels={\n",
    "        \"datetime\": \"Date\",\n",
    "        \"value\": \"Energy Consumption (kWh)\",\n",
    "        \"variable\": \"Series\",\n",
    "    },\n",
    "    title=\"Actual vs Predicted Energy Consumption Over Time\",\n",
    "    line_shape=\"hv\",  # Set line shape to horizontal-vertical for step chart\n",
    ")\n",
    "\n",
    "# Customize the layout\n",
    "fig.update_layout(\n",
    "    template=\"plotly_white\",\n",
    "    legend=dict(title=\"\"),\n",
    "    xaxis_title=\"Date\",\n",
    "    yaxis_title=\"Energy Consumption (kWh)\",\n",
    ")\n",
    "\n",
    "# Show the figure\n",
    "fig.show()"
   ]
  },
  {
   "cell_type": "code",
   "execution_count": null,
   "metadata": {},
   "outputs": [],
   "source": [
    "model = ARIMA(\n",
    "    order=(1, 1, 1),\n",
    "    season_length=24,\n",
    "    seasonal_order=(1, 1, 1),\n",
    "    # include_drift=True\n",
    ")\n",
    "\n",
    "model = model.fit(\n",
    "    y=y_train.to_numpy(dtype=np.float64),\n",
    "    X=X_train_preprocessed.to_numpy(dtype=np.float64),\n",
    ")"
   ]
  },
  {
   "cell_type": "code",
   "execution_count": null,
   "metadata": {},
   "outputs": [],
   "source": [
    "y_pred = validation(\n",
    "    model=model,\n",
    "    X_train=X_train_preprocessed,\n",
    "    X_val=X_val_preprocessed,\n",
    "    y_train=y_train,\n",
    "    y_val=y_val,\n",
    ")\n",
    "\n",
    "\n",
    "preds_24 = pd.DataFrame(\n",
    "    {\n",
    "        \"pred\": y_pred,\n",
    "        \"kWh\": y_val,\n",
    "    }\n",
    ")"
   ]
  },
  {
   "cell_type": "code",
   "execution_count": null,
   "metadata": {},
   "outputs": [],
   "source": [
    "# Create the figure with step lines for both actual and predicted values\n",
    "fig = px.line(\n",
    "    preds_24.reset_index(),\n",
    "    x=\"datetime\",\n",
    "    y=[\"kWh\", \"pred\"],\n",
    "    labels={\n",
    "        \"datetime\": \"Date\",\n",
    "        \"value\": \"Energy Consumption (kWh)\",\n",
    "        \"variable\": \"Series\",\n",
    "    },\n",
    "    title=\"Actual vs Predicted Energy Consumption Over Time\",\n",
    "    line_shape=\"hv\",  # Set line shape to horizontal-vertical for step chart\n",
    ")\n",
    "\n",
    "# Customize the layout\n",
    "fig.update_layout(\n",
    "    template=\"plotly_white\",\n",
    "    legend=dict(title=\"\"),\n",
    "    xaxis_title=\"Date\",\n",
    "    yaxis_title=\"Energy Consumption (kWh)\",\n",
    ")\n",
    "\n",
    "# Show the figure\n",
    "fig.show()"
   ]
  },
  {
   "cell_type": "code",
   "execution_count": null,
   "metadata": {},
   "outputs": [],
   "source": [
    "pd.concat(\n",
    "    [\n",
    "        preds_168.assign(seasonality=168).reset_index(),\n",
    "        preds_24.assign(seasonality=24).reset_index(),\n",
    "    ],\n",
    "    axis=0,\n",
    ").to_csv(\"3_SARIMAX_seasonality_24_168_comparison.csv\", index=False)"
   ]
  },
  {
   "cell_type": "code",
   "execution_count": null,
   "metadata": {},
   "outputs": [],
   "source": [
    "plot_width = 7\n",
    "plot_height = 3\n",
    "\n",
    "fig = (\n",
    "    pn.ggplot(\n",
    "        data=(\n",
    "            pd.read_csv(\n",
    "                \"3_SARIMAX_seasonality_24_168_comparison.csv\", parse_dates=[\"datetime\"]\n",
    "            )\n",
    "            .melt(id_vars=[\"datetime\", \"seasonality\"])\n",
    "            .assign(\n",
    "                seasonality=lambda x: pd.Categorical(\n",
    "                    np.where(x[\"seasonality\"] == 168, \"s=168\", \"s=24\"),\n",
    "                    categories=[\"s=24\", \"s=168\"],\n",
    "                    ordered=True,\n",
    "                ),\n",
    "                variable=lambda x: np.where(\n",
    "                    x[\"variable\"] == \"pred\", \"Prediction\", \"Actual\"\n",
    "                ),\n",
    "            )\n",
    "        ),\n",
    "        mapping=pn.aes(\"datetime\", \"value\", colour=\"variable\"),\n",
    "    )\n",
    "    + pn.geom_step()\n",
    "    + pn.labs(y=\"kWh\")\n",
    "    + pn.facet_wrap(\"~ seasonality\", ncol=1)\n",
    "    + pn.scale_colour_manual(values=jama_colour)\n",
    "    + pn.scale_x_datetime(date_breaks=\"1 week\")\n",
    "    + pn.scale_y_continuous(labels=comma_format())\n",
    "    + theme_academic\n",
    "    + pn.theme(\n",
    "        figure_size=(plot_width, plot_height),\n",
    "        axis_title_x=pn.element_blank(),\n",
    "        legend_title=pn.element_blank(),\n",
    "    )\n",
    ")\n",
    "\n",
    "display(fig)\n",
    "fig.save(\n",
    "    filename=\"../1_figures/sarimax_seasonality_24_vs_168.pdf\",\n",
    "    width=plot_width,\n",
    "    height=plot_height,\n",
    "    dpi=300,\n",
    ")"
   ]
  },
  {
   "cell_type": "markdown",
   "metadata": {},
   "source": [
    "## AutoARIMA\n",
    "\n",
    "Use information criterion to select the model."
   ]
  },
  {
   "cell_type": "code",
   "execution_count": 27,
   "metadata": {},
   "outputs": [
    {
     "data": {
      "text/html": [
       "<div>\n",
       "<style scoped>\n",
       "    .dataframe tbody tr th:only-of-type {\n",
       "        vertical-align: middle;\n",
       "    }\n",
       "\n",
       "    .dataframe tbody tr th {\n",
       "        vertical-align: top;\n",
       "    }\n",
       "\n",
       "    .dataframe thead th {\n",
       "        text-align: right;\n",
       "    }\n",
       "</style>\n",
       "<table border=\"1\" class=\"dataframe\">\n",
       "  <thead>\n",
       "    <tr style=\"text-align: right;\">\n",
       "      <th></th>\n",
       "      <th>kWh</th>\n",
       "      <th>Zurich_shortwave_radiation</th>\n",
       "      <th>Zurich_soil_temperature_7_to_28cm</th>\n",
       "      <th>temp_rolling</th>\n",
       "      <th>holiday_name</th>\n",
       "      <th>day_of_month_sin</th>\n",
       "      <th>day_of_month_cos</th>\n",
       "      <th>day_of_year_sin</th>\n",
       "      <th>day_of_year_cos</th>\n",
       "      <th>day_of_week_sin</th>\n",
       "      <th>day_of_week_cos</th>\n",
       "      <th>month_sin</th>\n",
       "      <th>month_cos</th>\n",
       "      <th>hour_sin</th>\n",
       "      <th>hour_cos</th>\n",
       "    </tr>\n",
       "    <tr>\n",
       "      <th>datetime</th>\n",
       "      <th></th>\n",
       "      <th></th>\n",
       "      <th></th>\n",
       "      <th></th>\n",
       "      <th></th>\n",
       "      <th></th>\n",
       "      <th></th>\n",
       "      <th></th>\n",
       "      <th></th>\n",
       "      <th></th>\n",
       "      <th></th>\n",
       "      <th></th>\n",
       "      <th></th>\n",
       "      <th></th>\n",
       "      <th></th>\n",
       "    </tr>\n",
       "  </thead>\n",
       "  <tbody>\n",
       "    <tr>\n",
       "      <th>2021-09-01 00:00:00</th>\n",
       "      <td>5.163270e+06</td>\n",
       "      <td>0.0</td>\n",
       "      <td>16.042000</td>\n",
       "      <td>NaN</td>\n",
       "      <td>no_holiday</td>\n",
       "      <td>0.201299</td>\n",
       "      <td>0.97953</td>\n",
       "      <td>-0.871706</td>\n",
       "      <td>-0.490029</td>\n",
       "      <td>0.433884</td>\n",
       "      <td>-0.900969</td>\n",
       "      <td>-1.0</td>\n",
       "      <td>-1.836970e-16</td>\n",
       "      <td>0.000000</td>\n",
       "      <td>1.000000</td>\n",
       "    </tr>\n",
       "    <tr>\n",
       "      <th>2021-09-01 01:00:00</th>\n",
       "      <td>5.077656e+06</td>\n",
       "      <td>0.0</td>\n",
       "      <td>15.892000</td>\n",
       "      <td>NaN</td>\n",
       "      <td>no_holiday</td>\n",
       "      <td>0.201299</td>\n",
       "      <td>0.97953</td>\n",
       "      <td>-0.871706</td>\n",
       "      <td>-0.490029</td>\n",
       "      <td>0.433884</td>\n",
       "      <td>-0.900969</td>\n",
       "      <td>-1.0</td>\n",
       "      <td>-1.836970e-16</td>\n",
       "      <td>0.258819</td>\n",
       "      <td>0.965926</td>\n",
       "    </tr>\n",
       "    <tr>\n",
       "      <th>2021-09-01 02:00:00</th>\n",
       "      <td>4.931528e+06</td>\n",
       "      <td>0.0</td>\n",
       "      <td>16.042000</td>\n",
       "      <td>NaN</td>\n",
       "      <td>no_holiday</td>\n",
       "      <td>0.201299</td>\n",
       "      <td>0.97953</td>\n",
       "      <td>-0.871706</td>\n",
       "      <td>-0.490029</td>\n",
       "      <td>0.433884</td>\n",
       "      <td>-0.900969</td>\n",
       "      <td>-1.0</td>\n",
       "      <td>-1.836970e-16</td>\n",
       "      <td>0.500000</td>\n",
       "      <td>0.866025</td>\n",
       "    </tr>\n",
       "    <tr>\n",
       "      <th>2021-09-01 03:00:00</th>\n",
       "      <td>4.787832e+06</td>\n",
       "      <td>0.0</td>\n",
       "      <td>15.942000</td>\n",
       "      <td>NaN</td>\n",
       "      <td>no_holiday</td>\n",
       "      <td>0.201299</td>\n",
       "      <td>0.97953</td>\n",
       "      <td>-0.871706</td>\n",
       "      <td>-0.490029</td>\n",
       "      <td>0.433884</td>\n",
       "      <td>-0.900969</td>\n",
       "      <td>-1.0</td>\n",
       "      <td>-1.836970e-16</td>\n",
       "      <td>0.707107</td>\n",
       "      <td>0.707107</td>\n",
       "    </tr>\n",
       "    <tr>\n",
       "      <th>2021-09-01 04:00:00</th>\n",
       "      <td>4.703846e+06</td>\n",
       "      <td>0.0</td>\n",
       "      <td>15.792001</td>\n",
       "      <td>NaN</td>\n",
       "      <td>no_holiday</td>\n",
       "      <td>0.201299</td>\n",
       "      <td>0.97953</td>\n",
       "      <td>-0.871706</td>\n",
       "      <td>-0.490029</td>\n",
       "      <td>0.433884</td>\n",
       "      <td>-0.900969</td>\n",
       "      <td>-1.0</td>\n",
       "      <td>-1.836970e-16</td>\n",
       "      <td>0.866025</td>\n",
       "      <td>0.500000</td>\n",
       "    </tr>\n",
       "  </tbody>\n",
       "</table>\n",
       "</div>"
      ],
      "text/plain": [
       "                              kWh  Zurich_shortwave_radiation  \\\n",
       "datetime                                                        \n",
       "2021-09-01 00:00:00  5.163270e+06                         0.0   \n",
       "2021-09-01 01:00:00  5.077656e+06                         0.0   \n",
       "2021-09-01 02:00:00  4.931528e+06                         0.0   \n",
       "2021-09-01 03:00:00  4.787832e+06                         0.0   \n",
       "2021-09-01 04:00:00  4.703846e+06                         0.0   \n",
       "\n",
       "                     Zurich_soil_temperature_7_to_28cm  temp_rolling  \\\n",
       "datetime                                                               \n",
       "2021-09-01 00:00:00                          16.042000           NaN   \n",
       "2021-09-01 01:00:00                          15.892000           NaN   \n",
       "2021-09-01 02:00:00                          16.042000           NaN   \n",
       "2021-09-01 03:00:00                          15.942000           NaN   \n",
       "2021-09-01 04:00:00                          15.792001           NaN   \n",
       "\n",
       "                    holiday_name  day_of_month_sin  day_of_month_cos  \\\n",
       "datetime                                                               \n",
       "2021-09-01 00:00:00   no_holiday          0.201299           0.97953   \n",
       "2021-09-01 01:00:00   no_holiday          0.201299           0.97953   \n",
       "2021-09-01 02:00:00   no_holiday          0.201299           0.97953   \n",
       "2021-09-01 03:00:00   no_holiday          0.201299           0.97953   \n",
       "2021-09-01 04:00:00   no_holiday          0.201299           0.97953   \n",
       "\n",
       "                     day_of_year_sin  day_of_year_cos  day_of_week_sin  \\\n",
       "datetime                                                                 \n",
       "2021-09-01 00:00:00        -0.871706        -0.490029         0.433884   \n",
       "2021-09-01 01:00:00        -0.871706        -0.490029         0.433884   \n",
       "2021-09-01 02:00:00        -0.871706        -0.490029         0.433884   \n",
       "2021-09-01 03:00:00        -0.871706        -0.490029         0.433884   \n",
       "2021-09-01 04:00:00        -0.871706        -0.490029         0.433884   \n",
       "\n",
       "                     day_of_week_cos  month_sin     month_cos  hour_sin  \\\n",
       "datetime                                                                  \n",
       "2021-09-01 00:00:00        -0.900969       -1.0 -1.836970e-16  0.000000   \n",
       "2021-09-01 01:00:00        -0.900969       -1.0 -1.836970e-16  0.258819   \n",
       "2021-09-01 02:00:00        -0.900969       -1.0 -1.836970e-16  0.500000   \n",
       "2021-09-01 03:00:00        -0.900969       -1.0 -1.836970e-16  0.707107   \n",
       "2021-09-01 04:00:00        -0.900969       -1.0 -1.836970e-16  0.866025   \n",
       "\n",
       "                     hour_cos  \n",
       "datetime                       \n",
       "2021-09-01 00:00:00  1.000000  \n",
       "2021-09-01 01:00:00  0.965926  \n",
       "2021-09-01 02:00:00  0.866025  \n",
       "2021-09-01 03:00:00  0.707107  \n",
       "2021-09-01 04:00:00  0.500000  "
      ]
     },
     "execution_count": 27,
     "metadata": {},
     "output_type": "execute_result"
    }
   ],
   "source": [
    "df_full = (\n",
    "    df.to_pandas()\n",
    "    .assign(datetime=lambda x: x.datetime.astype(\"datetime64[ns]\"))\n",
    "    .set_index(\"datetime\")\n",
    "    .asfreq(\"h\")\n",
    "    .sort_index()\n",
    ")\n",
    "df_full.head()"
   ]
  },
  {
   "cell_type": "code",
   "execution_count": 28,
   "metadata": {},
   "outputs": [],
   "source": [
    "df_train = df_full[:\"2023-08-31\"]"
   ]
  },
  {
   "cell_type": "code",
   "execution_count": 29,
   "metadata": {},
   "outputs": [],
   "source": [
    "X_train = df_train.drop(columns=[\"kWh\"])"
   ]
  },
  {
   "cell_type": "code",
   "execution_count": 30,
   "metadata": {},
   "outputs": [],
   "source": [
    "X_train_preprocessed = pd.DataFrame(\n",
    "    preprocessor.fit_transform(X_train),\n",
    "    columns=preprocessor.get_feature_names_out(),\n",
    ")\n",
    "\n",
    "y_train = df_train[\"kWh\"]"
   ]
  },
  {
   "cell_type": "code",
   "execution_count": 31,
   "metadata": {},
   "outputs": [],
   "source": [
    "%%capture\n",
    "model = AutoARIMA(\n",
    "    d=1,\n",
    "    D=1,\n",
    "    max_p=24,\n",
    "    max_q=24,\n",
    "    max_P=1,\n",
    "    max_Q=1,\n",
    "    stepwise=True,\n",
    "    approximation=True,\n",
    "    trace=True,\n",
    "    season_length=168,\n",
    ")\n",
    "\n",
    "model = model.fit(\n",
    "    y=y_train.to_numpy(dtype=np.float64),\n",
    "    X=X_train_preprocessed.to_numpy(dtype=np.float64),\n",
    ")"
   ]
  },
  {
   "cell_type": "code",
   "execution_count": 32,
   "metadata": {},
   "outputs": [],
   "source": [
    "# Save the entire model object\n",
    "with open(\"autoarima_model.pkl\", \"wb\") as f:\n",
    "    pickle.dump(model.model_, f)"
   ]
  },
  {
   "cell_type": "markdown",
   "metadata": {},
   "source": [
    "## Manual Validation for Order Selection\n",
    "\n",
    "Repeat the same as manual fit (train/val split), but do order selection via fitting all order and selecting the best one (for p,q,P,Q) separately."
   ]
  },
  {
   "cell_type": "code",
   "execution_count": 33,
   "metadata": {},
   "outputs": [],
   "source": [
    "df_full = (\n",
    "    df.to_pandas()\n",
    "    .assign(datetime=lambda x: x.datetime.astype(\"datetime64[ns]\"))\n",
    "    .set_index(\"datetime\")\n",
    "    .asfreq(\"h\")\n",
    "    .sort_index()\n",
    ")"
   ]
  },
  {
   "cell_type": "code",
   "execution_count": 34,
   "metadata": {},
   "outputs": [],
   "source": [
    "# Go a lot smaller on the data to make computation feasible\n",
    "df_train = df_full[\"2023-06-01\":\"2023-06-30\"]\n",
    "df_val = df_full[\"2023-07-01\":\"2023-07-31\"]"
   ]
  },
  {
   "cell_type": "code",
   "execution_count": 35,
   "metadata": {},
   "outputs": [],
   "source": [
    "X_train = df_train.drop(columns=[\"kWh\"])\n",
    "X_val = df_val.drop(columns=[\"kWh\"])"
   ]
  },
  {
   "cell_type": "code",
   "execution_count": 36,
   "metadata": {},
   "outputs": [],
   "source": [
    "X_train_preprocessed = pd.DataFrame(\n",
    "    preprocessor.fit_transform(X_train),\n",
    "    columns=preprocessor.get_feature_names_out(),\n",
    ")\n",
    "\n",
    "X_val_preprocessed = pd.DataFrame(\n",
    "    preprocessor.transform(X_val),\n",
    "    columns=preprocessor.get_feature_names_out(),\n",
    ")\n",
    "\n",
    "y_train = df_train[\"kWh\"]\n",
    "y_val = df_val[\"kWh\"]"
   ]
  },
  {
   "cell_type": "code",
   "execution_count": null,
   "metadata": {},
   "outputs": [],
   "source": [
    "p_search_space = np.arange(0, 24 + 1)\n",
    "q_search_space = np.arange(0, 24 + 1)\n",
    "P_search_space = np.arange(0, 1 + 1)\n",
    "Q_search_space = np.arange(0, 1 + 1)\n",
    "\n",
    "param_search_spaces = {\n",
    "    \"p\": p_search_space,\n",
    "    \"q\": q_search_space,\n",
    "    \"P\": P_search_space,\n",
    "    \"Q\": Q_search_space,\n",
    "}\n",
    "\n",
    "y_preds_val = []\n",
    "\n",
    "for param, search_space in param_search_spaces.items():\n",
    "\n",
    "    for param_value in tqdm(search_space):\n",
    "\n",
    "        current_model_config = {\"p\": 0, \"q\": 0, \"P\": 0, \"Q\": 0}\n",
    "        current_model_config[param] = int(param_value)\n",
    "\n",
    "        model = ARIMA(\n",
    "            order=(current_model_config[\"p\"], 1, current_model_config[\"q\"]),\n",
    "            season_length=168,\n",
    "            seasonal_order=(current_model_config[\"P\"], 1, current_model_config[\"Q\"]),\n",
    "        )\n",
    "\n",
    "        # Fit the model on the training data\n",
    "        model = model.fit(\n",
    "            y=y_train.to_numpy(dtype=np.float64),\n",
    "            X=X_train_preprocessed.to_numpy(dtype=np.float64),\n",
    "        )\n",
    "\n",
    "        # Validate the model performance\n",
    "        y_pred = validation(\n",
    "            model=model,\n",
    "            X_train=X_train_preprocessed,\n",
    "            X_val=X_val_preprocessed,\n",
    "            y_train=y_train,\n",
    "            y_val=y_val,\n",
    "            verbose=False,\n",
    "        )\n",
    "\n",
    "        y_pred = pd.DataFrame(\n",
    "            {\n",
    "                \"pred\": y_pred,\n",
    "                \"kWh\": y_val,\n",
    "            }\n",
    "        ).assign(\n",
    "            p=current_model_config[\"p\"],\n",
    "            q=current_model_config[\"q\"],\n",
    "            P=current_model_config[\"P\"],\n",
    "            Q=current_model_config[\"Q\"],\n",
    "        )\n",
    "\n",
    "        y_preds_val.append(y_pred)"
   ]
  },
  {
   "cell_type": "code",
   "execution_count": null,
   "metadata": {},
   "outputs": [],
   "source": [
    "pd.concat(y_preds_val).to_csv(\"3_SARIMAX_manual_order_selection.csv\", index=False)"
   ]
  },
  {
   "cell_type": "code",
   "execution_count": null,
   "metadata": {},
   "outputs": [],
   "source": [
    "plot_width = 7\n",
    "plot_height = 3\n",
    "\n",
    "fig = (\n",
    "    pn.ggplot(\n",
    "        data=(\n",
    "            pl.read_csv(\"3_SARIMAX_manual_order_selection.csv\")\n",
    "            .group_by([\"p\", \"q\", \"P\", \"Q\"])\n",
    "            .agg(loss=(pl.col(\"pred\") - pl.col(\"kWh\")).pow(2).mean().sqrt())\n",
    "            .unpivot(index=\"loss\")\n",
    "            .filter(pl.col(\"value\") > 0)\n",
    "            .filter(pl.col(\"variable\").is_in([\"p\", \"q\"]))\n",
    "        ),\n",
    "        mapping=pn.aes(\"value\", \"loss\"),\n",
    "    )\n",
    "    + pn.geom_point()\n",
    "    + pn.facet_wrap(\"~ variable\")\n",
    "    + pn.labs(y=\"RMSE\", x=\"Order\")\n",
    "    + pn.scale_y_continuous(labels=comma_format())\n",
    "    + theme_academic\n",
    "    + pn.theme(figure_size=(plot_width, plot_height), legend_position=\"bottom\")\n",
    ")\n",
    "\n",
    "display(fig)\n",
    "fig.save(\n",
    "    filename=\"../1_figures/order_selection_manual_p_and_q.pdf\",\n",
    "    width=plot_width,\n",
    "    height=plot_height,\n",
    "    dpi=300,\n",
    ")"
   ]
  },
  {
   "cell_type": "markdown",
   "metadata": {},
   "source": [
    "## RayTune Tuning Setup\n",
    "\n",
    "Repeat the same as manual fit (train/val split), but do order selection via OptunaSearch"
   ]
  },
  {
   "cell_type": "code",
   "execution_count": 57,
   "metadata": {},
   "outputs": [],
   "source": [
    "df_full = (\n",
    "    df.to_pandas()\n",
    "    .assign(datetime=lambda x: x.datetime.astype(\"datetime64[ns]\"))\n",
    "    .set_index(\"datetime\")\n",
    "    .asfreq(\"h\")\n",
    "    .sort_index()\n",
    ")"
   ]
  },
  {
   "cell_type": "code",
   "execution_count": 58,
   "metadata": {},
   "outputs": [],
   "source": [
    "# Go a lot smaller on the data to make computation feasible\n",
    "df_train = df_full[\"2023-06-01\":\"2023-06-30\"]\n",
    "df_val = df_full[\"2023-07-01\":\"2023-07-31\"]"
   ]
  },
  {
   "cell_type": "code",
   "execution_count": 59,
   "metadata": {},
   "outputs": [],
   "source": [
    "X_train = df_train.drop(columns=[\"kWh\"])\n",
    "X_val = df_val.drop(columns=[\"kWh\"])"
   ]
  },
  {
   "cell_type": "code",
   "execution_count": 60,
   "metadata": {},
   "outputs": [],
   "source": [
    "X_train_preprocessed = pd.DataFrame(\n",
    "    preprocessor.fit_transform(X_train),\n",
    "    columns=preprocessor.get_feature_names_out(),\n",
    ")\n",
    "\n",
    "X_val_preprocessed = pd.DataFrame(\n",
    "    preprocessor.transform(X_val),\n",
    "    columns=preprocessor.get_feature_names_out(),\n",
    ")\n",
    "\n",
    "y_train = df_train[\"kWh\"]\n",
    "y_val = df_val[\"kWh\"]"
   ]
  },
  {
   "cell_type": "code",
   "execution_count": 41,
   "metadata": {},
   "outputs": [],
   "source": [
    "def sarimax_trainable(config, df_train, df_val):\n",
    "\n",
    "    try:\n",
    "        # Initialize the ARIMA model with the given configuration\n",
    "        model = ARIMA(\n",
    "            order=(config[\"p\"], config[\"d\"], config[\"q\"]),\n",
    "            season_length=168,\n",
    "            seasonal_order=(config[\"P\"], config[\"D\"], config[\"Q\"]),\n",
    "        )\n",
    "\n",
    "        # Fit the model on the training data\n",
    "        model = model.fit(\n",
    "            y=y_train.to_numpy(dtype=np.float64),\n",
    "            X=X_train_preprocessed.to_numpy(dtype=np.float64),\n",
    "        )\n",
    "\n",
    "        y_pred = validation(\n",
    "            model=model,\n",
    "            X_train=X_train_preprocessed,\n",
    "            X_val=X_val_preprocessed,\n",
    "            y_train=y_train,\n",
    "            y_val=y_val,\n",
    "            verbose=False,\n",
    "        )\n",
    "\n",
    "        y_preds_val = pd.DataFrame(\n",
    "            {\n",
    "                \"pred\": y_pred,\n",
    "                \"kWh\": y_val,\n",
    "            }\n",
    "        )\n",
    "        loss = root_mean_squared_error(\n",
    "            y_pred=y_preds_val[\"pred\"], y_true=y_preds_val[\"kWh\"]\n",
    "        )\n",
    "        train.report({\"loss\": loss})\n",
    "\n",
    "    except Exception as e:\n",
    "        print(f\"An error occurred: {e}\")  # Print error message for debugging\n",
    "        train.report({\"loss\": float(\"inf\")})"
   ]
  },
  {
   "cell_type": "code",
   "execution_count": 42,
   "metadata": {},
   "outputs": [
    {
     "name": "stderr",
     "output_type": "stream",
     "text": [
      "2024-12-03 01:30:28,768\tINFO worker.py:1816 -- Started a local Ray instance.\n",
      "2024-12-03 01:30:32,522\tINFO tune.py:253 -- Initializing Ray automatically. For cluster usage or custom Ray initialization, call `ray.init(...)` before `tune.run(...)`.\n",
      "2024-12-03 01:30:32,526\tINFO tune.py:616 -- [output] This uses the legacy output and progress reporter, as Jupyter notebooks are not supported by the new engine, yet. For more information, please see https://github.com/ray-project/ray/issues/36949\n",
      "[I 2024-12-03 01:30:32,538] A new study created in memory with name: optuna\n"
     ]
    },
    {
     "data": {
      "text/html": [
       "<div class=\"tuneStatus\">\n",
       "  <div style=\"display: flex;flex-direction: row\">\n",
       "    <div style=\"display: flex;flex-direction: column;\">\n",
       "      <h3>Tune Status</h3>\n",
       "      <table>\n",
       "<tbody>\n",
       "<tr><td>Current time:</td><td>2024-12-03 07:30:35</td></tr>\n",
       "<tr><td>Running for: </td><td>06:00:00.53        </td></tr>\n",
       "<tr><td>Memory:      </td><td>19.0/31.6 GiB      </td></tr>\n",
       "</tbody>\n",
       "</table>\n",
       "    </div>\n",
       "    <div class=\"vDivider\"></div>\n",
       "    <div class=\"systemInfo\">\n",
       "      <h3>System Info</h3>\n",
       "      Using FIFO scheduling algorithm.<br>Logical resource usage: 8.0/28 CPUs, 0/1 GPUs (0.0/1.0 accelerator_type:RTX)\n",
       "    </div>\n",
       "    \n",
       "  </div>\n",
       "  <div class=\"hDivider\"></div>\n",
       "  <div class=\"trialStatus\">\n",
       "    <h3>Trial Status</h3>\n",
       "    <table>\n",
       "<thead>\n",
       "<tr><th>Trial name                </th><th>status    </th><th>loc            </th><th style=\"text-align: right;\">  P</th><th style=\"text-align: right;\">  Q</th><th style=\"text-align: right;\">  p</th><th style=\"text-align: right;\">  q</th><th style=\"text-align: right;\">  iter</th><th style=\"text-align: right;\">  total time (s)</th><th style=\"text-align: right;\">  loss</th></tr>\n",
       "</thead>\n",
       "<tbody>\n",
       "<tr><td>sarimax_trainable_6b220309</td><td>TERMINATED</td><td>127.0.0.1:38176</td><td style=\"text-align: right;\">  0</td><td style=\"text-align: right;\">  0</td><td style=\"text-align: right;\"> 20</td><td style=\"text-align: right;\">  4</td><td style=\"text-align: right;\">     1</td><td style=\"text-align: right;\">         7.40889</td><td style=\"text-align: right;\">   inf</td></tr>\n",
       "<tr><td>sarimax_trainable_f9247897</td><td>TERMINATED</td><td>127.0.0.1:34320</td><td style=\"text-align: right;\">  1</td><td style=\"text-align: right;\">  1</td><td style=\"text-align: right;\"> 22</td><td style=\"text-align: right;\"> 24</td><td style=\"text-align: right;\">     1</td><td style=\"text-align: right;\">     10946.1    </td><td style=\"text-align: right;\">   inf</td></tr>\n",
       "<tr><td>sarimax_trainable_3174d26f</td><td>TERMINATED</td><td>127.0.0.1:7264 </td><td style=\"text-align: right;\">  0</td><td style=\"text-align: right;\">  1</td><td style=\"text-align: right;\"> 13</td><td style=\"text-align: right;\"> 10</td><td style=\"text-align: right;\">     1</td><td style=\"text-align: right;\">      1162.15   </td><td style=\"text-align: right;\">   inf</td></tr>\n",
       "<tr><td>sarimax_trainable_25e9ecf9</td><td>TERMINATED</td><td>127.0.0.1:3860 </td><td style=\"text-align: right;\">  0</td><td style=\"text-align: right;\">  1</td><td style=\"text-align: right;\"> 19</td><td style=\"text-align: right;\">  3</td><td style=\"text-align: right;\">     1</td><td style=\"text-align: right;\">      1132.79   </td><td style=\"text-align: right;\">   inf</td></tr>\n",
       "<tr><td>sarimax_trainable_b8110563</td><td>TERMINATED</td><td>127.0.0.1:26316</td><td style=\"text-align: right;\">  1</td><td style=\"text-align: right;\">  0</td><td style=\"text-align: right;\"> 20</td><td style=\"text-align: right;\">  5</td><td style=\"text-align: right;\">     1</td><td style=\"text-align: right;\">        59.1372 </td><td style=\"text-align: right;\">   inf</td></tr>\n",
       "<tr><td>sarimax_trainable_c5e1add8</td><td>TERMINATED</td><td>127.0.0.1:34828</td><td style=\"text-align: right;\">  1</td><td style=\"text-align: right;\">  1</td><td style=\"text-align: right;\"> 22</td><td style=\"text-align: right;\"> 23</td><td style=\"text-align: right;\">     1</td><td style=\"text-align: right;\">     10745.4    </td><td style=\"text-align: right;\">   inf</td></tr>\n",
       "<tr><td>sarimax_trainable_1c312b37</td><td>TERMINATED</td><td>127.0.0.1:42484</td><td style=\"text-align: right;\">  1</td><td style=\"text-align: right;\">  0</td><td style=\"text-align: right;\">  3</td><td style=\"text-align: right;\"> 21</td><td style=\"text-align: right;\">     1</td><td style=\"text-align: right;\">        42.9402 </td><td style=\"text-align: right;\">   inf</td></tr>\n",
       "<tr><td>sarimax_trainable_52264b5a</td><td>TERMINATED</td><td>127.0.0.1:33452</td><td style=\"text-align: right;\">  0</td><td style=\"text-align: right;\">  1</td><td style=\"text-align: right;\"> 19</td><td style=\"text-align: right;\"> 11</td><td style=\"text-align: right;\">     1</td><td style=\"text-align: right;\">      1419.52   </td><td style=\"text-align: right;\">   inf</td></tr>\n",
       "<tr><td>sarimax_trainable_948937b6</td><td>TERMINATED</td><td>127.0.0.1:31440</td><td style=\"text-align: right;\">  0</td><td style=\"text-align: right;\">  0</td><td style=\"text-align: right;\"> 17</td><td style=\"text-align: right;\"> 20</td><td style=\"text-align: right;\">     1</td><td style=\"text-align: right;\">        98.5619 </td><td style=\"text-align: right;\">   inf</td></tr>\n",
       "<tr><td>sarimax_trainable_f031d0c5</td><td>TERMINATED</td><td>127.0.0.1:5052 </td><td style=\"text-align: right;\">  0</td><td style=\"text-align: right;\">  0</td><td style=\"text-align: right;\"> 17</td><td style=\"text-align: right;\"> 13</td><td style=\"text-align: right;\">     1</td><td style=\"text-align: right;\">        79.9519 </td><td style=\"text-align: right;\">   inf</td></tr>\n",
       "<tr><td>sarimax_trainable_c1eb8df6</td><td>TERMINATED</td><td>127.0.0.1:44416</td><td style=\"text-align: right;\">  0</td><td style=\"text-align: right;\">  1</td><td style=\"text-align: right;\"> 24</td><td style=\"text-align: right;\"> 19</td><td style=\"text-align: right;\">     1</td><td style=\"text-align: right;\">      2495.12   </td><td style=\"text-align: right;\">   inf</td></tr>\n",
       "<tr><td>sarimax_trainable_1fe40d90</td><td>TERMINATED</td><td>127.0.0.1:17576</td><td style=\"text-align: right;\">  1</td><td style=\"text-align: right;\">  1</td><td style=\"text-align: right;\">  4</td><td style=\"text-align: right;\">  9</td><td style=\"text-align: right;\">     1</td><td style=\"text-align: right;\">      3853.75   </td><td style=\"text-align: right;\">   inf</td></tr>\n",
       "<tr><td>sarimax_trainable_4969a205</td><td>TERMINATED</td><td>127.0.0.1:23176</td><td style=\"text-align: right;\">  1</td><td style=\"text-align: right;\">  1</td><td style=\"text-align: right;\"> 12</td><td style=\"text-align: right;\"> 12</td><td style=\"text-align: right;\">     1</td><td style=\"text-align: right;\">      1300.37   </td><td style=\"text-align: right;\">   inf</td></tr>\n",
       "<tr><td>sarimax_trainable_baeceb3a</td><td>TERMINATED</td><td>127.0.0.1:6180 </td><td style=\"text-align: right;\">  1</td><td style=\"text-align: right;\">  1</td><td style=\"text-align: right;\">  7</td><td style=\"text-align: right;\">  0</td><td style=\"text-align: right;\">     1</td><td style=\"text-align: right;\">        30.2988 </td><td style=\"text-align: right;\">   inf</td></tr>\n",
       "<tr><td>sarimax_trainable_430c9b26</td><td>TERMINATED</td><td>127.0.0.1:29488</td><td style=\"text-align: right;\">  1</td><td style=\"text-align: right;\">  0</td><td style=\"text-align: right;\"> 24</td><td style=\"text-align: right;\"> 21</td><td style=\"text-align: right;\">     1</td><td style=\"text-align: right;\">       109.317  </td><td style=\"text-align: right;\">   inf</td></tr>\n",
       "<tr><td>sarimax_trainable_d2c0d5ce</td><td>TERMINATED</td><td>127.0.0.1:25028</td><td style=\"text-align: right;\">  1</td><td style=\"text-align: right;\">  1</td><td style=\"text-align: right;\"> 20</td><td style=\"text-align: right;\">  8</td><td style=\"text-align: right;\">     1</td><td style=\"text-align: right;\">        77.686  </td><td style=\"text-align: right;\">   inf</td></tr>\n",
       "<tr><td>sarimax_trainable_1aa77deb</td><td>TERMINATED</td><td>127.0.0.1:32932</td><td style=\"text-align: right;\">  1</td><td style=\"text-align: right;\">  0</td><td style=\"text-align: right;\"> 16</td><td style=\"text-align: right;\">  3</td><td style=\"text-align: right;\">     1</td><td style=\"text-align: right;\">        50.8386 </td><td style=\"text-align: right;\">   inf</td></tr>\n",
       "<tr><td>sarimax_trainable_73313a26</td><td>TERMINATED</td><td>127.0.0.1:41636</td><td style=\"text-align: right;\">  0</td><td style=\"text-align: right;\">  0</td><td style=\"text-align: right;\"> 10</td><td style=\"text-align: right;\"> 14</td><td style=\"text-align: right;\">     1</td><td style=\"text-align: right;\">        70.4259 </td><td style=\"text-align: right;\">   inf</td></tr>\n",
       "<tr><td>sarimax_trainable_63e6e408</td><td>TERMINATED</td><td>127.0.0.1:28060</td><td style=\"text-align: right;\">  0</td><td style=\"text-align: right;\">  1</td><td style=\"text-align: right;\"> 11</td><td style=\"text-align: right;\"> 13</td><td style=\"text-align: right;\">     1</td><td style=\"text-align: right;\">      1319      </td><td style=\"text-align: right;\">   inf</td></tr>\n",
       "<tr><td>sarimax_trainable_054bc3a1</td><td>TERMINATED</td><td>127.0.0.1:29960</td><td style=\"text-align: right;\">  0</td><td style=\"text-align: right;\">  1</td><td style=\"text-align: right;\"> 12</td><td style=\"text-align: right;\">  9</td><td style=\"text-align: right;\">     1</td><td style=\"text-align: right;\">      1159.27   </td><td style=\"text-align: right;\">   inf</td></tr>\n",
       "<tr><td>sarimax_trainable_0c41325a</td><td>TERMINATED</td><td>127.0.0.1:25900</td><td style=\"text-align: right;\">  0</td><td style=\"text-align: right;\">  1</td><td style=\"text-align: right;\"> 12</td><td style=\"text-align: right;\">  8</td><td style=\"text-align: right;\">     1</td><td style=\"text-align: right;\">      1059.19   </td><td style=\"text-align: right;\">   inf</td></tr>\n",
       "<tr><td>sarimax_trainable_9de6bcbd</td><td>TERMINATED</td><td>127.0.0.1:30752</td><td style=\"text-align: right;\">  0</td><td style=\"text-align: right;\">  1</td><td style=\"text-align: right;\"> 24</td><td style=\"text-align: right;\">  8</td><td style=\"text-align: right;\">     1</td><td style=\"text-align: right;\">      1530.2    </td><td style=\"text-align: right;\">   inf</td></tr>\n",
       "<tr><td>sarimax_trainable_19a1d072</td><td>TERMINATED</td><td>127.0.0.1:1672 </td><td style=\"text-align: right;\">  0</td><td style=\"text-align: right;\">  1</td><td style=\"text-align: right;\"> 24</td><td style=\"text-align: right;\"> 17</td><td style=\"text-align: right;\">     1</td><td style=\"text-align: right;\">      2089.02   </td><td style=\"text-align: right;\">   inf</td></tr>\n",
       "<tr><td>sarimax_trainable_7aa35448</td><td>TERMINATED</td><td>127.0.0.1:23724</td><td style=\"text-align: right;\">  0</td><td style=\"text-align: right;\">  1</td><td style=\"text-align: right;\"> 24</td><td style=\"text-align: right;\"> 17</td><td style=\"text-align: right;\">     1</td><td style=\"text-align: right;\">      2085.67   </td><td style=\"text-align: right;\">   inf</td></tr>\n",
       "<tr><td>sarimax_trainable_0545bb05</td><td>TERMINATED</td><td>127.0.0.1:28456</td><td style=\"text-align: right;\">  0</td><td style=\"text-align: right;\">  0</td><td style=\"text-align: right;\">  7</td><td style=\"text-align: right;\"> 16</td><td style=\"text-align: right;\">     1</td><td style=\"text-align: right;\">        73.6574 </td><td style=\"text-align: right;\">   inf</td></tr>\n",
       "<tr><td>sarimax_trainable_55b68a97</td><td>TERMINATED</td><td>127.0.0.1:14904</td><td style=\"text-align: right;\">  0</td><td style=\"text-align: right;\">  0</td><td style=\"text-align: right;\">  7</td><td style=\"text-align: right;\"> 16</td><td style=\"text-align: right;\">     1</td><td style=\"text-align: right;\">        73.1034 </td><td style=\"text-align: right;\">   inf</td></tr>\n",
       "<tr><td>sarimax_trainable_496a68b3</td><td>TERMINATED</td><td>127.0.0.1:23140</td><td style=\"text-align: right;\">  0</td><td style=\"text-align: right;\">  0</td><td style=\"text-align: right;\"> 15</td><td style=\"text-align: right;\">  5</td><td style=\"text-align: right;\">     1</td><td style=\"text-align: right;\">        63.4642 </td><td style=\"text-align: right;\">   inf</td></tr>\n",
       "<tr><td>sarimax_trainable_ccb69c45</td><td>TERMINATED</td><td>127.0.0.1:14688</td><td style=\"text-align: right;\">  0</td><td style=\"text-align: right;\">  0</td><td style=\"text-align: right;\"> 22</td><td style=\"text-align: right;\"> 24</td><td style=\"text-align: right;\">     1</td><td style=\"text-align: right;\">       136.556  </td><td style=\"text-align: right;\">   inf</td></tr>\n",
       "<tr><td>sarimax_trainable_10b92e56</td><td>TERMINATED</td><td>127.0.0.1:37976</td><td style=\"text-align: right;\">  0</td><td style=\"text-align: right;\">  1</td><td style=\"text-align: right;\"> 22</td><td style=\"text-align: right;\">  1</td><td style=\"text-align: right;\">     1</td><td style=\"text-align: right;\">       987.525  </td><td style=\"text-align: right;\">   inf</td></tr>\n",
       "<tr><td>sarimax_trainable_50e715fe</td><td>TERMINATED</td><td>127.0.0.1:10580</td><td style=\"text-align: right;\">  0</td><td style=\"text-align: right;\">  1</td><td style=\"text-align: right;\"> 14</td><td style=\"text-align: right;\">  0</td><td style=\"text-align: right;\">     1</td><td style=\"text-align: right;\">       733.188  </td><td style=\"text-align: right;\">   inf</td></tr>\n",
       "<tr><td>sarimax_trainable_37a814f6</td><td>TERMINATED</td><td>127.0.0.1:38044</td><td style=\"text-align: right;\">  0</td><td style=\"text-align: right;\">  1</td><td style=\"text-align: right;\"> 14</td><td style=\"text-align: right;\">  2</td><td style=\"text-align: right;\">     1</td><td style=\"text-align: right;\">       835.117  </td><td style=\"text-align: right;\">   inf</td></tr>\n",
       "<tr><td>sarimax_trainable_7fe6ad97</td><td>TERMINATED</td><td>127.0.0.1:24892</td><td style=\"text-align: right;\">  0</td><td style=\"text-align: right;\">  1</td><td style=\"text-align: right;\"> 18</td><td style=\"text-align: right;\">  3</td><td style=\"text-align: right;\">     1</td><td style=\"text-align: right;\">      1004.95   </td><td style=\"text-align: right;\">   inf</td></tr>\n",
       "<tr><td>sarimax_trainable_1ef1e5fe</td><td>TERMINATED</td><td>127.0.0.1:18096</td><td style=\"text-align: right;\">  0</td><td style=\"text-align: right;\">  1</td><td style=\"text-align: right;\"> 18</td><td style=\"text-align: right;\">  4</td><td style=\"text-align: right;\">     1</td><td style=\"text-align: right;\">      1138.65   </td><td style=\"text-align: right;\">   inf</td></tr>\n",
       "<tr><td>sarimax_trainable_9c47fe46</td><td>TERMINATED</td><td>127.0.0.1:44044</td><td style=\"text-align: right;\">  0</td><td style=\"text-align: right;\">  1</td><td style=\"text-align: right;\"> 18</td><td style=\"text-align: right;\">  5</td><td style=\"text-align: right;\">     1</td><td style=\"text-align: right;\">      1177.84   </td><td style=\"text-align: right;\">   inf</td></tr>\n",
       "<tr><td>sarimax_trainable_b9ceecf4</td><td>TERMINATED</td><td>127.0.0.1:42980</td><td style=\"text-align: right;\">  0</td><td style=\"text-align: right;\">  1</td><td style=\"text-align: right;\">  0</td><td style=\"text-align: right;\">  5</td><td style=\"text-align: right;\">     1</td><td style=\"text-align: right;\">       158.592  </td><td style=\"text-align: right;\">   inf</td></tr>\n",
       "<tr><td>sarimax_trainable_384f49b8</td><td>TERMINATED</td><td>127.0.0.1:29684</td><td style=\"text-align: right;\">  0</td><td style=\"text-align: right;\">  1</td><td style=\"text-align: right;\"> 18</td><td style=\"text-align: right;\">  4</td><td style=\"text-align: right;\">     1</td><td style=\"text-align: right;\">      1161.46   </td><td style=\"text-align: right;\">   inf</td></tr>\n",
       "<tr><td>sarimax_trainable_7154cd19</td><td>TERMINATED</td><td>127.0.0.1:24756</td><td style=\"text-align: right;\">  0</td><td style=\"text-align: right;\">  1</td><td style=\"text-align: right;\"> 19</td><td style=\"text-align: right;\">  4</td><td style=\"text-align: right;\">     1</td><td style=\"text-align: right;\">      1089.63   </td><td style=\"text-align: right;\">   inf</td></tr>\n",
       "<tr><td>sarimax_trainable_20f46ef1</td><td>TERMINATED</td><td>127.0.0.1:42232</td><td style=\"text-align: right;\">  0</td><td style=\"text-align: right;\">  0</td><td style=\"text-align: right;\"> 21</td><td style=\"text-align: right;\">  6</td><td style=\"text-align: right;\">     1</td><td style=\"text-align: right;\">        92.8136 </td><td style=\"text-align: right;\">   inf</td></tr>\n",
       "<tr><td>sarimax_trainable_61432468</td><td>TERMINATED</td><td>127.0.0.1:4092 </td><td style=\"text-align: right;\">  1</td><td style=\"text-align: right;\">  0</td><td style=\"text-align: right;\"> 21</td><td style=\"text-align: right;\">  5</td><td style=\"text-align: right;\">     1</td><td style=\"text-align: right;\">      1680.08   </td><td style=\"text-align: right;\">   inf</td></tr>\n",
       "<tr><td>sarimax_trainable_cdad3afe</td><td>TERMINATED</td><td>127.0.0.1:15376</td><td style=\"text-align: right;\">  1</td><td style=\"text-align: right;\">  0</td><td style=\"text-align: right;\"> 20</td><td style=\"text-align: right;\">  5</td><td style=\"text-align: right;\">     1</td><td style=\"text-align: right;\">        68.4971 </td><td style=\"text-align: right;\">   inf</td></tr>\n",
       "<tr><td>sarimax_trainable_b4bb38cf</td><td>TERMINATED</td><td>127.0.0.1:30984</td><td style=\"text-align: right;\">  1</td><td style=\"text-align: right;\">  0</td><td style=\"text-align: right;\"> 19</td><td style=\"text-align: right;\">  3</td><td style=\"text-align: right;\">     1</td><td style=\"text-align: right;\">      1407.15   </td><td style=\"text-align: right;\">   inf</td></tr>\n",
       "<tr><td>sarimax_trainable_4a67a5a9</td><td>TERMINATED</td><td>127.0.0.1:40668</td><td style=\"text-align: right;\">  1</td><td style=\"text-align: right;\">  0</td><td style=\"text-align: right;\"> 19</td><td style=\"text-align: right;\"> 10</td><td style=\"text-align: right;\">     1</td><td style=\"text-align: right;\">      1745.88   </td><td style=\"text-align: right;\">   inf</td></tr>\n",
       "<tr><td>sarimax_trainable_68222e97</td><td>TERMINATED</td><td>127.0.0.1:28684</td><td style=\"text-align: right;\">  1</td><td style=\"text-align: right;\">  0</td><td style=\"text-align: right;\"> 20</td><td style=\"text-align: right;\"> 10</td><td style=\"text-align: right;\">     1</td><td style=\"text-align: right;\">        78.6529 </td><td style=\"text-align: right;\">   inf</td></tr>\n",
       "<tr><td>sarimax_trainable_a475623d</td><td>TERMINATED</td><td>127.0.0.1:30424</td><td style=\"text-align: right;\">  1</td><td style=\"text-align: right;\">  0</td><td style=\"text-align: right;\"> 22</td><td style=\"text-align: right;\">  7</td><td style=\"text-align: right;\">     1</td><td style=\"text-align: right;\">      1849.79   </td><td style=\"text-align: right;\">   inf</td></tr>\n",
       "<tr><td>sarimax_trainable_d5206505</td><td>TERMINATED</td><td>127.0.0.1:3188 </td><td style=\"text-align: right;\">  1</td><td style=\"text-align: right;\">  0</td><td style=\"text-align: right;\"> 16</td><td style=\"text-align: right;\">  7</td><td style=\"text-align: right;\">     1</td><td style=\"text-align: right;\">       539.951  </td><td style=\"text-align: right;\">   inf</td></tr>\n",
       "<tr><td>sarimax_trainable_3f4a370c</td><td>TERMINATED</td><td>127.0.0.1:24220</td><td style=\"text-align: right;\">  1</td><td style=\"text-align: right;\">  0</td><td style=\"text-align: right;\"> 22</td><td style=\"text-align: right;\">  7</td><td style=\"text-align: right;\">     1</td><td style=\"text-align: right;\">      1813.74   </td><td style=\"text-align: right;\">   inf</td></tr>\n",
       "<tr><td>sarimax_trainable_07b57489</td><td>TERMINATED</td><td>127.0.0.1:23396</td><td style=\"text-align: right;\">  1</td><td style=\"text-align: right;\">  0</td><td style=\"text-align: right;\"> 22</td><td style=\"text-align: right;\"> 11</td><td style=\"text-align: right;\">     1</td><td style=\"text-align: right;\">        90.48   </td><td style=\"text-align: right;\">   inf</td></tr>\n",
       "<tr><td>sarimax_trainable_9d2cfb0b</td><td>TERMINATED</td><td>127.0.0.1:11876</td><td style=\"text-align: right;\">  1</td><td style=\"text-align: right;\">  0</td><td style=\"text-align: right;\"> 14</td><td style=\"text-align: right;\">  2</td><td style=\"text-align: right;\">     1</td><td style=\"text-align: right;\">      1039.17   </td><td style=\"text-align: right;\">   inf</td></tr>\n",
       "<tr><td>sarimax_trainable_09c696aa</td><td>TERMINATED</td><td>127.0.0.1:35016</td><td style=\"text-align: right;\">  1</td><td style=\"text-align: right;\">  0</td><td style=\"text-align: right;\">  0</td><td style=\"text-align: right;\"> 22</td><td style=\"text-align: right;\">     1</td><td style=\"text-align: right;\">       951.853  </td><td style=\"text-align: right;\">   inf</td></tr>\n",
       "<tr><td>sarimax_trainable_f71df5d4</td><td>TERMINATED</td><td>127.0.0.1:35596</td><td style=\"text-align: right;\">  1</td><td style=\"text-align: right;\">  0</td><td style=\"text-align: right;\">  3</td><td style=\"text-align: right;\"> 23</td><td style=\"text-align: right;\">     1</td><td style=\"text-align: right;\">       729.362  </td><td style=\"text-align: right;\">   inf</td></tr>\n",
       "<tr><td>sarimax_trainable_db2fe7b7</td><td>TERMINATED</td><td>127.0.0.1:34732</td><td style=\"text-align: right;\">  1</td><td style=\"text-align: right;\">  0</td><td style=\"text-align: right;\">  0</td><td style=\"text-align: right;\"> 22</td><td style=\"text-align: right;\">     1</td><td style=\"text-align: right;\">       954.498  </td><td style=\"text-align: right;\">   inf</td></tr>\n",
       "<tr><td>sarimax_trainable_f433d0de</td><td>TERMINATED</td><td>127.0.0.1:33436</td><td style=\"text-align: right;\">  1</td><td style=\"text-align: right;\">  0</td><td style=\"text-align: right;\">  2</td><td style=\"text-align: right;\"> 22</td><td style=\"text-align: right;\">     1</td><td style=\"text-align: right;\">      1084.99   </td><td style=\"text-align: right;\">   inf</td></tr>\n",
       "<tr><td>sarimax_trainable_724dbef1</td><td>TERMINATED</td><td>127.0.0.1:44180</td><td style=\"text-align: right;\">  1</td><td style=\"text-align: right;\">  0</td><td style=\"text-align: right;\">  9</td><td style=\"text-align: right;\"> 22</td><td style=\"text-align: right;\">     1</td><td style=\"text-align: right;\">      1481.83   </td><td style=\"text-align: right;\">   inf</td></tr>\n",
       "<tr><td>sarimax_trainable_b95ee593</td><td>TERMINATED</td><td>127.0.0.1:30992</td><td style=\"text-align: right;\">  1</td><td style=\"text-align: right;\">  0</td><td style=\"text-align: right;\">  9</td><td style=\"text-align: right;\"> 21</td><td style=\"text-align: right;\">     1</td><td style=\"text-align: right;\">      1446.02   </td><td style=\"text-align: right;\">   inf</td></tr>\n",
       "<tr><td>sarimax_trainable_ff3b696e</td><td>TERMINATED</td><td>127.0.0.1:41580</td><td style=\"text-align: right;\">  1</td><td style=\"text-align: right;\">  0</td><td style=\"text-align: right;\">  5</td><td style=\"text-align: right;\"> 14</td><td style=\"text-align: right;\">     1</td><td style=\"text-align: right;\">       977.153  </td><td style=\"text-align: right;\">   inf</td></tr>\n",
       "<tr><td>sarimax_trainable_c6b63692</td><td>TERMINATED</td><td>127.0.0.1:34204</td><td style=\"text-align: right;\">  1</td><td style=\"text-align: right;\">  0</td><td style=\"text-align: right;\">  9</td><td style=\"text-align: right;\"> 19</td><td style=\"text-align: right;\">     1</td><td style=\"text-align: right;\">      1390.64   </td><td style=\"text-align: right;\">   inf</td></tr>\n",
       "<tr><td>sarimax_trainable_734724c5</td><td>TERMINATED</td><td>127.0.0.1:36752</td><td style=\"text-align: right;\">  0</td><td style=\"text-align: right;\">  0</td><td style=\"text-align: right;\">  8</td><td style=\"text-align: right;\"> 13</td><td style=\"text-align: right;\">     1</td><td style=\"text-align: right;\">        70.0374 </td><td style=\"text-align: right;\">   inf</td></tr>\n",
       "<tr><td>sarimax_trainable_f4726035</td><td>TERMINATED</td><td>127.0.0.1:43172</td><td style=\"text-align: right;\">  0</td><td style=\"text-align: right;\">  1</td><td style=\"text-align: right;\">  9</td><td style=\"text-align: right;\"> 14</td><td style=\"text-align: right;\">     1</td><td style=\"text-align: right;\">      1421.44   </td><td style=\"text-align: right;\">   inf</td></tr>\n",
       "<tr><td>sarimax_trainable_1c071867</td><td>TERMINATED</td><td>127.0.0.1:32316</td><td style=\"text-align: right;\">  0</td><td style=\"text-align: right;\">  1</td><td style=\"text-align: right;\">  5</td><td style=\"text-align: right;\"> 12</td><td style=\"text-align: right;\">     1</td><td style=\"text-align: right;\">      1023.5    </td><td style=\"text-align: right;\">   inf</td></tr>\n",
       "<tr><td>sarimax_trainable_f90b8e80</td><td>TERMINATED</td><td>127.0.0.1:15872</td><td style=\"text-align: right;\">  0</td><td style=\"text-align: right;\">  1</td><td style=\"text-align: right;\"> 16</td><td style=\"text-align: right;\"> 20</td><td style=\"text-align: right;\">     1</td><td style=\"text-align: right;\">      2034.87   </td><td style=\"text-align: right;\">   inf</td></tr>\n",
       "<tr><td>sarimax_trainable_a487836b</td><td>TERMINATED</td><td>127.0.0.1:17372</td><td style=\"text-align: right;\">  0</td><td style=\"text-align: right;\">  1</td><td style=\"text-align: right;\"> 16</td><td style=\"text-align: right;\"> 19</td><td style=\"text-align: right;\">     1</td><td style=\"text-align: right;\">      1987.54   </td><td style=\"text-align: right;\">   inf</td></tr>\n",
       "<tr><td>sarimax_trainable_d9be70fb</td><td>TERMINATED</td><td>127.0.0.1:36520</td><td style=\"text-align: right;\">  0</td><td style=\"text-align: right;\">  1</td><td style=\"text-align: right;\"> 16</td><td style=\"text-align: right;\"> 12</td><td style=\"text-align: right;\">     1</td><td style=\"text-align: right;\">       202.189  </td><td style=\"text-align: right;\">   inf</td></tr>\n",
       "<tr><td>sarimax_trainable_319c61f0</td><td>TERMINATED</td><td>127.0.0.1:17696</td><td style=\"text-align: right;\">  0</td><td style=\"text-align: right;\">  1</td><td style=\"text-align: right;\"> 17</td><td style=\"text-align: right;\">  9</td><td style=\"text-align: right;\">     1</td><td style=\"text-align: right;\">      1386.84   </td><td style=\"text-align: right;\">   inf</td></tr>\n",
       "<tr><td>sarimax_trainable_c800c22e</td><td>TERMINATED</td><td>127.0.0.1:21344</td><td style=\"text-align: right;\">  0</td><td style=\"text-align: right;\">  1</td><td style=\"text-align: right;\"> 11</td><td style=\"text-align: right;\"> 15</td><td style=\"text-align: right;\">     1</td><td style=\"text-align: right;\">      1463.32   </td><td style=\"text-align: right;\">   inf</td></tr>\n",
       "<tr><td>sarimax_trainable_a2e6da2b</td><td>TERMINATED</td><td>127.0.0.1:29840</td><td style=\"text-align: right;\">  0</td><td style=\"text-align: right;\">  1</td><td style=\"text-align: right;\"> 17</td><td style=\"text-align: right;\">  9</td><td style=\"text-align: right;\">     1</td><td style=\"text-align: right;\">      1381.38   </td><td style=\"text-align: right;\">   inf</td></tr>\n",
       "<tr><td>sarimax_trainable_95abd77f</td><td>TERMINATED</td><td>127.0.0.1:19128</td><td style=\"text-align: right;\">  0</td><td style=\"text-align: right;\">  1</td><td style=\"text-align: right;\"> 17</td><td style=\"text-align: right;\">  9</td><td style=\"text-align: right;\">     1</td><td style=\"text-align: right;\">      1386.68   </td><td style=\"text-align: right;\">   inf</td></tr>\n",
       "<tr><td>sarimax_trainable_8067c9aa</td><td>TERMINATED</td><td>127.0.0.1:27724</td><td style=\"text-align: right;\">  0</td><td style=\"text-align: right;\">  1</td><td style=\"text-align: right;\"> 11</td><td style=\"text-align: right;\">  2</td><td style=\"text-align: right;\">     1</td><td style=\"text-align: right;\">       742.531  </td><td style=\"text-align: right;\">   inf</td></tr>\n",
       "<tr><td>sarimax_trainable_9ce8c5c9</td><td>TERMINATED</td><td>127.0.0.1:27936</td><td style=\"text-align: right;\">  0</td><td style=\"text-align: right;\">  1</td><td style=\"text-align: right;\"> 23</td><td style=\"text-align: right;\">  1</td><td style=\"text-align: right;\">     1</td><td style=\"text-align: right;\">      1008.73   </td><td style=\"text-align: right;\">   inf</td></tr>\n",
       "<tr><td>sarimax_trainable_2e1fa752</td><td>TERMINATED</td><td>127.0.0.1:26700</td><td style=\"text-align: right;\">  0</td><td style=\"text-align: right;\">  1</td><td style=\"text-align: right;\"> 13</td><td style=\"text-align: right;\"> 17</td><td style=\"text-align: right;\">     1</td><td style=\"text-align: right;\">      1648.12   </td><td style=\"text-align: right;\">   inf</td></tr>\n",
       "<tr><td>sarimax_trainable_4d9919a5</td><td>TERMINATED</td><td>127.0.0.1:14324</td><td style=\"text-align: right;\">  0</td><td style=\"text-align: right;\">  1</td><td style=\"text-align: right;\"> 23</td><td style=\"text-align: right;\"> 18</td><td style=\"text-align: right;\">     1</td><td style=\"text-align: right;\">      2209.31   </td><td style=\"text-align: right;\">   inf</td></tr>\n",
       "<tr><td>sarimax_trainable_e37bb713</td><td>TERMINATED</td><td>127.0.0.1:4928 </td><td style=\"text-align: right;\">  0</td><td style=\"text-align: right;\">  1</td><td style=\"text-align: right;\"> 21</td><td style=\"text-align: right;\"> 19</td><td style=\"text-align: right;\">     1</td><td style=\"text-align: right;\">      2114.36   </td><td style=\"text-align: right;\">   inf</td></tr>\n",
       "<tr><td>sarimax_trainable_39014c08</td><td>TERMINATED</td><td>127.0.0.1:29060</td><td style=\"text-align: right;\">  0</td><td style=\"text-align: right;\">  0</td><td style=\"text-align: right;\"> 13</td><td style=\"text-align: right;\">  1</td><td style=\"text-align: right;\">     1</td><td style=\"text-align: right;\">        51.8269 </td><td style=\"text-align: right;\">   inf</td></tr>\n",
       "<tr><td>sarimax_trainable_ce65c3b1</td><td>TERMINATED</td><td>127.0.0.1:29276</td><td style=\"text-align: right;\">  0</td><td style=\"text-align: right;\">  0</td><td style=\"text-align: right;\"> 23</td><td style=\"text-align: right;\"> 18</td><td style=\"text-align: right;\">     1</td><td style=\"text-align: right;\">       199.364  </td><td style=\"text-align: right;\">   inf</td></tr>\n",
       "<tr><td>sarimax_trainable_c64bc88a</td><td>TERMINATED</td><td>127.0.0.1:42552</td><td style=\"text-align: right;\">  0</td><td style=\"text-align: right;\">  1</td><td style=\"text-align: right;\"> 21</td><td style=\"text-align: right;\"> 11</td><td style=\"text-align: right;\">     1</td><td style=\"text-align: right;\">      1694.3    </td><td style=\"text-align: right;\">   inf</td></tr>\n",
       "<tr><td>sarimax_trainable_f9af6f96</td><td>TERMINATED</td><td>127.0.0.1:34616</td><td style=\"text-align: right;\">  0</td><td style=\"text-align: right;\">  1</td><td style=\"text-align: right;\"> 21</td><td style=\"text-align: right;\"> 24</td><td style=\"text-align: right;\">     1</td><td style=\"text-align: right;\">      2368.51   </td><td style=\"text-align: right;\">   inf</td></tr>\n",
       "<tr><td>sarimax_trainable_fb9a1f84</td><td>TERMINATED</td><td>127.0.0.1:38776</td><td style=\"text-align: right;\">  1</td><td style=\"text-align: right;\">  1</td><td style=\"text-align: right;\"> 21</td><td style=\"text-align: right;\">  6</td><td style=\"text-align: right;\">     1</td><td style=\"text-align: right;\">       754.474  </td><td style=\"text-align: right;\">   inf</td></tr>\n",
       "<tr><td>sarimax_trainable_a0822ff0</td><td>TERMINATED</td><td>127.0.0.1:31060</td><td style=\"text-align: right;\">  1</td><td style=\"text-align: right;\">  1</td><td style=\"text-align: right;\"> 23</td><td style=\"text-align: right;\"> 23</td><td style=\"text-align: right;\">     1</td><td style=\"text-align: right;\">       112.864  </td><td style=\"text-align: right;\">   inf</td></tr>\n",
       "<tr><td>sarimax_trainable_91e9866a</td><td>TERMINATED</td><td>127.0.0.1:28892</td><td style=\"text-align: right;\">  1</td><td style=\"text-align: right;\">  1</td><td style=\"text-align: right;\"> 21</td><td style=\"text-align: right;\"> 24</td><td style=\"text-align: right;\">     1</td><td style=\"text-align: right;\">       110.303  </td><td style=\"text-align: right;\">   inf</td></tr>\n",
       "<tr><td>sarimax_trainable_e51224c2</td><td>TERMINATED</td><td>127.0.0.1:42520</td><td style=\"text-align: right;\">  1</td><td style=\"text-align: right;\">  1</td><td style=\"text-align: right;\"> 20</td><td style=\"text-align: right;\"> 23</td><td style=\"text-align: right;\">     1</td><td style=\"text-align: right;\">       109.214  </td><td style=\"text-align: right;\">   inf</td></tr>\n",
       "<tr><td>sarimax_trainable_5d562cf8</td><td>TERMINATED</td><td>127.0.0.1:19620</td><td style=\"text-align: right;\">  1</td><td style=\"text-align: right;\">  1</td><td style=\"text-align: right;\"> 20</td><td style=\"text-align: right;\"> 23</td><td style=\"text-align: right;\">     1</td><td style=\"text-align: right;\">       109.305  </td><td style=\"text-align: right;\">   inf</td></tr>\n",
       "<tr><td>sarimax_trainable_4dd9ba75</td><td>TERMINATED</td><td>127.0.0.1:15308</td><td style=\"text-align: right;\">  1</td><td style=\"text-align: right;\">  1</td><td style=\"text-align: right;\"> 21</td><td style=\"text-align: right;\"> 24</td><td style=\"text-align: right;\">     1</td><td style=\"text-align: right;\">       112.432  </td><td style=\"text-align: right;\">   inf</td></tr>\n",
       "<tr><td>sarimax_trainable_aa2d5deb</td><td>TERMINATED</td><td>127.0.0.1:31272</td><td style=\"text-align: right;\">  1</td><td style=\"text-align: right;\">  1</td><td style=\"text-align: right;\"> 21</td><td style=\"text-align: right;\"> 24</td><td style=\"text-align: right;\">     1</td><td style=\"text-align: right;\">       113.816  </td><td style=\"text-align: right;\">   inf</td></tr>\n",
       "<tr><td>sarimax_trainable_0a01a047</td><td>TERMINATED</td><td>127.0.0.1:20540</td><td style=\"text-align: right;\">  1</td><td style=\"text-align: right;\">  1</td><td style=\"text-align: right;\"> 19</td><td style=\"text-align: right;\"> 11</td><td style=\"text-align: right;\">     1</td><td style=\"text-align: right;\">      1762.71   </td><td style=\"text-align: right;\">   inf</td></tr>\n",
       "<tr><td>sarimax_trainable_7b386ebd</td><td>TERMINATED</td><td>127.0.0.1:3984 </td><td style=\"text-align: right;\">  1</td><td style=\"text-align: right;\">  1</td><td style=\"text-align: right;\"> 19</td><td style=\"text-align: right;\">  6</td><td style=\"text-align: right;\">     1</td><td style=\"text-align: right;\">        72.8429 </td><td style=\"text-align: right;\">   inf</td></tr>\n",
       "<tr><td>sarimax_trainable_4016973f</td><td>TERMINATED</td><td>127.0.0.1:37668</td><td style=\"text-align: right;\">  0</td><td style=\"text-align: right;\">  1</td><td style=\"text-align: right;\"> 19</td><td style=\"text-align: right;\"> 11</td><td style=\"text-align: right;\">     1</td><td style=\"text-align: right;\">      1467.32   </td><td style=\"text-align: right;\">   inf</td></tr>\n",
       "<tr><td>sarimax_trainable_bd31b9b9</td><td>TERMINATED</td><td>127.0.0.1:4176 </td><td style=\"text-align: right;\">  0</td><td style=\"text-align: right;\">  1</td><td style=\"text-align: right;\"> 23</td><td style=\"text-align: right;\"> 11</td><td style=\"text-align: right;\">     1</td><td style=\"text-align: right;\">      1743.64   </td><td style=\"text-align: right;\">   inf</td></tr>\n",
       "<tr><td>sarimax_trainable_782a872f</td><td>TERMINATED</td><td>127.0.0.1:23852</td><td style=\"text-align: right;\">  0</td><td style=\"text-align: right;\">  1</td><td style=\"text-align: right;\"> 24</td><td style=\"text-align: right;\"> 11</td><td style=\"text-align: right;\">     1</td><td style=\"text-align: right;\">      1940.82   </td><td style=\"text-align: right;\">   inf</td></tr>\n",
       "<tr><td>sarimax_trainable_bf756c38</td><td>TERMINATED</td><td>127.0.0.1:19408</td><td style=\"text-align: right;\">  1</td><td style=\"text-align: right;\">  1</td><td style=\"text-align: right;\"> 18</td><td style=\"text-align: right;\">  3</td><td style=\"text-align: right;\">     1</td><td style=\"text-align: right;\">      1398.55   </td><td style=\"text-align: right;\">   inf</td></tr>\n",
       "<tr><td>sarimax_trainable_926df445</td><td>TERMINATED</td><td>127.0.0.1:7220 </td><td style=\"text-align: right;\">  0</td><td style=\"text-align: right;\">  0</td><td style=\"text-align: right;\"> 18</td><td style=\"text-align: right;\"> 21</td><td style=\"text-align: right;\">     1</td><td style=\"text-align: right;\">       116.894  </td><td style=\"text-align: right;\">   inf</td></tr>\n",
       "<tr><td>sarimax_trainable_c5d4fc3d</td><td>TERMINATED</td><td>127.0.0.1:1640 </td><td style=\"text-align: right;\">  0</td><td style=\"text-align: right;\">  0</td><td style=\"text-align: right;\"> 18</td><td style=\"text-align: right;\"> 21</td><td style=\"text-align: right;\">     1</td><td style=\"text-align: right;\">       116.868  </td><td style=\"text-align: right;\">   inf</td></tr>\n",
       "<tr><td>sarimax_trainable_4222bd55</td><td>TERMINATED</td><td>127.0.0.1:2548 </td><td style=\"text-align: right;\">  0</td><td style=\"text-align: right;\">  0</td><td style=\"text-align: right;\"> 19</td><td style=\"text-align: right;\">  4</td><td style=\"text-align: right;\">     1</td><td style=\"text-align: right;\">        76.9053 </td><td style=\"text-align: right;\">   inf</td></tr>\n",
       "<tr><td>sarimax_trainable_ddc7e271</td><td>TERMINATED</td><td>127.0.0.1:22620</td><td style=\"text-align: right;\">  1</td><td style=\"text-align: right;\">  0</td><td style=\"text-align: right;\"> 20</td><td style=\"text-align: right;\"> 11</td><td style=\"text-align: right;\">     1</td><td style=\"text-align: right;\">        81.0291 </td><td style=\"text-align: right;\">   inf</td></tr>\n",
       "<tr><td>sarimax_trainable_6efd65aa</td><td>TERMINATED</td><td>127.0.0.1:41840</td><td style=\"text-align: right;\">  1</td><td style=\"text-align: right;\">  0</td><td style=\"text-align: right;\"> 19</td><td style=\"text-align: right;\">  3</td><td style=\"text-align: right;\">     1</td><td style=\"text-align: right;\">      1364.43   </td><td style=\"text-align: right;\">   inf</td></tr>\n",
       "<tr><td>sarimax_trainable_8e3f3d7b</td><td>TERMINATED</td><td>127.0.0.1:1948 </td><td style=\"text-align: right;\">  1</td><td style=\"text-align: right;\">  0</td><td style=\"text-align: right;\"> 15</td><td style=\"text-align: right;\">  3</td><td style=\"text-align: right;\">     1</td><td style=\"text-align: right;\">       461.637  </td><td style=\"text-align: right;\">   inf</td></tr>\n",
       "<tr><td>sarimax_trainable_019d75cd</td><td>TERMINATED</td><td>127.0.0.1:29560</td><td style=\"text-align: right;\">  1</td><td style=\"text-align: right;\">  0</td><td style=\"text-align: right;\"> 22</td><td style=\"text-align: right;\"> 20</td><td style=\"text-align: right;\">     1</td><td style=\"text-align: right;\">       219.318  </td><td style=\"text-align: right;\">   inf</td></tr>\n",
       "<tr><td>sarimax_trainable_b01e2d02</td><td>TERMINATED</td><td>127.0.0.1:27916</td><td style=\"text-align: right;\">  1</td><td style=\"text-align: right;\">  0</td><td style=\"text-align: right;\"> 15</td><td style=\"text-align: right;\">  3</td><td style=\"text-align: right;\">     1</td><td style=\"text-align: right;\">       433.22   </td><td style=\"text-align: right;\">   inf</td></tr>\n",
       "<tr><td>sarimax_trainable_12523ee1</td><td>TERMINATED</td><td>127.0.0.1:36704</td><td style=\"text-align: right;\">  1</td><td style=\"text-align: right;\">  0</td><td style=\"text-align: right;\"> 15</td><td style=\"text-align: right;\">  3</td><td style=\"text-align: right;\">     1</td><td style=\"text-align: right;\">       423.977  </td><td style=\"text-align: right;\">   inf</td></tr>\n",
       "<tr><td>sarimax_trainable_83c20961</td><td>TERMINATED</td><td>127.0.0.1:37728</td><td style=\"text-align: right;\">  1</td><td style=\"text-align: right;\">  0</td><td style=\"text-align: right;\"> 24</td><td style=\"text-align: right;\">  3</td><td style=\"text-align: right;\">     1</td><td style=\"text-align: right;\">      1652.11   </td><td style=\"text-align: right;\">   inf</td></tr>\n",
       "<tr><td>sarimax_trainable_d27fd2ab</td><td>TERMINATED</td><td>127.0.0.1:13888</td><td style=\"text-align: right;\">  0</td><td style=\"text-align: right;\">  0</td><td style=\"text-align: right;\"> 15</td><td style=\"text-align: right;\">  8</td><td style=\"text-align: right;\">     1</td><td style=\"text-align: right;\">        70.2393 </td><td style=\"text-align: right;\">   inf</td></tr>\n",
       "<tr><td>sarimax_trainable_d6eebbb6</td><td>TERMINATED</td><td>127.0.0.1:23720</td><td style=\"text-align: right;\">  0</td><td style=\"text-align: right;\">  0</td><td style=\"text-align: right;\"> 15</td><td style=\"text-align: right;\"> 20</td><td style=\"text-align: right;\">     1</td><td style=\"text-align: right;\">       107.818  </td><td style=\"text-align: right;\">   inf</td></tr>\n",
       "<tr><td>sarimax_trainable_c8f950c0</td><td>TERMINATED</td><td>127.0.0.1:12884</td><td style=\"text-align: right;\">  0</td><td style=\"text-align: right;\">  0</td><td style=\"text-align: right;\"> 17</td><td style=\"text-align: right;\"> 20</td><td style=\"text-align: right;\">     1</td><td style=\"text-align: right;\">       112.458  </td><td style=\"text-align: right;\">   inf</td></tr>\n",
       "<tr><td>sarimax_trainable_756895e7</td><td>TERMINATED</td><td>127.0.0.1:28444</td><td style=\"text-align: right;\">  0</td><td style=\"text-align: right;\">  0</td><td style=\"text-align: right;\"> 24</td><td style=\"text-align: right;\">  4</td><td style=\"text-align: right;\">     1</td><td style=\"text-align: right;\">        94.8476 </td><td style=\"text-align: right;\">   inf</td></tr>\n",
       "<tr><td>sarimax_trainable_94f7351e</td><td>TERMINATED</td><td>127.0.0.1:16916</td><td style=\"text-align: right;\">  0</td><td style=\"text-align: right;\">  0</td><td style=\"text-align: right;\"> 24</td><td style=\"text-align: right;\"> 13</td><td style=\"text-align: right;\">     1</td><td style=\"text-align: right;\">       116.873  </td><td style=\"text-align: right;\">   inf</td></tr>\n",
       "<tr><td>sarimax_trainable_99e403f6</td><td>TERMINATED</td><td>127.0.0.1:26368</td><td style=\"text-align: right;\">  0</td><td style=\"text-align: right;\">  0</td><td style=\"text-align: right;\">  6</td><td style=\"text-align: right;\"> 13</td><td style=\"text-align: right;\">     1</td><td style=\"text-align: right;\">        64.6489 </td><td style=\"text-align: right;\">   inf</td></tr>\n",
       "<tr><td>sarimax_trainable_bb18c8f0</td><td>TERMINATED</td><td>127.0.0.1:40552</td><td style=\"text-align: right;\">  0</td><td style=\"text-align: right;\">  0</td><td style=\"text-align: right;\"> 18</td><td style=\"text-align: right;\">  0</td><td style=\"text-align: right;\">     1</td><td style=\"text-align: right;\">        67.3613 </td><td style=\"text-align: right;\">   inf</td></tr>\n",
       "<tr><td>sarimax_trainable_005af69c</td><td>TERMINATED</td><td>127.0.0.1:5012 </td><td style=\"text-align: right;\">  0</td><td style=\"text-align: right;\">  0</td><td style=\"text-align: right;\"> 20</td><td style=\"text-align: right;\"> 10</td><td style=\"text-align: right;\">     1</td><td style=\"text-align: right;\">        96.2771 </td><td style=\"text-align: right;\">   inf</td></tr>\n",
       "<tr><td>sarimax_trainable_0d95ed25</td><td>TERMINATED</td><td>127.0.0.1:23632</td><td style=\"text-align: right;\">  0</td><td style=\"text-align: right;\">  0</td><td style=\"text-align: right;\"> 20</td><td style=\"text-align: right;\">  0</td><td style=\"text-align: right;\">     1</td><td style=\"text-align: right;\">        73.3395 </td><td style=\"text-align: right;\">   inf</td></tr>\n",
       "<tr><td>sarimax_trainable_73f2f056</td><td>TERMINATED</td><td>127.0.0.1:33480</td><td style=\"text-align: right;\">  0</td><td style=\"text-align: right;\">  0</td><td style=\"text-align: right;\"> 20</td><td style=\"text-align: right;\"> 10</td><td style=\"text-align: right;\">     1</td><td style=\"text-align: right;\">        95.7027 </td><td style=\"text-align: right;\">   inf</td></tr>\n",
       "<tr><td>sarimax_trainable_c17d6cb7</td><td>TERMINATED</td><td>127.0.0.1:37996</td><td style=\"text-align: right;\">  0</td><td style=\"text-align: right;\">  1</td><td style=\"text-align: right;\"> 22</td><td style=\"text-align: right;\"> 10</td><td style=\"text-align: right;\">     1</td><td style=\"text-align: right;\">      1587.69   </td><td style=\"text-align: right;\">   inf</td></tr>\n",
       "<tr><td>sarimax_trainable_abe4fe41</td><td>TERMINATED</td><td>127.0.0.1:35576</td><td style=\"text-align: right;\">  0</td><td style=\"text-align: right;\">  1</td><td style=\"text-align: right;\"> 22</td><td style=\"text-align: right;\"> 22</td><td style=\"text-align: right;\">     1</td><td style=\"text-align: right;\">      2564.52   </td><td style=\"text-align: right;\">   inf</td></tr>\n",
       "<tr><td>sarimax_trainable_7a7bf298</td><td>TERMINATED</td><td>127.0.0.1:21208</td><td style=\"text-align: right;\">  0</td><td style=\"text-align: right;\">  1</td><td style=\"text-align: right;\"> 22</td><td style=\"text-align: right;\"> 16</td><td style=\"text-align: right;\">     1</td><td style=\"text-align: right;\">      2011.89   </td><td style=\"text-align: right;\">   inf</td></tr>\n",
       "<tr><td>sarimax_trainable_a00496eb</td><td>TERMINATED</td><td>127.0.0.1:35724</td><td style=\"text-align: right;\">  0</td><td style=\"text-align: right;\">  1</td><td style=\"text-align: right;\"> 22</td><td style=\"text-align: right;\"> 22</td><td style=\"text-align: right;\">     1</td><td style=\"text-align: right;\">      2572.78   </td><td style=\"text-align: right;\">   inf</td></tr>\n",
       "<tr><td>sarimax_trainable_2facbbe7</td><td>TERMINATED</td><td>127.0.0.1:28484</td><td style=\"text-align: right;\">  0</td><td style=\"text-align: right;\">  1</td><td style=\"text-align: right;\"> 22</td><td style=\"text-align: right;\"> 22</td><td style=\"text-align: right;\">     1</td><td style=\"text-align: right;\">      2579.17   </td><td style=\"text-align: right;\">   inf</td></tr>\n",
       "<tr><td>sarimax_trainable_6228aa13</td><td>TERMINATED</td><td>127.0.0.1:3196 </td><td style=\"text-align: right;\">  0</td><td style=\"text-align: right;\">  1</td><td style=\"text-align: right;\"> 22</td><td style=\"text-align: right;\"> 22</td><td style=\"text-align: right;\">     1</td><td style=\"text-align: right;\">      2577.52   </td><td style=\"text-align: right;\">   inf</td></tr>\n",
       "<tr><td>sarimax_trainable_e1357166</td><td>TERMINATED</td><td>127.0.0.1:6968 </td><td style=\"text-align: right;\">  0</td><td style=\"text-align: right;\">  1</td><td style=\"text-align: right;\"> 22</td><td style=\"text-align: right;\"> 22</td><td style=\"text-align: right;\">     1</td><td style=\"text-align: right;\">      2577.14   </td><td style=\"text-align: right;\">   inf</td></tr>\n",
       "<tr><td>sarimax_trainable_1d5c8705</td><td>TERMINATED</td><td>127.0.0.1:16252</td><td style=\"text-align: right;\">  0</td><td style=\"text-align: right;\">  1</td><td style=\"text-align: right;\"> 17</td><td style=\"text-align: right;\"> 22</td><td style=\"text-align: right;\">     1</td><td style=\"text-align: right;\">      2593.33   </td><td style=\"text-align: right;\">   inf</td></tr>\n",
       "<tr><td>sarimax_trainable_79621a26</td><td>TERMINATED</td><td>127.0.0.1:9456 </td><td style=\"text-align: right;\">  0</td><td style=\"text-align: right;\">  1</td><td style=\"text-align: right;\"> 17</td><td style=\"text-align: right;\"> 15</td><td style=\"text-align: right;\">     1</td><td style=\"text-align: right;\">      1735.88   </td><td style=\"text-align: right;\">   inf</td></tr>\n",
       "<tr><td>sarimax_trainable_906d493d</td><td>TERMINATED</td><td>127.0.0.1:39340</td><td style=\"text-align: right;\">  0</td><td style=\"text-align: right;\">  1</td><td style=\"text-align: right;\"> 17</td><td style=\"text-align: right;\"> 22</td><td style=\"text-align: right;\">     1</td><td style=\"text-align: right;\">      2553.7    </td><td style=\"text-align: right;\">   inf</td></tr>\n",
       "<tr><td>sarimax_trainable_0b21b6f5</td><td>TERMINATED</td><td>127.0.0.1:36680</td><td style=\"text-align: right;\">  1</td><td style=\"text-align: right;\">  1</td><td style=\"text-align: right;\">  2</td><td style=\"text-align: right;\">  8</td><td style=\"text-align: right;\">     1</td><td style=\"text-align: right;\">      3414.35   </td><td style=\"text-align: right;\">   inf</td></tr>\n",
       "<tr><td>sarimax_trainable_c1c9b925</td><td>TERMINATED</td><td>127.0.0.1:6656 </td><td style=\"text-align: right;\">  1</td><td style=\"text-align: right;\">  1</td><td style=\"text-align: right;\">  3</td><td style=\"text-align: right;\"> 23</td><td style=\"text-align: right;\">     1</td><td style=\"text-align: right;\">      1086.79   </td><td style=\"text-align: right;\">   inf</td></tr>\n",
       "<tr><td>sarimax_trainable_73aca0ad</td><td>TERMINATED</td><td>127.0.0.1:35624</td><td style=\"text-align: right;\">  1</td><td style=\"text-align: right;\">  1</td><td style=\"text-align: right;\">  5</td><td style=\"text-align: right;\">  5</td><td style=\"text-align: right;\">     1</td><td style=\"text-align: right;\">       760.053  </td><td style=\"text-align: right;\">   inf</td></tr>\n",
       "<tr><td>sarimax_trainable_5748d397</td><td>TERMINATED</td><td>127.0.0.1:6344 </td><td style=\"text-align: right;\">  1</td><td style=\"text-align: right;\">  1</td><td style=\"text-align: right;\">  3</td><td style=\"text-align: right;\">  8</td><td style=\"text-align: right;\">     1</td><td style=\"text-align: right;\">        37.3409 </td><td style=\"text-align: right;\">   inf</td></tr>\n",
       "<tr><td>sarimax_trainable_a446f642</td><td>TERMINATED</td><td>127.0.0.1:38776</td><td style=\"text-align: right;\">  1</td><td style=\"text-align: right;\">  1</td><td style=\"text-align: right;\">  2</td><td style=\"text-align: right;\">  5</td><td style=\"text-align: right;\">     1</td><td style=\"text-align: right;\">       661.521  </td><td style=\"text-align: right;\">   inf</td></tr>\n",
       "<tr><td>sarimax_trainable_0ee6bba3</td><td>TERMINATED</td><td>127.0.0.1:19824</td><td style=\"text-align: right;\">  1</td><td style=\"text-align: right;\">  1</td><td style=\"text-align: right;\">  2</td><td style=\"text-align: right;\">  2</td><td style=\"text-align: right;\">     1</td><td style=\"text-align: right;\">        25.1871 </td><td style=\"text-align: right;\">   inf</td></tr>\n",
       "<tr><td>sarimax_trainable_2c4790ff</td><td>TERMINATED</td><td>127.0.0.1:43960</td><td style=\"text-align: right;\">  1</td><td style=\"text-align: right;\">  1</td><td style=\"text-align: right;\">  3</td><td style=\"text-align: right;\"> 12</td><td style=\"text-align: right;\">     1</td><td style=\"text-align: right;\">        45.4339 </td><td style=\"text-align: right;\">   inf</td></tr>\n",
       "<tr><td>sarimax_trainable_f8ccd9df</td><td>TERMINATED</td><td>127.0.0.1:22104</td><td style=\"text-align: right;\">  1</td><td style=\"text-align: right;\">  1</td><td style=\"text-align: right;\">  4</td><td style=\"text-align: right;\">  5</td><td style=\"text-align: right;\">     1</td><td style=\"text-align: right;\">       725.161  </td><td style=\"text-align: right;\">   inf</td></tr>\n",
       "<tr><td>sarimax_trainable_0bbcfc1b</td><td>TERMINATED</td><td>127.0.0.1:10416</td><td style=\"text-align: right;\">  1</td><td style=\"text-align: right;\">  1</td><td style=\"text-align: right;\"> 10</td><td style=\"text-align: right;\"> 23</td><td style=\"text-align: right;\">      </td><td style=\"text-align: right;\">                </td><td style=\"text-align: right;\">      </td></tr>\n",
       "<tr><td>sarimax_trainable_75163c38</td><td>TERMINATED</td><td>127.0.0.1:20824</td><td style=\"text-align: right;\">  1</td><td style=\"text-align: right;\">  1</td><td style=\"text-align: right;\"> 23</td><td style=\"text-align: right;\"> 23</td><td style=\"text-align: right;\">     1</td><td style=\"text-align: right;\">       115.053  </td><td style=\"text-align: right;\">   inf</td></tr>\n",
       "<tr><td>sarimax_trainable_2cee1efd</td><td>TERMINATED</td><td>127.0.0.1:40876</td><td style=\"text-align: right;\">  1</td><td style=\"text-align: right;\">  1</td><td style=\"text-align: right;\"> 10</td><td style=\"text-align: right;\"> 18</td><td style=\"text-align: right;\">      </td><td style=\"text-align: right;\">                </td><td style=\"text-align: right;\">      </td></tr>\n",
       "<tr><td>sarimax_trainable_a98fb29a</td><td>TERMINATED</td><td>127.0.0.1:21544</td><td style=\"text-align: right;\">  1</td><td style=\"text-align: right;\">  1</td><td style=\"text-align: right;\"> 11</td><td style=\"text-align: right;\"> 12</td><td style=\"text-align: right;\">     1</td><td style=\"text-align: right;\">        59.2234 </td><td style=\"text-align: right;\">   inf</td></tr>\n",
       "<tr><td>sarimax_trainable_788a8bb9</td><td>TERMINATED</td><td>127.0.0.1:24112</td><td style=\"text-align: right;\">  1</td><td style=\"text-align: right;\">  1</td><td style=\"text-align: right;\"> 10</td><td style=\"text-align: right;\">  9</td><td style=\"text-align: right;\">     1</td><td style=\"text-align: right;\">        50.4077 </td><td style=\"text-align: right;\">   inf</td></tr>\n",
       "<tr><td>sarimax_trainable_ec2dcc8c</td><td>TERMINATED</td><td>127.0.0.1:19928</td><td style=\"text-align: right;\">  1</td><td style=\"text-align: right;\">  1</td><td style=\"text-align: right;\"> 13</td><td style=\"text-align: right;\">  9</td><td style=\"text-align: right;\">     1</td><td style=\"text-align: right;\">        57.2172 </td><td style=\"text-align: right;\">   inf</td></tr>\n",
       "<tr><td>sarimax_trainable_5df87c29</td><td>TERMINATED</td><td>127.0.0.1:44384</td><td style=\"text-align: right;\">  1</td><td style=\"text-align: right;\">  1</td><td style=\"text-align: right;\"> 13</td><td style=\"text-align: right;\"> 18</td><td style=\"text-align: right;\">     1</td><td style=\"text-align: right;\">        82.3628 </td><td style=\"text-align: right;\">   inf</td></tr>\n",
       "<tr><td>sarimax_trainable_cf13f8fd</td><td>TERMINATED</td><td>127.0.0.1:17860</td><td style=\"text-align: right;\">  1</td><td style=\"text-align: right;\">  1</td><td style=\"text-align: right;\">  4</td><td style=\"text-align: right;\"> 21</td><td style=\"text-align: right;\">     1</td><td style=\"text-align: right;\">      1690.42   </td><td style=\"text-align: right;\">   inf</td></tr>\n",
       "<tr><td>sarimax_trainable_07c72066</td><td>TERMINATED</td><td>127.0.0.1:30852</td><td style=\"text-align: right;\">  1</td><td style=\"text-align: right;\">  1</td><td style=\"text-align: right;\">  4</td><td style=\"text-align: right;\"> 18</td><td style=\"text-align: right;\">     1</td><td style=\"text-align: right;\">      1526.17   </td><td style=\"text-align: right;\">   inf</td></tr>\n",
       "<tr><td>sarimax_trainable_8f007fdb</td><td>TERMINATED</td><td>127.0.0.1:33468</td><td style=\"text-align: right;\">  1</td><td style=\"text-align: right;\">  1</td><td style=\"text-align: right;\">  6</td><td style=\"text-align: right;\">  7</td><td style=\"text-align: right;\">     1</td><td style=\"text-align: right;\">       875.016  </td><td style=\"text-align: right;\">   inf</td></tr>\n",
       "<tr><td>sarimax_trainable_33b57d82</td><td>TERMINATED</td><td>127.0.0.1:2604 </td><td style=\"text-align: right;\">  1</td><td style=\"text-align: right;\">  1</td><td style=\"text-align: right;\">  8</td><td style=\"text-align: right;\"> 21</td><td style=\"text-align: right;\">     1</td><td style=\"text-align: right;\">        81.6994 </td><td style=\"text-align: right;\">   inf</td></tr>\n",
       "<tr><td>sarimax_trainable_6b0c3469</td><td>TERMINATED</td><td>127.0.0.1:33060</td><td style=\"text-align: right;\">  0</td><td style=\"text-align: right;\">  1</td><td style=\"text-align: right;\"> 12</td><td style=\"text-align: right;\">  6</td><td style=\"text-align: right;\">     1</td><td style=\"text-align: right;\">       937.205  </td><td style=\"text-align: right;\">   inf</td></tr>\n",
       "<tr><td>sarimax_trainable_5c9205d4</td><td>TERMINATED</td><td>127.0.0.1:33372</td><td style=\"text-align: right;\">  1</td><td style=\"text-align: right;\">  1</td><td style=\"text-align: right;\"> 12</td><td style=\"text-align: right;\">  7</td><td style=\"text-align: right;\">     1</td><td style=\"text-align: right;\">       408.024  </td><td style=\"text-align: right;\">   inf</td></tr>\n",
       "<tr><td>sarimax_trainable_deecdad3</td><td>TERMINATED</td><td>127.0.0.1:15376</td><td style=\"text-align: right;\">  1</td><td style=\"text-align: right;\">  1</td><td style=\"text-align: right;\">  1</td><td style=\"text-align: right;\">  2</td><td style=\"text-align: right;\">     1</td><td style=\"text-align: right;\">      2188.28   </td><td style=\"text-align: right;\">   inf</td></tr>\n",
       "<tr><td>sarimax_trainable_5cbdb375</td><td>TERMINATED</td><td>127.0.0.1:36360</td><td style=\"text-align: right;\">  1</td><td style=\"text-align: right;\">  1</td><td style=\"text-align: right;\">  1</td><td style=\"text-align: right;\">  1</td><td style=\"text-align: right;\">     1</td><td style=\"text-align: right;\">        21.67   </td><td style=\"text-align: right;\">   inf</td></tr>\n",
       "<tr><td>sarimax_trainable_b4e50812</td><td>TERMINATED</td><td>127.0.0.1:24172</td><td style=\"text-align: right;\">  1</td><td style=\"text-align: right;\">  1</td><td style=\"text-align: right;\">  4</td><td style=\"text-align: right;\"> 19</td><td style=\"text-align: right;\">     1</td><td style=\"text-align: right;\">      1578.46   </td><td style=\"text-align: right;\">   inf</td></tr>\n",
       "<tr><td>sarimax_trainable_e075251e</td><td>TERMINATED</td><td>127.0.0.1:17888</td><td style=\"text-align: right;\">  1</td><td style=\"text-align: right;\">  0</td><td style=\"text-align: right;\"> 14</td><td style=\"text-align: right;\"> 14</td><td style=\"text-align: right;\">     1</td><td style=\"text-align: right;\">      1452.63   </td><td style=\"text-align: right;\">   inf</td></tr>\n",
       "<tr><td>sarimax_trainable_43ae1bfe</td><td>TERMINATED</td><td>127.0.0.1:30580</td><td style=\"text-align: right;\">  1</td><td style=\"text-align: right;\">  0</td><td style=\"text-align: right;\"> 19</td><td style=\"text-align: right;\">  2</td><td style=\"text-align: right;\">     1</td><td style=\"text-align: right;\">       598.16   </td><td style=\"text-align: right;\">   inf</td></tr>\n",
       "<tr><td>sarimax_trainable_c18736e6</td><td>TERMINATED</td><td>127.0.0.1:20132</td><td style=\"text-align: right;\">  1</td><td style=\"text-align: right;\">  0</td><td style=\"text-align: right;\"> 19</td><td style=\"text-align: right;\"> 24</td><td style=\"text-align: right;\">     1</td><td style=\"text-align: right;\">       100.572  </td><td style=\"text-align: right;\">   inf</td></tr>\n",
       "<tr><td>sarimax_trainable_48ac700e</td><td>TERMINATED</td><td>127.0.0.1:33720</td><td style=\"text-align: right;\">  1</td><td style=\"text-align: right;\">  0</td><td style=\"text-align: right;\">  8</td><td style=\"text-align: right;\"> 14</td><td style=\"text-align: right;\">     1</td><td style=\"text-align: right;\">       524.714  </td><td style=\"text-align: right;\">   inf</td></tr>\n",
       "<tr><td>sarimax_trainable_38a75816</td><td>TERMINATED</td><td>127.0.0.1:12704</td><td style=\"text-align: right;\">  0</td><td style=\"text-align: right;\">  0</td><td style=\"text-align: right;\"> 14</td><td style=\"text-align: right;\"> 19</td><td style=\"text-align: right;\">     1</td><td style=\"text-align: right;\">       101.719  </td><td style=\"text-align: right;\">   inf</td></tr>\n",
       "<tr><td>sarimax_trainable_7c507694</td><td>TERMINATED</td><td>127.0.0.1:31884</td><td style=\"text-align: right;\">  0</td><td style=\"text-align: right;\">  0</td><td style=\"text-align: right;\"> 14</td><td style=\"text-align: right;\"> 12</td><td style=\"text-align: right;\">     1</td><td style=\"text-align: right;\">        82.1608 </td><td style=\"text-align: right;\">   inf</td></tr>\n",
       "<tr><td>sarimax_trainable_27a60985</td><td>TERMINATED</td><td>127.0.0.1:27236</td><td style=\"text-align: right;\">  1</td><td style=\"text-align: right;\">  0</td><td style=\"text-align: right;\"> 16</td><td style=\"text-align: right;\"> 20</td><td style=\"text-align: right;\">      </td><td style=\"text-align: right;\">                </td><td style=\"text-align: right;\">      </td></tr>\n",
       "<tr><td>sarimax_trainable_32105ad9</td><td>TERMINATED</td><td>127.0.0.1:2940 </td><td style=\"text-align: right;\">  1</td><td style=\"text-align: right;\">  0</td><td style=\"text-align: right;\"> 23</td><td style=\"text-align: right;\"> 20</td><td style=\"text-align: right;\">     1</td><td style=\"text-align: right;\">      1034.3    </td><td style=\"text-align: right;\">   inf</td></tr>\n",
       "<tr><td>sarimax_trainable_323f439c</td><td>TERMINATED</td><td>127.0.0.1:14896</td><td style=\"text-align: right;\">  1</td><td style=\"text-align: right;\">  0</td><td style=\"text-align: right;\"> 23</td><td style=\"text-align: right;\">  4</td><td style=\"text-align: right;\">     1</td><td style=\"text-align: right;\">       901.657  </td><td style=\"text-align: right;\">   inf</td></tr>\n",
       "<tr><td>sarimax_trainable_c9f64071</td><td>TERMINATED</td><td>127.0.0.1:2592 </td><td style=\"text-align: right;\">  1</td><td style=\"text-align: right;\">  0</td><td style=\"text-align: right;\"> 23</td><td style=\"text-align: right;\"> 21</td><td style=\"text-align: right;\">     1</td><td style=\"text-align: right;\">      1262.03   </td><td style=\"text-align: right;\">   inf</td></tr>\n",
       "<tr><td>sarimax_trainable_025458e0</td><td>TERMINATED</td><td>127.0.0.1:20944</td><td style=\"text-align: right;\">  1</td><td style=\"text-align: right;\">  0</td><td style=\"text-align: right;\"> 23</td><td style=\"text-align: right;\"> 21</td><td style=\"text-align: right;\">     1</td><td style=\"text-align: right;\">      1260.8    </td><td style=\"text-align: right;\">   inf</td></tr>\n",
       "<tr><td>sarimax_trainable_c2f5adf0</td><td>TERMINATED</td><td>127.0.0.1:3728 </td><td style=\"text-align: right;\">  0</td><td style=\"text-align: right;\">  0</td><td style=\"text-align: right;\"> 23</td><td style=\"text-align: right;\"> 20</td><td style=\"text-align: right;\">     1</td><td style=\"text-align: right;\">       208.707  </td><td style=\"text-align: right;\">   inf</td></tr>\n",
       "<tr><td>sarimax_trainable_d3a7d2e4</td><td>TERMINATED</td><td>127.0.0.1:5984 </td><td style=\"text-align: right;\">  0</td><td style=\"text-align: right;\">  0</td><td style=\"text-align: right;\"> 24</td><td style=\"text-align: right;\"> 20</td><td style=\"text-align: right;\">     1</td><td style=\"text-align: right;\">        50.2446 </td><td style=\"text-align: right;\">   inf</td></tr>\n",
       "<tr><td>sarimax_trainable_ded88b36</td><td>TERMINATED</td><td>127.0.0.1:4104 </td><td style=\"text-align: right;\">  0</td><td style=\"text-align: right;\">  0</td><td style=\"text-align: right;\"> 16</td><td style=\"text-align: right;\"> 10</td><td style=\"text-align: right;\">     1</td><td style=\"text-align: right;\">        83.3483 </td><td style=\"text-align: right;\">   inf</td></tr>\n",
       "<tr><td>sarimax_trainable_91ee7bf3</td><td>TERMINATED</td><td>127.0.0.1:3956 </td><td style=\"text-align: right;\">  1</td><td style=\"text-align: right;\">  0</td><td style=\"text-align: right;\"> 10</td><td style=\"text-align: right;\"> 17</td><td style=\"text-align: right;\">      </td><td style=\"text-align: right;\">                </td><td style=\"text-align: right;\">      </td></tr>\n",
       "<tr><td>sarimax_trainable_d4801e3c</td><td>TERMINATED</td><td>127.0.0.1:44904</td><td style=\"text-align: right;\">  0</td><td style=\"text-align: right;\">  1</td><td style=\"text-align: right;\"> 10</td><td style=\"text-align: right;\"> 10</td><td style=\"text-align: right;\">      </td><td style=\"text-align: right;\">                </td><td style=\"text-align: right;\">      </td></tr>\n",
       "<tr><td>sarimax_trainable_f8ac1666</td><td>TERMINATED</td><td>127.0.0.1:21728</td><td style=\"text-align: right;\">  1</td><td style=\"text-align: right;\">  1</td><td style=\"text-align: right;\"> 20</td><td style=\"text-align: right;\">  9</td><td style=\"text-align: right;\">     1</td><td style=\"text-align: right;\">        81.4629 </td><td style=\"text-align: right;\">   inf</td></tr>\n",
       "<tr><td>sarimax_trainable_d824e1fa</td><td>TERMINATED</td><td>127.0.0.1:35596</td><td style=\"text-align: right;\">  1</td><td style=\"text-align: right;\">  1</td><td style=\"text-align: right;\"> 21</td><td style=\"text-align: right;\">  8</td><td style=\"text-align: right;\">      </td><td style=\"text-align: right;\">                </td><td style=\"text-align: right;\">      </td></tr>\n",
       "<tr><td>sarimax_trainable_4265051c</td><td>TERMINATED</td><td>127.0.0.1:42828</td><td style=\"text-align: right;\">  1</td><td style=\"text-align: right;\">  1</td><td style=\"text-align: right;\"> 21</td><td style=\"text-align: right;\">  8</td><td style=\"text-align: right;\">      </td><td style=\"text-align: right;\">                </td><td style=\"text-align: right;\">      </td></tr>\n",
       "<tr><td>sarimax_trainable_0e286b37</td><td>TERMINATED</td><td>127.0.0.1:15824</td><td style=\"text-align: right;\">  1</td><td style=\"text-align: right;\">  1</td><td style=\"text-align: right;\"> 21</td><td style=\"text-align: right;\"> 11</td><td style=\"text-align: right;\">     1</td><td style=\"text-align: right;\">        85.1266 </td><td style=\"text-align: right;\">   inf</td></tr>\n",
       "<tr><td>sarimax_trainable_630497de</td><td>TERMINATED</td><td>127.0.0.1:38960</td><td style=\"text-align: right;\">  1</td><td style=\"text-align: right;\">  1</td><td style=\"text-align: right;\"> 18</td><td style=\"text-align: right;\">  8</td><td style=\"text-align: right;\">      </td><td style=\"text-align: right;\">                </td><td style=\"text-align: right;\">      </td></tr>\n",
       "</tbody>\n",
       "</table>\n",
       "  </div>\n",
       "</div>\n",
       "<style>\n",
       ".tuneStatus {\n",
       "  color: var(--jp-ui-font-color1);\n",
       "}\n",
       ".tuneStatus .systemInfo {\n",
       "  display: flex;\n",
       "  flex-direction: column;\n",
       "}\n",
       ".tuneStatus td {\n",
       "  white-space: nowrap;\n",
       "}\n",
       ".tuneStatus .trialStatus {\n",
       "  display: flex;\n",
       "  flex-direction: column;\n",
       "}\n",
       ".tuneStatus h3 {\n",
       "  font-weight: bold;\n",
       "}\n",
       ".tuneStatus .hDivider {\n",
       "  border-bottom-width: var(--jp-border-width);\n",
       "  border-bottom-color: var(--jp-border-color0);\n",
       "  border-bottom-style: solid;\n",
       "}\n",
       ".tuneStatus .vDivider {\n",
       "  border-left-width: var(--jp-border-width);\n",
       "  border-left-color: var(--jp-border-color0);\n",
       "  border-left-style: solid;\n",
       "  margin: 0.5em 1em 0.5em 1em;\n",
       "}\n",
       "</style>\n"
      ],
      "text/plain": [
       "<IPython.core.display.HTML object>"
      ]
     },
     "metadata": {},
     "output_type": "display_data"
    },
    {
     "data": {
      "text/html": [
       "<div class=\"trialProgress\">\n",
       "  <h3>Trial Progress</h3>\n",
       "  <table>\n",
       "<thead>\n",
       "<tr><th>Trial name                </th><th style=\"text-align: right;\">  loss</th></tr>\n",
       "</thead>\n",
       "<tbody>\n",
       "<tr><td>sarimax_trainable_005af69c</td><td style=\"text-align: right;\">   inf</td></tr>\n",
       "<tr><td>sarimax_trainable_019d75cd</td><td style=\"text-align: right;\">   inf</td></tr>\n",
       "<tr><td>sarimax_trainable_025458e0</td><td style=\"text-align: right;\">   inf</td></tr>\n",
       "<tr><td>sarimax_trainable_0545bb05</td><td style=\"text-align: right;\">   inf</td></tr>\n",
       "<tr><td>sarimax_trainable_054bc3a1</td><td style=\"text-align: right;\">   inf</td></tr>\n",
       "<tr><td>sarimax_trainable_07b57489</td><td style=\"text-align: right;\">   inf</td></tr>\n",
       "<tr><td>sarimax_trainable_07c72066</td><td style=\"text-align: right;\">   inf</td></tr>\n",
       "<tr><td>sarimax_trainable_09c696aa</td><td style=\"text-align: right;\">   inf</td></tr>\n",
       "<tr><td>sarimax_trainable_0a01a047</td><td style=\"text-align: right;\">   inf</td></tr>\n",
       "<tr><td>sarimax_trainable_0b21b6f5</td><td style=\"text-align: right;\">   inf</td></tr>\n",
       "<tr><td>sarimax_trainable_0c41325a</td><td style=\"text-align: right;\">   inf</td></tr>\n",
       "<tr><td>sarimax_trainable_0d95ed25</td><td style=\"text-align: right;\">   inf</td></tr>\n",
       "<tr><td>sarimax_trainable_0e286b37</td><td style=\"text-align: right;\">   inf</td></tr>\n",
       "<tr><td>sarimax_trainable_0ee6bba3</td><td style=\"text-align: right;\">   inf</td></tr>\n",
       "<tr><td>sarimax_trainable_10b92e56</td><td style=\"text-align: right;\">   inf</td></tr>\n",
       "<tr><td>sarimax_trainable_12523ee1</td><td style=\"text-align: right;\">   inf</td></tr>\n",
       "<tr><td>sarimax_trainable_19a1d072</td><td style=\"text-align: right;\">   inf</td></tr>\n",
       "<tr><td>sarimax_trainable_1aa77deb</td><td style=\"text-align: right;\">   inf</td></tr>\n",
       "<tr><td>sarimax_trainable_1c071867</td><td style=\"text-align: right;\">   inf</td></tr>\n",
       "<tr><td>sarimax_trainable_1c312b37</td><td style=\"text-align: right;\">   inf</td></tr>\n",
       "<tr><td>sarimax_trainable_1d5c8705</td><td style=\"text-align: right;\">   inf</td></tr>\n",
       "<tr><td>sarimax_trainable_1ef1e5fe</td><td style=\"text-align: right;\">   inf</td></tr>\n",
       "<tr><td>sarimax_trainable_1fe40d90</td><td style=\"text-align: right;\">   inf</td></tr>\n",
       "<tr><td>sarimax_trainable_20f46ef1</td><td style=\"text-align: right;\">   inf</td></tr>\n",
       "<tr><td>sarimax_trainable_25e9ecf9</td><td style=\"text-align: right;\">   inf</td></tr>\n",
       "<tr><td>sarimax_trainable_2c4790ff</td><td style=\"text-align: right;\">   inf</td></tr>\n",
       "<tr><td>sarimax_trainable_2e1fa752</td><td style=\"text-align: right;\">   inf</td></tr>\n",
       "<tr><td>sarimax_trainable_2facbbe7</td><td style=\"text-align: right;\">   inf</td></tr>\n",
       "<tr><td>sarimax_trainable_3174d26f</td><td style=\"text-align: right;\">   inf</td></tr>\n",
       "<tr><td>sarimax_trainable_319c61f0</td><td style=\"text-align: right;\">   inf</td></tr>\n",
       "<tr><td>sarimax_trainable_32105ad9</td><td style=\"text-align: right;\">   inf</td></tr>\n",
       "<tr><td>sarimax_trainable_323f439c</td><td style=\"text-align: right;\">   inf</td></tr>\n",
       "<tr><td>sarimax_trainable_33b57d82</td><td style=\"text-align: right;\">   inf</td></tr>\n",
       "<tr><td>sarimax_trainable_37a814f6</td><td style=\"text-align: right;\">   inf</td></tr>\n",
       "<tr><td>sarimax_trainable_384f49b8</td><td style=\"text-align: right;\">   inf</td></tr>\n",
       "<tr><td>sarimax_trainable_38a75816</td><td style=\"text-align: right;\">   inf</td></tr>\n",
       "<tr><td>sarimax_trainable_39014c08</td><td style=\"text-align: right;\">   inf</td></tr>\n",
       "<tr><td>sarimax_trainable_3f4a370c</td><td style=\"text-align: right;\">   inf</td></tr>\n",
       "<tr><td>sarimax_trainable_4016973f</td><td style=\"text-align: right;\">   inf</td></tr>\n",
       "<tr><td>sarimax_trainable_4222bd55</td><td style=\"text-align: right;\">   inf</td></tr>\n",
       "<tr><td>sarimax_trainable_430c9b26</td><td style=\"text-align: right;\">   inf</td></tr>\n",
       "<tr><td>sarimax_trainable_43ae1bfe</td><td style=\"text-align: right;\">   inf</td></tr>\n",
       "<tr><td>sarimax_trainable_48ac700e</td><td style=\"text-align: right;\">   inf</td></tr>\n",
       "<tr><td>sarimax_trainable_4969a205</td><td style=\"text-align: right;\">   inf</td></tr>\n",
       "<tr><td>sarimax_trainable_496a68b3</td><td style=\"text-align: right;\">   inf</td></tr>\n",
       "<tr><td>sarimax_trainable_4a67a5a9</td><td style=\"text-align: right;\">   inf</td></tr>\n",
       "<tr><td>sarimax_trainable_4d9919a5</td><td style=\"text-align: right;\">   inf</td></tr>\n",
       "<tr><td>sarimax_trainable_4dd9ba75</td><td style=\"text-align: right;\">   inf</td></tr>\n",
       "<tr><td>sarimax_trainable_50e715fe</td><td style=\"text-align: right;\">   inf</td></tr>\n",
       "<tr><td>sarimax_trainable_52264b5a</td><td style=\"text-align: right;\">   inf</td></tr>\n",
       "<tr><td>sarimax_trainable_55b68a97</td><td style=\"text-align: right;\">   inf</td></tr>\n",
       "<tr><td>sarimax_trainable_5748d397</td><td style=\"text-align: right;\">   inf</td></tr>\n",
       "<tr><td>sarimax_trainable_5c9205d4</td><td style=\"text-align: right;\">   inf</td></tr>\n",
       "<tr><td>sarimax_trainable_5cbdb375</td><td style=\"text-align: right;\">   inf</td></tr>\n",
       "<tr><td>sarimax_trainable_5d562cf8</td><td style=\"text-align: right;\">   inf</td></tr>\n",
       "<tr><td>sarimax_trainable_5df87c29</td><td style=\"text-align: right;\">   inf</td></tr>\n",
       "<tr><td>sarimax_trainable_61432468</td><td style=\"text-align: right;\">   inf</td></tr>\n",
       "<tr><td>sarimax_trainable_6228aa13</td><td style=\"text-align: right;\">   inf</td></tr>\n",
       "<tr><td>sarimax_trainable_63e6e408</td><td style=\"text-align: right;\">   inf</td></tr>\n",
       "<tr><td>sarimax_trainable_68222e97</td><td style=\"text-align: right;\">   inf</td></tr>\n",
       "<tr><td>sarimax_trainable_6b0c3469</td><td style=\"text-align: right;\">   inf</td></tr>\n",
       "<tr><td>sarimax_trainable_6b220309</td><td style=\"text-align: right;\">   inf</td></tr>\n",
       "<tr><td>sarimax_trainable_6efd65aa</td><td style=\"text-align: right;\">   inf</td></tr>\n",
       "<tr><td>sarimax_trainable_7154cd19</td><td style=\"text-align: right;\">   inf</td></tr>\n",
       "<tr><td>sarimax_trainable_724dbef1</td><td style=\"text-align: right;\">   inf</td></tr>\n",
       "<tr><td>sarimax_trainable_73313a26</td><td style=\"text-align: right;\">   inf</td></tr>\n",
       "<tr><td>sarimax_trainable_734724c5</td><td style=\"text-align: right;\">   inf</td></tr>\n",
       "<tr><td>sarimax_trainable_73aca0ad</td><td style=\"text-align: right;\">   inf</td></tr>\n",
       "<tr><td>sarimax_trainable_73f2f056</td><td style=\"text-align: right;\">   inf</td></tr>\n",
       "<tr><td>sarimax_trainable_75163c38</td><td style=\"text-align: right;\">   inf</td></tr>\n",
       "<tr><td>sarimax_trainable_756895e7</td><td style=\"text-align: right;\">   inf</td></tr>\n",
       "<tr><td>sarimax_trainable_782a872f</td><td style=\"text-align: right;\">   inf</td></tr>\n",
       "<tr><td>sarimax_trainable_788a8bb9</td><td style=\"text-align: right;\">   inf</td></tr>\n",
       "<tr><td>sarimax_trainable_79621a26</td><td style=\"text-align: right;\">   inf</td></tr>\n",
       "<tr><td>sarimax_trainable_7a7bf298</td><td style=\"text-align: right;\">   inf</td></tr>\n",
       "<tr><td>sarimax_trainable_7aa35448</td><td style=\"text-align: right;\">   inf</td></tr>\n",
       "<tr><td>sarimax_trainable_7b386ebd</td><td style=\"text-align: right;\">   inf</td></tr>\n",
       "<tr><td>sarimax_trainable_7c507694</td><td style=\"text-align: right;\">   inf</td></tr>\n",
       "<tr><td>sarimax_trainable_7fe6ad97</td><td style=\"text-align: right;\">   inf</td></tr>\n",
       "<tr><td>sarimax_trainable_8067c9aa</td><td style=\"text-align: right;\">   inf</td></tr>\n",
       "<tr><td>sarimax_trainable_83c20961</td><td style=\"text-align: right;\">   inf</td></tr>\n",
       "<tr><td>sarimax_trainable_8e3f3d7b</td><td style=\"text-align: right;\">   inf</td></tr>\n",
       "<tr><td>sarimax_trainable_8f007fdb</td><td style=\"text-align: right;\">   inf</td></tr>\n",
       "<tr><td>sarimax_trainable_906d493d</td><td style=\"text-align: right;\">   inf</td></tr>\n",
       "<tr><td>sarimax_trainable_91e9866a</td><td style=\"text-align: right;\">   inf</td></tr>\n",
       "<tr><td>sarimax_trainable_926df445</td><td style=\"text-align: right;\">   inf</td></tr>\n",
       "<tr><td>sarimax_trainable_948937b6</td><td style=\"text-align: right;\">   inf</td></tr>\n",
       "<tr><td>sarimax_trainable_94f7351e</td><td style=\"text-align: right;\">   inf</td></tr>\n",
       "<tr><td>sarimax_trainable_95abd77f</td><td style=\"text-align: right;\">   inf</td></tr>\n",
       "<tr><td>sarimax_trainable_99e403f6</td><td style=\"text-align: right;\">   inf</td></tr>\n",
       "<tr><td>sarimax_trainable_9c47fe46</td><td style=\"text-align: right;\">   inf</td></tr>\n",
       "<tr><td>sarimax_trainable_9ce8c5c9</td><td style=\"text-align: right;\">   inf</td></tr>\n",
       "<tr><td>sarimax_trainable_9d2cfb0b</td><td style=\"text-align: right;\">   inf</td></tr>\n",
       "<tr><td>sarimax_trainable_9de6bcbd</td><td style=\"text-align: right;\">   inf</td></tr>\n",
       "<tr><td>sarimax_trainable_a00496eb</td><td style=\"text-align: right;\">   inf</td></tr>\n",
       "<tr><td>sarimax_trainable_a0822ff0</td><td style=\"text-align: right;\">   inf</td></tr>\n",
       "<tr><td>sarimax_trainable_a2e6da2b</td><td style=\"text-align: right;\">   inf</td></tr>\n",
       "<tr><td>sarimax_trainable_a446f642</td><td style=\"text-align: right;\">   inf</td></tr>\n",
       "<tr><td>sarimax_trainable_a475623d</td><td style=\"text-align: right;\">   inf</td></tr>\n",
       "<tr><td>sarimax_trainable_a487836b</td><td style=\"text-align: right;\">   inf</td></tr>\n",
       "<tr><td>sarimax_trainable_a98fb29a</td><td style=\"text-align: right;\">   inf</td></tr>\n",
       "<tr><td>sarimax_trainable_aa2d5deb</td><td style=\"text-align: right;\">   inf</td></tr>\n",
       "<tr><td>sarimax_trainable_abe4fe41</td><td style=\"text-align: right;\">   inf</td></tr>\n",
       "<tr><td>sarimax_trainable_b01e2d02</td><td style=\"text-align: right;\">   inf</td></tr>\n",
       "<tr><td>sarimax_trainable_b4bb38cf</td><td style=\"text-align: right;\">   inf</td></tr>\n",
       "<tr><td>sarimax_trainable_b4e50812</td><td style=\"text-align: right;\">   inf</td></tr>\n",
       "<tr><td>sarimax_trainable_b8110563</td><td style=\"text-align: right;\">   inf</td></tr>\n",
       "<tr><td>sarimax_trainable_b95ee593</td><td style=\"text-align: right;\">   inf</td></tr>\n",
       "<tr><td>sarimax_trainable_b9ceecf4</td><td style=\"text-align: right;\">   inf</td></tr>\n",
       "<tr><td>sarimax_trainable_baeceb3a</td><td style=\"text-align: right;\">   inf</td></tr>\n",
       "<tr><td>sarimax_trainable_bb18c8f0</td><td style=\"text-align: right;\">   inf</td></tr>\n",
       "<tr><td>sarimax_trainable_bd31b9b9</td><td style=\"text-align: right;\">   inf</td></tr>\n",
       "<tr><td>sarimax_trainable_bf756c38</td><td style=\"text-align: right;\">   inf</td></tr>\n",
       "<tr><td>sarimax_trainable_c17d6cb7</td><td style=\"text-align: right;\">   inf</td></tr>\n",
       "<tr><td>sarimax_trainable_c18736e6</td><td style=\"text-align: right;\">   inf</td></tr>\n",
       "<tr><td>sarimax_trainable_c1c9b925</td><td style=\"text-align: right;\">   inf</td></tr>\n",
       "<tr><td>sarimax_trainable_c1eb8df6</td><td style=\"text-align: right;\">   inf</td></tr>\n",
       "<tr><td>sarimax_trainable_c2f5adf0</td><td style=\"text-align: right;\">   inf</td></tr>\n",
       "<tr><td>sarimax_trainable_c5d4fc3d</td><td style=\"text-align: right;\">   inf</td></tr>\n",
       "<tr><td>sarimax_trainable_c5e1add8</td><td style=\"text-align: right;\">   inf</td></tr>\n",
       "<tr><td>sarimax_trainable_c64bc88a</td><td style=\"text-align: right;\">   inf</td></tr>\n",
       "<tr><td>sarimax_trainable_c6b63692</td><td style=\"text-align: right;\">   inf</td></tr>\n",
       "<tr><td>sarimax_trainable_c800c22e</td><td style=\"text-align: right;\">   inf</td></tr>\n",
       "<tr><td>sarimax_trainable_c8f950c0</td><td style=\"text-align: right;\">   inf</td></tr>\n",
       "<tr><td>sarimax_trainable_c9f64071</td><td style=\"text-align: right;\">   inf</td></tr>\n",
       "<tr><td>sarimax_trainable_ccb69c45</td><td style=\"text-align: right;\">   inf</td></tr>\n",
       "<tr><td>sarimax_trainable_cdad3afe</td><td style=\"text-align: right;\">   inf</td></tr>\n",
       "<tr><td>sarimax_trainable_ce65c3b1</td><td style=\"text-align: right;\">   inf</td></tr>\n",
       "<tr><td>sarimax_trainable_cf13f8fd</td><td style=\"text-align: right;\">   inf</td></tr>\n",
       "<tr><td>sarimax_trainable_d27fd2ab</td><td style=\"text-align: right;\">   inf</td></tr>\n",
       "<tr><td>sarimax_trainable_d2c0d5ce</td><td style=\"text-align: right;\">   inf</td></tr>\n",
       "<tr><td>sarimax_trainable_d3a7d2e4</td><td style=\"text-align: right;\">   inf</td></tr>\n",
       "<tr><td>sarimax_trainable_d5206505</td><td style=\"text-align: right;\">   inf</td></tr>\n",
       "<tr><td>sarimax_trainable_d6eebbb6</td><td style=\"text-align: right;\">   inf</td></tr>\n",
       "<tr><td>sarimax_trainable_d9be70fb</td><td style=\"text-align: right;\">   inf</td></tr>\n",
       "<tr><td>sarimax_trainable_db2fe7b7</td><td style=\"text-align: right;\">   inf</td></tr>\n",
       "<tr><td>sarimax_trainable_ddc7e271</td><td style=\"text-align: right;\">   inf</td></tr>\n",
       "<tr><td>sarimax_trainable_ded88b36</td><td style=\"text-align: right;\">   inf</td></tr>\n",
       "<tr><td>sarimax_trainable_deecdad3</td><td style=\"text-align: right;\">   inf</td></tr>\n",
       "<tr><td>sarimax_trainable_e075251e</td><td style=\"text-align: right;\">   inf</td></tr>\n",
       "<tr><td>sarimax_trainable_e1357166</td><td style=\"text-align: right;\">   inf</td></tr>\n",
       "<tr><td>sarimax_trainable_e37bb713</td><td style=\"text-align: right;\">   inf</td></tr>\n",
       "<tr><td>sarimax_trainable_e51224c2</td><td style=\"text-align: right;\">   inf</td></tr>\n",
       "<tr><td>sarimax_trainable_ec2dcc8c</td><td style=\"text-align: right;\">   inf</td></tr>\n",
       "<tr><td>sarimax_trainable_f031d0c5</td><td style=\"text-align: right;\">   inf</td></tr>\n",
       "<tr><td>sarimax_trainable_f433d0de</td><td style=\"text-align: right;\">   inf</td></tr>\n",
       "<tr><td>sarimax_trainable_f4726035</td><td style=\"text-align: right;\">   inf</td></tr>\n",
       "<tr><td>sarimax_trainable_f71df5d4</td><td style=\"text-align: right;\">   inf</td></tr>\n",
       "<tr><td>sarimax_trainable_f8ac1666</td><td style=\"text-align: right;\">   inf</td></tr>\n",
       "<tr><td>sarimax_trainable_f8ccd9df</td><td style=\"text-align: right;\">   inf</td></tr>\n",
       "<tr><td>sarimax_trainable_f90b8e80</td><td style=\"text-align: right;\">   inf</td></tr>\n",
       "<tr><td>sarimax_trainable_f9247897</td><td style=\"text-align: right;\">   inf</td></tr>\n",
       "<tr><td>sarimax_trainable_f9af6f96</td><td style=\"text-align: right;\">   inf</td></tr>\n",
       "<tr><td>sarimax_trainable_fb9a1f84</td><td style=\"text-align: right;\">   inf</td></tr>\n",
       "<tr><td>sarimax_trainable_ff3b696e</td><td style=\"text-align: right;\">   inf</td></tr>\n",
       "</tbody>\n",
       "</table>\n",
       "</div>\n",
       "<style>\n",
       ".trialProgress {\n",
       "  display: flex;\n",
       "  flex-direction: column;\n",
       "  color: var(--jp-ui-font-color1);\n",
       "}\n",
       ".trialProgress h3 {\n",
       "  font-weight: bold;\n",
       "}\n",
       ".trialProgress td {\n",
       "  white-space: nowrap;\n",
       "}\n",
       "</style>\n"
      ],
      "text/plain": [
       "<IPython.core.display.HTML object>"
      ]
     },
     "metadata": {},
     "output_type": "display_data"
    },
    {
     "name": "stderr",
     "output_type": "stream",
     "text": [
      "NaN or Inf found in input tensor.\n"
     ]
    },
    {
     "name": "stdout",
     "output_type": "stream",
     "text": [
      "\u001b[36m(sarimax_trainable pid=38176)\u001b[0m An error occurred: name 'validation' is not defined\n"
     ]
    },
    {
     "name": "stderr",
     "output_type": "stream",
     "text": [
      "NaN or Inf found in input tensor.\n"
     ]
    },
    {
     "name": "stdout",
     "output_type": "stream",
     "text": [
      "\u001b[36m(sarimax_trainable pid=42484)\u001b[0m An error occurred: name 'validation' is not defined\n"
     ]
    },
    {
     "name": "stderr",
     "output_type": "stream",
     "text": [
      "NaN or Inf found in input tensor.\n"
     ]
    },
    {
     "name": "stdout",
     "output_type": "stream",
     "text": [
      "\u001b[36m(sarimax_trainable pid=26316)\u001b[0m An error occurred: name 'validation' is not defined\n"
     ]
    },
    {
     "name": "stderr",
     "output_type": "stream",
     "text": [
      "NaN or Inf found in input tensor.\n"
     ]
    },
    {
     "name": "stdout",
     "output_type": "stream",
     "text": [
      "\u001b[36m(sarimax_trainable pid=31440)\u001b[0m An error occurred: name 'validation' is not defined\n"
     ]
    },
    {
     "name": "stderr",
     "output_type": "stream",
     "text": [
      "NaN or Inf found in input tensor.\n"
     ]
    },
    {
     "name": "stdout",
     "output_type": "stream",
     "text": [
      "\u001b[36m(sarimax_trainable pid=5052)\u001b[0m An error occurred: name 'validation' is not defined\n"
     ]
    },
    {
     "name": "stderr",
     "output_type": "stream",
     "text": [
      "NaN or Inf found in input tensor.\n"
     ]
    },
    {
     "name": "stdout",
     "output_type": "stream",
     "text": [
      "\u001b[36m(sarimax_trainable pid=3860)\u001b[0m An error occurred: name 'validation' is not defined\n"
     ]
    },
    {
     "name": "stderr",
     "output_type": "stream",
     "text": [
      "NaN or Inf found in input tensor.\n"
     ]
    },
    {
     "name": "stdout",
     "output_type": "stream",
     "text": [
      "\u001b[36m(sarimax_trainable pid=7264)\u001b[0m An error occurred: name 'validation' is not defined\n"
     ]
    },
    {
     "name": "stderr",
     "output_type": "stream",
     "text": [
      "NaN or Inf found in input tensor.\n"
     ]
    },
    {
     "name": "stdout",
     "output_type": "stream",
     "text": [
      "\u001b[36m(sarimax_trainable pid=6180)\u001b[0m An error occurred: name 'validation' is not defined\n"
     ]
    },
    {
     "name": "stderr",
     "output_type": "stream",
     "text": [
      "NaN or Inf found in input tensor.\n"
     ]
    },
    {
     "name": "stdout",
     "output_type": "stream",
     "text": [
      "\u001b[36m(sarimax_trainable pid=25028)\u001b[0m An error occurred: name 'validation' is not defined\n"
     ]
    },
    {
     "name": "stderr",
     "output_type": "stream",
     "text": [
      "NaN or Inf found in input tensor.\n"
     ]
    },
    {
     "name": "stdout",
     "output_type": "stream",
     "text": [
      "\u001b[36m(sarimax_trainable pid=29488)\u001b[0m An error occurred: name 'validation' is not defined\n"
     ]
    },
    {
     "name": "stderr",
     "output_type": "stream",
     "text": [
      "NaN or Inf found in input tensor.\n"
     ]
    },
    {
     "name": "stdout",
     "output_type": "stream",
     "text": [
      "\u001b[36m(sarimax_trainable pid=32932)\u001b[0m An error occurred: name 'validation' is not defined\n"
     ]
    },
    {
     "name": "stderr",
     "output_type": "stream",
     "text": [
      "NaN or Inf found in input tensor.\n"
     ]
    },
    {
     "name": "stdout",
     "output_type": "stream",
     "text": [
      "\u001b[36m(sarimax_trainable pid=41636)\u001b[0m An error occurred: name 'validation' is not defined\n"
     ]
    },
    {
     "name": "stderr",
     "output_type": "stream",
     "text": [
      "NaN or Inf found in input tensor.\n"
     ]
    },
    {
     "name": "stdout",
     "output_type": "stream",
     "text": [
      "\u001b[36m(sarimax_trainable pid=33452)\u001b[0m An error occurred: name 'validation' is not defined\n"
     ]
    },
    {
     "name": "stderr",
     "output_type": "stream",
     "text": [
      "NaN or Inf found in input tensor.\n"
     ]
    },
    {
     "name": "stdout",
     "output_type": "stream",
     "text": [
      "\u001b[36m(sarimax_trainable pid=23176)\u001b[0m An error occurred: name 'validation' is not defined\n"
     ]
    },
    {
     "name": "stderr",
     "output_type": "stream",
     "text": [
      "NaN or Inf found in input tensor.\n"
     ]
    },
    {
     "name": "stdout",
     "output_type": "stream",
     "text": [
      "\u001b[36m(sarimax_trainable pid=25900)\u001b[0m An error occurred: name 'validation' is not defined\n"
     ]
    },
    {
     "name": "stderr",
     "output_type": "stream",
     "text": [
      "NaN or Inf found in input tensor.\n"
     ]
    },
    {
     "name": "stdout",
     "output_type": "stream",
     "text": [
      "\u001b[36m(sarimax_trainable pid=29960)\u001b[0m An error occurred: name 'validation' is not defined\n"
     ]
    },
    {
     "name": "stderr",
     "output_type": "stream",
     "text": [
      "NaN or Inf found in input tensor.\n"
     ]
    },
    {
     "name": "stdout",
     "output_type": "stream",
     "text": [
      "\u001b[36m(sarimax_trainable pid=44416)\u001b[0m An error occurred: name 'validation' is not defined\n"
     ]
    },
    {
     "name": "stderr",
     "output_type": "stream",
     "text": [
      "NaN or Inf found in input tensor.\n"
     ]
    },
    {
     "name": "stdout",
     "output_type": "stream",
     "text": [
      "\u001b[36m(sarimax_trainable pid=28060)\u001b[0m An error occurred: name 'validation' is not defined\n"
     ]
    },
    {
     "name": "stderr",
     "output_type": "stream",
     "text": [
      "NaN or Inf found in input tensor.\n"
     ]
    },
    {
     "name": "stdout",
     "output_type": "stream",
     "text": [
      "\u001b[36m(sarimax_trainable pid=28456)\u001b[0m An error occurred: name 'validation' is not defined\n"
     ]
    },
    {
     "name": "stderr",
     "output_type": "stream",
     "text": [
      "NaN or Inf found in input tensor.\n"
     ]
    },
    {
     "name": "stdout",
     "output_type": "stream",
     "text": [
      "\u001b[36m(sarimax_trainable pid=23140)\u001b[0m An error occurred: name 'validation' is not defined\n"
     ]
    },
    {
     "name": "stderr",
     "output_type": "stream",
     "text": [
      "NaN or Inf found in input tensor.\n"
     ]
    },
    {
     "name": "stdout",
     "output_type": "stream",
     "text": [
      "\u001b[36m(sarimax_trainable pid=14904)\u001b[0m An error occurred: name 'validation' is not defined\n"
     ]
    },
    {
     "name": "stderr",
     "output_type": "stream",
     "text": [
      "NaN or Inf found in input tensor.\n"
     ]
    },
    {
     "name": "stdout",
     "output_type": "stream",
     "text": [
      "\u001b[36m(sarimax_trainable pid=14688)\u001b[0m An error occurred: name 'validation' is not defined\n"
     ]
    },
    {
     "name": "stderr",
     "output_type": "stream",
     "text": [
      "NaN or Inf found in input tensor.\n"
     ]
    },
    {
     "name": "stdout",
     "output_type": "stream",
     "text": [
      "\u001b[36m(sarimax_trainable pid=30752)\u001b[0m An error occurred: name 'validation' is not defined\n"
     ]
    },
    {
     "name": "stderr",
     "output_type": "stream",
     "text": [
      "NaN or Inf found in input tensor.\n"
     ]
    },
    {
     "name": "stdout",
     "output_type": "stream",
     "text": [
      "\u001b[36m(sarimax_trainable pid=10580)\u001b[0m An error occurred: name 'validation' is not defined\n"
     ]
    },
    {
     "name": "stderr",
     "output_type": "stream",
     "text": [
      "NaN or Inf found in input tensor.\n"
     ]
    },
    {
     "name": "stdout",
     "output_type": "stream",
     "text": [
      "\u001b[36m(sarimax_trainable pid=37976)\u001b[0m An error occurred: name 'validation' is not defined\n"
     ]
    },
    {
     "name": "stderr",
     "output_type": "stream",
     "text": [
      "NaN or Inf found in input tensor.\n"
     ]
    },
    {
     "name": "stdout",
     "output_type": "stream",
     "text": [
      "\u001b[36m(sarimax_trainable pid=38044)\u001b[0m An error occurred: name 'validation' is not defined\n"
     ]
    },
    {
     "name": "stderr",
     "output_type": "stream",
     "text": [
      "NaN or Inf found in input tensor.\n"
     ]
    },
    {
     "name": "stdout",
     "output_type": "stream",
     "text": [
      "\u001b[36m(sarimax_trainable pid=17576)\u001b[0m An error occurred: name 'validation' is not defined\n"
     ]
    },
    {
     "name": "stderr",
     "output_type": "stream",
     "text": [
      "NaN or Inf found in input tensor.\n"
     ]
    },
    {
     "name": "stdout",
     "output_type": "stream",
     "text": [
      "\u001b[36m(sarimax_trainable pid=42980)\u001b[0m An error occurred: name 'validation' is not defined\n"
     ]
    },
    {
     "name": "stderr",
     "output_type": "stream",
     "text": [
      "NaN or Inf found in input tensor.\n"
     ]
    },
    {
     "name": "stdout",
     "output_type": "stream",
     "text": [
      "\u001b[36m(sarimax_trainable pid=1672)\u001b[0m An error occurred: name 'validation' is not defined\n"
     ]
    },
    {
     "name": "stderr",
     "output_type": "stream",
     "text": [
      "NaN or Inf found in input tensor.\n"
     ]
    },
    {
     "name": "stdout",
     "output_type": "stream",
     "text": [
      "\u001b[36m(sarimax_trainable pid=24892)\u001b[0m An error occurred: name 'validation' is not defined\n"
     ]
    },
    {
     "name": "stderr",
     "output_type": "stream",
     "text": [
      "NaN or Inf found in input tensor.\n"
     ]
    },
    {
     "name": "stdout",
     "output_type": "stream",
     "text": [
      "\u001b[36m(sarimax_trainable pid=23724)\u001b[0m An error occurred: name 'validation' is not defined\n"
     ]
    },
    {
     "name": "stderr",
     "output_type": "stream",
     "text": [
      "NaN or Inf found in input tensor.\n"
     ]
    },
    {
     "name": "stdout",
     "output_type": "stream",
     "text": [
      "\u001b[36m(sarimax_trainable pid=42232)\u001b[0m An error occurred: name 'validation' is not defined\n"
     ]
    },
    {
     "name": "stderr",
     "output_type": "stream",
     "text": [
      "NaN or Inf found in input tensor.\n"
     ]
    },
    {
     "name": "stdout",
     "output_type": "stream",
     "text": [
      "\u001b[36m(sarimax_trainable pid=15376)\u001b[0m An error occurred: name 'validation' is not defined\n"
     ]
    },
    {
     "name": "stderr",
     "output_type": "stream",
     "text": [
      "NaN or Inf found in input tensor.\n"
     ]
    },
    {
     "name": "stdout",
     "output_type": "stream",
     "text": [
      "\u001b[36m(sarimax_trainable pid=18096)\u001b[0m An error occurred: name 'validation' is not defined\n"
     ]
    },
    {
     "name": "stderr",
     "output_type": "stream",
     "text": [
      "NaN or Inf found in input tensor.\n"
     ]
    },
    {
     "name": "stdout",
     "output_type": "stream",
     "text": [
      "\u001b[36m(sarimax_trainable pid=44044)\u001b[0m An error occurred: name 'validation' is not defined\n"
     ]
    },
    {
     "name": "stderr",
     "output_type": "stream",
     "text": [
      "NaN or Inf found in input tensor.\n"
     ]
    },
    {
     "name": "stdout",
     "output_type": "stream",
     "text": [
      "\u001b[36m(sarimax_trainable pid=28684)\u001b[0m An error occurred: name 'validation' is not defined\n"
     ]
    },
    {
     "name": "stderr",
     "output_type": "stream",
     "text": [
      "NaN or Inf found in input tensor.\n"
     ]
    },
    {
     "name": "stdout",
     "output_type": "stream",
     "text": [
      "\u001b[36m(sarimax_trainable pid=29684)\u001b[0m An error occurred: name 'validation' is not defined\n"
     ]
    },
    {
     "name": "stderr",
     "output_type": "stream",
     "text": [
      "NaN or Inf found in input tensor.\n"
     ]
    },
    {
     "name": "stdout",
     "output_type": "stream",
     "text": [
      "\u001b[36m(sarimax_trainable pid=24756)\u001b[0m An error occurred: name 'validation' is not defined\n"
     ]
    },
    {
     "name": "stderr",
     "output_type": "stream",
     "text": [
      "NaN or Inf found in input tensor.\n"
     ]
    },
    {
     "name": "stdout",
     "output_type": "stream",
     "text": [
      "\u001b[36m(sarimax_trainable pid=3188)\u001b[0m An error occurred: name 'validation' is not defined\n"
     ]
    },
    {
     "name": "stderr",
     "output_type": "stream",
     "text": [
      "NaN or Inf found in input tensor.\n"
     ]
    },
    {
     "name": "stdout",
     "output_type": "stream",
     "text": [
      "\u001b[36m(sarimax_trainable pid=23396)\u001b[0m An error occurred: name 'validation' is not defined\n"
     ]
    },
    {
     "name": "stderr",
     "output_type": "stream",
     "text": [
      "NaN or Inf found in input tensor.\n"
     ]
    },
    {
     "name": "stdout",
     "output_type": "stream",
     "text": [
      "\u001b[36m(sarimax_trainable pid=30984)\u001b[0m An error occurred: name 'validation' is not defined\n"
     ]
    },
    {
     "name": "stderr",
     "output_type": "stream",
     "text": [
      "NaN or Inf found in input tensor.\n"
     ]
    },
    {
     "name": "stdout",
     "output_type": "stream",
     "text": [
      "\u001b[36m(sarimax_trainable pid=4092)\u001b[0m An error occurred: name 'validation' is not defined\n"
     ]
    },
    {
     "name": "stderr",
     "output_type": "stream",
     "text": [
      "NaN or Inf found in input tensor.\n"
     ]
    },
    {
     "name": "stdout",
     "output_type": "stream",
     "text": [
      "\u001b[36m(sarimax_trainable pid=40668)\u001b[0m An error occurred: name 'validation' is not defined\n"
     ]
    },
    {
     "name": "stderr",
     "output_type": "stream",
     "text": [
      "NaN or Inf found in input tensor.\n"
     ]
    },
    {
     "name": "stdout",
     "output_type": "stream",
     "text": [
      "\u001b[36m(sarimax_trainable pid=30424)\u001b[0m An error occurred: name 'validation' is not defined\n"
     ]
    },
    {
     "name": "stderr",
     "output_type": "stream",
     "text": [
      "NaN or Inf found in input tensor.\n"
     ]
    },
    {
     "name": "stdout",
     "output_type": "stream",
     "text": [
      "\u001b[36m(sarimax_trainable pid=11876)\u001b[0m An error occurred: name 'validation' is not defined\n"
     ]
    },
    {
     "name": "stderr",
     "output_type": "stream",
     "text": [
      "NaN or Inf found in input tensor.\n"
     ]
    },
    {
     "name": "stdout",
     "output_type": "stream",
     "text": [
      "\u001b[36m(sarimax_trainable pid=35596)\u001b[0m An error occurred: name 'validation' is not defined\n"
     ]
    },
    {
     "name": "stderr",
     "output_type": "stream",
     "text": [
      "NaN or Inf found in input tensor.\n"
     ]
    },
    {
     "name": "stdout",
     "output_type": "stream",
     "text": [
      "\u001b[36m(sarimax_trainable pid=35016)\u001b[0m An error occurred: name 'validation' is not defined\n"
     ]
    },
    {
     "name": "stderr",
     "output_type": "stream",
     "text": [
      "NaN or Inf found in input tensor.\n"
     ]
    },
    {
     "name": "stdout",
     "output_type": "stream",
     "text": [
      "\u001b[36m(sarimax_trainable pid=24220)\u001b[0m An error occurred: name 'validation' is not defined\n"
     ]
    },
    {
     "name": "stderr",
     "output_type": "stream",
     "text": [
      "NaN or Inf found in input tensor.\n"
     ]
    },
    {
     "name": "stdout",
     "output_type": "stream",
     "text": [
      "\u001b[36m(sarimax_trainable pid=34732)\u001b[0m An error occurred: name 'validation' is not defined\n",
      "\u001b[36m(sarimax_trainable pid=36752)\u001b[0m An error occurred: name 'validation' is not defined\n"
     ]
    },
    {
     "name": "stderr",
     "output_type": "stream",
     "text": [
      "NaN or Inf found in input tensor.\n",
      "NaN or Inf found in input tensor.\n"
     ]
    },
    {
     "name": "stdout",
     "output_type": "stream",
     "text": [
      "\u001b[36m(sarimax_trainable pid=33436)\u001b[0m An error occurred: name 'validation' is not defined\n"
     ]
    },
    {
     "name": "stderr",
     "output_type": "stream",
     "text": [
      "NaN or Inf found in input tensor.\n"
     ]
    },
    {
     "name": "stdout",
     "output_type": "stream",
     "text": [
      "\u001b[36m(sarimax_trainable pid=41580)\u001b[0m An error occurred: name 'validation' is not defined\n"
     ]
    },
    {
     "name": "stderr",
     "output_type": "stream",
     "text": [
      "NaN or Inf found in input tensor.\n"
     ]
    },
    {
     "name": "stdout",
     "output_type": "stream",
     "text": [
      "\u001b[36m(sarimax_trainable pid=30992)\u001b[0m An error occurred: name 'validation' is not defined\n"
     ]
    },
    {
     "name": "stderr",
     "output_type": "stream",
     "text": [
      "NaN or Inf found in input tensor.\n"
     ]
    },
    {
     "name": "stdout",
     "output_type": "stream",
     "text": [
      "\u001b[36m(sarimax_trainable pid=44180)\u001b[0m An error occurred: name 'validation' is not defined\n"
     ]
    },
    {
     "name": "stderr",
     "output_type": "stream",
     "text": [
      "NaN or Inf found in input tensor.\n"
     ]
    },
    {
     "name": "stdout",
     "output_type": "stream",
     "text": [
      "\u001b[36m(sarimax_trainable pid=36520)\u001b[0m An error occurred: name 'validation' is not defined\n"
     ]
    },
    {
     "name": "stderr",
     "output_type": "stream",
     "text": [
      "NaN or Inf found in input tensor.\n"
     ]
    },
    {
     "name": "stdout",
     "output_type": "stream",
     "text": [
      "\u001b[36m(sarimax_trainable pid=34204)\u001b[0m An error occurred: name 'validation' is not defined\n"
     ]
    },
    {
     "name": "stderr",
     "output_type": "stream",
     "text": [
      "NaN or Inf found in input tensor.\n"
     ]
    },
    {
     "name": "stdout",
     "output_type": "stream",
     "text": [
      "\u001b[36m(sarimax_trainable pid=32316)\u001b[0m An error occurred: name 'validation' is not defined\n"
     ]
    },
    {
     "name": "stderr",
     "output_type": "stream",
     "text": [
      "NaN or Inf found in input tensor.\n"
     ]
    },
    {
     "name": "stdout",
     "output_type": "stream",
     "text": [
      "\u001b[36m(sarimax_trainable pid=17696)\u001b[0m An error occurred: name 'validation' is not defined\u001b[32m [repeated 2x across cluster] (Ray deduplicates logs by default. Set RAY_DEDUP_LOGS=0 to disable log deduplication, or see https://docs.ray.io/en/master/ray-observability/user-guides/configure-logging.html#log-deduplication for more options.)\u001b[0m\n"
     ]
    },
    {
     "name": "stderr",
     "output_type": "stream",
     "text": [
      "NaN or Inf found in input tensor.\n",
      "NaN or Inf found in input tensor.\n"
     ]
    },
    {
     "name": "stdout",
     "output_type": "stream",
     "text": [
      "\u001b[36m(sarimax_trainable pid=15872)\u001b[0m An error occurred: name 'validation' is not defined\n"
     ]
    },
    {
     "name": "stderr",
     "output_type": "stream",
     "text": [
      "NaN or Inf found in input tensor.\n"
     ]
    },
    {
     "name": "stdout",
     "output_type": "stream",
     "text": [
      "\u001b[36m(sarimax_trainable pid=21344)\u001b[0m An error occurred: name 'validation' is not defined\n"
     ]
    },
    {
     "name": "stderr",
     "output_type": "stream",
     "text": [
      "NaN or Inf found in input tensor.\n"
     ]
    },
    {
     "name": "stdout",
     "output_type": "stream",
     "text": [
      "\u001b[36m(sarimax_trainable pid=29840)\u001b[0m An error occurred: name 'validation' is not defined\n"
     ]
    },
    {
     "name": "stderr",
     "output_type": "stream",
     "text": [
      "NaN or Inf found in input tensor.\n"
     ]
    },
    {
     "name": "stdout",
     "output_type": "stream",
     "text": [
      "\u001b[36m(sarimax_trainable pid=19128)\u001b[0m An error occurred: name 'validation' is not defined\n"
     ]
    },
    {
     "name": "stderr",
     "output_type": "stream",
     "text": [
      "NaN or Inf found in input tensor.\n"
     ]
    },
    {
     "name": "stdout",
     "output_type": "stream",
     "text": [
      "\u001b[36m(sarimax_trainable pid=17372)\u001b[0m An error occurred: name 'validation' is not defined\n"
     ]
    },
    {
     "name": "stderr",
     "output_type": "stream",
     "text": [
      "NaN or Inf found in input tensor.\n"
     ]
    },
    {
     "name": "stdout",
     "output_type": "stream",
     "text": [
      "\u001b[36m(sarimax_trainable pid=29060)\u001b[0m An error occurred: name 'validation' is not defined\n"
     ]
    },
    {
     "name": "stderr",
     "output_type": "stream",
     "text": [
      "NaN or Inf found in input tensor.\n"
     ]
    },
    {
     "name": "stdout",
     "output_type": "stream",
     "text": [
      "\u001b[36m(sarimax_trainable pid=29276)\u001b[0m An error occurred: name 'validation' is not defined\n"
     ]
    },
    {
     "name": "stderr",
     "output_type": "stream",
     "text": [
      "NaN or Inf found in input tensor.\n"
     ]
    },
    {
     "name": "stdout",
     "output_type": "stream",
     "text": [
      "\u001b[36m(sarimax_trainable pid=34828)\u001b[0m An error occurred: name 'validation' is not defined\n"
     ]
    },
    {
     "name": "stderr",
     "output_type": "stream",
     "text": [
      "NaN or Inf found in input tensor.\n"
     ]
    },
    {
     "name": "stdout",
     "output_type": "stream",
     "text": [
      "\u001b[36m(sarimax_trainable pid=27724)\u001b[0m An error occurred: name 'validation' is not defined\n"
     ]
    },
    {
     "name": "stderr",
     "output_type": "stream",
     "text": [
      "NaN or Inf found in input tensor.\n"
     ]
    },
    {
     "name": "stdout",
     "output_type": "stream",
     "text": [
      "\u001b[36m(sarimax_trainable pid=34320)\u001b[0m An error occurred: name 'validation' is not defined\n"
     ]
    },
    {
     "name": "stderr",
     "output_type": "stream",
     "text": [
      "NaN or Inf found in input tensor.\n"
     ]
    },
    {
     "name": "stdout",
     "output_type": "stream",
     "text": [
      "\u001b[36m(sarimax_trainable pid=31060)\u001b[0m An error occurred: name 'validation' is not defined\n"
     ]
    },
    {
     "name": "stderr",
     "output_type": "stream",
     "text": [
      "NaN or Inf found in input tensor.\n"
     ]
    },
    {
     "name": "stdout",
     "output_type": "stream",
     "text": [
      "\u001b[36m(sarimax_trainable pid=28892)\u001b[0m An error occurred: name 'validation' is not defined\n"
     ]
    },
    {
     "name": "stderr",
     "output_type": "stream",
     "text": [
      "NaN or Inf found in input tensor.\n"
     ]
    },
    {
     "name": "stdout",
     "output_type": "stream",
     "text": [
      "\u001b[36m(sarimax_trainable pid=27936)\u001b[0m An error occurred: name 'validation' is not defined\n"
     ]
    },
    {
     "name": "stderr",
     "output_type": "stream",
     "text": [
      "NaN or Inf found in input tensor.\n"
     ]
    },
    {
     "name": "stdout",
     "output_type": "stream",
     "text": [
      "\u001b[36m(sarimax_trainable pid=42520)\u001b[0m An error occurred: name 'validation' is not defined\n"
     ]
    },
    {
     "name": "stderr",
     "output_type": "stream",
     "text": [
      "NaN or Inf found in input tensor.\n"
     ]
    },
    {
     "name": "stdout",
     "output_type": "stream",
     "text": [
      "\u001b[36m(sarimax_trainable pid=19620)\u001b[0m An error occurred: name 'validation' is not defined\n"
     ]
    },
    {
     "name": "stderr",
     "output_type": "stream",
     "text": [
      "NaN or Inf found in input tensor.\n"
     ]
    },
    {
     "name": "stdout",
     "output_type": "stream",
     "text": [
      "\u001b[36m(sarimax_trainable pid=15308)\u001b[0m An error occurred: name 'validation' is not defined\n"
     ]
    },
    {
     "name": "stderr",
     "output_type": "stream",
     "text": [
      "NaN or Inf found in input tensor.\n"
     ]
    },
    {
     "name": "stdout",
     "output_type": "stream",
     "text": [
      "\u001b[36m(sarimax_trainable pid=31272)\u001b[0m An error occurred: name 'validation' is not defined\n"
     ]
    },
    {
     "name": "stderr",
     "output_type": "stream",
     "text": [
      "NaN or Inf found in input tensor.\n"
     ]
    },
    {
     "name": "stdout",
     "output_type": "stream",
     "text": [
      "\u001b[36m(sarimax_trainable pid=3984)\u001b[0m An error occurred: name 'validation' is not defined\n"
     ]
    },
    {
     "name": "stderr",
     "output_type": "stream",
     "text": [
      "NaN or Inf found in input tensor.\n"
     ]
    },
    {
     "name": "stdout",
     "output_type": "stream",
     "text": [
      "\u001b[36m(sarimax_trainable pid=38776)\u001b[0m An error occurred: name 'validation' is not defined\n"
     ]
    },
    {
     "name": "stderr",
     "output_type": "stream",
     "text": [
      "NaN or Inf found in input tensor.\n"
     ]
    },
    {
     "name": "stdout",
     "output_type": "stream",
     "text": [
      "\u001b[36m(sarimax_trainable pid=26700)\u001b[0m An error occurred: name 'validation' is not defined\n"
     ]
    },
    {
     "name": "stderr",
     "output_type": "stream",
     "text": [
      "NaN or Inf found in input tensor.\n"
     ]
    },
    {
     "name": "stdout",
     "output_type": "stream",
     "text": [
      "\u001b[36m(sarimax_trainable pid=42552)\u001b[0m An error occurred: name 'validation' is not defined\n"
     ]
    },
    {
     "name": "stderr",
     "output_type": "stream",
     "text": [
      "NaN or Inf found in input tensor.\n"
     ]
    },
    {
     "name": "stdout",
     "output_type": "stream",
     "text": [
      "\u001b[36m(sarimax_trainable pid=4928)\u001b[0m An error occurred: name 'validation' is not defined\n"
     ]
    },
    {
     "name": "stderr",
     "output_type": "stream",
     "text": [
      "NaN or Inf found in input tensor.\n"
     ]
    },
    {
     "name": "stdout",
     "output_type": "stream",
     "text": [
      "\u001b[36m(sarimax_trainable pid=14324)\u001b[0m An error occurred: name 'validation' is not defined\n"
     ]
    },
    {
     "name": "stderr",
     "output_type": "stream",
     "text": [
      "NaN or Inf found in input tensor.\n"
     ]
    },
    {
     "name": "stdout",
     "output_type": "stream",
     "text": [
      "\u001b[36m(sarimax_trainable pid=7220)\u001b[0m An error occurred: name 'validation' is not defined\n"
     ]
    },
    {
     "name": "stderr",
     "output_type": "stream",
     "text": [
      "NaN or Inf found in input tensor.\n"
     ]
    },
    {
     "name": "stdout",
     "output_type": "stream",
     "text": [
      "\u001b[36m(sarimax_trainable pid=2548)\u001b[0m An error occurred: name 'validation' is not defined\n",
      "\u001b[36m(sarimax_trainable pid=1640)\u001b[0m An error occurred: name 'validation' is not defined\n"
     ]
    },
    {
     "name": "stderr",
     "output_type": "stream",
     "text": [
      "NaN or Inf found in input tensor.\n",
      "NaN or Inf found in input tensor.\n"
     ]
    },
    {
     "name": "stdout",
     "output_type": "stream",
     "text": [
      "\u001b[36m(sarimax_trainable pid=22620)\u001b[0m An error occurred: name 'validation' is not defined\n"
     ]
    },
    {
     "name": "stderr",
     "output_type": "stream",
     "text": [
      "NaN or Inf found in input tensor.\n"
     ]
    },
    {
     "name": "stdout",
     "output_type": "stream",
     "text": [
      "\u001b[36m(sarimax_trainable pid=37668)\u001b[0m An error occurred: name 'validation' is not defined\n",
      "\u001b[36m(sarimax_trainable pid=34616)\u001b[0m An error occurred: name 'validation' is not defined\n"
     ]
    },
    {
     "name": "stderr",
     "output_type": "stream",
     "text": [
      "NaN or Inf found in input tensor.\n",
      "NaN or Inf found in input tensor.\n"
     ]
    },
    {
     "name": "stdout",
     "output_type": "stream",
     "text": [
      "\u001b[36m(sarimax_trainable pid=20540)\u001b[0m An error occurred: name 'validation' is not defined\n"
     ]
    },
    {
     "name": "stderr",
     "output_type": "stream",
     "text": [
      "NaN or Inf found in input tensor.\n"
     ]
    },
    {
     "name": "stdout",
     "output_type": "stream",
     "text": [
      "\u001b[36m(sarimax_trainable pid=29560)\u001b[0m An error occurred: name 'validation' is not defined\n"
     ]
    },
    {
     "name": "stderr",
     "output_type": "stream",
     "text": [
      "NaN or Inf found in input tensor.\n"
     ]
    },
    {
     "name": "stdout",
     "output_type": "stream",
     "text": [
      "\u001b[36m(sarimax_trainable pid=1948)\u001b[0m An error occurred: name 'validation' is not defined\n"
     ]
    },
    {
     "name": "stderr",
     "output_type": "stream",
     "text": [
      "NaN or Inf found in input tensor.\n",
      "NaN or Inf found in input tensor.\n"
     ]
    },
    {
     "name": "stdout",
     "output_type": "stream",
     "text": [
      "\u001b[36m(sarimax_trainable pid=13888)\u001b[0m An error occurred: name 'validation' is not defined\u001b[32m [repeated 2x across cluster]\u001b[0m\n",
      "\u001b[36m(sarimax_trainable pid=23720)\u001b[0m An error occurred: name 'validation' is not defined\n"
     ]
    },
    {
     "name": "stderr",
     "output_type": "stream",
     "text": [
      "NaN or Inf found in input tensor.\n",
      "NaN or Inf found in input tensor.\n"
     ]
    },
    {
     "name": "stdout",
     "output_type": "stream",
     "text": [
      "\u001b[36m(sarimax_trainable pid=12884)\u001b[0m An error occurred: name 'validation' is not defined\n"
     ]
    },
    {
     "name": "stderr",
     "output_type": "stream",
     "text": [
      "NaN or Inf found in input tensor.\n"
     ]
    },
    {
     "name": "stdout",
     "output_type": "stream",
     "text": [
      "\u001b[36m(sarimax_trainable pid=27916)\u001b[0m An error occurred: name 'validation' is not defined\n",
      "\u001b[36m(sarimax_trainable pid=28444)\u001b[0m An error occurred: name 'validation' is not defined\n"
     ]
    },
    {
     "name": "stderr",
     "output_type": "stream",
     "text": [
      "NaN or Inf found in input tensor.\n"
     ]
    },
    {
     "name": "stdout",
     "output_type": "stream",
     "text": [
      "\u001b[36m(sarimax_trainable pid=36704)\u001b[0m An error occurred: name 'validation' is not defined\n"
     ]
    },
    {
     "name": "stderr",
     "output_type": "stream",
     "text": [
      "NaN or Inf found in input tensor.\n",
      "NaN or Inf found in input tensor.\n"
     ]
    },
    {
     "name": "stdout",
     "output_type": "stream",
     "text": [
      "\u001b[36m(sarimax_trainable pid=26368)\u001b[0m An error occurred: name 'validation' is not defined\n"
     ]
    },
    {
     "name": "stderr",
     "output_type": "stream",
     "text": [
      "NaN or Inf found in input tensor.\n"
     ]
    },
    {
     "name": "stdout",
     "output_type": "stream",
     "text": [
      "\u001b[36m(sarimax_trainable pid=40552)\u001b[0m An error occurred: name 'validation' is not defined\n"
     ]
    },
    {
     "name": "stderr",
     "output_type": "stream",
     "text": [
      "NaN or Inf found in input tensor.\n"
     ]
    },
    {
     "name": "stdout",
     "output_type": "stream",
     "text": [
      "\u001b[36m(sarimax_trainable pid=16916)\u001b[0m An error occurred: name 'validation' is not defined\n"
     ]
    },
    {
     "name": "stderr",
     "output_type": "stream",
     "text": [
      "NaN or Inf found in input tensor.\n"
     ]
    },
    {
     "name": "stdout",
     "output_type": "stream",
     "text": [
      "\u001b[36m(sarimax_trainable pid=5012)\u001b[0m An error occurred: name 'validation' is not defined\n"
     ]
    },
    {
     "name": "stderr",
     "output_type": "stream",
     "text": [
      "NaN or Inf found in input tensor.\n"
     ]
    },
    {
     "name": "stdout",
     "output_type": "stream",
     "text": [
      "\u001b[36m(sarimax_trainable pid=23632)\u001b[0m An error occurred: name 'validation' is not defined\n"
     ]
    },
    {
     "name": "stderr",
     "output_type": "stream",
     "text": [
      "NaN or Inf found in input tensor.\n"
     ]
    },
    {
     "name": "stdout",
     "output_type": "stream",
     "text": [
      "\u001b[36m(sarimax_trainable pid=33480)\u001b[0m An error occurred: name 'validation' is not defined\n"
     ]
    },
    {
     "name": "stderr",
     "output_type": "stream",
     "text": [
      "NaN or Inf found in input tensor.\n"
     ]
    },
    {
     "name": "stdout",
     "output_type": "stream",
     "text": [
      "\u001b[36m(sarimax_trainable pid=19408)\u001b[0m An error occurred: name 'validation' is not defined\n"
     ]
    },
    {
     "name": "stderr",
     "output_type": "stream",
     "text": [
      "NaN or Inf found in input tensor.\n"
     ]
    },
    {
     "name": "stdout",
     "output_type": "stream",
     "text": [
      "\u001b[36m(sarimax_trainable pid=23852)\u001b[0m An error occurred: name 'validation' is not defined\n"
     ]
    },
    {
     "name": "stderr",
     "output_type": "stream",
     "text": [
      "NaN or Inf found in input tensor.\n"
     ]
    },
    {
     "name": "stdout",
     "output_type": "stream",
     "text": [
      "\u001b[36m(sarimax_trainable pid=41840)\u001b[0m An error occurred: name 'validation' is not defined\n"
     ]
    },
    {
     "name": "stderr",
     "output_type": "stream",
     "text": [
      "NaN or Inf found in input tensor.\n"
     ]
    },
    {
     "name": "stdout",
     "output_type": "stream",
     "text": [
      "\u001b[36m(sarimax_trainable pid=37728)\u001b[0m An error occurred: name 'validation' is not defined\n"
     ]
    },
    {
     "name": "stderr",
     "output_type": "stream",
     "text": [
      "NaN or Inf found in input tensor.\n"
     ]
    },
    {
     "name": "stdout",
     "output_type": "stream",
     "text": [
      "\u001b[36m(sarimax_trainable pid=37996)\u001b[0m An error occurred: name 'validation' is not defined\n"
     ]
    },
    {
     "name": "stderr",
     "output_type": "stream",
     "text": [
      "NaN or Inf found in input tensor.\n"
     ]
    },
    {
     "name": "stdout",
     "output_type": "stream",
     "text": [
      "\u001b[36m(sarimax_trainable pid=21208)\u001b[0m An error occurred: name 'validation' is not defined\n"
     ]
    },
    {
     "name": "stderr",
     "output_type": "stream",
     "text": [
      "NaN or Inf found in input tensor.\n"
     ]
    },
    {
     "name": "stdout",
     "output_type": "stream",
     "text": [
      "\u001b[36m(sarimax_trainable pid=35576)\u001b[0m An error occurred: name 'validation' is not defined\n"
     ]
    },
    {
     "name": "stderr",
     "output_type": "stream",
     "text": [
      "NaN or Inf found in input tensor.\n"
     ]
    },
    {
     "name": "stdout",
     "output_type": "stream",
     "text": [
      "\u001b[36m(sarimax_trainable pid=35724)\u001b[0m An error occurred: name 'validation' is not defined\n"
     ]
    },
    {
     "name": "stderr",
     "output_type": "stream",
     "text": [
      "NaN or Inf found in input tensor.\n"
     ]
    },
    {
     "name": "stdout",
     "output_type": "stream",
     "text": [
      "\u001b[36m(sarimax_trainable pid=28484)\u001b[0m An error occurred: name 'validation' is not defined\n"
     ]
    },
    {
     "name": "stderr",
     "output_type": "stream",
     "text": [
      "NaN or Inf found in input tensor.\n"
     ]
    },
    {
     "name": "stdout",
     "output_type": "stream",
     "text": [
      "\u001b[36m(sarimax_trainable pid=3196)\u001b[0m An error occurred: name 'validation' is not defined\n"
     ]
    },
    {
     "name": "stderr",
     "output_type": "stream",
     "text": [
      "NaN or Inf found in input tensor.\n"
     ]
    },
    {
     "name": "stdout",
     "output_type": "stream",
     "text": [
      "\u001b[36m(sarimax_trainable pid=6344)\u001b[0m An error occurred: name 'validation' is not defined\n"
     ]
    },
    {
     "name": "stderr",
     "output_type": "stream",
     "text": [
      "NaN or Inf found in input tensor.\n"
     ]
    },
    {
     "name": "stdout",
     "output_type": "stream",
     "text": [
      "\u001b[36m(sarimax_trainable pid=6968)\u001b[0m An error occurred: name 'validation' is not defined\n"
     ]
    },
    {
     "name": "stderr",
     "output_type": "stream",
     "text": [
      "NaN or Inf found in input tensor.\n"
     ]
    },
    {
     "name": "stdout",
     "output_type": "stream",
     "text": [
      "\u001b[36m(sarimax_trainable pid=19824)\u001b[0m An error occurred: name 'validation' is not defined\n"
     ]
    },
    {
     "name": "stderr",
     "output_type": "stream",
     "text": [
      "NaN or Inf found in input tensor.\n"
     ]
    },
    {
     "name": "stdout",
     "output_type": "stream",
     "text": [
      "\u001b[36m(sarimax_trainable pid=43960)\u001b[0m An error occurred: name 'validation' is not defined\n"
     ]
    },
    {
     "name": "stderr",
     "output_type": "stream",
     "text": [
      "NaN or Inf found in input tensor.\n"
     ]
    },
    {
     "name": "stdout",
     "output_type": "stream",
     "text": [
      "\u001b[36m(sarimax_trainable pid=9456)\u001b[0m An error occurred: name 'validation' is not defined\n"
     ]
    },
    {
     "name": "stderr",
     "output_type": "stream",
     "text": [
      "NaN or Inf found in input tensor.\n"
     ]
    },
    {
     "name": "stdout",
     "output_type": "stream",
     "text": [
      "\u001b[36m(sarimax_trainable pid=35624)\u001b[0m An error occurred: name 'validation' is not defined\n"
     ]
    },
    {
     "name": "stderr",
     "output_type": "stream",
     "text": [
      "NaN or Inf found in input tensor.\n"
     ]
    },
    {
     "name": "stdout",
     "output_type": "stream",
     "text": [
      "\u001b[36m(sarimax_trainable pid=38776)\u001b[0m An error occurred: name 'validation' is not defined\n"
     ]
    },
    {
     "name": "stderr",
     "output_type": "stream",
     "text": [
      "NaN or Inf found in input tensor.\n"
     ]
    },
    {
     "name": "stdout",
     "output_type": "stream",
     "text": [
      "\u001b[36m(sarimax_trainable pid=20824)\u001b[0m An error occurred: name 'validation' is not defined\n"
     ]
    },
    {
     "name": "stderr",
     "output_type": "stream",
     "text": [
      "NaN or Inf found in input tensor.\n"
     ]
    },
    {
     "name": "stdout",
     "output_type": "stream",
     "text": [
      "\u001b[36m(sarimax_trainable pid=21544)\u001b[0m An error occurred: name 'validation' is not defined\n",
      "\u001b[36m(sarimax_trainable pid=6656)\u001b[0m An error occurred: name 'validation' is not defined\n"
     ]
    },
    {
     "name": "stderr",
     "output_type": "stream",
     "text": [
      "NaN or Inf found in input tensor.\n"
     ]
    },
    {
     "name": "stdout",
     "output_type": "stream",
     "text": [
      "\u001b[36m(sarimax_trainable pid=24112)\u001b[0m An error occurred: name 'validation' is not defined\n"
     ]
    },
    {
     "name": "stderr",
     "output_type": "stream",
     "text": [
      "NaN or Inf found in input tensor.\n",
      "NaN or Inf found in input tensor.\n"
     ]
    },
    {
     "name": "stdout",
     "output_type": "stream",
     "text": [
      "\u001b[36m(sarimax_trainable pid=16252)\u001b[0m An error occurred: name 'validation' is not defined\n"
     ]
    },
    {
     "name": "stderr",
     "output_type": "stream",
     "text": [
      "NaN or Inf found in input tensor.\n"
     ]
    },
    {
     "name": "stdout",
     "output_type": "stream",
     "text": [
      "\u001b[36m(sarimax_trainable pid=19928)\u001b[0m An error occurred: name 'validation' is not defined\n"
     ]
    },
    {
     "name": "stderr",
     "output_type": "stream",
     "text": [
      "NaN or Inf found in input tensor.\n"
     ]
    },
    {
     "name": "stdout",
     "output_type": "stream",
     "text": [
      "\u001b[36m(sarimax_trainable pid=44384)\u001b[0m An error occurred: name 'validation' is not defined\n"
     ]
    },
    {
     "name": "stderr",
     "output_type": "stream",
     "text": [
      "NaN or Inf found in input tensor.\n"
     ]
    },
    {
     "name": "stdout",
     "output_type": "stream",
     "text": [
      "\u001b[36m(sarimax_trainable pid=22104)\u001b[0m An error occurred: name 'validation' is not defined\n"
     ]
    },
    {
     "name": "stderr",
     "output_type": "stream",
     "text": [
      "NaN or Inf found in input tensor.\n"
     ]
    },
    {
     "name": "stdout",
     "output_type": "stream",
     "text": [
      "\u001b[36m(sarimax_trainable pid=2604)\u001b[0m An error occurred: name 'validation' is not defined\n"
     ]
    },
    {
     "name": "stderr",
     "output_type": "stream",
     "text": [
      "NaN or Inf found in input tensor.\n"
     ]
    },
    {
     "name": "stdout",
     "output_type": "stream",
     "text": [
      "\u001b[36m(sarimax_trainable pid=39340)\u001b[0m An error occurred: name 'validation' is not defined\n"
     ]
    },
    {
     "name": "stderr",
     "output_type": "stream",
     "text": [
      "NaN or Inf found in input tensor.\n"
     ]
    },
    {
     "name": "stdout",
     "output_type": "stream",
     "text": [
      "\u001b[36m(sarimax_trainable pid=33468)\u001b[0m An error occurred: name 'validation' is not defined\n",
      "\u001b[36m(sarimax_trainable pid=33060)\u001b[0m An error occurred: name 'validation' is not defined\n"
     ]
    },
    {
     "name": "stderr",
     "output_type": "stream",
     "text": [
      "NaN or Inf found in input tensor.\n",
      "NaN or Inf found in input tensor.\n"
     ]
    },
    {
     "name": "stdout",
     "output_type": "stream",
     "text": [
      "\u001b[36m(sarimax_trainable pid=36360)\u001b[0m An error occurred: name 'validation' is not defined\n"
     ]
    },
    {
     "name": "stderr",
     "output_type": "stream",
     "text": [
      "NaN or Inf found in input tensor.\n"
     ]
    },
    {
     "name": "stdout",
     "output_type": "stream",
     "text": [
      "\u001b[36m(sarimax_trainable pid=33372)\u001b[0m An error occurred: name 'validation' is not defined\n"
     ]
    },
    {
     "name": "stderr",
     "output_type": "stream",
     "text": [
      "NaN or Inf found in input tensor.\n"
     ]
    },
    {
     "name": "stdout",
     "output_type": "stream",
     "text": [
      "\u001b[36m(sarimax_trainable pid=30852)\u001b[0m An error occurred: name 'validation' is not defined\n"
     ]
    },
    {
     "name": "stderr",
     "output_type": "stream",
     "text": [
      "NaN or Inf found in input tensor.\n"
     ]
    },
    {
     "name": "stdout",
     "output_type": "stream",
     "text": [
      "\u001b[36m(sarimax_trainable pid=17860)\u001b[0m An error occurred: name 'validation' is not defined\n"
     ]
    },
    {
     "name": "stderr",
     "output_type": "stream",
     "text": [
      "NaN or Inf found in input tensor.\n"
     ]
    },
    {
     "name": "stdout",
     "output_type": "stream",
     "text": [
      "\u001b[36m(sarimax_trainable pid=20132)\u001b[0m An error occurred: name 'validation' is not defined\n"
     ]
    },
    {
     "name": "stderr",
     "output_type": "stream",
     "text": [
      "NaN or Inf found in input tensor.\n"
     ]
    },
    {
     "name": "stdout",
     "output_type": "stream",
     "text": [
      "\u001b[36m(sarimax_trainable pid=30580)\u001b[0m An error occurred: name 'validation' is not defined\n"
     ]
    },
    {
     "name": "stderr",
     "output_type": "stream",
     "text": [
      "NaN or Inf found in input tensor.\n"
     ]
    },
    {
     "name": "stdout",
     "output_type": "stream",
     "text": [
      "\u001b[36m(sarimax_trainable pid=36680)\u001b[0m An error occurred: name 'validation' is not defined\n"
     ]
    },
    {
     "name": "stderr",
     "output_type": "stream",
     "text": [
      "NaN or Inf found in input tensor.\n"
     ]
    },
    {
     "name": "stdout",
     "output_type": "stream",
     "text": [
      "\u001b[36m(sarimax_trainable pid=12704)\u001b[0m An error occurred: name 'validation' is not defined\n"
     ]
    },
    {
     "name": "stderr",
     "output_type": "stream",
     "text": [
      "NaN or Inf found in input tensor.\n"
     ]
    },
    {
     "name": "stdout",
     "output_type": "stream",
     "text": [
      "\u001b[36m(sarimax_trainable pid=31884)\u001b[0m An error occurred: name 'validation' is not defined\n",
      "\u001b[36m(sarimax_trainable pid=33720)\u001b[0m An error occurred: name 'validation' is not defined"
     ]
    },
    {
     "name": "stderr",
     "output_type": "stream",
     "text": [
      "NaN or Inf found in input tensor.\n"
     ]
    },
    {
     "name": "stdout",
     "output_type": "stream",
     "text": [
      "\n"
     ]
    },
    {
     "name": "stderr",
     "output_type": "stream",
     "text": [
      "NaN or Inf found in input tensor.\n"
     ]
    },
    {
     "name": "stdout",
     "output_type": "stream",
     "text": [
      "\u001b[36m(sarimax_trainable pid=17888)\u001b[0m An error occurred: name 'validation' is not defined\n"
     ]
    },
    {
     "name": "stderr",
     "output_type": "stream",
     "text": [
      "NaN or Inf found in input tensor.\n"
     ]
    },
    {
     "name": "stdout",
     "output_type": "stream",
     "text": [
      "\u001b[36m(sarimax_trainable pid=24172)\u001b[0m An error occurred: name 'validation' is not defined\n"
     ]
    },
    {
     "name": "stderr",
     "output_type": "stream",
     "text": [
      "NaN or Inf found in input tensor.\n"
     ]
    },
    {
     "name": "stdout",
     "output_type": "stream",
     "text": [
      "\u001b[36m(sarimax_trainable pid=15376)\u001b[0m An error occurred: name 'validation' is not defined\n"
     ]
    },
    {
     "name": "stderr",
     "output_type": "stream",
     "text": [
      "NaN or Inf found in input tensor.\n"
     ]
    },
    {
     "name": "stdout",
     "output_type": "stream",
     "text": [
      "\u001b[36m(sarimax_trainable pid=14896)\u001b[0m An error occurred: name 'validation' is not defined\n"
     ]
    },
    {
     "name": "stderr",
     "output_type": "stream",
     "text": [
      "NaN or Inf found in input tensor.\n"
     ]
    },
    {
     "name": "stdout",
     "output_type": "stream",
     "text": [
      "\u001b[36m(sarimax_trainable pid=5984)\u001b[0m An error occurred: name 'validation' is not defined\n"
     ]
    },
    {
     "name": "stderr",
     "output_type": "stream",
     "text": [
      "NaN or Inf found in input tensor.\n"
     ]
    },
    {
     "name": "stdout",
     "output_type": "stream",
     "text": [
      "\u001b[36m(sarimax_trainable pid=3728)\u001b[0m An error occurred: name 'validation' is not defined\n"
     ]
    },
    {
     "name": "stderr",
     "output_type": "stream",
     "text": [
      "NaN or Inf found in input tensor.\n"
     ]
    },
    {
     "name": "stdout",
     "output_type": "stream",
     "text": [
      "\u001b[36m(sarimax_trainable pid=2940)\u001b[0m An error occurred: name 'validation' is not defined\n"
     ]
    },
    {
     "name": "stderr",
     "output_type": "stream",
     "text": [
      "NaN or Inf found in input tensor.\n"
     ]
    },
    {
     "name": "stdout",
     "output_type": "stream",
     "text": [
      "\u001b[36m(sarimax_trainable pid=4104)\u001b[0m An error occurred: name 'validation' is not defined\n"
     ]
    },
    {
     "name": "stderr",
     "output_type": "stream",
     "text": [
      "NaN or Inf found in input tensor.\n"
     ]
    },
    {
     "name": "stdout",
     "output_type": "stream",
     "text": [
      "\u001b[36m(sarimax_trainable pid=21728)\u001b[0m An error occurred: name 'validation' is not defined\n"
     ]
    },
    {
     "name": "stderr",
     "output_type": "stream",
     "text": [
      "NaN or Inf found in input tensor.\n"
     ]
    },
    {
     "name": "stdout",
     "output_type": "stream",
     "text": [
      "\u001b[36m(sarimax_trainable pid=2592)\u001b[0m An error occurred: name 'validation' is not defined\n",
      "\u001b[36m(sarimax_trainable pid=20944)\u001b[0m An error occurred: name 'validation' is not defined"
     ]
    },
    {
     "name": "stderr",
     "output_type": "stream",
     "text": [
      "NaN or Inf found in input tensor.\n"
     ]
    },
    {
     "name": "stdout",
     "output_type": "stream",
     "text": [
      "\n"
     ]
    },
    {
     "name": "stderr",
     "output_type": "stream",
     "text": [
      "NaN or Inf found in input tensor.\n"
     ]
    },
    {
     "name": "stdout",
     "output_type": "stream",
     "text": [
      "\u001b[36m(sarimax_trainable pid=15824)\u001b[0m An error occurred: name 'validation' is not defined\n"
     ]
    },
    {
     "name": "stderr",
     "output_type": "stream",
     "text": [
      "2024-12-03 07:30:35,212\tINFO timeout.py:54 -- Reached timeout of 21600 seconds. Stopping all trials.\n",
      "2024-12-03 07:30:35,545\tINFO tune.py:1009 -- Wrote the latest version of all result files and experiment state to 'C:/Users/STEIM/ray_results/SARIMAX' in 0.3273s.\n",
      "2024-12-03 07:30:45,767\tINFO tune.py:1041 -- Total run time: 21613.24 seconds (21600.20 seconds for the tuning loop).\n"
     ]
    }
   ],
   "source": [
    "# Need this line for locally defined modules to work with ray\n",
    "# ray.init(runtime_env={\"working_dir\": \".\"}, ignore_reinit_error=True)\n",
    "np.random.seed(42)\n",
    "\n",
    "analysis = tune.run(\n",
    "    tune.with_parameters(sarimax_trainable, df_train=df_train, df_val=df_val),\n",
    "    config={\n",
    "        \"p\": tune.randint(0, 24 + 1),\n",
    "        \"q\": tune.randint(0, 24 + 1),\n",
    "        \"P\": tune.randint(0, 1 + 1),\n",
    "        \"Q\": tune.randint(0, 1 + 1),\n",
    "        \"d\": 1,\n",
    "        \"D\": 1,\n",
    "    },\n",
    "    metric=\"loss\",\n",
    "    mode=\"min\",\n",
    "    name=\"SARIMAX\",\n",
    "    search_alg=OptunaSearch(),\n",
    "    time_budget_s=60 * 60 * 6,\n",
    "    num_samples=-1,\n",
    "    max_concurrent_trials=8,\n",
    "    raise_on_failed_trial=False,\n",
    "    trial_dirname_creator=lambda trial: f\"{trial.trainable_name}_{trial.trial_id}\",\n",
    ")"
   ]
  },
  {
   "cell_type": "code",
   "execution_count": 43,
   "metadata": {},
   "outputs": [],
   "source": [
    "analysis.dataframe().to_csv(\"3_SARIMAX_trials.csv\", index=False)"
   ]
  },
  {
   "cell_type": "markdown",
   "metadata": {},
   "source": [
    "# Validation Performance of the Best Model"
   ]
  },
  {
   "cell_type": "code",
   "execution_count": 61,
   "metadata": {},
   "outputs": [],
   "source": [
    "trials_df = pl.read_csv(\"3_SARIMAX_trials.csv\")"
   ]
  },
  {
   "cell_type": "code",
   "execution_count": 62,
   "metadata": {},
   "outputs": [
    {
     "data": {
      "text/plain": [
       "87"
      ]
     },
     "execution_count": 62,
     "metadata": {},
     "output_type": "execute_result"
    }
   ],
   "source": [
    "trials_df.shape[0]"
   ]
  },
  {
   "cell_type": "code",
   "execution_count": 63,
   "metadata": {},
   "outputs": [
    {
     "name": "stderr",
     "output_type": "stream",
     "text": [
      "findfont: Font family 'Latin Modern Roman' not found.\n",
      "findfont: Font family 'Latin Modern Roman' not found.\n",
      "findfont: Font family 'Latin Modern Roman' not found.\n",
      "findfont: Font family 'Latin Modern Roman' not found.\n",
      "findfont: Font family 'Latin Modern Roman' not found.\n",
      "findfont: Font family 'Latin Modern Roman' not found.\n",
      "findfont: Font family 'Latin Modern Roman' not found.\n",
      "findfont: Font family 'Latin Modern Roman' not found.\n",
      "findfont: Font family 'Latin Modern Roman' not found.\n",
      "findfont: Font family 'Latin Modern Roman' not found.\n",
      "findfont: Font family 'Latin Modern Roman' not found.\n",
      "findfont: Font family 'Latin Modern Roman' not found.\n",
      "findfont: Font family 'Latin Modern Roman' not found.\n",
      "findfont: Font family 'Latin Modern Roman' not found.\n",
      "findfont: Font family 'Latin Modern Roman' not found.\n",
      "findfont: Font family 'Latin Modern Roman' not found.\n",
      "findfont: Font family 'Latin Modern Roman' not found.\n",
      "findfont: Font family 'Latin Modern Roman' not found.\n",
      "findfont: Font family 'Latin Modern Roman' not found.\n",
      "findfont: Font family 'Latin Modern Roman' not found.\n",
      "findfont: Font family 'Latin Modern Roman' not found.\n",
      "findfont: Font family 'Latin Modern Roman' not found.\n",
      "findfont: Font family 'Latin Modern Roman' not found.\n"
     ]
    },
    {
     "data": {
      "image/png": "[encoded data removed]"
     },
     "metadata": {
      "image/png": {
       "height": 400,
       "width": 600
      }
     },
     "output_type": "display_data"
    }
   ],
   "source": [
    "(\n",
    "    pn.ggplot(\n",
    "        data=(trials_df.with_columns(total_minutes=pl.col(\"time_total_s\") / 60)),\n",
    "        mapping=pn.aes(\"total_minutes\"),\n",
    "    )\n",
    "    + pn.geom_histogram(bins=50)\n",
    "    + theme_academic\n",
    ")"
   ]
  },
  {
   "cell_type": "code",
   "execution_count": 64,
   "metadata": {},
   "outputs": [
    {
     "data": {
      "text/plain": [
       "{'p': 7, 'q': 3, 'P': 0, 'Q': 1, 'd': 1, 'D': 1}"
      ]
     },
     "execution_count": 64,
     "metadata": {},
     "output_type": "execute_result"
    }
   ],
   "source": [
    "best_hyperparams_df = (\n",
    "    pl.read_csv(\"3_SARIMAX_trials.csv\")\n",
    "    .sort(\"loss\")\n",
    "    .head(1)\n",
    "    .select(pl.selectors.contains(\"config/\"))\n",
    "    .unpivot()\n",
    "    .with_columns(\n",
    "        pl.col(\"variable\").str.replace(\"config/\", \"\"), pl.col(\"value\").cast(pl.Int64)\n",
    "    )\n",
    ")\n",
    "\n",
    "best_hyperparams = dict(\n",
    "    zip(best_hyperparams_df[\"variable\"], best_hyperparams_df[\"value\"])\n",
    ")\n",
    "\n",
    "best_hyperparams"
   ]
  },
  {
   "cell_type": "code",
   "execution_count": 65,
   "metadata": {},
   "outputs": [],
   "source": [
    "model = ARIMA(\n",
    "    order=(\n",
    "        best_hyperparams[\"p\"],\n",
    "        best_hyperparams[\"d\"],\n",
    "        best_hyperparams[\"q\"],\n",
    "    ),\n",
    "    season_length=168,\n",
    "    seasonal_order=(\n",
    "        best_hyperparams[\"P\"],\n",
    "        best_hyperparams[\"D\"],\n",
    "        best_hyperparams[\"Q\"],\n",
    "    ),\n",
    ")\n",
    "\n",
    "# Fit the model on the full data\n",
    "model = model.fit(\n",
    "    y=y_train.to_numpy(dtype=np.float64),\n",
    "    X=X_train_preprocessed.to_numpy(dtype=np.float64),\n",
    ")"
   ]
  },
  {
   "cell_type": "code",
   "execution_count": 66,
   "metadata": {},
   "outputs": [
    {
     "name": "stdout",
     "output_type": "stream",
     "text": [
      "Hour 744 of 744\n"
     ]
    }
   ],
   "source": [
    "y_pred = validation(\n",
    "    model=model,\n",
    "    X_train=X_train_preprocessed,\n",
    "    X_val=X_val_preprocessed,\n",
    "    y_train=y_train,\n",
    "    y_val=y_val,\n",
    ")\n",
    "\n",
    "y_preds_val = pd.DataFrame(\n",
    "    {\n",
    "        \"pred\": y_pred,\n",
    "        \"kWh\": y_val,\n",
    "    }\n",
    ")"
   ]
  },
  {
   "cell_type": "code",
   "execution_count": 67,
   "metadata": {},
   "outputs": [
    {
     "data": {
      "text/plain": [
       "204647.46767750385"
      ]
     },
     "execution_count": 67,
     "metadata": {},
     "output_type": "execute_result"
    }
   ],
   "source": [
    "loss = root_mean_squared_error(y_pred=y_preds_val[\"pred\"], y_true=y_preds_val[\"kWh\"])\n",
    "loss"
   ]
  },
  {
   "cell_type": "code",
   "execution_count": 68,
   "metadata": {},
   "outputs": [
    {
     "data": {
      "application/vnd.plotly.v1+json": {
       "config": {
        "plotlyServerURL": "https://plot.ly"
       },
       "data": [
        {
         "hovertemplate": "Series=kWh<br>Date=%{x}<br>Energy Consumption (kWh)=%{y}<extra></extra>",
         "legendgroup": "kWh",
         "line": {
          "color": "#636efa",
          "dash": "solid",
          "shape": "hv"
         },
         "marker": {
          "symbol": "circle"
         },
         "mode": "lines",
         "name": "kWh",
         "showlegend": true,
         "type": "scattergl",
         "x": [
          "2023-07-01T00:00:00",
          "2023-07-01T01:00:00",
          "2023-07-01T02:00:00",
          "2023-07-01T03:00:00",
          "2023-07-01T04:00:00",
          "2023-07-01T05:00:00",
          "2023-07-01T06:00:00",
          "2023-07-01T07:00:00",
          "2023-07-01T08:00:00",
          "2023-07-01T09:00:00",
          "2023-07-01T10:00:00",
          "2023-07-01T11:00:00",
          "2023-07-01T12:00:00",
          "2023-07-01T13:00:00",
          "2023-07-01T14:00:00",
          "2023-07-01T15:00:00",
          "2023-07-01T16:00:00",
          "2023-07-01T17:00:00",
          "2023-07-01T18:00:00",
          "2023-07-01T19:00:00",
          "2023-07-01T20:00:00",
          "2023-07-01T21:00:00",
          "2023-07-01T22:00:00",
          "2023-07-01T23:00:00",
          "2023-07-02T00:00:00",
          "2023-07-02T01:00:00",
          "2023-07-02T02:00:00",
          "2023-07-02T03:00:00",
          "2023-07-02T04:00:00",
          "2023-07-02T05:00:00",
          "2023-07-02T06:00:00",
          "2023-07-02T07:00:00",
          "2023-07-02T08:00:00",
          "2023-07-02T09:00:00",
          "2023-07-02T10:00:00",
          "2023-07-02T11:00:00",
          "2023-07-02T12:00:00",
          "2023-07-02T13:00:00",
          "2023-07-02T14:00:00",
          "2023-07-02T15:00:00",
          "2023-07-02T16:00:00",
          "2023-07-02T17:00:00",
          "2023-07-02T18:00:00",
          "2023-07-02T19:00:00",
          "2023-07-02T20:00:00",
          "2023-07-02T21:00:00",
          "2023-07-02T22:00:00",
          "2023-07-02T23:00:00",
          "2023-07-03T00:00:00",
          "2023-07-03T01:00:00",
          "2023-07-03T02:00:00",
          "2023-07-03T03:00:00",
          "2023-07-03T04:00:00",
          "2023-07-03T05:00:00",
          "2023-07-03T06:00:00",
          "2023-07-03T07:00:00",
          "2023-07-03T08:00:00",
          "2023-07-03T09:00:00",
          "2023-07-03T10:00:00",
          "2023-07-03T11:00:00",
          "2023-07-03T12:00:00",
          "2023-07-03T13:00:00",
          "2023-07-03T14:00:00",
          "2023-07-03T15:00:00",
          "2023-07-03T16:00:00",
          "2023-07-03T17:00:00",
          "2023-07-03T18:00:00",
          "2023-07-03T19:00:00",
          "2023-07-03T20:00:00",
          "2023-07-03T21:00:00",
          "2023-07-03T22:00:00",
          "2023-07-03T23:00:00",
          "2023-07-04T00:00:00",
          "2023-07-04T01:00:00",
          "2023-07-04T02:00:00",
          "2023-07-04T03:00:00",
          "2023-07-04T04:00:00",
          "2023-07-04T05:00:00",
          "2023-07-04T06:00:00",
          "2023-07-04T07:00:00",
          "2023-07-04T08:00:00",
          "2023-07-04T09:00:00",
          "2023-07-04T10:00:00",
          "2023-07-04T11:00:00",
          "2023-07-04T12:00:00",
          "2023-07-04T13:00:00",
          "2023-07-04T14:00:00",
          "2023-07-04T15:00:00",
          "2023-07-04T16:00:00",
          "2023-07-04T17:00:00",
          "2023-07-04T18:00:00",
          "2023-07-04T19:00:00",
          "2023-07-04T20:00:00",
          "2023-07-04T21:00:00",
          "2023-07-04T22:00:00",
          "2023-07-04T23:00:00",
          "2023-07-05T00:00:00",
          "2023-07-05T01:00:00",
          "2023-07-05T02:00:00",
          "2023-07-05T03:00:00",
          "2023-07-05T04:00:00",
          "2023-07-05T05:00:00",
          "2023-07-05T06:00:00",
          "2023-07-05T07:00:00",
          "2023-07-05T08:00:00",
          "2023-07-05T09:00:00",
          "2023-07-05T10:00:00",
          "2023-07-05T11:00:00",
          "2023-07-05T12:00:00",
          "2023-07-05T13:00:00",
          "2023-07-05T14:00:00",
          "2023-07-05T15:00:00",
          "2023-07-05T16:00:00",
          "2023-07-05T17:00:00",
          "2023-07-05T18:00:00",
          "2023-07-05T19:00:00",
          "2023-07-05T20:00:00",
          "2023-07-05T21:00:00",
          "2023-07-05T22:00:00",
          "2023-07-05T23:00:00",
          "2023-07-06T00:00:00",
          "2023-07-06T01:00:00",
          "2023-07-06T02:00:00",
          "2023-07-06T03:00:00",
          "2023-07-06T04:00:00",
          "2023-07-06T05:00:00",
          "2023-07-06T06:00:00",
          "2023-07-06T07:00:00",
          "2023-07-06T08:00:00",
          "2023-07-06T09:00:00",
          "2023-07-06T10:00:00",
          "2023-07-06T11:00:00",
          "2023-07-06T12:00:00",
          "2023-07-06T13:00:00",
          "2023-07-06T14:00:00",
          "2023-07-06T15:00:00",
          "2023-07-06T16:00:00",
          "2023-07-06T17:00:00",
          "2023-07-06T18:00:00",
          "2023-07-06T19:00:00",
          "2023-07-06T20:00:00",
          "2023-07-06T21:00:00",
          "2023-07-06T22:00:00",
          "2023-07-06T23:00:00",
          "2023-07-07T00:00:00",
          "2023-07-07T01:00:00",
          "2023-07-07T02:00:00",
          "2023-07-07T03:00:00",
          "2023-07-07T04:00:00",
          "2023-07-07T05:00:00",
          "2023-07-07T06:00:00",
          "2023-07-07T07:00:00",
          "2023-07-07T08:00:00",
          "2023-07-07T09:00:00",
          "2023-07-07T10:00:00",
          "2023-07-07T11:00:00",
          "2023-07-07T12:00:00",
          "2023-07-07T13:00:00",
          "2023-07-07T14:00:00",
          "2023-07-07T15:00:00",
          "2023-07-07T16:00:00",
          "2023-07-07T17:00:00",
          "2023-07-07T18:00:00",
          "2023-07-07T19:00:00",
          "2023-07-07T20:00:00",
          "2023-07-07T21:00:00",
          "2023-07-07T22:00:00",
          "2023-07-07T23:00:00",
          "2023-07-08T00:00:00",
          "2023-07-08T01:00:00",
          "2023-07-08T02:00:00",
          "2023-07-08T03:00:00",
          "2023-07-08T04:00:00",
          "2023-07-08T05:00:00",
          "2023-07-08T06:00:00",
          "2023-07-08T07:00:00",
          "2023-07-08T08:00:00",
          "2023-07-08T09:00:00",
          "2023-07-08T10:00:00",
          "2023-07-08T11:00:00",
          "2023-07-08T12:00:00",
          "2023-07-08T13:00:00",
          "2023-07-08T14:00:00",
          "2023-07-08T15:00:00",
          "2023-07-08T16:00:00",
          "2023-07-08T17:00:00",
          "2023-07-08T18:00:00",
          "2023-07-08T19:00:00",
          "2023-07-08T20:00:00",
          "2023-07-08T21:00:00",
          "2023-07-08T22:00:00",
          "2023-07-08T23:00:00",
          "2023-07-09T00:00:00",
          "2023-07-09T01:00:00",
          "2023-07-09T02:00:00",
          "2023-07-09T03:00:00",
          "2023-07-09T04:00:00",
          "2023-07-09T05:00:00",
          "2023-07-09T06:00:00",
          "2023-07-09T07:00:00",
          "2023-07-09T08:00:00",
          "2023-07-09T09:00:00",
          "2023-07-09T10:00:00",
          "2023-07-09T11:00:00",
          "2023-07-09T12:00:00",
          "2023-07-09T13:00:00",
          "2023-07-09T14:00:00",
          "2023-07-09T15:00:00",
          "2023-07-09T16:00:00",
          "2023-07-09T17:00:00",
          "2023-07-09T18:00:00",
          "2023-07-09T19:00:00",
          "2023-07-09T20:00:00",
          "2023-07-09T21:00:00",
          "2023-07-09T22:00:00",
          "2023-07-09T23:00:00",
          "2023-07-10T00:00:00",
          "2023-07-10T01:00:00",
          "2023-07-10T02:00:00",
          "2023-07-10T03:00:00",
          "2023-07-10T04:00:00",
          "2023-07-10T05:00:00",
          "2023-07-10T06:00:00",
          "2023-07-10T07:00:00",
          "2023-07-10T08:00:00",
          "2023-07-10T09:00:00",
          "2023-07-10T10:00:00",
          "2023-07-10T11:00:00",
          "2023-07-10T12:00:00",
          "2023-07-10T13:00:00",
          "2023-07-10T14:00:00",
          "2023-07-10T15:00:00",
          "2023-07-10T16:00:00",
          "2023-07-10T17:00:00",
          "2023-07-10T18:00:00",
          "2023-07-10T19:00:00",
          "2023-07-10T20:00:00",
          "2023-07-10T21:00:00",
          "2023-07-10T22:00:00",
          "2023-07-10T23:00:00",
          "2023-07-11T00:00:00",
          "2023-07-11T01:00:00",
          "2023-07-11T02:00:00",
          "2023-07-11T03:00:00",
          "2023-07-11T04:00:00",
          "2023-07-11T05:00:00",
          "2023-07-11T06:00:00",
          "2023-07-11T07:00:00",
          "2023-07-11T08:00:00",
          "2023-07-11T09:00:00",
          "2023-07-11T10:00:00",
          "2023-07-11T11:00:00",
          "2023-07-11T12:00:00",
          "2023-07-11T13:00:00",
          "2023-07-11T14:00:00",
          "2023-07-11T15:00:00",
          "2023-07-11T16:00:00",
          "2023-07-11T17:00:00",
          "2023-07-11T18:00:00",
          "2023-07-11T19:00:00",
          "2023-07-11T20:00:00",
          "2023-07-11T21:00:00",
          "2023-07-11T22:00:00",
          "2023-07-11T23:00:00",
          "2023-07-12T00:00:00",
          "2023-07-12T01:00:00",
          "2023-07-12T02:00:00",
          "2023-07-12T03:00:00",
          "2023-07-12T04:00:00",
          "2023-07-12T05:00:00",
          "2023-07-12T06:00:00",
          "2023-07-12T07:00:00",
          "2023-07-12T08:00:00",
          "2023-07-12T09:00:00",
          "2023-07-12T10:00:00",
          "2023-07-12T11:00:00",
          "2023-07-12T12:00:00",
          "2023-07-12T13:00:00",
          "2023-07-12T14:00:00",
          "2023-07-12T15:00:00",
          "2023-07-12T16:00:00",
          "2023-07-12T17:00:00",
          "2023-07-12T18:00:00",
          "2023-07-12T19:00:00",
          "2023-07-12T20:00:00",
          "2023-07-12T21:00:00",
          "2023-07-12T22:00:00",
          "2023-07-12T23:00:00",
          "2023-07-13T00:00:00",
          "2023-07-13T01:00:00",
          "2023-07-13T02:00:00",
          "2023-07-13T03:00:00",
          "2023-07-13T04:00:00",
          "2023-07-13T05:00:00",
          "2023-07-13T06:00:00",
          "2023-07-13T07:00:00",
          "2023-07-13T08:00:00",
          "2023-07-13T09:00:00",
          "2023-07-13T10:00:00",
          "2023-07-13T11:00:00",
          "2023-07-13T12:00:00",
          "2023-07-13T13:00:00",
          "2023-07-13T14:00:00",
          "2023-07-13T15:00:00",
          "2023-07-13T16:00:00",
          "2023-07-13T17:00:00",
          "2023-07-13T18:00:00",
          "2023-07-13T19:00:00",
          "2023-07-13T20:00:00",
          "2023-07-13T21:00:00",
          "2023-07-13T22:00:00",
          "2023-07-13T23:00:00",
          "2023-07-14T00:00:00",
          "2023-07-14T01:00:00",
          "2023-07-14T02:00:00",
          "2023-07-14T03:00:00",
          "2023-07-14T04:00:00",
          "2023-07-14T05:00:00",
          "2023-07-14T06:00:00",
          "2023-07-14T07:00:00",
          "2023-07-14T08:00:00",
          "2023-07-14T09:00:00",
          "2023-07-14T10:00:00",
          "2023-07-14T11:00:00",
          "2023-07-14T12:00:00",
          "2023-07-14T13:00:00",
          "2023-07-14T14:00:00",
          "2023-07-14T15:00:00",
          "2023-07-14T16:00:00",
          "2023-07-14T17:00:00",
          "2023-07-14T18:00:00",
          "2023-07-14T19:00:00",
          "2023-07-14T20:00:00",
          "2023-07-14T21:00:00",
          "2023-07-14T22:00:00",
          "2023-07-14T23:00:00",
          "2023-07-15T00:00:00",
          "2023-07-15T01:00:00",
          "2023-07-15T02:00:00",
          "2023-07-15T03:00:00",
          "2023-07-15T04:00:00",
          "2023-07-15T05:00:00",
          "2023-07-15T06:00:00",
          "2023-07-15T07:00:00",
          "2023-07-15T08:00:00",
          "2023-07-15T09:00:00",
          "2023-07-15T10:00:00",
          "2023-07-15T11:00:00",
          "2023-07-15T12:00:00",
          "2023-07-15T13:00:00",
          "2023-07-15T14:00:00",
          "2023-07-15T15:00:00",
          "2023-07-15T16:00:00",
          "2023-07-15T17:00:00",
          "2023-07-15T18:00:00",
          "2023-07-15T19:00:00",
          "2023-07-15T20:00:00",
          "2023-07-15T21:00:00",
          "2023-07-15T22:00:00",
          "2023-07-15T23:00:00",
          "2023-07-16T00:00:00",
          "2023-07-16T01:00:00",
          "2023-07-16T02:00:00",
          "2023-07-16T03:00:00",
          "2023-07-16T04:00:00",
          "2023-07-16T05:00:00",
          "2023-07-16T06:00:00",
          "2023-07-16T07:00:00",
          "2023-07-16T08:00:00",
          "2023-07-16T09:00:00",
          "2023-07-16T10:00:00",
          "2023-07-16T11:00:00",
          "2023-07-16T12:00:00",
          "2023-07-16T13:00:00",
          "2023-07-16T14:00:00",
          "2023-07-16T15:00:00",
          "2023-07-16T16:00:00",
          "2023-07-16T17:00:00",
          "2023-07-16T18:00:00",
          "2023-07-16T19:00:00",
          "2023-07-16T20:00:00",
          "2023-07-16T21:00:00",
          "2023-07-16T22:00:00",
          "2023-07-16T23:00:00",
          "2023-07-17T00:00:00",
          "2023-07-17T01:00:00",
          "2023-07-17T02:00:00",
          "2023-07-17T03:00:00",
          "2023-07-17T04:00:00",
          "2023-07-17T05:00:00",
          "2023-07-17T06:00:00",
          "2023-07-17T07:00:00",
          "2023-07-17T08:00:00",
          "2023-07-17T09:00:00",
          "2023-07-17T10:00:00",
          "2023-07-17T11:00:00",
          "2023-07-17T12:00:00",
          "2023-07-17T13:00:00",
          "2023-07-17T14:00:00",
          "2023-07-17T15:00:00",
          "2023-07-17T16:00:00",
          "2023-07-17T17:00:00",
          "2023-07-17T18:00:00",
          "2023-07-17T19:00:00",
          "2023-07-17T20:00:00",
          "2023-07-17T21:00:00",
          "2023-07-17T22:00:00",
          "2023-07-17T23:00:00",
          "2023-07-18T00:00:00",
          "2023-07-18T01:00:00",
          "2023-07-18T02:00:00",
          "2023-07-18T03:00:00",
          "2023-07-18T04:00:00",
          "2023-07-18T05:00:00",
          "2023-07-18T06:00:00",
          "2023-07-18T07:00:00",
          "2023-07-18T08:00:00",
          "2023-07-18T09:00:00",
          "2023-07-18T10:00:00",
          "2023-07-18T11:00:00",
          "2023-07-18T12:00:00",
          "2023-07-18T13:00:00",
          "2023-07-18T14:00:00",
          "2023-07-18T15:00:00",
          "2023-07-18T16:00:00",
          "2023-07-18T17:00:00",
          "2023-07-18T18:00:00",
          "2023-07-18T19:00:00",
          "2023-07-18T20:00:00",
          "2023-07-18T21:00:00",
          "2023-07-18T22:00:00",
          "2023-07-18T23:00:00",
          "2023-07-19T00:00:00",
          "2023-07-19T01:00:00",
          "2023-07-19T02:00:00",
          "2023-07-19T03:00:00",
          "2023-07-19T04:00:00",
          "2023-07-19T05:00:00",
          "2023-07-19T06:00:00",
          "2023-07-19T07:00:00",
          "2023-07-19T08:00:00",
          "2023-07-19T09:00:00",
          "2023-07-19T10:00:00",
          "2023-07-19T11:00:00",
          "2023-07-19T12:00:00",
          "2023-07-19T13:00:00",
          "2023-07-19T14:00:00",
          "2023-07-19T15:00:00",
          "2023-07-19T16:00:00",
          "2023-07-19T17:00:00",
          "2023-07-19T18:00:00",
          "2023-07-19T19:00:00",
          "2023-07-19T20:00:00",
          "2023-07-19T21:00:00",
          "2023-07-19T22:00:00",
          "2023-07-19T23:00:00",
          "2023-07-20T00:00:00",
          "2023-07-20T01:00:00",
          "2023-07-20T02:00:00",
          "2023-07-20T03:00:00",
          "2023-07-20T04:00:00",
          "2023-07-20T05:00:00",
          "2023-07-20T06:00:00",
          "2023-07-20T07:00:00",
          "2023-07-20T08:00:00",
          "2023-07-20T09:00:00",
          "2023-07-20T10:00:00",
          "2023-07-20T11:00:00",
          "2023-07-20T12:00:00",
          "2023-07-20T13:00:00",
          "2023-07-20T14:00:00",
          "2023-07-20T15:00:00",
          "2023-07-20T16:00:00",
          "2023-07-20T17:00:00",
          "2023-07-20T18:00:00",
          "2023-07-20T19:00:00",
          "2023-07-20T20:00:00",
          "2023-07-20T21:00:00",
          "2023-07-20T22:00:00",
          "2023-07-20T23:00:00",
          "2023-07-21T00:00:00",
          "2023-07-21T01:00:00",
          "2023-07-21T02:00:00",
          "2023-07-21T03:00:00",
          "2023-07-21T04:00:00",
          "2023-07-21T05:00:00",
          "2023-07-21T06:00:00",
          "2023-07-21T07:00:00",
          "2023-07-21T08:00:00",
          "2023-07-21T09:00:00",
          "2023-07-21T10:00:00",
          "2023-07-21T11:00:00",
          "2023-07-21T12:00:00",
          "2023-07-21T13:00:00",
          "2023-07-21T14:00:00",
          "2023-07-21T15:00:00",
          "2023-07-21T16:00:00",
          "2023-07-21T17:00:00",
          "2023-07-21T18:00:00",
          "2023-07-21T19:00:00",
          "2023-07-21T20:00:00",
          "2023-07-21T21:00:00",
          "2023-07-21T22:00:00",
          "2023-07-21T23:00:00",
          "2023-07-22T00:00:00",
          "2023-07-22T01:00:00",
          "2023-07-22T02:00:00",
          "2023-07-22T03:00:00",
          "2023-07-22T04:00:00",
          "2023-07-22T05:00:00",
          "2023-07-22T06:00:00",
          "2023-07-22T07:00:00",
          "2023-07-22T08:00:00",
          "2023-07-22T09:00:00",
          "2023-07-22T10:00:00",
          "2023-07-22T11:00:00",
          "2023-07-22T12:00:00",
          "2023-07-22T13:00:00",
          "2023-07-22T14:00:00",
          "2023-07-22T15:00:00",
          "2023-07-22T16:00:00",
          "2023-07-22T17:00:00",
          "2023-07-22T18:00:00",
          "2023-07-22T19:00:00",
          "2023-07-22T20:00:00",
          "2023-07-22T21:00:00",
          "2023-07-22T22:00:00",
          "2023-07-22T23:00:00",
          "2023-07-23T00:00:00",
          "2023-07-23T01:00:00",
          "2023-07-23T02:00:00",
          "2023-07-23T03:00:00",
          "2023-07-23T04:00:00",
          "2023-07-23T05:00:00",
          "2023-07-23T06:00:00",
          "2023-07-23T07:00:00",
          "2023-07-23T08:00:00",
          "2023-07-23T09:00:00",
          "2023-07-23T10:00:00",
          "2023-07-23T11:00:00",
          "2023-07-23T12:00:00",
          "2023-07-23T13:00:00",
          "2023-07-23T14:00:00",
          "2023-07-23T15:00:00",
          "2023-07-23T16:00:00",
          "2023-07-23T17:00:00",
          "2023-07-23T18:00:00",
          "2023-07-23T19:00:00",
          "2023-07-23T20:00:00",
          "2023-07-23T21:00:00",
          "2023-07-23T22:00:00",
          "2023-07-23T23:00:00",
          "2023-07-24T00:00:00",
          "2023-07-24T01:00:00",
          "2023-07-24T02:00:00",
          "2023-07-24T03:00:00",
          "2023-07-24T04:00:00",
          "2023-07-24T05:00:00",
          "2023-07-24T06:00:00",
          "2023-07-24T07:00:00",
          "2023-07-24T08:00:00",
          "2023-07-24T09:00:00",
          "2023-07-24T10:00:00",
          "2023-07-24T11:00:00",
          "2023-07-24T12:00:00",
          "2023-07-24T13:00:00",
          "2023-07-24T14:00:00",
          "2023-07-24T15:00:00",
          "2023-07-24T16:00:00",
          "2023-07-24T17:00:00",
          "2023-07-24T18:00:00",
          "2023-07-24T19:00:00",
          "2023-07-24T20:00:00",
          "2023-07-24T21:00:00",
          "2023-07-24T22:00:00",
          "2023-07-24T23:00:00",
          "2023-07-25T00:00:00",
          "2023-07-25T01:00:00",
          "2023-07-25T02:00:00",
          "2023-07-25T03:00:00",
          "2023-07-25T04:00:00",
          "2023-07-25T05:00:00",
          "2023-07-25T06:00:00",
          "2023-07-25T07:00:00",
          "2023-07-25T08:00:00",
          "2023-07-25T09:00:00",
          "2023-07-25T10:00:00",
          "2023-07-25T11:00:00",
          "2023-07-25T12:00:00",
          "2023-07-25T13:00:00",
          "2023-07-25T14:00:00",
          "2023-07-25T15:00:00",
          "2023-07-25T16:00:00",
          "2023-07-25T17:00:00",
          "2023-07-25T18:00:00",
          "2023-07-25T19:00:00",
          "2023-07-25T20:00:00",
          "2023-07-25T21:00:00",
          "2023-07-25T22:00:00",
          "2023-07-25T23:00:00",
          "2023-07-26T00:00:00",
          "2023-07-26T01:00:00",
          "2023-07-26T02:00:00",
          "2023-07-26T03:00:00",
          "2023-07-26T04:00:00",
          "2023-07-26T05:00:00",
          "2023-07-26T06:00:00",
          "2023-07-26T07:00:00",
          "2023-07-26T08:00:00",
          "2023-07-26T09:00:00",
          "2023-07-26T10:00:00",
          "2023-07-26T11:00:00",
          "2023-07-26T12:00:00",
          "2023-07-26T13:00:00",
          "2023-07-26T14:00:00",
          "2023-07-26T15:00:00",
          "2023-07-26T16:00:00",
          "2023-07-26T17:00:00",
          "2023-07-26T18:00:00",
          "2023-07-26T19:00:00",
          "2023-07-26T20:00:00",
          "2023-07-26T21:00:00",
          "2023-07-26T22:00:00",
          "2023-07-26T23:00:00",
          "2023-07-27T00:00:00",
          "2023-07-27T01:00:00",
          "2023-07-27T02:00:00",
          "2023-07-27T03:00:00",
          "2023-07-27T04:00:00",
          "2023-07-27T05:00:00",
          "2023-07-27T06:00:00",
          "2023-07-27T07:00:00",
          "2023-07-27T08:00:00",
          "2023-07-27T09:00:00",
          "2023-07-27T10:00:00",
          "2023-07-27T11:00:00",
          "2023-07-27T12:00:00",
          "2023-07-27T13:00:00",
          "2023-07-27T14:00:00",
          "2023-07-27T15:00:00",
          "2023-07-27T16:00:00",
          "2023-07-27T17:00:00",
          "2023-07-27T18:00:00",
          "2023-07-27T19:00:00",
          "2023-07-27T20:00:00",
          "2023-07-27T21:00:00",
          "2023-07-27T22:00:00",
          "2023-07-27T23:00:00",
          "2023-07-28T00:00:00",
          "2023-07-28T01:00:00",
          "2023-07-28T02:00:00",
          "2023-07-28T03:00:00",
          "2023-07-28T04:00:00",
          "2023-07-28T05:00:00",
          "2023-07-28T06:00:00",
          "2023-07-28T07:00:00",
          "2023-07-28T08:00:00",
          "2023-07-28T09:00:00",
          "2023-07-28T10:00:00",
          "2023-07-28T11:00:00",
          "2023-07-28T12:00:00",
          "2023-07-28T13:00:00",
          "2023-07-28T14:00:00",
          "2023-07-28T15:00:00",
          "2023-07-28T16:00:00",
          "2023-07-28T17:00:00",
          "2023-07-28T18:00:00",
          "2023-07-28T19:00:00",
          "2023-07-28T20:00:00",
          "2023-07-28T21:00:00",
          "2023-07-28T22:00:00",
          "2023-07-28T23:00:00",
          "2023-07-29T00:00:00",
          "2023-07-29T01:00:00",
          "2023-07-29T02:00:00",
          "2023-07-29T03:00:00",
          "2023-07-29T04:00:00",
          "2023-07-29T05:00:00",
          "2023-07-29T06:00:00",
          "2023-07-29T07:00:00",
          "2023-07-29T08:00:00",
          "2023-07-29T09:00:00",
          "2023-07-29T10:00:00",
          "2023-07-29T11:00:00",
          "2023-07-29T12:00:00",
          "2023-07-29T13:00:00",
          "2023-07-29T14:00:00",
          "2023-07-29T15:00:00",
          "2023-07-29T16:00:00",
          "2023-07-29T17:00:00",
          "2023-07-29T18:00:00",
          "2023-07-29T19:00:00",
          "2023-07-29T20:00:00",
          "2023-07-29T21:00:00",
          "2023-07-29T22:00:00",
          "2023-07-29T23:00:00",
          "2023-07-30T00:00:00",
          "2023-07-30T01:00:00",
          "2023-07-30T02:00:00",
          "2023-07-30T03:00:00",
          "2023-07-30T04:00:00",
          "2023-07-30T05:00:00",
          "2023-07-30T06:00:00",
          "2023-07-30T07:00:00",
          "2023-07-30T08:00:00",
          "2023-07-30T09:00:00",
          "2023-07-30T10:00:00",
          "2023-07-30T11:00:00",
          "2023-07-30T12:00:00",
          "2023-07-30T13:00:00",
          "2023-07-30T14:00:00",
          "2023-07-30T15:00:00",
          "2023-07-30T16:00:00",
          "2023-07-30T17:00:00",
          "2023-07-30T18:00:00",
          "2023-07-30T19:00:00",
          "2023-07-30T20:00:00",
          "2023-07-30T21:00:00",
          "2023-07-30T22:00:00",
          "2023-07-30T23:00:00",
          "2023-07-31T00:00:00",
          "2023-07-31T01:00:00",
          "2023-07-31T02:00:00",
          "2023-07-31T03:00:00",
          "2023-07-31T04:00:00",
          "2023-07-31T05:00:00",
          "2023-07-31T06:00:00",
          "2023-07-31T07:00:00",
          "2023-07-31T08:00:00",
          "2023-07-31T09:00:00",
          "2023-07-31T10:00:00",
          "2023-07-31T11:00:00",
          "2023-07-31T12:00:00",
          "2023-07-31T13:00:00",
          "2023-07-31T14:00:00",
          "2023-07-31T15:00:00",
          "2023-07-31T16:00:00",
          "2023-07-31T17:00:00",
          "2023-07-31T18:00:00",
          "2023-07-31T19:00:00",
          "2023-07-31T20:00:00",
          "2023-07-31T21:00:00",
          "2023-07-31T22:00:00",
          "2023-07-31T23:00:00"
         ],
         "xaxis": "x",
         "y": [
          4992377.298,
          4781911.091375001,
          4645118.083374999,
          4447286.931875001,
          4221513.2945,
          4275782.98675,
          4442472.4065000005,
          4628467.8065,
          4891606.903124999,
          5078900.5622499995,
          5133744.50375,
          5228612.564375,
          5192377.946375,
          5070856.218125,
          5059528.241125,
          5024532.1431249995,
          5084404.780875,
          5193279.17925,
          5285534.4415,
          5231946.739125,
          5102613.2715,
          5014024.263875,
          5019488.309,
          4792773.51675,
          4588989.187999999,
          4471721.92175,
          4321234.912625,
          4126455.9790000003,
          3931752.433125,
          3857963.219125,
          3917679.9483749997,
          4073717.6975000002,
          4331445.649750001,
          4594054.70975,
          4715863.998,
          4846766.171375001,
          4809639.10775,
          4617898.736125,
          4535643.349625,
          4535184.203125,
          4566927.933125,
          4777017.23025,
          5028645.63275,
          5059314.291875,
          5044363.519875,
          5012898.9125,
          5050708.621,
          4761913.497625,
          4531579.652999999,
          4411999.596875,
          4333519.314125,
          4204024.322625,
          4128770.867,
          4465603.84675,
          5238514.2405,
          5975573.137375,
          6330126.298874999,
          6339004.248625001,
          6451519.0967500005,
          6659334.7042499995,
          6297372.454,
          6263059.0505,
          6126278.593125001,
          6012249.762124999,
          5958786.069125,
          5909348.124500001,
          5983329.107125,
          5874202.09325,
          5718628.883125001,
          5656686.241375,
          5602387.7265,
          5194917.779625,
          4984820.305,
          4824486.195875,
          4642583.113125,
          4478557.040624999,
          4365142.476,
          4722788.48875,
          5384357.5825,
          6066712.083375,
          6393172.818875,
          6424697.614625,
          6493071.5057500005,
          6685052.17625,
          6293650.576,
          6301211.6055,
          6172996.461124999,
          6133324.582125001,
          6074333.467125,
          6032271.8555,
          6097641.604125,
          6002771.80225,
          5816234.230125,
          5722594.104374999,
          5665226.8755,
          5263810.021625,
          4972959.776,
          4810859.865875,
          4671729.241125,
          4523665.997625,
          4416941.465,
          4743397.38475,
          5462736.7915,
          6167420.440375,
          6567198.600875,
          6688324.765625,
          6861892.08675,
          7002843.98725,
          6571904.007999999,
          6529628.276500001,
          6329183.892124999,
          6179490.646125,
          6071185.955125,
          6024212.3375,
          6104820.261124999,
          5960936.55625,
          5722960.205125,
          5625310.025375,
          5556457.9315,
          5239181.342625,
          4945640.501,
          4774176.813875,
          4705956.008125,
          4536188.138625001,
          4404050.0479999995,
          4728756.84275,
          5400589.2045,
          6062532.747375,
          6308385.804874999,
          6236908.710625,
          6379117.2897499995,
          6516994.548250001,
          6160798.201,
          6179516.0805,
          6109938.270125,
          6028090.579125,
          5984295.572125,
          5913353.871499999,
          5980830.565125,
          5890981.731249999,
          5717842.957125001,
          5623975.988375001,
          5609448.6844999995,
          5241972.198625,
          4989902.75,
          4782990.377875,
          4628228.084125,
          4464664.740625,
          4363396.524,
          4664438.73575,
          5312713.0105,
          5906990.845375,
          6197744.809875,
          6225793.532625,
          6331824.12875,
          6440100.57325,
          6081924.676,
          6068991.7225,
          5992592.381124999,
          5896814.116125001,
          5803598.903125,
          5853227.2355,
          5982935.280125,
          5891643.86425,
          5672605.423125001,
          5578344.2653749995,
          5537549.7685,
          5251386.533625,
          5081150.291,
          4862024.586375,
          4643104.6123750005,
          4400429.887875,
          4193976.8175,
          4255116.5907499995,
          4447707.7655,
          4656275.0505,
          4975028.8651250005,
          5195830.66225,
          5333116.23475,
          5352051.309375,
          5225632.585375,
          5090428.914125,
          4952516.958125,
          4867355.288125,
          4842019.529875,
          4978752.15025,
          5156725.2805,
          5181208.408125,
          5055682.490499999,
          5032494.029874999,
          5098684.836999999,
          4860945.25375,
          4672638.82,
          4525891.42875,
          4356947.956625,
          4158299.119,
          3971635.684125,
          3905643.5631250003,
          3928504.459375,
          3999995.3575,
          4186828.5117500005,
          4373169.43375,
          4481764.819999999,
          4599156.533375,
          4619495.963749999,
          4507231.470125,
          4420652.534625,
          4458533.773125,
          4620088.029124999,
          4846375.85325,
          5112530.135749999,
          5193047.658875,
          5164776.804874999,
          5197100.5665,
          5262806.0819999995,
          4907281.339625,
          4682545.051,
          4532423.626875,
          4460769.972125,
          4323827.022625,
          4263008.296999999,
          4605152.3467500005,
          5330506.9245,
          6112326.848375,
          6542202.144875,
          6608214.850625,
          6684080.48375,
          6774555.01725,
          6422013.18,
          6433928.609499999,
          6353133.057124999,
          6292348.492125,
          6197352.953125,
          6161493.9325,
          6227695.027125,
          6112485.20625,
          5970819.678125001,
          5848066.525375,
          5793474.2555,
          5406733.160625,
          5124123.972,
          4942562.366875,
          4801411.689125,
          4613385.415624999,
          4466598.841,
          4745019.56475,
          5457387.6095,
          6148260.154375,
          6510598.9418750005,
          6605165.6096250005,
          6713533.075750001,
          6780504.54325,
          6492299.427,
          6539997.7345,
          6487995.331125,
          6425217.1431249995,
          6381411.652125,
          6394850.3535,
          6481769.7681249995,
          6391051.12125,
          6207954.833125,
          6002422.213375,
          5749402.0065,
          5379409.295625,
          5126754.512,
          4900244.893874999,
          4818173.283125,
          4642539.225625001,
          4547749.623,
          4893098.4657499995,
          5628502.943499999,
          6310148.385375001,
          6609374.404874999,
          6753040.296625,
          6952138.406749999,
          7129770.560249999,
          6874627.001,
          6942636.7905,
          6804889.829125,
          6696405.036125,
          6657128.426124999,
          6560615.0725,
          6572825.055125,
          6323246.912249999,
          6005315.813125001,
          5761885.233375001,
          5646591.0295,
          5263604.527625,
          5001240.091,
          4794450.999875,
          4710275.428125,
          4517655.112625001,
          4387517.722,
          4669346.15475,
          5354038.4465,
          6076904.348375,
          6517393.475875,
          6517416.124624999,
          6575506.571749999,
          6669320.524250001,
          6282126.688,
          6273507.969500001,
          6115876.702125001,
          5961596.010125,
          5895844.333125,
          5877450.3145,
          5904997.427125,
          5819205.54525,
          5666774.883125,
          5576212.008374999,
          5499229.9865,
          5149153.829624999,
          4877735.056,
          4707708.129875,
          4589595.633125,
          4420372.357625,
          4304668.594,
          4580502.5057500005,
          5191590.3305,
          5775974.056375,
          6068085.596875,
          6129942.926625,
          6200205.210750001,
          6272808.592250001,
          6007854.182,
          5988477.4245,
          5915274.812125,
          5823904.690125,
          5671652.878125,
          5745927.1275,
          5850655.173125001,
          5800503.830250001,
          5631226.408125,
          5507372.735375,
          5474919.428499999,
          5185717.046625,
          4977610.158,
          4822051.856375,
          4588843.434375,
          4351297.442875,
          4136418.5785,
          4156978.9717500005,
          4339583.2325,
          4466133.7065,
          4773891.970125,
          4969899.48325,
          5066710.858750001,
          5125126.4473749995,
          5064822.776374999,
          5053556.040125,
          5048830.934125001,
          5076739.144125,
          5016965.095875,
          5110752.223250001,
          5257338.5655,
          5307888.554125,
          5195769.6835,
          5111028.345875001,
          5108590.864999999,
          4867857.30975,
          4649082.706,
          4496306.178749999,
          4291509.418625,
          4088522.701,
          3918493.262125,
          3871047.5311249997,
          3900015.8723750003,
          3935894.1955,
          4118881.0947499997,
          4337890.58275,
          4475136.3209999995,
          4607559.385375001,
          4617429.54175,
          4480606.085124999,
          4370081.017625,
          4314351.748125,
          4378725.695125,
          4642712.505249999,
          4926408.176750001,
          5002264.178875,
          4932098.2088750005,
          4969114.5375,
          5026703.961999999,
          4740953.067625,
          4509977.483,
          4344101.557875,
          4268221.936125,
          4115621.680625,
          4091970.596,
          4495895.66975,
          5132350.337499999,
          5757966.805375,
          6136977.454875,
          6211328.389625,
          6259694.28975,
          6366849.826249999,
          6056920.087,
          6084691.1655,
          6004455.930125,
          5968570.725125,
          5913331.408124999,
          5883890.1435,
          5977115.752125001,
          5868855.24425,
          5657259.834125,
          5540651.919375,
          5440719.978499999,
          5096746.6606250005,
          4838240.982000001,
          4686061.755875,
          4555571.020125,
          4386487.333625,
          4256010.526,
          4612742.59575,
          5186234.0525,
          5781241.122375,
          6102700.032875,
          6129193.894625,
          6226190.41175,
          6327577.55325,
          6217231.614,
          6614938.3165,
          6557036.403125,
          6402784.386125,
          6144799.605125,
          6022492.2195,
          6086214.345124999,
          5937280.70925,
          5744424.979125001,
          5661940.142375,
          5568500.7605,
          5159889.477624999,
          4886718.6049999995,
          4708537.462874999,
          4603508.591125,
          4429618.204625,
          4307352.475,
          4658534.36575,
          5261999.6334999995,
          5931463.499375001,
          6314897.064875,
          6372642.860625,
          6466993.87175,
          6572126.208249999,
          6277868.755,
          6231375.131500001,
          6121010.074125,
          6028885.437124999,
          5958849.366125001,
          6008374.6245,
          5972195.897125,
          5843581.186249999,
          5628884.804125,
          5575111.905375,
          5517896.666499999,
          5103903.873625001,
          4866331.739,
          4663181.347875,
          4533793.328125,
          4353768.144625001,
          4231817.609,
          4512756.26275,
          5134801.5075,
          5741850.151375,
          6052433.766875,
          6044597.344625001,
          6083688.39275,
          6125680.276250001,
          5837873.194,
          5845215.6545,
          5766491.752125,
          5689783.077125,
          5694165.388125,
          5708664.9675,
          5796374.847124999,
          5694308.84725,
          5552345.140125,
          5488427.429375,
          5399016.4305,
          5040863.366625,
          4803048.9120000005,
          4626129.610874999,
          4488614.233124999,
          4318441.419625,
          4186184.0519999997,
          4452342.95275,
          5030175.260500001,
          5698624.089375,
          6111271.679874999,
          6199645.8936250005,
          6363770.1077499995,
          6407048.137250001,
          6056087.959000001,
          5907754.1035,
          5772640.505125,
          5679076.828125,
          5591415.482124999,
          5607067.9665,
          5649459.850125,
          5513202.33125,
          5330141.221125,
          5221543.420375001,
          5145644.1885,
          4870804.537625,
          4682545.364,
          4523004.196374999,
          4375085.114375,
          4180718.943875,
          3970520.6085,
          4005197.48575,
          4145745.5415,
          4283440.0035,
          4526781.079125,
          4700417.66625,
          4780219.24675,
          4829333.092375,
          4733462.996375,
          4648173.390125,
          4556306.796125,
          4529854.144125,
          4537015.901875,
          4674110.98525,
          4800399.7495,
          4777901.215125,
          4735674.692500001,
          4751738.761875,
          4770107.438,
          4527260.34975,
          4340521.213,
          4182961.65875,
          4085534.676625,
          3908085.645,
          3730732.4801250002,
          3696704.799125,
          3735841.032375,
          3786086.5245,
          3964674.0747499997,
          4120397.45775,
          4208962.41,
          4269867.006375,
          4268313.46675,
          4169317.916125,
          4138602.4156250004,
          4145276.771125,
          4241897.158125,
          4488857.57125,
          4748043.02475,
          4797141.048875,
          4740383.252875,
          4791522.5625,
          4804920.973,
          4520847.124625,
          4324792.075,
          4198496.652875,
          4136686.577125,
          4026720.543625,
          3950246.017,
          4233063.54875,
          4871177.4815,
          5515412.883375,
          5908353.289875,
          6096210.312625,
          6121954.27575,
          6319917.00325,
          6165324.472,
          6099470.6674999995,
          5871897.707125,
          5891306.818125,
          5812961.856125,
          5700737.5215,
          5738895.118125,
          5489416.55525,
          5263294.811125,
          5181710.526375,
          5085796.124500001,
          4767059.5126249995,
          4571529.120999999,
          4406476.544875,
          4286943.241125001,
          4134516.9606250003,
          4013729.7860000003,
          4286490.930749999,
          4872612.3205,
          5414125.940375,
          5754333.515875,
          5767702.7006250005,
          5880719.75275,
          6002301.603250001,
          5720554.583000001,
          5664446.6565000005,
          5588953.177125,
          5536642.6431249995,
          5446274.262125,
          5432292.8055,
          5572966.519125,
          5412674.94525,
          5194388.004125,
          5101317.888374999,
          4992409.4555,
          4697092.574624999,
          4500753.881000001,
          4360820.093875,
          4241018.025125,
          4122051.851625,
          4003620.742,
          4279814.78575,
          4834370.7625,
          5365772.509375,
          5700402.143875,
          5788134.432625,
          5904827.92875,
          5976908.5512500005,
          5685088.333000001,
          5614081.3765,
          5465416.562125,
          5334870.026125,
          5289613.705125,
          5304546.2535,
          5339929.405125,
          5225678.0792499995,
          5117566.622125,
          5109499.886375,
          5053441.8975,
          4745899.177625,
          4534899.534,
          4396440.639875,
          4277111.502125,
          4148205.2126249997,
          4031823.687,
          4304518.92675,
          4825569.4715,
          5275615.807375001,
          5584694.078875,
          5605663.983625,
          5652118.43575,
          5675271.61725,
          5402126.727,
          5383609.831499999,
          5260749.976125,
          5170253.095125,
          5125560.425125,
          5156160.0975,
          5261008.757125,
          5236460.76125,
          5148426.884125,
          5109493.6523750005,
          5060341.8905,
          4741518.094625,
          4549448.086,
          4376907.656874999,
          4252469.543125,
          4095948.080625,
          3988709.333,
          4215937.04875,
          4725632.854499999,
          5190040.326375,
          5488061.576875,
          5592456.653625,
          5684730.42875,
          5789480.752250001,
          5673097.732,
          5659250.9115,
          5511271.943125,
          5403262.6151250005,
          5430470.117125,
          5533807.0715,
          5493848.347125,
          5319640.25425,
          5150665.986125,
          5064874.746375,
          5009416.3604999995,
          4759587.313625,
          4588547.502,
          4419459.161375,
          4261557.001375,
          4058716.3148749997,
          3852216.9354999997,
          3899123.2377500003,
          4084562.0725,
          4226564.0505,
          4471555.100125,
          4675061.25825,
          4796890.51475,
          4885781.102375,
          4899639.225375,
          4968355.9961250005,
          5062027.573125,
          5032312.042125001,
          4965940.854875,
          5041589.53225,
          5095620.9415,
          4963268.562125,
          4785805.5535,
          4700163.989875,
          4626285.336999999,
          4399882.72575,
          4240988.282,
          4098422.00175,
          4005131.1006250004,
          3841099.411,
          3648339.916125,
          3628974.9221250005,
          3655982.9593749996,
          3740893.3215,
          3932553.60575,
          4128506.6987499995,
          4249961.938,
          4331108.847375001,
          4272372.04375,
          4044143.011125,
          3878277.321625,
          3827009.9821249996,
          3911229.888125,
          4164222.08625,
          4432917.90475,
          4537475.4818750005,
          4543403.722875,
          4599991.9425,
          4589679.215,
          4306162.957625,
          4118935.4000000004,
          3989702.991875,
          3936591.4711249997,
          3809664.630625,
          3723286.1199999996,
          3934341.3447499997,
          4360574.6225000005,
          4635576.460375,
          4914515.167874999,
          5037780.386625,
          5085548.88875,
          5104484.71725,
          4895089.755,
          4815599.2285,
          4770857.000125,
          4772692.709125,
          4795765.426125001,
          4906484.9275,
          5015210.046125,
          4890407.05525,
          4815500.215125,
          4809902.687375,
          4785170.1245,
          4553175.110625
         ],
         "yaxis": "y"
        },
        {
         "hovertemplate": "Series=pred<br>Date=%{x}<br>Energy Consumption (kWh)=%{y}<extra></extra>",
         "legendgroup": "pred",
         "line": {
          "color": "#EF553B",
          "dash": "solid",
          "shape": "hv"
         },
         "marker": {
          "symbol": "circle"
         },
         "mode": "lines",
         "name": "pred",
         "showlegend": true,
         "type": "scattergl",
         "x": [
          "2023-07-01T00:00:00",
          "2023-07-01T01:00:00",
          "2023-07-01T02:00:00",
          "2023-07-01T03:00:00",
          "2023-07-01T04:00:00",
          "2023-07-01T05:00:00",
          "2023-07-01T06:00:00",
          "2023-07-01T07:00:00",
          "2023-07-01T08:00:00",
          "2023-07-01T09:00:00",
          "2023-07-01T10:00:00",
          "2023-07-01T11:00:00",
          "2023-07-01T12:00:00",
          "2023-07-01T13:00:00",
          "2023-07-01T14:00:00",
          "2023-07-01T15:00:00",
          "2023-07-01T16:00:00",
          "2023-07-01T17:00:00",
          "2023-07-01T18:00:00",
          "2023-07-01T19:00:00",
          "2023-07-01T20:00:00",
          "2023-07-01T21:00:00",
          "2023-07-01T22:00:00",
          "2023-07-01T23:00:00",
          "2023-07-02T00:00:00",
          "2023-07-02T01:00:00",
          "2023-07-02T02:00:00",
          "2023-07-02T03:00:00",
          "2023-07-02T04:00:00",
          "2023-07-02T05:00:00",
          "2023-07-02T06:00:00",
          "2023-07-02T07:00:00",
          "2023-07-02T08:00:00",
          "2023-07-02T09:00:00",
          "2023-07-02T10:00:00",
          "2023-07-02T11:00:00",
          "2023-07-02T12:00:00",
          "2023-07-02T13:00:00",
          "2023-07-02T14:00:00",
          "2023-07-02T15:00:00",
          "2023-07-02T16:00:00",
          "2023-07-02T17:00:00",
          "2023-07-02T18:00:00",
          "2023-07-02T19:00:00",
          "2023-07-02T20:00:00",
          "2023-07-02T21:00:00",
          "2023-07-02T22:00:00",
          "2023-07-02T23:00:00",
          "2023-07-03T00:00:00",
          "2023-07-03T01:00:00",
          "2023-07-03T02:00:00",
          "2023-07-03T03:00:00",
          "2023-07-03T04:00:00",
          "2023-07-03T05:00:00",
          "2023-07-03T06:00:00",
          "2023-07-03T07:00:00",
          "2023-07-03T08:00:00",
          "2023-07-03T09:00:00",
          "2023-07-03T10:00:00",
          "2023-07-03T11:00:00",
          "2023-07-03T12:00:00",
          "2023-07-03T13:00:00",
          "2023-07-03T14:00:00",
          "2023-07-03T15:00:00",
          "2023-07-03T16:00:00",
          "2023-07-03T17:00:00",
          "2023-07-03T18:00:00",
          "2023-07-03T19:00:00",
          "2023-07-03T20:00:00",
          "2023-07-03T21:00:00",
          "2023-07-03T22:00:00",
          "2023-07-03T23:00:00",
          "2023-07-04T00:00:00",
          "2023-07-04T01:00:00",
          "2023-07-04T02:00:00",
          "2023-07-04T03:00:00",
          "2023-07-04T04:00:00",
          "2023-07-04T05:00:00",
          "2023-07-04T06:00:00",
          "2023-07-04T07:00:00",
          "2023-07-04T08:00:00",
          "2023-07-04T09:00:00",
          "2023-07-04T10:00:00",
          "2023-07-04T11:00:00",
          "2023-07-04T12:00:00",
          "2023-07-04T13:00:00",
          "2023-07-04T14:00:00",
          "2023-07-04T15:00:00",
          "2023-07-04T16:00:00",
          "2023-07-04T17:00:00",
          "2023-07-04T18:00:00",
          "2023-07-04T19:00:00",
          "2023-07-04T20:00:00",
          "2023-07-04T21:00:00",
          "2023-07-04T22:00:00",
          "2023-07-04T23:00:00",
          "2023-07-05T00:00:00",
          "2023-07-05T01:00:00",
          "2023-07-05T02:00:00",
          "2023-07-05T03:00:00",
          "2023-07-05T04:00:00",
          "2023-07-05T05:00:00",
          "2023-07-05T06:00:00",
          "2023-07-05T07:00:00",
          "2023-07-05T08:00:00",
          "2023-07-05T09:00:00",
          "2023-07-05T10:00:00",
          "2023-07-05T11:00:00",
          "2023-07-05T12:00:00",
          "2023-07-05T13:00:00",
          "2023-07-05T14:00:00",
          "2023-07-05T15:00:00",
          "2023-07-05T16:00:00",
          "2023-07-05T17:00:00",
          "2023-07-05T18:00:00",
          "2023-07-05T19:00:00",
          "2023-07-05T20:00:00",
          "2023-07-05T21:00:00",
          "2023-07-05T22:00:00",
          "2023-07-05T23:00:00",
          "2023-07-06T00:00:00",
          "2023-07-06T01:00:00",
          "2023-07-06T02:00:00",
          "2023-07-06T03:00:00",
          "2023-07-06T04:00:00",
          "2023-07-06T05:00:00",
          "2023-07-06T06:00:00",
          "2023-07-06T07:00:00",
          "2023-07-06T08:00:00",
          "2023-07-06T09:00:00",
          "2023-07-06T10:00:00",
          "2023-07-06T11:00:00",
          "2023-07-06T12:00:00",
          "2023-07-06T13:00:00",
          "2023-07-06T14:00:00",
          "2023-07-06T15:00:00",
          "2023-07-06T16:00:00",
          "2023-07-06T17:00:00",
          "2023-07-06T18:00:00",
          "2023-07-06T19:00:00",
          "2023-07-06T20:00:00",
          "2023-07-06T21:00:00",
          "2023-07-06T22:00:00",
          "2023-07-06T23:00:00",
          "2023-07-07T00:00:00",
          "2023-07-07T01:00:00",
          "2023-07-07T02:00:00",
          "2023-07-07T03:00:00",
          "2023-07-07T04:00:00",
          "2023-07-07T05:00:00",
          "2023-07-07T06:00:00",
          "2023-07-07T07:00:00",
          "2023-07-07T08:00:00",
          "2023-07-07T09:00:00",
          "2023-07-07T10:00:00",
          "2023-07-07T11:00:00",
          "2023-07-07T12:00:00",
          "2023-07-07T13:00:00",
          "2023-07-07T14:00:00",
          "2023-07-07T15:00:00",
          "2023-07-07T16:00:00",
          "2023-07-07T17:00:00",
          "2023-07-07T18:00:00",
          "2023-07-07T19:00:00",
          "2023-07-07T20:00:00",
          "2023-07-07T21:00:00",
          "2023-07-07T22:00:00",
          "2023-07-07T23:00:00",
          "2023-07-08T00:00:00",
          "2023-07-08T01:00:00",
          "2023-07-08T02:00:00",
          "2023-07-08T03:00:00",
          "2023-07-08T04:00:00",
          "2023-07-08T05:00:00",
          "2023-07-08T06:00:00",
          "2023-07-08T07:00:00",
          "2023-07-08T08:00:00",
          "2023-07-08T09:00:00",
          "2023-07-08T10:00:00",
          "2023-07-08T11:00:00",
          "2023-07-08T12:00:00",
          "2023-07-08T13:00:00",
          "2023-07-08T14:00:00",
          "2023-07-08T15:00:00",
          "2023-07-08T16:00:00",
          "2023-07-08T17:00:00",
          "2023-07-08T18:00:00",
          "2023-07-08T19:00:00",
          "2023-07-08T20:00:00",
          "2023-07-08T21:00:00",
          "2023-07-08T22:00:00",
          "2023-07-08T23:00:00",
          "2023-07-09T00:00:00",
          "2023-07-09T01:00:00",
          "2023-07-09T02:00:00",
          "2023-07-09T03:00:00",
          "2023-07-09T04:00:00",
          "2023-07-09T05:00:00",
          "2023-07-09T06:00:00",
          "2023-07-09T07:00:00",
          "2023-07-09T08:00:00",
          "2023-07-09T09:00:00",
          "2023-07-09T10:00:00",
          "2023-07-09T11:00:00",
          "2023-07-09T12:00:00",
          "2023-07-09T13:00:00",
          "2023-07-09T14:00:00",
          "2023-07-09T15:00:00",
          "2023-07-09T16:00:00",
          "2023-07-09T17:00:00",
          "2023-07-09T18:00:00",
          "2023-07-09T19:00:00",
          "2023-07-09T20:00:00",
          "2023-07-09T21:00:00",
          "2023-07-09T22:00:00",
          "2023-07-09T23:00:00",
          "2023-07-10T00:00:00",
          "2023-07-10T01:00:00",
          "2023-07-10T02:00:00",
          "2023-07-10T03:00:00",
          "2023-07-10T04:00:00",
          "2023-07-10T05:00:00",
          "2023-07-10T06:00:00",
          "2023-07-10T07:00:00",
          "2023-07-10T08:00:00",
          "2023-07-10T09:00:00",
          "2023-07-10T10:00:00",
          "2023-07-10T11:00:00",
          "2023-07-10T12:00:00",
          "2023-07-10T13:00:00",
          "2023-07-10T14:00:00",
          "2023-07-10T15:00:00",
          "2023-07-10T16:00:00",
          "2023-07-10T17:00:00",
          "2023-07-10T18:00:00",
          "2023-07-10T19:00:00",
          "2023-07-10T20:00:00",
          "2023-07-10T21:00:00",
          "2023-07-10T22:00:00",
          "2023-07-10T23:00:00",
          "2023-07-11T00:00:00",
          "2023-07-11T01:00:00",
          "2023-07-11T02:00:00",
          "2023-07-11T03:00:00",
          "2023-07-11T04:00:00",
          "2023-07-11T05:00:00",
          "2023-07-11T06:00:00",
          "2023-07-11T07:00:00",
          "2023-07-11T08:00:00",
          "2023-07-11T09:00:00",
          "2023-07-11T10:00:00",
          "2023-07-11T11:00:00",
          "2023-07-11T12:00:00",
          "2023-07-11T13:00:00",
          "2023-07-11T14:00:00",
          "2023-07-11T15:00:00",
          "2023-07-11T16:00:00",
          "2023-07-11T17:00:00",
          "2023-07-11T18:00:00",
          "2023-07-11T19:00:00",
          "2023-07-11T20:00:00",
          "2023-07-11T21:00:00",
          "2023-07-11T22:00:00",
          "2023-07-11T23:00:00",
          "2023-07-12T00:00:00",
          "2023-07-12T01:00:00",
          "2023-07-12T02:00:00",
          "2023-07-12T03:00:00",
          "2023-07-12T04:00:00",
          "2023-07-12T05:00:00",
          "2023-07-12T06:00:00",
          "2023-07-12T07:00:00",
          "2023-07-12T08:00:00",
          "2023-07-12T09:00:00",
          "2023-07-12T10:00:00",
          "2023-07-12T11:00:00",
          "2023-07-12T12:00:00",
          "2023-07-12T13:00:00",
          "2023-07-12T14:00:00",
          "2023-07-12T15:00:00",
          "2023-07-12T16:00:00",
          "2023-07-12T17:00:00",
          "2023-07-12T18:00:00",
          "2023-07-12T19:00:00",
          "2023-07-12T20:00:00",
          "2023-07-12T21:00:00",
          "2023-07-12T22:00:00",
          "2023-07-12T23:00:00",
          "2023-07-13T00:00:00",
          "2023-07-13T01:00:00",
          "2023-07-13T02:00:00",
          "2023-07-13T03:00:00",
          "2023-07-13T04:00:00",
          "2023-07-13T05:00:00",
          "2023-07-13T06:00:00",
          "2023-07-13T07:00:00",
          "2023-07-13T08:00:00",
          "2023-07-13T09:00:00",
          "2023-07-13T10:00:00",
          "2023-07-13T11:00:00",
          "2023-07-13T12:00:00",
          "2023-07-13T13:00:00",
          "2023-07-13T14:00:00",
          "2023-07-13T15:00:00",
          "2023-07-13T16:00:00",
          "2023-07-13T17:00:00",
          "2023-07-13T18:00:00",
          "2023-07-13T19:00:00",
          "2023-07-13T20:00:00",
          "2023-07-13T21:00:00",
          "2023-07-13T22:00:00",
          "2023-07-13T23:00:00",
          "2023-07-14T00:00:00",
          "2023-07-14T01:00:00",
          "2023-07-14T02:00:00",
          "2023-07-14T03:00:00",
          "2023-07-14T04:00:00",
          "2023-07-14T05:00:00",
          "2023-07-14T06:00:00",
          "2023-07-14T07:00:00",
          "2023-07-14T08:00:00",
          "2023-07-14T09:00:00",
          "2023-07-14T10:00:00",
          "2023-07-14T11:00:00",
          "2023-07-14T12:00:00",
          "2023-07-14T13:00:00",
          "2023-07-14T14:00:00",
          "2023-07-14T15:00:00",
          "2023-07-14T16:00:00",
          "2023-07-14T17:00:00",
          "2023-07-14T18:00:00",
          "2023-07-14T19:00:00",
          "2023-07-14T20:00:00",
          "2023-07-14T21:00:00",
          "2023-07-14T22:00:00",
          "2023-07-14T23:00:00",
          "2023-07-15T00:00:00",
          "2023-07-15T01:00:00",
          "2023-07-15T02:00:00",
          "2023-07-15T03:00:00",
          "2023-07-15T04:00:00",
          "2023-07-15T05:00:00",
          "2023-07-15T06:00:00",
          "2023-07-15T07:00:00",
          "2023-07-15T08:00:00",
          "2023-07-15T09:00:00",
          "2023-07-15T10:00:00",
          "2023-07-15T11:00:00",
          "2023-07-15T12:00:00",
          "2023-07-15T13:00:00",
          "2023-07-15T14:00:00",
          "2023-07-15T15:00:00",
          "2023-07-15T16:00:00",
          "2023-07-15T17:00:00",
          "2023-07-15T18:00:00",
          "2023-07-15T19:00:00",
          "2023-07-15T20:00:00",
          "2023-07-15T21:00:00",
          "2023-07-15T22:00:00",
          "2023-07-15T23:00:00",
          "2023-07-16T00:00:00",
          "2023-07-16T01:00:00",
          "2023-07-16T02:00:00",
          "2023-07-16T03:00:00",
          "2023-07-16T04:00:00",
          "2023-07-16T05:00:00",
          "2023-07-16T06:00:00",
          "2023-07-16T07:00:00",
          "2023-07-16T08:00:00",
          "2023-07-16T09:00:00",
          "2023-07-16T10:00:00",
          "2023-07-16T11:00:00",
          "2023-07-16T12:00:00",
          "2023-07-16T13:00:00",
          "2023-07-16T14:00:00",
          "2023-07-16T15:00:00",
          "2023-07-16T16:00:00",
          "2023-07-16T17:00:00",
          "2023-07-16T18:00:00",
          "2023-07-16T19:00:00",
          "2023-07-16T20:00:00",
          "2023-07-16T21:00:00",
          "2023-07-16T22:00:00",
          "2023-07-16T23:00:00",
          "2023-07-17T00:00:00",
          "2023-07-17T01:00:00",
          "2023-07-17T02:00:00",
          "2023-07-17T03:00:00",
          "2023-07-17T04:00:00",
          "2023-07-17T05:00:00",
          "2023-07-17T06:00:00",
          "2023-07-17T07:00:00",
          "2023-07-17T08:00:00",
          "2023-07-17T09:00:00",
          "2023-07-17T10:00:00",
          "2023-07-17T11:00:00",
          "2023-07-17T12:00:00",
          "2023-07-17T13:00:00",
          "2023-07-17T14:00:00",
          "2023-07-17T15:00:00",
          "2023-07-17T16:00:00",
          "2023-07-17T17:00:00",
          "2023-07-17T18:00:00",
          "2023-07-17T19:00:00",
          "2023-07-17T20:00:00",
          "2023-07-17T21:00:00",
          "2023-07-17T22:00:00",
          "2023-07-17T23:00:00",
          "2023-07-18T00:00:00",
          "2023-07-18T01:00:00",
          "2023-07-18T02:00:00",
          "2023-07-18T03:00:00",
          "2023-07-18T04:00:00",
          "2023-07-18T05:00:00",
          "2023-07-18T06:00:00",
          "2023-07-18T07:00:00",
          "2023-07-18T08:00:00",
          "2023-07-18T09:00:00",
          "2023-07-18T10:00:00",
          "2023-07-18T11:00:00",
          "2023-07-18T12:00:00",
          "2023-07-18T13:00:00",
          "2023-07-18T14:00:00",
          "2023-07-18T15:00:00",
          "2023-07-18T16:00:00",
          "2023-07-18T17:00:00",
          "2023-07-18T18:00:00",
          "2023-07-18T19:00:00",
          "2023-07-18T20:00:00",
          "2023-07-18T21:00:00",
          "2023-07-18T22:00:00",
          "2023-07-18T23:00:00",
          "2023-07-19T00:00:00",
          "2023-07-19T01:00:00",
          "2023-07-19T02:00:00",
          "2023-07-19T03:00:00",
          "2023-07-19T04:00:00",
          "2023-07-19T05:00:00",
          "2023-07-19T06:00:00",
          "2023-07-19T07:00:00",
          "2023-07-19T08:00:00",
          "2023-07-19T09:00:00",
          "2023-07-19T10:00:00",
          "2023-07-19T11:00:00",
          "2023-07-19T12:00:00",
          "2023-07-19T13:00:00",
          "2023-07-19T14:00:00",
          "2023-07-19T15:00:00",
          "2023-07-19T16:00:00",
          "2023-07-19T17:00:00",
          "2023-07-19T18:00:00",
          "2023-07-19T19:00:00",
          "2023-07-19T20:00:00",
          "2023-07-19T21:00:00",
          "2023-07-19T22:00:00",
          "2023-07-19T23:00:00",
          "2023-07-20T00:00:00",
          "2023-07-20T01:00:00",
          "2023-07-20T02:00:00",
          "2023-07-20T03:00:00",
          "2023-07-20T04:00:00",
          "2023-07-20T05:00:00",
          "2023-07-20T06:00:00",
          "2023-07-20T07:00:00",
          "2023-07-20T08:00:00",
          "2023-07-20T09:00:00",
          "2023-07-20T10:00:00",
          "2023-07-20T11:00:00",
          "2023-07-20T12:00:00",
          "2023-07-20T13:00:00",
          "2023-07-20T14:00:00",
          "2023-07-20T15:00:00",
          "2023-07-20T16:00:00",
          "2023-07-20T17:00:00",
          "2023-07-20T18:00:00",
          "2023-07-20T19:00:00",
          "2023-07-20T20:00:00",
          "2023-07-20T21:00:00",
          "2023-07-20T22:00:00",
          "2023-07-20T23:00:00",
          "2023-07-21T00:00:00",
          "2023-07-21T01:00:00",
          "2023-07-21T02:00:00",
          "2023-07-21T03:00:00",
          "2023-07-21T04:00:00",
          "2023-07-21T05:00:00",
          "2023-07-21T06:00:00",
          "2023-07-21T07:00:00",
          "2023-07-21T08:00:00",
          "2023-07-21T09:00:00",
          "2023-07-21T10:00:00",
          "2023-07-21T11:00:00",
          "2023-07-21T12:00:00",
          "2023-07-21T13:00:00",
          "2023-07-21T14:00:00",
          "2023-07-21T15:00:00",
          "2023-07-21T16:00:00",
          "2023-07-21T17:00:00",
          "2023-07-21T18:00:00",
          "2023-07-21T19:00:00",
          "2023-07-21T20:00:00",
          "2023-07-21T21:00:00",
          "2023-07-21T22:00:00",
          "2023-07-21T23:00:00",
          "2023-07-22T00:00:00",
          "2023-07-22T01:00:00",
          "2023-07-22T02:00:00",
          "2023-07-22T03:00:00",
          "2023-07-22T04:00:00",
          "2023-07-22T05:00:00",
          "2023-07-22T06:00:00",
          "2023-07-22T07:00:00",
          "2023-07-22T08:00:00",
          "2023-07-22T09:00:00",
          "2023-07-22T10:00:00",
          "2023-07-22T11:00:00",
          "2023-07-22T12:00:00",
          "2023-07-22T13:00:00",
          "2023-07-22T14:00:00",
          "2023-07-22T15:00:00",
          "2023-07-22T16:00:00",
          "2023-07-22T17:00:00",
          "2023-07-22T18:00:00",
          "2023-07-22T19:00:00",
          "2023-07-22T20:00:00",
          "2023-07-22T21:00:00",
          "2023-07-22T22:00:00",
          "2023-07-22T23:00:00",
          "2023-07-23T00:00:00",
          "2023-07-23T01:00:00",
          "2023-07-23T02:00:00",
          "2023-07-23T03:00:00",
          "2023-07-23T04:00:00",
          "2023-07-23T05:00:00",
          "2023-07-23T06:00:00",
          "2023-07-23T07:00:00",
          "2023-07-23T08:00:00",
          "2023-07-23T09:00:00",
          "2023-07-23T10:00:00",
          "2023-07-23T11:00:00",
          "2023-07-23T12:00:00",
          "2023-07-23T13:00:00",
          "2023-07-23T14:00:00",
          "2023-07-23T15:00:00",
          "2023-07-23T16:00:00",
          "2023-07-23T17:00:00",
          "2023-07-23T18:00:00",
          "2023-07-23T19:00:00",
          "2023-07-23T20:00:00",
          "2023-07-23T21:00:00",
          "2023-07-23T22:00:00",
          "2023-07-23T23:00:00",
          "2023-07-24T00:00:00",
          "2023-07-24T01:00:00",
          "2023-07-24T02:00:00",
          "2023-07-24T03:00:00",
          "2023-07-24T04:00:00",
          "2023-07-24T05:00:00",
          "2023-07-24T06:00:00",
          "2023-07-24T07:00:00",
          "2023-07-24T08:00:00",
          "2023-07-24T09:00:00",
          "2023-07-24T10:00:00",
          "2023-07-24T11:00:00",
          "2023-07-24T12:00:00",
          "2023-07-24T13:00:00",
          "2023-07-24T14:00:00",
          "2023-07-24T15:00:00",
          "2023-07-24T16:00:00",
          "2023-07-24T17:00:00",
          "2023-07-24T18:00:00",
          "2023-07-24T19:00:00",
          "2023-07-24T20:00:00",
          "2023-07-24T21:00:00",
          "2023-07-24T22:00:00",
          "2023-07-24T23:00:00",
          "2023-07-25T00:00:00",
          "2023-07-25T01:00:00",
          "2023-07-25T02:00:00",
          "2023-07-25T03:00:00",
          "2023-07-25T04:00:00",
          "2023-07-25T05:00:00",
          "2023-07-25T06:00:00",
          "2023-07-25T07:00:00",
          "2023-07-25T08:00:00",
          "2023-07-25T09:00:00",
          "2023-07-25T10:00:00",
          "2023-07-25T11:00:00",
          "2023-07-25T12:00:00",
          "2023-07-25T13:00:00",
          "2023-07-25T14:00:00",
          "2023-07-25T15:00:00",
          "2023-07-25T16:00:00",
          "2023-07-25T17:00:00",
          "2023-07-25T18:00:00",
          "2023-07-25T19:00:00",
          "2023-07-25T20:00:00",
          "2023-07-25T21:00:00",
          "2023-07-25T22:00:00",
          "2023-07-25T23:00:00",
          "2023-07-26T00:00:00",
          "2023-07-26T01:00:00",
          "2023-07-26T02:00:00",
          "2023-07-26T03:00:00",
          "2023-07-26T04:00:00",
          "2023-07-26T05:00:00",
          "2023-07-26T06:00:00",
          "2023-07-26T07:00:00",
          "2023-07-26T08:00:00",
          "2023-07-26T09:00:00",
          "2023-07-26T10:00:00",
          "2023-07-26T11:00:00",
          "2023-07-26T12:00:00",
          "2023-07-26T13:00:00",
          "2023-07-26T14:00:00",
          "2023-07-26T15:00:00",
          "2023-07-26T16:00:00",
          "2023-07-26T17:00:00",
          "2023-07-26T18:00:00",
          "2023-07-26T19:00:00",
          "2023-07-26T20:00:00",
          "2023-07-26T21:00:00",
          "2023-07-26T22:00:00",
          "2023-07-26T23:00:00",
          "2023-07-27T00:00:00",
          "2023-07-27T01:00:00",
          "2023-07-27T02:00:00",
          "2023-07-27T03:00:00",
          "2023-07-27T04:00:00",
          "2023-07-27T05:00:00",
          "2023-07-27T06:00:00",
          "2023-07-27T07:00:00",
          "2023-07-27T08:00:00",
          "2023-07-27T09:00:00",
          "2023-07-27T10:00:00",
          "2023-07-27T11:00:00",
          "2023-07-27T12:00:00",
          "2023-07-27T13:00:00",
          "2023-07-27T14:00:00",
          "2023-07-27T15:00:00",
          "2023-07-27T16:00:00",
          "2023-07-27T17:00:00",
          "2023-07-27T18:00:00",
          "2023-07-27T19:00:00",
          "2023-07-27T20:00:00",
          "2023-07-27T21:00:00",
          "2023-07-27T22:00:00",
          "2023-07-27T23:00:00",
          "2023-07-28T00:00:00",
          "2023-07-28T01:00:00",
          "2023-07-28T02:00:00",
          "2023-07-28T03:00:00",
          "2023-07-28T04:00:00",
          "2023-07-28T05:00:00",
          "2023-07-28T06:00:00",
          "2023-07-28T07:00:00",
          "2023-07-28T08:00:00",
          "2023-07-28T09:00:00",
          "2023-07-28T10:00:00",
          "2023-07-28T11:00:00",
          "2023-07-28T12:00:00",
          "2023-07-28T13:00:00",
          "2023-07-28T14:00:00",
          "2023-07-28T15:00:00",
          "2023-07-28T16:00:00",
          "2023-07-28T17:00:00",
          "2023-07-28T18:00:00",
          "2023-07-28T19:00:00",
          "2023-07-28T20:00:00",
          "2023-07-28T21:00:00",
          "2023-07-28T22:00:00",
          "2023-07-28T23:00:00",
          "2023-07-29T00:00:00",
          "2023-07-29T01:00:00",
          "2023-07-29T02:00:00",
          "2023-07-29T03:00:00",
          "2023-07-29T04:00:00",
          "2023-07-29T05:00:00",
          "2023-07-29T06:00:00",
          "2023-07-29T07:00:00",
          "2023-07-29T08:00:00",
          "2023-07-29T09:00:00",
          "2023-07-29T10:00:00",
          "2023-07-29T11:00:00",
          "2023-07-29T12:00:00",
          "2023-07-29T13:00:00",
          "2023-07-29T14:00:00",
          "2023-07-29T15:00:00",
          "2023-07-29T16:00:00",
          "2023-07-29T17:00:00",
          "2023-07-29T18:00:00",
          "2023-07-29T19:00:00",
          "2023-07-29T20:00:00",
          "2023-07-29T21:00:00",
          "2023-07-29T22:00:00",
          "2023-07-29T23:00:00",
          "2023-07-30T00:00:00",
          "2023-07-30T01:00:00",
          "2023-07-30T02:00:00",
          "2023-07-30T03:00:00",
          "2023-07-30T04:00:00",
          "2023-07-30T05:00:00",
          "2023-07-30T06:00:00",
          "2023-07-30T07:00:00",
          "2023-07-30T08:00:00",
          "2023-07-30T09:00:00",
          "2023-07-30T10:00:00",
          "2023-07-30T11:00:00",
          "2023-07-30T12:00:00",
          "2023-07-30T13:00:00",
          "2023-07-30T14:00:00",
          "2023-07-30T15:00:00",
          "2023-07-30T16:00:00",
          "2023-07-30T17:00:00",
          "2023-07-30T18:00:00",
          "2023-07-30T19:00:00",
          "2023-07-30T20:00:00",
          "2023-07-30T21:00:00",
          "2023-07-30T22:00:00",
          "2023-07-30T23:00:00",
          "2023-07-31T00:00:00",
          "2023-07-31T01:00:00",
          "2023-07-31T02:00:00",
          "2023-07-31T03:00:00",
          "2023-07-31T04:00:00",
          "2023-07-31T05:00:00",
          "2023-07-31T06:00:00",
          "2023-07-31T07:00:00",
          "2023-07-31T08:00:00",
          "2023-07-31T09:00:00",
          "2023-07-31T10:00:00",
          "2023-07-31T11:00:00",
          "2023-07-31T12:00:00",
          "2023-07-31T13:00:00",
          "2023-07-31T14:00:00",
          "2023-07-31T15:00:00",
          "2023-07-31T16:00:00",
          "2023-07-31T17:00:00",
          "2023-07-31T18:00:00",
          "2023-07-31T19:00:00",
          "2023-07-31T20:00:00",
          "2023-07-31T21:00:00",
          "2023-07-31T22:00:00",
          "2023-07-31T23:00:00"
         ],
         "xaxis": "x",
         "y": [
          4984600.074562795,
          4778752.228212297,
          4658934.24354402,
          4484793.752796087,
          4263396.5608855225,
          4276042.643440492,
          4438314.783137631,
          4601571.362788755,
          4878977.530289419,
          5084065.836368099,
          5135550.651148729,
          5201083.936689861,
          5117330.375042103,
          5020712.416319668,
          4897337.292801604,
          4840652.817680813,
          4869692.798341602,
          5001049.122861359,
          5156050.630760282,
          5154641.9954397455,
          5085730.172497094,
          5047011.573522393,
          5106033.422202691,
          4901431.311609097,
          4529069.110938907,
          4366583.574615747,
          4247958.820441797,
          4098124.9122811705,
          3900677.2555189356,
          3825127.8189357594,
          3875276.4784401134,
          3919619.798556328,
          4140646.386833042,
          4366964.656651579,
          4458506.462325126,
          4526898.798241168,
          4494188.4636139795,
          4385116.424322739,
          4231354.257338904,
          4251853.705888502,
          4321516.116951324,
          4612320.894684218,
          4908135.991745152,
          5013864.3436078355,
          5001802.419856064,
          4985608.266880564,
          5004015.5807431415,
          4664630.0915900245,
          4484730.353518963,
          4353358.627902903,
          4302409.920357123,
          4210919.555059746,
          4153425.6871072277,
          4514378.206020527,
          5286772.783337697,
          5999745.721210182,
          6428605.2303522825,
          6464742.931503564,
          6560396.775765665,
          6731348.271782622,
          6404256.573425122,
          6463720.235200323,
          6387744.318413183,
          6258226.016949162,
          6167127.345371954,
          6111047.153233208,
          6193581.529466644,
          6076050.235525273,
          5859971.350468256,
          5747999.427586243,
          5648225.85878288,
          5297137.172445871,
          4774262.931953549,
          4604363.504799612,
          4455197.812502041,
          4256368.306451939,
          4130432.3238510117,
          4463447.756782278,
          5154869.734077267,
          5850255.802850224,
          6235292.057206616,
          6267999.046772338,
          6330861.282516882,
          6519471.656938508,
          6126966.71163547,
          6141681.021757454,
          6021614.175876126,
          5980257.502776235,
          5973375.189142652,
          5971479.182382613,
          6032415.352628835,
          5870516.396778442,
          5679328.269761071,
          5573920.616442002,
          5492627.89530132,
          5118446.851583861,
          4893976.782392696,
          4703460.452802375,
          4540991.277995318,
          4386432.30884289,
          4271058.260576844,
          4572860.2787980735,
          5292975.106097035,
          6045396.468801014,
          6467031.656981744,
          6504912.771899559,
          6619455.355208732,
          6687150.237777106,
          6294656.0489462465,
          6266079.82161209,
          6217631.739224277,
          6158998.868328646,
          6073507.036603689,
          5983984.122569047,
          6032321.324152112,
          5917062.024081841,
          5715758.659669325,
          5608028.711154096,
          5553465.200166374,
          5173328.939512134,
          4831653.409953579,
          4658099.942070752,
          4530498.707455762,
          4352991.730003811,
          4222717.828151941,
          4519756.816948406,
          5203520.144008175,
          5896626.972543284,
          6279653.833594739,
          6321342.127094634,
          6455384.399671666,
          6643186.665906198,
          6331365.371977128,
          6387743.970696725,
          6336442.593675196,
          6288932.656866945,
          6319680.929117113,
          6317152.98482541,
          6421834.6564747095,
          6212490.6257855445,
          5855875.701206222,
          5651700.985502213,
          5528849.157057829,
          5171902.0745593235,
          4900192.229987696,
          4743250.162508607,
          4528794.691486172,
          4360246.887394361,
          4195804.784836233,
          4504451.571503453,
          5226775.356429093,
          5980609.247997396,
          6386001.28078568,
          6474745.267067455,
          6604608.263946243,
          6753322.79096131,
          6393035.6126774475,
          6337129.431267701,
          6258874.243999921,
          6101696.702370465,
          6006124.308973908,
          6056092.982312597,
          6123478.754915208,
          5977684.0886788,
          5791654.376974255,
          5660825.516119622,
          5617952.578557454,
          5328193.758967318,
          4898844.692915812,
          4679942.088233963,
          4522987.144411325,
          4317342.307069071,
          4092541.038564518,
          4122868.4232481346,
          4301401.712938659,
          4477024.219644748,
          4754906.658910073,
          4958387.322034769,
          5014360.718532555,
          5083687.450028203,
          5052470.433157012,
          4945793.755017459,
          4827162.776229396,
          4761811.999766871,
          4825380.4793140665,
          4942071.169909,
          5087061.061571531,
          5061955.320952684,
          4986572.596210927,
          4929636.725364462,
          4978701.110406585,
          4745454.709182911,
          4511738.629228786,
          4361151.074104533,
          4222838.933500223,
          4022015.9370328486,
          3810948.373759672,
          3724420.8454215527,
          3787051.491157271,
          3886515.658810705,
          4124983.125145629,
          4367977.451772422,
          4475543.36019776,
          4597592.356259175,
          4578978.955020592,
          4436342.561113648,
          4329375.541721135,
          4367950.854742691,
          4450635.499825232,
          4703252.380031772,
          4994308.783542052,
          5068667.900701426,
          5082704.567327328,
          5071266.481955454,
          5110935.340760179,
          4801421.513422415,
          4513052.7075589225,
          4356290.58775945,
          4281497.078323178,
          4146693.6551380977,
          4061216.0149395466,
          4383446.045761414,
          5132127.8245566785,
          5838348.264214113,
          6218480.170772716,
          6254763.37836241,
          6344347.833503425,
          6525972.432836518,
          6179062.877709605,
          6183065.151009135,
          6074333.391563825,
          5944799.217642039,
          5890050.836875096,
          5851243.342735909,
          5910636.648509398,
          5825877.5421932265,
          5635963.613893986,
          5533244.162921965,
          5468881.801177211,
          5070302.712143071,
          5064705.45080144,
          4904535.637925148,
          4722268.542572953,
          4534323.98738905,
          4409704.846474625,
          4745473.056831382,
          5407618.391004793,
          6080298.726659417,
          6435426.325984113,
          6459209.1221962795,
          6508655.67817276,
          6707970.342665829,
          6305756.995867811,
          6312071.229143091,
          6166334.227831006,
          6123084.638226941,
          6069958.307998151,
          6047914.000528343,
          6101736.5257981345,
          5974901.86707443,
          5800505.690984033,
          5705629.022384442,
          5648018.995602034,
          5275780.1880076155,
          4963079.611985542,
          4798013.14678742,
          4648702.478867881,
          4486158.744499065,
          4387738.700174302,
          4691892.331488654,
          5408625.817344725,
          6124156.20564992,
          6522136.420109831,
          6570475.237967402,
          6700265.276518777,
          6804215.490673326,
          6347982.101977281,
          6280306.896946937,
          6177112.370380424,
          6063019.126850419,
          5977228.2072930485,
          5935597.399914801,
          5989624.610518888,
          5853035.796832152,
          5608847.552773297,
          5488536.630851358,
          5412371.4125248045,
          5055647.740988158,
          4809318.316646524,
          4631125.10303136,
          4527261.315256283,
          4357747.065152213,
          4239470.840657428,
          4540823.986391194,
          5205357.054908276,
          5856330.532882474,
          6139235.970564291,
          6093484.529658087,
          6203473.890756659,
          6321813.893884301,
          5974717.183674514,
          5972349.774155915,
          5893564.378854081,
          5834335.353225626,
          5831055.125978075,
          5778075.817190215,
          5832902.254752219,
          5688937.404075272,
          5455895.6181174815,
          5314793.481272221,
          5235777.998759612,
          4869703.131878749,
          4760688.523509592,
          4574870.494976573,
          4392851.513695806,
          4224863.749009371,
          4076983.713390559,
          4384556.544715054,
          5066621.098613679,
          5733497.51108586,
          6092963.350374989,
          6156596.6341834515,
          6269867.598165669,
          6393377.37405324,
          6037789.740799129,
          6022376.335903771,
          5924822.814025469,
          5789013.635924652,
          5678687.684236966,
          5719082.210292809,
          5804079.930366106,
          5684691.15151646,
          5454735.083273917,
          5321726.849023111,
          5259487.422822572,
          4977424.443981096,
          4878240.626279309,
          4657328.050289601,
          4451646.380547531,
          4217689.167066343,
          3995287.4423658997,
          4051121.7161401957,
          4226457.945696168,
          4422229.031557269,
          4718464.558902189,
          4927781.612203091,
          5039608.848937325,
          5100045.910434112,
          5017867.2859727815,
          4898472.231500953,
          4878768.302899972,
          4837852.144368611,
          4863255.255349942,
          4985614.952761263,
          5138775.31881474,
          5130688.660227247,
          5009861.718657091,
          4962362.888544731,
          5002603.442548059,
          4769653.860967971,
          4542402.863330804,
          4410127.2724579945,
          4235470.621671274,
          4040770.926800549,
          3845078.521907337,
          3768939.4344244376,
          3799658.42432867,
          3901994.994205691,
          4104749.3160263076,
          4308816.235872321,
          4406933.484853342,
          4518080.567550607,
          4522698.30993446,
          4357391.447549537,
          4287743.213824958,
          4280748.974196538,
          4371744.95305524,
          4576882.346356347,
          4808580.122131556,
          4854940.113906346,
          4809845.149006814,
          4801458.157550938,
          4842337.955892019,
          4508710.962515123,
          4397595.013936065,
          4254936.176216446,
          4191319.6958616003,
          4049695.4860825613,
          3977146.5740952045,
          4309890.489132658,
          5047564.045257866,
          5805421.421875812,
          6204342.757223152,
          6236398.833887704,
          6329833.584930681,
          6481245.763094522,
          6136048.750258796,
          6147376.110214725,
          6022926.13351465,
          5931156.994837582,
          5874839.862882733,
          5834446.546100877,
          5902564.661268517,
          5796155.64111957,
          5655681.645232424,
          5559765.503445357,
          5506028.83710476,
          5113949.053478628,
          4698067.207209125,
          4536363.737326466,
          4382948.31744466,
          4209645.093456402,
          4085054.8310356215,
          4398243.491204344,
          5090905.534965731,
          5784209.821657613,
          6129378.535657927,
          6197349.325261891,
          6296413.611037396,
          6421938.119319089,
          6097321.7064131275,
          6144211.987276413,
          6073721.2216523215,
          6009120.110789061,
          5921196.888696626,
          5870765.31220337,
          5966718.208731726,
          5853836.130006008,
          5655486.0243913755,
          5482481.44456695,
          5300025.67065303,
          4914453.536846697,
          4766496.094901286,
          4560727.332315601,
          4573700.757893428,
          4410297.081096321,
          4301723.172442384,
          4642656.566662483,
          5375040.938585818,
          6074413.339766957,
          6421155.733669028,
          6558343.059470169,
          6746177.156338163,
          6920583.092783242,
          6590239.387541674,
          6640738.861310892,
          6502007.329487525,
          6384622.936226815,
          6321295.124386124,
          6249716.172537647,
          6307311.778681412,
          6114140.301973328,
          5829859.804387227,
          5662973.401487105,
          5574318.557147384,
          5223344.451862179,
          4707911.392092615,
          4507784.216262862,
          4441769.315918788,
          4258697.392135039,
          4125226.508306876,
          4432864.431582794,
          5113736.328203127,
          5816695.414095767,
          6170715.177511454,
          6141493.62981081,
          6237989.497573279,
          6360329.9865324795,
          5985014.116782449,
          5997178.756647699,
          5876009.052835733,
          5756616.808780819,
          5707729.6592810005,
          5658142.9268924,
          5702604.340361342,
          5619530.9602314085,
          5450668.655620113,
          5359528.297277525,
          5307635.106258407,
          4951335.254128054,
          4634180.411914378,
          4446398.989032,
          4318635.816279262,
          4159300.2827545404,
          4058445.141963318,
          4348710.586704075,
          4984719.9138088375,
          5578909.490289867,
          5868934.212903932,
          5918807.573070854,
          5993972.181340277,
          6076100.400605574,
          5752393.276192695,
          5718853.421788529,
          5623443.572479114,
          5508859.111501828,
          5365538.995034322,
          5416934.907846421,
          5505368.661998987,
          5405808.968545124,
          5199191.595468357,
          5066206.447570264,
          5011911.203173816,
          4713571.724477649,
          4537072.323162019,
          4356304.652646646,
          4115713.8178032786,
          3873517.582265213,
          3664742.942921117,
          3701224.4240840226,
          3887838.2002359927,
          4047421.77128689,
          4358112.325132981,
          4557707.266663596,
          4668908.40976119,
          4701992.916697472,
          4600607.380056083,
          4523590.191693902,
          4458981.8023427725,
          4435122.700013518,
          4372066.701497957,
          4486360.619852528,
          4638263.94023563,
          4669197.744577229,
          4548347.986368313,
          4482916.934882954,
          4509730.64819175,
          4263026.950839102,
          4179002.1390369684,
          4024742.9770727456,
          3842541.529601246,
          3631292.3149988055,
          3456574.1304633766,
          3399312.642763585,
          3428210.2343486845,
          3487450.164630428,
          3674426.3435235918,
          3891723.932483986,
          4029451.048150465,
          4170186.3528778106,
          4186160.182998702,
          4072943.9707140476,
          3965918.0976147205,
          3970426.2185611427,
          4082433.6350712776,
          4335077.739819899,
          4625608.851645723,
          4710830.579740033,
          4673473.276074871,
          4722544.792133316,
          4791194.940385476,
          4481800.98039566,
          4177204.216574326,
          4028495.0439824015,
          3948637.258560717,
          3813132.385087818,
          3784556.4572512507,
          4172314.115844324,
          4853799.5324861705,
          5555550.3708153665,
          5957509.558448821,
          6024964.917139009,
          6088404.301184282,
          6205327.679000065,
          5879637.233740747,
          5878713.938897997,
          5804146.915580004,
          5788138.2573812455,
          5682091.590228245,
          5645795.734329984,
          5705509.761421561,
          5579619.076331392,
          5373966.084810883,
          5236243.142618641,
          5149040.614548549,
          4777946.963171139,
          4378806.678885937,
          4217259.735598877,
          4104995.4270356894,
          3923749.4439475983,
          3786367.9179178625,
          4103690.251066342,
          4742245.391691342,
          5376800.167453378,
          5719868.852312401,
          5772801.485995173,
          5864090.675208673,
          5946842.575896248,
          5757951.561450034,
          5991184.09586148,
          5916027.8574296385,
          5781240.440022737,
          5624789.850344941,
          5546395.646432593,
          5599406.156420559,
          5476343.568743542,
          5265311.815845117,
          5120316.179366425,
          4946654.363620624,
          4544000.621715441,
          4308724.771232322,
          4107907.04788965,
          3970227.9421090037,
          3787289.5783623457,
          3674630.4873066694,
          4009006.388827026,
          4660410.408189997,
          5329234.212127805,
          5679545.334063873,
          5776261.562105238,
          5935407.476984456,
          6075551.500458077,
          5788293.447097659,
          5790828.91209811,
          5610827.2844377905,
          5504369.986528039,
          5457288.717821211,
          5446529.70056802,
          5434264.394375518,
          5259760.57868211,
          5018223.673032343,
          4901025.357176572,
          4834123.692972407,
          4445843.965380788,
          4404379.266233221,
          4203649.916644976,
          4086232.7093474567,
          3886096.800022185,
          3761624.1662914753,
          4037299.7060183734,
          4688943.379776195,
          5348488.434353739,
          5727754.538021624,
          5735671.6814774275,
          5805435.038855955,
          5891356.225025222,
          5563457.458759218,
          5581606.411303431,
          5483859.205973685,
          5411180.265173748,
          5369737.991399422,
          5381560.966897309,
          5461331.897733092,
          5382425.424374312,
          5258132.038505003,
          5196976.794553027,
          5127378.473238841,
          4786613.042122915,
          4379374.048696741,
          4214921.055849522,
          4112027.5798113197,
          3949067.5684955716,
          3833928.103907883,
          4117292.2670782954,
          4722311.17635937,
          5367356.45343937,
          5746591.618134722,
          5839206.785409495,
          5985257.296392158,
          6046723.167828292,
          5749162.267204702,
          5676215.000683844,
          5606019.069466025,
          5517362.675880104,
          5398436.87729241,
          5449497.274838731,
          5533571.875311732,
          5441290.768505201,
          5264645.9877268225,
          5148816.16184184,
          5100838.498041585,
          4824390.315445378,
          4445933.694049031,
          4298982.005573735,
          4104363.506878704,
          3901950.460848987,
          3693448.0582249165,
          3725750.48420085,
          3888089.603743553,
          4024735.171392858,
          4302597.034543425,
          4492948.264591157,
          4587727.160663992,
          4633975.293520629,
          4546382.402475849,
          4466481.224041417,
          4458913.585477829,
          4459785.139421463,
          4435942.16468142,
          4540682.364527941,
          4644232.497600272,
          4634104.130805001,
          4539684.157872453,
          4494639.790526494,
          4497150.603939816,
          4255739.243647352,
          4077433.6679959,
          3938629.0264308155,
          3826034.1856784374,
          3660283.9468917996,
          3503106.160250962,
          3475294.639803499,
          3519100.514111936,
          3570519.1217402667,
          3760571.431583345,
          3958359.905091822,
          4068777.2247219235,
          4157847.879313424,
          4147417.4436187595,
          4012341.9450365007,
          3943868.977037519,
          3921350.358367577,
          4001294.5844719857,
          4250358.589711934,
          4529049.160373673,
          4581805.853795603,
          4518953.770171583,
          4559322.247120187,
          4590493.98463504,
          4298861.734191254,
          3937762.34259744,
          3791822.4671129733,
          3727109.674114093,
          3586642.2205670923,
          3525936.4487546235,
          3852932.8705564886,
          4484302.6670708805,
          5114443.258028805,
          5499000.86746113,
          5643387.224659979,
          5670995.810560808,
          5831600.166246712,
          5602102.574996844,
          5590154.981804773,
          5448648.709432602,
          5438227.951562434,
          5388582.936217606,
          5327888.757638246,
          5402253.971552461,
          5217776.399204895,
          5007691.891609177,
          4918885.893357232,
          4823801.449318394,
          4495470.955301598
         ],
         "yaxis": "y"
        }
       ],
       "layout": {
        "legend": {
         "title": {
          "text": ""
         },
         "tracegroupgap": 0
        },
        "template": {
         "data": {
          "bar": [
           {
            "error_x": {
             "color": "#2a3f5f"
            },
            "error_y": {
             "color": "#2a3f5f"
            },
            "marker": {
             "line": {
              "color": "white",
              "width": 0.5
             },
             "pattern": {
              "fillmode": "overlay",
              "size": 10,
              "solidity": 0.2
             }
            },
            "type": "bar"
           }
          ],
          "barpolar": [
           {
            "marker": {
             "line": {
              "color": "white",
              "width": 0.5
             },
             "pattern": {
              "fillmode": "overlay",
              "size": 10,
              "solidity": 0.2
             }
            },
            "type": "barpolar"
           }
          ],
          "carpet": [
           {
            "aaxis": {
             "endlinecolor": "#2a3f5f",
             "gridcolor": "#C8D4E3",
             "linecolor": "#C8D4E3",
             "minorgridcolor": "#C8D4E3",
             "startlinecolor": "#2a3f5f"
            },
            "baxis": {
             "endlinecolor": "#2a3f5f",
             "gridcolor": "#C8D4E3",
             "linecolor": "#C8D4E3",
             "minorgridcolor": "#C8D4E3",
             "startlinecolor": "#2a3f5f"
            },
            "type": "carpet"
           }
          ],
          "choropleth": [
           {
            "colorbar": {
             "outlinewidth": 0,
             "ticks": ""
            },
            "type": "choropleth"
           }
          ],
          "contour": [
           {
            "colorbar": {
             "outlinewidth": 0,
             "ticks": ""
            },
            "colorscale": [
             [
              0,
              "#0d0887"
             ],
             [
              0.1111111111111111,
              "#46039f"
             ],
             [
              0.2222222222222222,
              "#7201a8"
             ],
             [
              0.3333333333333333,
              "#9c179e"
             ],
             [
              0.4444444444444444,
              "#bd3786"
             ],
             [
              0.5555555555555556,
              "#d8576b"
             ],
             [
              0.6666666666666666,
              "#ed7953"
             ],
             [
              0.7777777777777778,
              "#fb9f3a"
             ],
             [
              0.8888888888888888,
              "#fdca26"
             ],
             [
              1,
              "#f0f921"
             ]
            ],
            "type": "contour"
           }
          ],
          "contourcarpet": [
           {
            "colorbar": {
             "outlinewidth": 0,
             "ticks": ""
            },
            "type": "contourcarpet"
           }
          ],
          "heatmap": [
           {
            "colorbar": {
             "outlinewidth": 0,
             "ticks": ""
            },
            "colorscale": [
             [
              0,
              "#0d0887"
             ],
             [
              0.1111111111111111,
              "#46039f"
             ],
             [
              0.2222222222222222,
              "#7201a8"
             ],
             [
              0.3333333333333333,
              "#9c179e"
             ],
             [
              0.4444444444444444,
              "#bd3786"
             ],
             [
              0.5555555555555556,
              "#d8576b"
             ],
             [
              0.6666666666666666,
              "#ed7953"
             ],
             [
              0.7777777777777778,
              "#fb9f3a"
             ],
             [
              0.8888888888888888,
              "#fdca26"
             ],
             [
              1,
              "#f0f921"
             ]
            ],
            "type": "heatmap"
           }
          ],
          "heatmapgl": [
           {
            "colorbar": {
             "outlinewidth": 0,
             "ticks": ""
            },
            "colorscale": [
             [
              0,
              "#0d0887"
             ],
             [
              0.1111111111111111,
              "#46039f"
             ],
             [
              0.2222222222222222,
              "#7201a8"
             ],
             [
              0.3333333333333333,
              "#9c179e"
             ],
             [
              0.4444444444444444,
              "#bd3786"
             ],
             [
              0.5555555555555556,
              "#d8576b"
             ],
             [
              0.6666666666666666,
              "#ed7953"
             ],
             [
              0.7777777777777778,
              "#fb9f3a"
             ],
             [
              0.8888888888888888,
              "#fdca26"
             ],
             [
              1,
              "#f0f921"
             ]
            ],
            "type": "heatmapgl"
           }
          ],
          "histogram": [
           {
            "marker": {
             "pattern": {
              "fillmode": "overlay",
              "size": 10,
              "solidity": 0.2
             }
            },
            "type": "histogram"
           }
          ],
          "histogram2d": [
           {
            "colorbar": {
             "outlinewidth": 0,
             "ticks": ""
            },
            "colorscale": [
             [
              0,
              "#0d0887"
             ],
             [
              0.1111111111111111,
              "#46039f"
             ],
             [
              0.2222222222222222,
              "#7201a8"
             ],
             [
              0.3333333333333333,
              "#9c179e"
             ],
             [
              0.4444444444444444,
              "#bd3786"
             ],
             [
              0.5555555555555556,
              "#d8576b"
             ],
             [
              0.6666666666666666,
              "#ed7953"
             ],
             [
              0.7777777777777778,
              "#fb9f3a"
             ],
             [
              0.8888888888888888,
              "#fdca26"
             ],
             [
              1,
              "#f0f921"
             ]
            ],
            "type": "histogram2d"
           }
          ],
          "histogram2dcontour": [
           {
            "colorbar": {
             "outlinewidth": 0,
             "ticks": ""
            },
            "colorscale": [
             [
              0,
              "#0d0887"
             ],
             [
              0.1111111111111111,
              "#46039f"
             ],
             [
              0.2222222222222222,
              "#7201a8"
             ],
             [
              0.3333333333333333,
              "#9c179e"
             ],
             [
              0.4444444444444444,
              "#bd3786"
             ],
             [
              0.5555555555555556,
              "#d8576b"
             ],
             [
              0.6666666666666666,
              "#ed7953"
             ],
             [
              0.7777777777777778,
              "#fb9f3a"
             ],
             [
              0.8888888888888888,
              "#fdca26"
             ],
             [
              1,
              "#f0f921"
             ]
            ],
            "type": "histogram2dcontour"
           }
          ],
          "mesh3d": [
           {
            "colorbar": {
             "outlinewidth": 0,
             "ticks": ""
            },
            "type": "mesh3d"
           }
          ],
          "parcoords": [
           {
            "line": {
             "colorbar": {
              "outlinewidth": 0,
              "ticks": ""
             }
            },
            "type": "parcoords"
           }
          ],
          "pie": [
           {
            "automargin": true,
            "type": "pie"
           }
          ],
          "scatter": [
           {
            "fillpattern": {
             "fillmode": "overlay",
             "size": 10,
             "solidity": 0.2
            },
            "type": "scatter"
           }
          ],
          "scatter3d": [
           {
            "line": {
             "colorbar": {
              "outlinewidth": 0,
              "ticks": ""
             }
            },
            "marker": {
             "colorbar": {
              "outlinewidth": 0,
              "ticks": ""
             }
            },
            "type": "scatter3d"
           }
          ],
          "scattercarpet": [
           {
            "marker": {
             "colorbar": {
              "outlinewidth": 0,
              "ticks": ""
             }
            },
            "type": "scattercarpet"
           }
          ],
          "scattergeo": [
           {
            "marker": {
             "colorbar": {
              "outlinewidth": 0,
              "ticks": ""
             }
            },
            "type": "scattergeo"
           }
          ],
          "scattergl": [
           {
            "marker": {
             "colorbar": {
              "outlinewidth": 0,
              "ticks": ""
             }
            },
            "type": "scattergl"
           }
          ],
          "scattermapbox": [
           {
            "marker": {
             "colorbar": {
              "outlinewidth": 0,
              "ticks": ""
             }
            },
            "type": "scattermapbox"
           }
          ],
          "scatterpolar": [
           {
            "marker": {
             "colorbar": {
              "outlinewidth": 0,
              "ticks": ""
             }
            },
            "type": "scatterpolar"
           }
          ],
          "scatterpolargl": [
           {
            "marker": {
             "colorbar": {
              "outlinewidth": 0,
              "ticks": ""
             }
            },
            "type": "scatterpolargl"
           }
          ],
          "scatterternary": [
           {
            "marker": {
             "colorbar": {
              "outlinewidth": 0,
              "ticks": ""
             }
            },
            "type": "scatterternary"
           }
          ],
          "surface": [
           {
            "colorbar": {
             "outlinewidth": 0,
             "ticks": ""
            },
            "colorscale": [
             [
              0,
              "#0d0887"
             ],
             [
              0.1111111111111111,
              "#46039f"
             ],
             [
              0.2222222222222222,
              "#7201a8"
             ],
             [
              0.3333333333333333,
              "#9c179e"
             ],
             [
              0.4444444444444444,
              "#bd3786"
             ],
             [
              0.5555555555555556,
              "#d8576b"
             ],
             [
              0.6666666666666666,
              "#ed7953"
             ],
             [
              0.7777777777777778,
              "#fb9f3a"
             ],
             [
              0.8888888888888888,
              "#fdca26"
             ],
             [
              1,
              "#f0f921"
             ]
            ],
            "type": "surface"
           }
          ],
          "table": [
           {
            "cells": {
             "fill": {
              "color": "#EBF0F8"
             },
             "line": {
              "color": "white"
             }
            },
            "header": {
             "fill": {
              "color": "#C8D4E3"
             },
             "line": {
              "color": "white"
             }
            },
            "type": "table"
           }
          ]
         },
         "layout": {
          "annotationdefaults": {
           "arrowcolor": "#2a3f5f",
           "arrowhead": 0,
           "arrowwidth": 1
          },
          "autotypenumbers": "strict",
          "coloraxis": {
           "colorbar": {
            "outlinewidth": 0,
            "ticks": ""
           }
          },
          "colorscale": {
           "diverging": [
            [
             0,
             "#8e0152"
            ],
            [
             0.1,
             "#c51b7d"
            ],
            [
             0.2,
             "#de77ae"
            ],
            [
             0.3,
             "#f1b6da"
            ],
            [
             0.4,
             "#fde0ef"
            ],
            [
             0.5,
             "#f7f7f7"
            ],
            [
             0.6,
             "#e6f5d0"
            ],
            [
             0.7,
             "#b8e186"
            ],
            [
             0.8,
             "#7fbc41"
            ],
            [
             0.9,
             "#4d9221"
            ],
            [
             1,
             "#276419"
            ]
           ],
           "sequential": [
            [
             0,
             "#0d0887"
            ],
            [
             0.1111111111111111,
             "#46039f"
            ],
            [
             0.2222222222222222,
             "#7201a8"
            ],
            [
             0.3333333333333333,
             "#9c179e"
            ],
            [
             0.4444444444444444,
             "#bd3786"
            ],
            [
             0.5555555555555556,
             "#d8576b"
            ],
            [
             0.6666666666666666,
             "#ed7953"
            ],
            [
             0.7777777777777778,
             "#fb9f3a"
            ],
            [
             0.8888888888888888,
             "#fdca26"
            ],
            [
             1,
             "#f0f921"
            ]
           ],
           "sequentialminus": [
            [
             0,
             "#0d0887"
            ],
            [
             0.1111111111111111,
             "#46039f"
            ],
            [
             0.2222222222222222,
             "#7201a8"
            ],
            [
             0.3333333333333333,
             "#9c179e"
            ],
            [
             0.4444444444444444,
             "#bd3786"
            ],
            [
             0.5555555555555556,
             "#d8576b"
            ],
            [
             0.6666666666666666,
             "#ed7953"
            ],
            [
             0.7777777777777778,
             "#fb9f3a"
            ],
            [
             0.8888888888888888,
             "#fdca26"
            ],
            [
             1,
             "#f0f921"
            ]
           ]
          },
          "colorway": [
           "#636efa",
           "#EF553B",
           "#00cc96",
           "#ab63fa",
           "#FFA15A",
           "#19d3f3",
           "#FF6692",
           "#B6E880",
           "#FF97FF",
           "#FECB52"
          ],
          "font": {
           "color": "#2a3f5f"
          },
          "geo": {
           "bgcolor": "white",
           "lakecolor": "white",
           "landcolor": "white",
           "showlakes": true,
           "showland": true,
           "subunitcolor": "#C8D4E3"
          },
          "hoverlabel": {
           "align": "left"
          },
          "hovermode": "closest",
          "mapbox": {
           "style": "light"
          },
          "paper_bgcolor": "white",
          "plot_bgcolor": "white",
          "polar": {
           "angularaxis": {
            "gridcolor": "#EBF0F8",
            "linecolor": "#EBF0F8",
            "ticks": ""
           },
           "bgcolor": "white",
           "radialaxis": {
            "gridcolor": "#EBF0F8",
            "linecolor": "#EBF0F8",
            "ticks": ""
           }
          },
          "scene": {
           "xaxis": {
            "backgroundcolor": "white",
            "gridcolor": "#DFE8F3",
            "gridwidth": 2,
            "linecolor": "#EBF0F8",
            "showbackground": true,
            "ticks": "",
            "zerolinecolor": "#EBF0F8"
           },
           "yaxis": {
            "backgroundcolor": "white",
            "gridcolor": "#DFE8F3",
            "gridwidth": 2,
            "linecolor": "#EBF0F8",
            "showbackground": true,
            "ticks": "",
            "zerolinecolor": "#EBF0F8"
           },
           "zaxis": {
            "backgroundcolor": "white",
            "gridcolor": "#DFE8F3",
            "gridwidth": 2,
            "linecolor": "#EBF0F8",
            "showbackground": true,
            "ticks": "",
            "zerolinecolor": "#EBF0F8"
           }
          },
          "shapedefaults": {
           "line": {
            "color": "#2a3f5f"
           }
          },
          "ternary": {
           "aaxis": {
            "gridcolor": "#DFE8F3",
            "linecolor": "#A2B1C6",
            "ticks": ""
           },
           "baxis": {
            "gridcolor": "#DFE8F3",
            "linecolor": "#A2B1C6",
            "ticks": ""
           },
           "bgcolor": "white",
           "caxis": {
            "gridcolor": "#DFE8F3",
            "linecolor": "#A2B1C6",
            "ticks": ""
           }
          },
          "title": {
           "x": 0.05
          },
          "xaxis": {
           "automargin": true,
           "gridcolor": "#EBF0F8",
           "linecolor": "#EBF0F8",
           "ticks": "",
           "title": {
            "standoff": 15
           },
           "zerolinecolor": "#EBF0F8",
           "zerolinewidth": 2
          },
          "yaxis": {
           "automargin": true,
           "gridcolor": "#EBF0F8",
           "linecolor": "#EBF0F8",
           "ticks": "",
           "title": {
            "standoff": 15
           },
           "zerolinecolor": "#EBF0F8",
           "zerolinewidth": 2
          }
         }
        },
        "title": {
         "text": "Actual vs Predicted Energy Consumption Over Time"
        },
        "xaxis": {
         "anchor": "y",
         "domain": [
          0,
          1
         ],
         "title": {
          "text": "Date"
         }
        },
        "yaxis": {
         "anchor": "x",
         "domain": [
          0,
          1
         ],
         "title": {
          "text": "Energy Consumption (kWh)"
         }
        }
       }
      }
     },
     "metadata": {},
     "output_type": "display_data"
    }
   ],
   "source": [
    "# Create the figure with step lines for both actual and predicted values\n",
    "fig = px.line(\n",
    "    y_preds_val.reset_index(),\n",
    "    x=\"datetime\",\n",
    "    y=[\"kWh\", \"pred\"],\n",
    "    labels={\n",
    "        \"datetime\": \"Date\",\n",
    "        \"value\": \"Energy Consumption (kWh)\",\n",
    "        \"variable\": \"Series\",\n",
    "    },\n",
    "    title=\"Actual vs Predicted Energy Consumption Over Time\",\n",
    "    line_shape=\"hv\",  # Set line shape to horizontal-vertical for step chart\n",
    ")\n",
    "\n",
    "# Customize the layout\n",
    "fig.update_layout(\n",
    "    template=\"plotly_white\",\n",
    "    legend=dict(title=\"\"),\n",
    "    xaxis_title=\"Date\",\n",
    "    yaxis_title=\"Energy Consumption (kWh)\",\n",
    ")\n",
    "\n",
    "# Show the figure\n",
    "fig.show()"
   ]
  },
  {
   "cell_type": "code",
   "execution_count": 69,
   "metadata": {},
   "outputs": [],
   "source": [
    "with open(\"autoarima_model.pkl\", \"rb\") as f:\n",
    "    model_summary = pickle.load(f)"
   ]
  },
  {
   "cell_type": "code",
   "execution_count": 70,
   "metadata": {},
   "outputs": [
    {
     "data": {
      "text/plain": [
       "{'p': 21, 'q': 1, 'P': 0, 'Q': 0, 'd': 1, 'D': 1}"
      ]
     },
     "execution_count": 70,
     "metadata": {},
     "output_type": "execute_result"
    }
   ],
   "source": [
    "best_hyperparams_autoarima = {\n",
    "    \"p\": sum(1 for key in model_summary[\"coef\"] if key.startswith(\"ar\")),\n",
    "    \"q\": sum(1 for key in model_summary[\"coef\"] if key.startswith(\"ma\")),\n",
    "    \"P\": sum(1 for key in model_summary[\"coef\"] if key.startswith(\"sar\")),\n",
    "    \"Q\": sum(1 for key in model_summary[\"coef\"] if key.startswith(\"sma\")),\n",
    "    \"d\": 1,\n",
    "    \"D\": 1,\n",
    "}\n",
    "\n",
    "best_hyperparams_autoarima"
   ]
  },
  {
   "cell_type": "code",
   "execution_count": 71,
   "metadata": {},
   "outputs": [],
   "source": [
    "model = ARIMA(\n",
    "    order=(\n",
    "        best_hyperparams_autoarima[\"p\"],\n",
    "        best_hyperparams_autoarima[\"d\"],\n",
    "        best_hyperparams_autoarima[\"q\"],\n",
    "    ),\n",
    "    season_length=168,\n",
    "    seasonal_order=(\n",
    "        best_hyperparams_autoarima[\"P\"],\n",
    "        best_hyperparams_autoarima[\"D\"],\n",
    "        best_hyperparams_autoarima[\"Q\"],\n",
    "    ),\n",
    ")\n",
    "\n",
    "# Fit the model on the full data\n",
    "model = model.fit(\n",
    "    y=y_train.to_numpy(dtype=np.float64),\n",
    "    X=X_train_preprocessed.to_numpy(dtype=np.float64),\n",
    ")"
   ]
  },
  {
   "cell_type": "code",
   "execution_count": 72,
   "metadata": {},
   "outputs": [
    {
     "name": "stdout",
     "output_type": "stream",
     "text": [
      "Hour 744 of 744\n"
     ]
    }
   ],
   "source": [
    "y_pred = validation(\n",
    "    model=model,\n",
    "    X_train=X_train_preprocessed,\n",
    "    X_val=X_val_preprocessed,\n",
    "    y_train=y_train,\n",
    "    y_val=y_val,\n",
    ")\n",
    "\n",
    "y_preds_val = pd.DataFrame(\n",
    "    {\n",
    "        \"pred\": y_pred,\n",
    "        \"kWh\": y_val,\n",
    "    }\n",
    ")"
   ]
  },
  {
   "cell_type": "code",
   "execution_count": 73,
   "metadata": {},
   "outputs": [
    {
     "data": {
      "text/plain": [
       "222841.0352964637"
      ]
     },
     "execution_count": 73,
     "metadata": {},
     "output_type": "execute_result"
    }
   ],
   "source": [
    "loss = root_mean_squared_error(y_pred=y_preds_val[\"pred\"], y_true=y_preds_val[\"kWh\"])\n",
    "loss"
   ]
  },
  {
   "cell_type": "code",
   "execution_count": 74,
   "metadata": {},
   "outputs": [
    {
     "data": {
      "application/vnd.plotly.v1+json": {
       "config": {
        "plotlyServerURL": "https://plot.ly"
       },
       "data": [
        {
         "hovertemplate": "Series=kWh<br>Date=%{x}<br>Energy Consumption (kWh)=%{y}<extra></extra>",
         "legendgroup": "kWh",
         "line": {
          "color": "#636efa",
          "dash": "solid",
          "shape": "hv"
         },
         "marker": {
          "symbol": "circle"
         },
         "mode": "lines",
         "name": "kWh",
         "showlegend": true,
         "type": "scattergl",
         "x": [
          "2023-07-01T00:00:00",
          "2023-07-01T01:00:00",
          "2023-07-01T02:00:00",
          "2023-07-01T03:00:00",
          "2023-07-01T04:00:00",
          "2023-07-01T05:00:00",
          "2023-07-01T06:00:00",
          "2023-07-01T07:00:00",
          "2023-07-01T08:00:00",
          "2023-07-01T09:00:00",
          "2023-07-01T10:00:00",
          "2023-07-01T11:00:00",
          "2023-07-01T12:00:00",
          "2023-07-01T13:00:00",
          "2023-07-01T14:00:00",
          "2023-07-01T15:00:00",
          "2023-07-01T16:00:00",
          "2023-07-01T17:00:00",
          "2023-07-01T18:00:00",
          "2023-07-01T19:00:00",
          "2023-07-01T20:00:00",
          "2023-07-01T21:00:00",
          "2023-07-01T22:00:00",
          "2023-07-01T23:00:00",
          "2023-07-02T00:00:00",
          "2023-07-02T01:00:00",
          "2023-07-02T02:00:00",
          "2023-07-02T03:00:00",
          "2023-07-02T04:00:00",
          "2023-07-02T05:00:00",
          "2023-07-02T06:00:00",
          "2023-07-02T07:00:00",
          "2023-07-02T08:00:00",
          "2023-07-02T09:00:00",
          "2023-07-02T10:00:00",
          "2023-07-02T11:00:00",
          "2023-07-02T12:00:00",
          "2023-07-02T13:00:00",
          "2023-07-02T14:00:00",
          "2023-07-02T15:00:00",
          "2023-07-02T16:00:00",
          "2023-07-02T17:00:00",
          "2023-07-02T18:00:00",
          "2023-07-02T19:00:00",
          "2023-07-02T20:00:00",
          "2023-07-02T21:00:00",
          "2023-07-02T22:00:00",
          "2023-07-02T23:00:00",
          "2023-07-03T00:00:00",
          "2023-07-03T01:00:00",
          "2023-07-03T02:00:00",
          "2023-07-03T03:00:00",
          "2023-07-03T04:00:00",
          "2023-07-03T05:00:00",
          "2023-07-03T06:00:00",
          "2023-07-03T07:00:00",
          "2023-07-03T08:00:00",
          "2023-07-03T09:00:00",
          "2023-07-03T10:00:00",
          "2023-07-03T11:00:00",
          "2023-07-03T12:00:00",
          "2023-07-03T13:00:00",
          "2023-07-03T14:00:00",
          "2023-07-03T15:00:00",
          "2023-07-03T16:00:00",
          "2023-07-03T17:00:00",
          "2023-07-03T18:00:00",
          "2023-07-03T19:00:00",
          "2023-07-03T20:00:00",
          "2023-07-03T21:00:00",
          "2023-07-03T22:00:00",
          "2023-07-03T23:00:00",
          "2023-07-04T00:00:00",
          "2023-07-04T01:00:00",
          "2023-07-04T02:00:00",
          "2023-07-04T03:00:00",
          "2023-07-04T04:00:00",
          "2023-07-04T05:00:00",
          "2023-07-04T06:00:00",
          "2023-07-04T07:00:00",
          "2023-07-04T08:00:00",
          "2023-07-04T09:00:00",
          "2023-07-04T10:00:00",
          "2023-07-04T11:00:00",
          "2023-07-04T12:00:00",
          "2023-07-04T13:00:00",
          "2023-07-04T14:00:00",
          "2023-07-04T15:00:00",
          "2023-07-04T16:00:00",
          "2023-07-04T17:00:00",
          "2023-07-04T18:00:00",
          "2023-07-04T19:00:00",
          "2023-07-04T20:00:00",
          "2023-07-04T21:00:00",
          "2023-07-04T22:00:00",
          "2023-07-04T23:00:00",
          "2023-07-05T00:00:00",
          "2023-07-05T01:00:00",
          "2023-07-05T02:00:00",
          "2023-07-05T03:00:00",
          "2023-07-05T04:00:00",
          "2023-07-05T05:00:00",
          "2023-07-05T06:00:00",
          "2023-07-05T07:00:00",
          "2023-07-05T08:00:00",
          "2023-07-05T09:00:00",
          "2023-07-05T10:00:00",
          "2023-07-05T11:00:00",
          "2023-07-05T12:00:00",
          "2023-07-05T13:00:00",
          "2023-07-05T14:00:00",
          "2023-07-05T15:00:00",
          "2023-07-05T16:00:00",
          "2023-07-05T17:00:00",
          "2023-07-05T18:00:00",
          "2023-07-05T19:00:00",
          "2023-07-05T20:00:00",
          "2023-07-05T21:00:00",
          "2023-07-05T22:00:00",
          "2023-07-05T23:00:00",
          "2023-07-06T00:00:00",
          "2023-07-06T01:00:00",
          "2023-07-06T02:00:00",
          "2023-07-06T03:00:00",
          "2023-07-06T04:00:00",
          "2023-07-06T05:00:00",
          "2023-07-06T06:00:00",
          "2023-07-06T07:00:00",
          "2023-07-06T08:00:00",
          "2023-07-06T09:00:00",
          "2023-07-06T10:00:00",
          "2023-07-06T11:00:00",
          "2023-07-06T12:00:00",
          "2023-07-06T13:00:00",
          "2023-07-06T14:00:00",
          "2023-07-06T15:00:00",
          "2023-07-06T16:00:00",
          "2023-07-06T17:00:00",
          "2023-07-06T18:00:00",
          "2023-07-06T19:00:00",
          "2023-07-06T20:00:00",
          "2023-07-06T21:00:00",
          "2023-07-06T22:00:00",
          "2023-07-06T23:00:00",
          "2023-07-07T00:00:00",
          "2023-07-07T01:00:00",
          "2023-07-07T02:00:00",
          "2023-07-07T03:00:00",
          "2023-07-07T04:00:00",
          "2023-07-07T05:00:00",
          "2023-07-07T06:00:00",
          "2023-07-07T07:00:00",
          "2023-07-07T08:00:00",
          "2023-07-07T09:00:00",
          "2023-07-07T10:00:00",
          "2023-07-07T11:00:00",
          "2023-07-07T12:00:00",
          "2023-07-07T13:00:00",
          "2023-07-07T14:00:00",
          "2023-07-07T15:00:00",
          "2023-07-07T16:00:00",
          "2023-07-07T17:00:00",
          "2023-07-07T18:00:00",
          "2023-07-07T19:00:00",
          "2023-07-07T20:00:00",
          "2023-07-07T21:00:00",
          "2023-07-07T22:00:00",
          "2023-07-07T23:00:00",
          "2023-07-08T00:00:00",
          "2023-07-08T01:00:00",
          "2023-07-08T02:00:00",
          "2023-07-08T03:00:00",
          "2023-07-08T04:00:00",
          "2023-07-08T05:00:00",
          "2023-07-08T06:00:00",
          "2023-07-08T07:00:00",
          "2023-07-08T08:00:00",
          "2023-07-08T09:00:00",
          "2023-07-08T10:00:00",
          "2023-07-08T11:00:00",
          "2023-07-08T12:00:00",
          "2023-07-08T13:00:00",
          "2023-07-08T14:00:00",
          "2023-07-08T15:00:00",
          "2023-07-08T16:00:00",
          "2023-07-08T17:00:00",
          "2023-07-08T18:00:00",
          "2023-07-08T19:00:00",
          "2023-07-08T20:00:00",
          "2023-07-08T21:00:00",
          "2023-07-08T22:00:00",
          "2023-07-08T23:00:00",
          "2023-07-09T00:00:00",
          "2023-07-09T01:00:00",
          "2023-07-09T02:00:00",
          "2023-07-09T03:00:00",
          "2023-07-09T04:00:00",
          "2023-07-09T05:00:00",
          "2023-07-09T06:00:00",
          "2023-07-09T07:00:00",
          "2023-07-09T08:00:00",
          "2023-07-09T09:00:00",
          "2023-07-09T10:00:00",
          "2023-07-09T11:00:00",
          "2023-07-09T12:00:00",
          "2023-07-09T13:00:00",
          "2023-07-09T14:00:00",
          "2023-07-09T15:00:00",
          "2023-07-09T16:00:00",
          "2023-07-09T17:00:00",
          "2023-07-09T18:00:00",
          "2023-07-09T19:00:00",
          "2023-07-09T20:00:00",
          "2023-07-09T21:00:00",
          "2023-07-09T22:00:00",
          "2023-07-09T23:00:00",
          "2023-07-10T00:00:00",
          "2023-07-10T01:00:00",
          "2023-07-10T02:00:00",
          "2023-07-10T03:00:00",
          "2023-07-10T04:00:00",
          "2023-07-10T05:00:00",
          "2023-07-10T06:00:00",
          "2023-07-10T07:00:00",
          "2023-07-10T08:00:00",
          "2023-07-10T09:00:00",
          "2023-07-10T10:00:00",
          "2023-07-10T11:00:00",
          "2023-07-10T12:00:00",
          "2023-07-10T13:00:00",
          "2023-07-10T14:00:00",
          "2023-07-10T15:00:00",
          "2023-07-10T16:00:00",
          "2023-07-10T17:00:00",
          "2023-07-10T18:00:00",
          "2023-07-10T19:00:00",
          "2023-07-10T20:00:00",
          "2023-07-10T21:00:00",
          "2023-07-10T22:00:00",
          "2023-07-10T23:00:00",
          "2023-07-11T00:00:00",
          "2023-07-11T01:00:00",
          "2023-07-11T02:00:00",
          "2023-07-11T03:00:00",
          "2023-07-11T04:00:00",
          "2023-07-11T05:00:00",
          "2023-07-11T06:00:00",
          "2023-07-11T07:00:00",
          "2023-07-11T08:00:00",
          "2023-07-11T09:00:00",
          "2023-07-11T10:00:00",
          "2023-07-11T11:00:00",
          "2023-07-11T12:00:00",
          "2023-07-11T13:00:00",
          "2023-07-11T14:00:00",
          "2023-07-11T15:00:00",
          "2023-07-11T16:00:00",
          "2023-07-11T17:00:00",
          "2023-07-11T18:00:00",
          "2023-07-11T19:00:00",
          "2023-07-11T20:00:00",
          "2023-07-11T21:00:00",
          "2023-07-11T22:00:00",
          "2023-07-11T23:00:00",
          "2023-07-12T00:00:00",
          "2023-07-12T01:00:00",
          "2023-07-12T02:00:00",
          "2023-07-12T03:00:00",
          "2023-07-12T04:00:00",
          "2023-07-12T05:00:00",
          "2023-07-12T06:00:00",
          "2023-07-12T07:00:00",
          "2023-07-12T08:00:00",
          "2023-07-12T09:00:00",
          "2023-07-12T10:00:00",
          "2023-07-12T11:00:00",
          "2023-07-12T12:00:00",
          "2023-07-12T13:00:00",
          "2023-07-12T14:00:00",
          "2023-07-12T15:00:00",
          "2023-07-12T16:00:00",
          "2023-07-12T17:00:00",
          "2023-07-12T18:00:00",
          "2023-07-12T19:00:00",
          "2023-07-12T20:00:00",
          "2023-07-12T21:00:00",
          "2023-07-12T22:00:00",
          "2023-07-12T23:00:00",
          "2023-07-13T00:00:00",
          "2023-07-13T01:00:00",
          "2023-07-13T02:00:00",
          "2023-07-13T03:00:00",
          "2023-07-13T04:00:00",
          "2023-07-13T05:00:00",
          "2023-07-13T06:00:00",
          "2023-07-13T07:00:00",
          "2023-07-13T08:00:00",
          "2023-07-13T09:00:00",
          "2023-07-13T10:00:00",
          "2023-07-13T11:00:00",
          "2023-07-13T12:00:00",
          "2023-07-13T13:00:00",
          "2023-07-13T14:00:00",
          "2023-07-13T15:00:00",
          "2023-07-13T16:00:00",
          "2023-07-13T17:00:00",
          "2023-07-13T18:00:00",
          "2023-07-13T19:00:00",
          "2023-07-13T20:00:00",
          "2023-07-13T21:00:00",
          "2023-07-13T22:00:00",
          "2023-07-13T23:00:00",
          "2023-07-14T00:00:00",
          "2023-07-14T01:00:00",
          "2023-07-14T02:00:00",
          "2023-07-14T03:00:00",
          "2023-07-14T04:00:00",
          "2023-07-14T05:00:00",
          "2023-07-14T06:00:00",
          "2023-07-14T07:00:00",
          "2023-07-14T08:00:00",
          "2023-07-14T09:00:00",
          "2023-07-14T10:00:00",
          "2023-07-14T11:00:00",
          "2023-07-14T12:00:00",
          "2023-07-14T13:00:00",
          "2023-07-14T14:00:00",
          "2023-07-14T15:00:00",
          "2023-07-14T16:00:00",
          "2023-07-14T17:00:00",
          "2023-07-14T18:00:00",
          "2023-07-14T19:00:00",
          "2023-07-14T20:00:00",
          "2023-07-14T21:00:00",
          "2023-07-14T22:00:00",
          "2023-07-14T23:00:00",
          "2023-07-15T00:00:00",
          "2023-07-15T01:00:00",
          "2023-07-15T02:00:00",
          "2023-07-15T03:00:00",
          "2023-07-15T04:00:00",
          "2023-07-15T05:00:00",
          "2023-07-15T06:00:00",
          "2023-07-15T07:00:00",
          "2023-07-15T08:00:00",
          "2023-07-15T09:00:00",
          "2023-07-15T10:00:00",
          "2023-07-15T11:00:00",
          "2023-07-15T12:00:00",
          "2023-07-15T13:00:00",
          "2023-07-15T14:00:00",
          "2023-07-15T15:00:00",
          "2023-07-15T16:00:00",
          "2023-07-15T17:00:00",
          "2023-07-15T18:00:00",
          "2023-07-15T19:00:00",
          "2023-07-15T20:00:00",
          "2023-07-15T21:00:00",
          "2023-07-15T22:00:00",
          "2023-07-15T23:00:00",
          "2023-07-16T00:00:00",
          "2023-07-16T01:00:00",
          "2023-07-16T02:00:00",
          "2023-07-16T03:00:00",
          "2023-07-16T04:00:00",
          "2023-07-16T05:00:00",
          "2023-07-16T06:00:00",
          "2023-07-16T07:00:00",
          "2023-07-16T08:00:00",
          "2023-07-16T09:00:00",
          "2023-07-16T10:00:00",
          "2023-07-16T11:00:00",
          "2023-07-16T12:00:00",
          "2023-07-16T13:00:00",
          "2023-07-16T14:00:00",
          "2023-07-16T15:00:00",
          "2023-07-16T16:00:00",
          "2023-07-16T17:00:00",
          "2023-07-16T18:00:00",
          "2023-07-16T19:00:00",
          "2023-07-16T20:00:00",
          "2023-07-16T21:00:00",
          "2023-07-16T22:00:00",
          "2023-07-16T23:00:00",
          "2023-07-17T00:00:00",
          "2023-07-17T01:00:00",
          "2023-07-17T02:00:00",
          "2023-07-17T03:00:00",
          "2023-07-17T04:00:00",
          "2023-07-17T05:00:00",
          "2023-07-17T06:00:00",
          "2023-07-17T07:00:00",
          "2023-07-17T08:00:00",
          "2023-07-17T09:00:00",
          "2023-07-17T10:00:00",
          "2023-07-17T11:00:00",
          "2023-07-17T12:00:00",
          "2023-07-17T13:00:00",
          "2023-07-17T14:00:00",
          "2023-07-17T15:00:00",
          "2023-07-17T16:00:00",
          "2023-07-17T17:00:00",
          "2023-07-17T18:00:00",
          "2023-07-17T19:00:00",
          "2023-07-17T20:00:00",
          "2023-07-17T21:00:00",
          "2023-07-17T22:00:00",
          "2023-07-17T23:00:00",
          "2023-07-18T00:00:00",
          "2023-07-18T01:00:00",
          "2023-07-18T02:00:00",
          "2023-07-18T03:00:00",
          "2023-07-18T04:00:00",
          "2023-07-18T05:00:00",
          "2023-07-18T06:00:00",
          "2023-07-18T07:00:00",
          "2023-07-18T08:00:00",
          "2023-07-18T09:00:00",
          "2023-07-18T10:00:00",
          "2023-07-18T11:00:00",
          "2023-07-18T12:00:00",
          "2023-07-18T13:00:00",
          "2023-07-18T14:00:00",
          "2023-07-18T15:00:00",
          "2023-07-18T16:00:00",
          "2023-07-18T17:00:00",
          "2023-07-18T18:00:00",
          "2023-07-18T19:00:00",
          "2023-07-18T20:00:00",
          "2023-07-18T21:00:00",
          "2023-07-18T22:00:00",
          "2023-07-18T23:00:00",
          "2023-07-19T00:00:00",
          "2023-07-19T01:00:00",
          "2023-07-19T02:00:00",
          "2023-07-19T03:00:00",
          "2023-07-19T04:00:00",
          "2023-07-19T05:00:00",
          "2023-07-19T06:00:00",
          "2023-07-19T07:00:00",
          "2023-07-19T08:00:00",
          "2023-07-19T09:00:00",
          "2023-07-19T10:00:00",
          "2023-07-19T11:00:00",
          "2023-07-19T12:00:00",
          "2023-07-19T13:00:00",
          "2023-07-19T14:00:00",
          "2023-07-19T15:00:00",
          "2023-07-19T16:00:00",
          "2023-07-19T17:00:00",
          "2023-07-19T18:00:00",
          "2023-07-19T19:00:00",
          "2023-07-19T20:00:00",
          "2023-07-19T21:00:00",
          "2023-07-19T22:00:00",
          "2023-07-19T23:00:00",
          "2023-07-20T00:00:00",
          "2023-07-20T01:00:00",
          "2023-07-20T02:00:00",
          "2023-07-20T03:00:00",
          "2023-07-20T04:00:00",
          "2023-07-20T05:00:00",
          "2023-07-20T06:00:00",
          "2023-07-20T07:00:00",
          "2023-07-20T08:00:00",
          "2023-07-20T09:00:00",
          "2023-07-20T10:00:00",
          "2023-07-20T11:00:00",
          "2023-07-20T12:00:00",
          "2023-07-20T13:00:00",
          "2023-07-20T14:00:00",
          "2023-07-20T15:00:00",
          "2023-07-20T16:00:00",
          "2023-07-20T17:00:00",
          "2023-07-20T18:00:00",
          "2023-07-20T19:00:00",
          "2023-07-20T20:00:00",
          "2023-07-20T21:00:00",
          "2023-07-20T22:00:00",
          "2023-07-20T23:00:00",
          "2023-07-21T00:00:00",
          "2023-07-21T01:00:00",
          "2023-07-21T02:00:00",
          "2023-07-21T03:00:00",
          "2023-07-21T04:00:00",
          "2023-07-21T05:00:00",
          "2023-07-21T06:00:00",
          "2023-07-21T07:00:00",
          "2023-07-21T08:00:00",
          "2023-07-21T09:00:00",
          "2023-07-21T10:00:00",
          "2023-07-21T11:00:00",
          "2023-07-21T12:00:00",
          "2023-07-21T13:00:00",
          "2023-07-21T14:00:00",
          "2023-07-21T15:00:00",
          "2023-07-21T16:00:00",
          "2023-07-21T17:00:00",
          "2023-07-21T18:00:00",
          "2023-07-21T19:00:00",
          "2023-07-21T20:00:00",
          "2023-07-21T21:00:00",
          "2023-07-21T22:00:00",
          "2023-07-21T23:00:00",
          "2023-07-22T00:00:00",
          "2023-07-22T01:00:00",
          "2023-07-22T02:00:00",
          "2023-07-22T03:00:00",
          "2023-07-22T04:00:00",
          "2023-07-22T05:00:00",
          "2023-07-22T06:00:00",
          "2023-07-22T07:00:00",
          "2023-07-22T08:00:00",
          "2023-07-22T09:00:00",
          "2023-07-22T10:00:00",
          "2023-07-22T11:00:00",
          "2023-07-22T12:00:00",
          "2023-07-22T13:00:00",
          "2023-07-22T14:00:00",
          "2023-07-22T15:00:00",
          "2023-07-22T16:00:00",
          "2023-07-22T17:00:00",
          "2023-07-22T18:00:00",
          "2023-07-22T19:00:00",
          "2023-07-22T20:00:00",
          "2023-07-22T21:00:00",
          "2023-07-22T22:00:00",
          "2023-07-22T23:00:00",
          "2023-07-23T00:00:00",
          "2023-07-23T01:00:00",
          "2023-07-23T02:00:00",
          "2023-07-23T03:00:00",
          "2023-07-23T04:00:00",
          "2023-07-23T05:00:00",
          "2023-07-23T06:00:00",
          "2023-07-23T07:00:00",
          "2023-07-23T08:00:00",
          "2023-07-23T09:00:00",
          "2023-07-23T10:00:00",
          "2023-07-23T11:00:00",
          "2023-07-23T12:00:00",
          "2023-07-23T13:00:00",
          "2023-07-23T14:00:00",
          "2023-07-23T15:00:00",
          "2023-07-23T16:00:00",
          "2023-07-23T17:00:00",
          "2023-07-23T18:00:00",
          "2023-07-23T19:00:00",
          "2023-07-23T20:00:00",
          "2023-07-23T21:00:00",
          "2023-07-23T22:00:00",
          "2023-07-23T23:00:00",
          "2023-07-24T00:00:00",
          "2023-07-24T01:00:00",
          "2023-07-24T02:00:00",
          "2023-07-24T03:00:00",
          "2023-07-24T04:00:00",
          "2023-07-24T05:00:00",
          "2023-07-24T06:00:00",
          "2023-07-24T07:00:00",
          "2023-07-24T08:00:00",
          "2023-07-24T09:00:00",
          "2023-07-24T10:00:00",
          "2023-07-24T11:00:00",
          "2023-07-24T12:00:00",
          "2023-07-24T13:00:00",
          "2023-07-24T14:00:00",
          "2023-07-24T15:00:00",
          "2023-07-24T16:00:00",
          "2023-07-24T17:00:00",
          "2023-07-24T18:00:00",
          "2023-07-24T19:00:00",
          "2023-07-24T20:00:00",
          "2023-07-24T21:00:00",
          "2023-07-24T22:00:00",
          "2023-07-24T23:00:00",
          "2023-07-25T00:00:00",
          "2023-07-25T01:00:00",
          "2023-07-25T02:00:00",
          "2023-07-25T03:00:00",
          "2023-07-25T04:00:00",
          "2023-07-25T05:00:00",
          "2023-07-25T06:00:00",
          "2023-07-25T07:00:00",
          "2023-07-25T08:00:00",
          "2023-07-25T09:00:00",
          "2023-07-25T10:00:00",
          "2023-07-25T11:00:00",
          "2023-07-25T12:00:00",
          "2023-07-25T13:00:00",
          "2023-07-25T14:00:00",
          "2023-07-25T15:00:00",
          "2023-07-25T16:00:00",
          "2023-07-25T17:00:00",
          "2023-07-25T18:00:00",
          "2023-07-25T19:00:00",
          "2023-07-25T20:00:00",
          "2023-07-25T21:00:00",
          "2023-07-25T22:00:00",
          "2023-07-25T23:00:00",
          "2023-07-26T00:00:00",
          "2023-07-26T01:00:00",
          "2023-07-26T02:00:00",
          "2023-07-26T03:00:00",
          "2023-07-26T04:00:00",
          "2023-07-26T05:00:00",
          "2023-07-26T06:00:00",
          "2023-07-26T07:00:00",
          "2023-07-26T08:00:00",
          "2023-07-26T09:00:00",
          "2023-07-26T10:00:00",
          "2023-07-26T11:00:00",
          "2023-07-26T12:00:00",
          "2023-07-26T13:00:00",
          "2023-07-26T14:00:00",
          "2023-07-26T15:00:00",
          "2023-07-26T16:00:00",
          "2023-07-26T17:00:00",
          "2023-07-26T18:00:00",
          "2023-07-26T19:00:00",
          "2023-07-26T20:00:00",
          "2023-07-26T21:00:00",
          "2023-07-26T22:00:00",
          "2023-07-26T23:00:00",
          "2023-07-27T00:00:00",
          "2023-07-27T01:00:00",
          "2023-07-27T02:00:00",
          "2023-07-27T03:00:00",
          "2023-07-27T04:00:00",
          "2023-07-27T05:00:00",
          "2023-07-27T06:00:00",
          "2023-07-27T07:00:00",
          "2023-07-27T08:00:00",
          "2023-07-27T09:00:00",
          "2023-07-27T10:00:00",
          "2023-07-27T11:00:00",
          "2023-07-27T12:00:00",
          "2023-07-27T13:00:00",
          "2023-07-27T14:00:00",
          "2023-07-27T15:00:00",
          "2023-07-27T16:00:00",
          "2023-07-27T17:00:00",
          "2023-07-27T18:00:00",
          "2023-07-27T19:00:00",
          "2023-07-27T20:00:00",
          "2023-07-27T21:00:00",
          "2023-07-27T22:00:00",
          "2023-07-27T23:00:00",
          "2023-07-28T00:00:00",
          "2023-07-28T01:00:00",
          "2023-07-28T02:00:00",
          "2023-07-28T03:00:00",
          "2023-07-28T04:00:00",
          "2023-07-28T05:00:00",
          "2023-07-28T06:00:00",
          "2023-07-28T07:00:00",
          "2023-07-28T08:00:00",
          "2023-07-28T09:00:00",
          "2023-07-28T10:00:00",
          "2023-07-28T11:00:00",
          "2023-07-28T12:00:00",
          "2023-07-28T13:00:00",
          "2023-07-28T14:00:00",
          "2023-07-28T15:00:00",
          "2023-07-28T16:00:00",
          "2023-07-28T17:00:00",
          "2023-07-28T18:00:00",
          "2023-07-28T19:00:00",
          "2023-07-28T20:00:00",
          "2023-07-28T21:00:00",
          "2023-07-28T22:00:00",
          "2023-07-28T23:00:00",
          "2023-07-29T00:00:00",
          "2023-07-29T01:00:00",
          "2023-07-29T02:00:00",
          "2023-07-29T03:00:00",
          "2023-07-29T04:00:00",
          "2023-07-29T05:00:00",
          "2023-07-29T06:00:00",
          "2023-07-29T07:00:00",
          "2023-07-29T08:00:00",
          "2023-07-29T09:00:00",
          "2023-07-29T10:00:00",
          "2023-07-29T11:00:00",
          "2023-07-29T12:00:00",
          "2023-07-29T13:00:00",
          "2023-07-29T14:00:00",
          "2023-07-29T15:00:00",
          "2023-07-29T16:00:00",
          "2023-07-29T17:00:00",
          "2023-07-29T18:00:00",
          "2023-07-29T19:00:00",
          "2023-07-29T20:00:00",
          "2023-07-29T21:00:00",
          "2023-07-29T22:00:00",
          "2023-07-29T23:00:00",
          "2023-07-30T00:00:00",
          "2023-07-30T01:00:00",
          "2023-07-30T02:00:00",
          "2023-07-30T03:00:00",
          "2023-07-30T04:00:00",
          "2023-07-30T05:00:00",
          "2023-07-30T06:00:00",
          "2023-07-30T07:00:00",
          "2023-07-30T08:00:00",
          "2023-07-30T09:00:00",
          "2023-07-30T10:00:00",
          "2023-07-30T11:00:00",
          "2023-07-30T12:00:00",
          "2023-07-30T13:00:00",
          "2023-07-30T14:00:00",
          "2023-07-30T15:00:00",
          "2023-07-30T16:00:00",
          "2023-07-30T17:00:00",
          "2023-07-30T18:00:00",
          "2023-07-30T19:00:00",
          "2023-07-30T20:00:00",
          "2023-07-30T21:00:00",
          "2023-07-30T22:00:00",
          "2023-07-30T23:00:00",
          "2023-07-31T00:00:00",
          "2023-07-31T01:00:00",
          "2023-07-31T02:00:00",
          "2023-07-31T03:00:00",
          "2023-07-31T04:00:00",
          "2023-07-31T05:00:00",
          "2023-07-31T06:00:00",
          "2023-07-31T07:00:00",
          "2023-07-31T08:00:00",
          "2023-07-31T09:00:00",
          "2023-07-31T10:00:00",
          "2023-07-31T11:00:00",
          "2023-07-31T12:00:00",
          "2023-07-31T13:00:00",
          "2023-07-31T14:00:00",
          "2023-07-31T15:00:00",
          "2023-07-31T16:00:00",
          "2023-07-31T17:00:00",
          "2023-07-31T18:00:00",
          "2023-07-31T19:00:00",
          "2023-07-31T20:00:00",
          "2023-07-31T21:00:00",
          "2023-07-31T22:00:00",
          "2023-07-31T23:00:00"
         ],
         "xaxis": "x",
         "y": [
          4992377.298,
          4781911.091375001,
          4645118.083374999,
          4447286.931875001,
          4221513.2945,
          4275782.98675,
          4442472.4065000005,
          4628467.8065,
          4891606.903124999,
          5078900.5622499995,
          5133744.50375,
          5228612.564375,
          5192377.946375,
          5070856.218125,
          5059528.241125,
          5024532.1431249995,
          5084404.780875,
          5193279.17925,
          5285534.4415,
          5231946.739125,
          5102613.2715,
          5014024.263875,
          5019488.309,
          4792773.51675,
          4588989.187999999,
          4471721.92175,
          4321234.912625,
          4126455.9790000003,
          3931752.433125,
          3857963.219125,
          3917679.9483749997,
          4073717.6975000002,
          4331445.649750001,
          4594054.70975,
          4715863.998,
          4846766.171375001,
          4809639.10775,
          4617898.736125,
          4535643.349625,
          4535184.203125,
          4566927.933125,
          4777017.23025,
          5028645.63275,
          5059314.291875,
          5044363.519875,
          5012898.9125,
          5050708.621,
          4761913.497625,
          4531579.652999999,
          4411999.596875,
          4333519.314125,
          4204024.322625,
          4128770.867,
          4465603.84675,
          5238514.2405,
          5975573.137375,
          6330126.298874999,
          6339004.248625001,
          6451519.0967500005,
          6659334.7042499995,
          6297372.454,
          6263059.0505,
          6126278.593125001,
          6012249.762124999,
          5958786.069125,
          5909348.124500001,
          5983329.107125,
          5874202.09325,
          5718628.883125001,
          5656686.241375,
          5602387.7265,
          5194917.779625,
          4984820.305,
          4824486.195875,
          4642583.113125,
          4478557.040624999,
          4365142.476,
          4722788.48875,
          5384357.5825,
          6066712.083375,
          6393172.818875,
          6424697.614625,
          6493071.5057500005,
          6685052.17625,
          6293650.576,
          6301211.6055,
          6172996.461124999,
          6133324.582125001,
          6074333.467125,
          6032271.8555,
          6097641.604125,
          6002771.80225,
          5816234.230125,
          5722594.104374999,
          5665226.8755,
          5263810.021625,
          4972959.776,
          4810859.865875,
          4671729.241125,
          4523665.997625,
          4416941.465,
          4743397.38475,
          5462736.7915,
          6167420.440375,
          6567198.600875,
          6688324.765625,
          6861892.08675,
          7002843.98725,
          6571904.007999999,
          6529628.276500001,
          6329183.892124999,
          6179490.646125,
          6071185.955125,
          6024212.3375,
          6104820.261124999,
          5960936.55625,
          5722960.205125,
          5625310.025375,
          5556457.9315,
          5239181.342625,
          4945640.501,
          4774176.813875,
          4705956.008125,
          4536188.138625001,
          4404050.0479999995,
          4728756.84275,
          5400589.2045,
          6062532.747375,
          6308385.804874999,
          6236908.710625,
          6379117.2897499995,
          6516994.548250001,
          6160798.201,
          6179516.0805,
          6109938.270125,
          6028090.579125,
          5984295.572125,
          5913353.871499999,
          5980830.565125,
          5890981.731249999,
          5717842.957125001,
          5623975.988375001,
          5609448.6844999995,
          5241972.198625,
          4989902.75,
          4782990.377875,
          4628228.084125,
          4464664.740625,
          4363396.524,
          4664438.73575,
          5312713.0105,
          5906990.845375,
          6197744.809875,
          6225793.532625,
          6331824.12875,
          6440100.57325,
          6081924.676,
          6068991.7225,
          5992592.381124999,
          5896814.116125001,
          5803598.903125,
          5853227.2355,
          5982935.280125,
          5891643.86425,
          5672605.423125001,
          5578344.2653749995,
          5537549.7685,
          5251386.533625,
          5081150.291,
          4862024.586375,
          4643104.6123750005,
          4400429.887875,
          4193976.8175,
          4255116.5907499995,
          4447707.7655,
          4656275.0505,
          4975028.8651250005,
          5195830.66225,
          5333116.23475,
          5352051.309375,
          5225632.585375,
          5090428.914125,
          4952516.958125,
          4867355.288125,
          4842019.529875,
          4978752.15025,
          5156725.2805,
          5181208.408125,
          5055682.490499999,
          5032494.029874999,
          5098684.836999999,
          4860945.25375,
          4672638.82,
          4525891.42875,
          4356947.956625,
          4158299.119,
          3971635.684125,
          3905643.5631250003,
          3928504.459375,
          3999995.3575,
          4186828.5117500005,
          4373169.43375,
          4481764.819999999,
          4599156.533375,
          4619495.963749999,
          4507231.470125,
          4420652.534625,
          4458533.773125,
          4620088.029124999,
          4846375.85325,
          5112530.135749999,
          5193047.658875,
          5164776.804874999,
          5197100.5665,
          5262806.0819999995,
          4907281.339625,
          4682545.051,
          4532423.626875,
          4460769.972125,
          4323827.022625,
          4263008.296999999,
          4605152.3467500005,
          5330506.9245,
          6112326.848375,
          6542202.144875,
          6608214.850625,
          6684080.48375,
          6774555.01725,
          6422013.18,
          6433928.609499999,
          6353133.057124999,
          6292348.492125,
          6197352.953125,
          6161493.9325,
          6227695.027125,
          6112485.20625,
          5970819.678125001,
          5848066.525375,
          5793474.2555,
          5406733.160625,
          5124123.972,
          4942562.366875,
          4801411.689125,
          4613385.415624999,
          4466598.841,
          4745019.56475,
          5457387.6095,
          6148260.154375,
          6510598.9418750005,
          6605165.6096250005,
          6713533.075750001,
          6780504.54325,
          6492299.427,
          6539997.7345,
          6487995.331125,
          6425217.1431249995,
          6381411.652125,
          6394850.3535,
          6481769.7681249995,
          6391051.12125,
          6207954.833125,
          6002422.213375,
          5749402.0065,
          5379409.295625,
          5126754.512,
          4900244.893874999,
          4818173.283125,
          4642539.225625001,
          4547749.623,
          4893098.4657499995,
          5628502.943499999,
          6310148.385375001,
          6609374.404874999,
          6753040.296625,
          6952138.406749999,
          7129770.560249999,
          6874627.001,
          6942636.7905,
          6804889.829125,
          6696405.036125,
          6657128.426124999,
          6560615.0725,
          6572825.055125,
          6323246.912249999,
          6005315.813125001,
          5761885.233375001,
          5646591.0295,
          5263604.527625,
          5001240.091,
          4794450.999875,
          4710275.428125,
          4517655.112625001,
          4387517.722,
          4669346.15475,
          5354038.4465,
          6076904.348375,
          6517393.475875,
          6517416.124624999,
          6575506.571749999,
          6669320.524250001,
          6282126.688,
          6273507.969500001,
          6115876.702125001,
          5961596.010125,
          5895844.333125,
          5877450.3145,
          5904997.427125,
          5819205.54525,
          5666774.883125,
          5576212.008374999,
          5499229.9865,
          5149153.829624999,
          4877735.056,
          4707708.129875,
          4589595.633125,
          4420372.357625,
          4304668.594,
          4580502.5057500005,
          5191590.3305,
          5775974.056375,
          6068085.596875,
          6129942.926625,
          6200205.210750001,
          6272808.592250001,
          6007854.182,
          5988477.4245,
          5915274.812125,
          5823904.690125,
          5671652.878125,
          5745927.1275,
          5850655.173125001,
          5800503.830250001,
          5631226.408125,
          5507372.735375,
          5474919.428499999,
          5185717.046625,
          4977610.158,
          4822051.856375,
          4588843.434375,
          4351297.442875,
          4136418.5785,
          4156978.9717500005,
          4339583.2325,
          4466133.7065,
          4773891.970125,
          4969899.48325,
          5066710.858750001,
          5125126.4473749995,
          5064822.776374999,
          5053556.040125,
          5048830.934125001,
          5076739.144125,
          5016965.095875,
          5110752.223250001,
          5257338.5655,
          5307888.554125,
          5195769.6835,
          5111028.345875001,
          5108590.864999999,
          4867857.30975,
          4649082.706,
          4496306.178749999,
          4291509.418625,
          4088522.701,
          3918493.262125,
          3871047.5311249997,
          3900015.8723750003,
          3935894.1955,
          4118881.0947499997,
          4337890.58275,
          4475136.3209999995,
          4607559.385375001,
          4617429.54175,
          4480606.085124999,
          4370081.017625,
          4314351.748125,
          4378725.695125,
          4642712.505249999,
          4926408.176750001,
          5002264.178875,
          4932098.2088750005,
          4969114.5375,
          5026703.961999999,
          4740953.067625,
          4509977.483,
          4344101.557875,
          4268221.936125,
          4115621.680625,
          4091970.596,
          4495895.66975,
          5132350.337499999,
          5757966.805375,
          6136977.454875,
          6211328.389625,
          6259694.28975,
          6366849.826249999,
          6056920.087,
          6084691.1655,
          6004455.930125,
          5968570.725125,
          5913331.408124999,
          5883890.1435,
          5977115.752125001,
          5868855.24425,
          5657259.834125,
          5540651.919375,
          5440719.978499999,
          5096746.6606250005,
          4838240.982000001,
          4686061.755875,
          4555571.020125,
          4386487.333625,
          4256010.526,
          4612742.59575,
          5186234.0525,
          5781241.122375,
          6102700.032875,
          6129193.894625,
          6226190.41175,
          6327577.55325,
          6217231.614,
          6614938.3165,
          6557036.403125,
          6402784.386125,
          6144799.605125,
          6022492.2195,
          6086214.345124999,
          5937280.70925,
          5744424.979125001,
          5661940.142375,
          5568500.7605,
          5159889.477624999,
          4886718.6049999995,
          4708537.462874999,
          4603508.591125,
          4429618.204625,
          4307352.475,
          4658534.36575,
          5261999.6334999995,
          5931463.499375001,
          6314897.064875,
          6372642.860625,
          6466993.87175,
          6572126.208249999,
          6277868.755,
          6231375.131500001,
          6121010.074125,
          6028885.437124999,
          5958849.366125001,
          6008374.6245,
          5972195.897125,
          5843581.186249999,
          5628884.804125,
          5575111.905375,
          5517896.666499999,
          5103903.873625001,
          4866331.739,
          4663181.347875,
          4533793.328125,
          4353768.144625001,
          4231817.609,
          4512756.26275,
          5134801.5075,
          5741850.151375,
          6052433.766875,
          6044597.344625001,
          6083688.39275,
          6125680.276250001,
          5837873.194,
          5845215.6545,
          5766491.752125,
          5689783.077125,
          5694165.388125,
          5708664.9675,
          5796374.847124999,
          5694308.84725,
          5552345.140125,
          5488427.429375,
          5399016.4305,
          5040863.366625,
          4803048.9120000005,
          4626129.610874999,
          4488614.233124999,
          4318441.419625,
          4186184.0519999997,
          4452342.95275,
          5030175.260500001,
          5698624.089375,
          6111271.679874999,
          6199645.8936250005,
          6363770.1077499995,
          6407048.137250001,
          6056087.959000001,
          5907754.1035,
          5772640.505125,
          5679076.828125,
          5591415.482124999,
          5607067.9665,
          5649459.850125,
          5513202.33125,
          5330141.221125,
          5221543.420375001,
          5145644.1885,
          4870804.537625,
          4682545.364,
          4523004.196374999,
          4375085.114375,
          4180718.943875,
          3970520.6085,
          4005197.48575,
          4145745.5415,
          4283440.0035,
          4526781.079125,
          4700417.66625,
          4780219.24675,
          4829333.092375,
          4733462.996375,
          4648173.390125,
          4556306.796125,
          4529854.144125,
          4537015.901875,
          4674110.98525,
          4800399.7495,
          4777901.215125,
          4735674.692500001,
          4751738.761875,
          4770107.438,
          4527260.34975,
          4340521.213,
          4182961.65875,
          4085534.676625,
          3908085.645,
          3730732.4801250002,
          3696704.799125,
          3735841.032375,
          3786086.5245,
          3964674.0747499997,
          4120397.45775,
          4208962.41,
          4269867.006375,
          4268313.46675,
          4169317.916125,
          4138602.4156250004,
          4145276.771125,
          4241897.158125,
          4488857.57125,
          4748043.02475,
          4797141.048875,
          4740383.252875,
          4791522.5625,
          4804920.973,
          4520847.124625,
          4324792.075,
          4198496.652875,
          4136686.577125,
          4026720.543625,
          3950246.017,
          4233063.54875,
          4871177.4815,
          5515412.883375,
          5908353.289875,
          6096210.312625,
          6121954.27575,
          6319917.00325,
          6165324.472,
          6099470.6674999995,
          5871897.707125,
          5891306.818125,
          5812961.856125,
          5700737.5215,
          5738895.118125,
          5489416.55525,
          5263294.811125,
          5181710.526375,
          5085796.124500001,
          4767059.5126249995,
          4571529.120999999,
          4406476.544875,
          4286943.241125001,
          4134516.9606250003,
          4013729.7860000003,
          4286490.930749999,
          4872612.3205,
          5414125.940375,
          5754333.515875,
          5767702.7006250005,
          5880719.75275,
          6002301.603250001,
          5720554.583000001,
          5664446.6565000005,
          5588953.177125,
          5536642.6431249995,
          5446274.262125,
          5432292.8055,
          5572966.519125,
          5412674.94525,
          5194388.004125,
          5101317.888374999,
          4992409.4555,
          4697092.574624999,
          4500753.881000001,
          4360820.093875,
          4241018.025125,
          4122051.851625,
          4003620.742,
          4279814.78575,
          4834370.7625,
          5365772.509375,
          5700402.143875,
          5788134.432625,
          5904827.92875,
          5976908.5512500005,
          5685088.333000001,
          5614081.3765,
          5465416.562125,
          5334870.026125,
          5289613.705125,
          5304546.2535,
          5339929.405125,
          5225678.0792499995,
          5117566.622125,
          5109499.886375,
          5053441.8975,
          4745899.177625,
          4534899.534,
          4396440.639875,
          4277111.502125,
          4148205.2126249997,
          4031823.687,
          4304518.92675,
          4825569.4715,
          5275615.807375001,
          5584694.078875,
          5605663.983625,
          5652118.43575,
          5675271.61725,
          5402126.727,
          5383609.831499999,
          5260749.976125,
          5170253.095125,
          5125560.425125,
          5156160.0975,
          5261008.757125,
          5236460.76125,
          5148426.884125,
          5109493.6523750005,
          5060341.8905,
          4741518.094625,
          4549448.086,
          4376907.656874999,
          4252469.543125,
          4095948.080625,
          3988709.333,
          4215937.04875,
          4725632.854499999,
          5190040.326375,
          5488061.576875,
          5592456.653625,
          5684730.42875,
          5789480.752250001,
          5673097.732,
          5659250.9115,
          5511271.943125,
          5403262.6151250005,
          5430470.117125,
          5533807.0715,
          5493848.347125,
          5319640.25425,
          5150665.986125,
          5064874.746375,
          5009416.3604999995,
          4759587.313625,
          4588547.502,
          4419459.161375,
          4261557.001375,
          4058716.3148749997,
          3852216.9354999997,
          3899123.2377500003,
          4084562.0725,
          4226564.0505,
          4471555.100125,
          4675061.25825,
          4796890.51475,
          4885781.102375,
          4899639.225375,
          4968355.9961250005,
          5062027.573125,
          5032312.042125001,
          4965940.854875,
          5041589.53225,
          5095620.9415,
          4963268.562125,
          4785805.5535,
          4700163.989875,
          4626285.336999999,
          4399882.72575,
          4240988.282,
          4098422.00175,
          4005131.1006250004,
          3841099.411,
          3648339.916125,
          3628974.9221250005,
          3655982.9593749996,
          3740893.3215,
          3932553.60575,
          4128506.6987499995,
          4249961.938,
          4331108.847375001,
          4272372.04375,
          4044143.011125,
          3878277.321625,
          3827009.9821249996,
          3911229.888125,
          4164222.08625,
          4432917.90475,
          4537475.4818750005,
          4543403.722875,
          4599991.9425,
          4589679.215,
          4306162.957625,
          4118935.4000000004,
          3989702.991875,
          3936591.4711249997,
          3809664.630625,
          3723286.1199999996,
          3934341.3447499997,
          4360574.6225000005,
          4635576.460375,
          4914515.167874999,
          5037780.386625,
          5085548.88875,
          5104484.71725,
          4895089.755,
          4815599.2285,
          4770857.000125,
          4772692.709125,
          4795765.426125001,
          4906484.9275,
          5015210.046125,
          4890407.05525,
          4815500.215125,
          4809902.687375,
          4785170.1245,
          4553175.110625
         ],
         "yaxis": "y"
        },
        {
         "hovertemplate": "Series=pred<br>Date=%{x}<br>Energy Consumption (kWh)=%{y}<extra></extra>",
         "legendgroup": "pred",
         "line": {
          "color": "#EF553B",
          "dash": "solid",
          "shape": "hv"
         },
         "marker": {
          "symbol": "circle"
         },
         "mode": "lines",
         "name": "pred",
         "showlegend": true,
         "type": "scattergl",
         "x": [
          "2023-07-01T00:00:00",
          "2023-07-01T01:00:00",
          "2023-07-01T02:00:00",
          "2023-07-01T03:00:00",
          "2023-07-01T04:00:00",
          "2023-07-01T05:00:00",
          "2023-07-01T06:00:00",
          "2023-07-01T07:00:00",
          "2023-07-01T08:00:00",
          "2023-07-01T09:00:00",
          "2023-07-01T10:00:00",
          "2023-07-01T11:00:00",
          "2023-07-01T12:00:00",
          "2023-07-01T13:00:00",
          "2023-07-01T14:00:00",
          "2023-07-01T15:00:00",
          "2023-07-01T16:00:00",
          "2023-07-01T17:00:00",
          "2023-07-01T18:00:00",
          "2023-07-01T19:00:00",
          "2023-07-01T20:00:00",
          "2023-07-01T21:00:00",
          "2023-07-01T22:00:00",
          "2023-07-01T23:00:00",
          "2023-07-02T00:00:00",
          "2023-07-02T01:00:00",
          "2023-07-02T02:00:00",
          "2023-07-02T03:00:00",
          "2023-07-02T04:00:00",
          "2023-07-02T05:00:00",
          "2023-07-02T06:00:00",
          "2023-07-02T07:00:00",
          "2023-07-02T08:00:00",
          "2023-07-02T09:00:00",
          "2023-07-02T10:00:00",
          "2023-07-02T11:00:00",
          "2023-07-02T12:00:00",
          "2023-07-02T13:00:00",
          "2023-07-02T14:00:00",
          "2023-07-02T15:00:00",
          "2023-07-02T16:00:00",
          "2023-07-02T17:00:00",
          "2023-07-02T18:00:00",
          "2023-07-02T19:00:00",
          "2023-07-02T20:00:00",
          "2023-07-02T21:00:00",
          "2023-07-02T22:00:00",
          "2023-07-02T23:00:00",
          "2023-07-03T00:00:00",
          "2023-07-03T01:00:00",
          "2023-07-03T02:00:00",
          "2023-07-03T03:00:00",
          "2023-07-03T04:00:00",
          "2023-07-03T05:00:00",
          "2023-07-03T06:00:00",
          "2023-07-03T07:00:00",
          "2023-07-03T08:00:00",
          "2023-07-03T09:00:00",
          "2023-07-03T10:00:00",
          "2023-07-03T11:00:00",
          "2023-07-03T12:00:00",
          "2023-07-03T13:00:00",
          "2023-07-03T14:00:00",
          "2023-07-03T15:00:00",
          "2023-07-03T16:00:00",
          "2023-07-03T17:00:00",
          "2023-07-03T18:00:00",
          "2023-07-03T19:00:00",
          "2023-07-03T20:00:00",
          "2023-07-03T21:00:00",
          "2023-07-03T22:00:00",
          "2023-07-03T23:00:00",
          "2023-07-04T00:00:00",
          "2023-07-04T01:00:00",
          "2023-07-04T02:00:00",
          "2023-07-04T03:00:00",
          "2023-07-04T04:00:00",
          "2023-07-04T05:00:00",
          "2023-07-04T06:00:00",
          "2023-07-04T07:00:00",
          "2023-07-04T08:00:00",
          "2023-07-04T09:00:00",
          "2023-07-04T10:00:00",
          "2023-07-04T11:00:00",
          "2023-07-04T12:00:00",
          "2023-07-04T13:00:00",
          "2023-07-04T14:00:00",
          "2023-07-04T15:00:00",
          "2023-07-04T16:00:00",
          "2023-07-04T17:00:00",
          "2023-07-04T18:00:00",
          "2023-07-04T19:00:00",
          "2023-07-04T20:00:00",
          "2023-07-04T21:00:00",
          "2023-07-04T22:00:00",
          "2023-07-04T23:00:00",
          "2023-07-05T00:00:00",
          "2023-07-05T01:00:00",
          "2023-07-05T02:00:00",
          "2023-07-05T03:00:00",
          "2023-07-05T04:00:00",
          "2023-07-05T05:00:00",
          "2023-07-05T06:00:00",
          "2023-07-05T07:00:00",
          "2023-07-05T08:00:00",
          "2023-07-05T09:00:00",
          "2023-07-05T10:00:00",
          "2023-07-05T11:00:00",
          "2023-07-05T12:00:00",
          "2023-07-05T13:00:00",
          "2023-07-05T14:00:00",
          "2023-07-05T15:00:00",
          "2023-07-05T16:00:00",
          "2023-07-05T17:00:00",
          "2023-07-05T18:00:00",
          "2023-07-05T19:00:00",
          "2023-07-05T20:00:00",
          "2023-07-05T21:00:00",
          "2023-07-05T22:00:00",
          "2023-07-05T23:00:00",
          "2023-07-06T00:00:00",
          "2023-07-06T01:00:00",
          "2023-07-06T02:00:00",
          "2023-07-06T03:00:00",
          "2023-07-06T04:00:00",
          "2023-07-06T05:00:00",
          "2023-07-06T06:00:00",
          "2023-07-06T07:00:00",
          "2023-07-06T08:00:00",
          "2023-07-06T09:00:00",
          "2023-07-06T10:00:00",
          "2023-07-06T11:00:00",
          "2023-07-06T12:00:00",
          "2023-07-06T13:00:00",
          "2023-07-06T14:00:00",
          "2023-07-06T15:00:00",
          "2023-07-06T16:00:00",
          "2023-07-06T17:00:00",
          "2023-07-06T18:00:00",
          "2023-07-06T19:00:00",
          "2023-07-06T20:00:00",
          "2023-07-06T21:00:00",
          "2023-07-06T22:00:00",
          "2023-07-06T23:00:00",
          "2023-07-07T00:00:00",
          "2023-07-07T01:00:00",
          "2023-07-07T02:00:00",
          "2023-07-07T03:00:00",
          "2023-07-07T04:00:00",
          "2023-07-07T05:00:00",
          "2023-07-07T06:00:00",
          "2023-07-07T07:00:00",
          "2023-07-07T08:00:00",
          "2023-07-07T09:00:00",
          "2023-07-07T10:00:00",
          "2023-07-07T11:00:00",
          "2023-07-07T12:00:00",
          "2023-07-07T13:00:00",
          "2023-07-07T14:00:00",
          "2023-07-07T15:00:00",
          "2023-07-07T16:00:00",
          "2023-07-07T17:00:00",
          "2023-07-07T18:00:00",
          "2023-07-07T19:00:00",
          "2023-07-07T20:00:00",
          "2023-07-07T21:00:00",
          "2023-07-07T22:00:00",
          "2023-07-07T23:00:00",
          "2023-07-08T00:00:00",
          "2023-07-08T01:00:00",
          "2023-07-08T02:00:00",
          "2023-07-08T03:00:00",
          "2023-07-08T04:00:00",
          "2023-07-08T05:00:00",
          "2023-07-08T06:00:00",
          "2023-07-08T07:00:00",
          "2023-07-08T08:00:00",
          "2023-07-08T09:00:00",
          "2023-07-08T10:00:00",
          "2023-07-08T11:00:00",
          "2023-07-08T12:00:00",
          "2023-07-08T13:00:00",
          "2023-07-08T14:00:00",
          "2023-07-08T15:00:00",
          "2023-07-08T16:00:00",
          "2023-07-08T17:00:00",
          "2023-07-08T18:00:00",
          "2023-07-08T19:00:00",
          "2023-07-08T20:00:00",
          "2023-07-08T21:00:00",
          "2023-07-08T22:00:00",
          "2023-07-08T23:00:00",
          "2023-07-09T00:00:00",
          "2023-07-09T01:00:00",
          "2023-07-09T02:00:00",
          "2023-07-09T03:00:00",
          "2023-07-09T04:00:00",
          "2023-07-09T05:00:00",
          "2023-07-09T06:00:00",
          "2023-07-09T07:00:00",
          "2023-07-09T08:00:00",
          "2023-07-09T09:00:00",
          "2023-07-09T10:00:00",
          "2023-07-09T11:00:00",
          "2023-07-09T12:00:00",
          "2023-07-09T13:00:00",
          "2023-07-09T14:00:00",
          "2023-07-09T15:00:00",
          "2023-07-09T16:00:00",
          "2023-07-09T17:00:00",
          "2023-07-09T18:00:00",
          "2023-07-09T19:00:00",
          "2023-07-09T20:00:00",
          "2023-07-09T21:00:00",
          "2023-07-09T22:00:00",
          "2023-07-09T23:00:00",
          "2023-07-10T00:00:00",
          "2023-07-10T01:00:00",
          "2023-07-10T02:00:00",
          "2023-07-10T03:00:00",
          "2023-07-10T04:00:00",
          "2023-07-10T05:00:00",
          "2023-07-10T06:00:00",
          "2023-07-10T07:00:00",
          "2023-07-10T08:00:00",
          "2023-07-10T09:00:00",
          "2023-07-10T10:00:00",
          "2023-07-10T11:00:00",
          "2023-07-10T12:00:00",
          "2023-07-10T13:00:00",
          "2023-07-10T14:00:00",
          "2023-07-10T15:00:00",
          "2023-07-10T16:00:00",
          "2023-07-10T17:00:00",
          "2023-07-10T18:00:00",
          "2023-07-10T19:00:00",
          "2023-07-10T20:00:00",
          "2023-07-10T21:00:00",
          "2023-07-10T22:00:00",
          "2023-07-10T23:00:00",
          "2023-07-11T00:00:00",
          "2023-07-11T01:00:00",
          "2023-07-11T02:00:00",
          "2023-07-11T03:00:00",
          "2023-07-11T04:00:00",
          "2023-07-11T05:00:00",
          "2023-07-11T06:00:00",
          "2023-07-11T07:00:00",
          "2023-07-11T08:00:00",
          "2023-07-11T09:00:00",
          "2023-07-11T10:00:00",
          "2023-07-11T11:00:00",
          "2023-07-11T12:00:00",
          "2023-07-11T13:00:00",
          "2023-07-11T14:00:00",
          "2023-07-11T15:00:00",
          "2023-07-11T16:00:00",
          "2023-07-11T17:00:00",
          "2023-07-11T18:00:00",
          "2023-07-11T19:00:00",
          "2023-07-11T20:00:00",
          "2023-07-11T21:00:00",
          "2023-07-11T22:00:00",
          "2023-07-11T23:00:00",
          "2023-07-12T00:00:00",
          "2023-07-12T01:00:00",
          "2023-07-12T02:00:00",
          "2023-07-12T03:00:00",
          "2023-07-12T04:00:00",
          "2023-07-12T05:00:00",
          "2023-07-12T06:00:00",
          "2023-07-12T07:00:00",
          "2023-07-12T08:00:00",
          "2023-07-12T09:00:00",
          "2023-07-12T10:00:00",
          "2023-07-12T11:00:00",
          "2023-07-12T12:00:00",
          "2023-07-12T13:00:00",
          "2023-07-12T14:00:00",
          "2023-07-12T15:00:00",
          "2023-07-12T16:00:00",
          "2023-07-12T17:00:00",
          "2023-07-12T18:00:00",
          "2023-07-12T19:00:00",
          "2023-07-12T20:00:00",
          "2023-07-12T21:00:00",
          "2023-07-12T22:00:00",
          "2023-07-12T23:00:00",
          "2023-07-13T00:00:00",
          "2023-07-13T01:00:00",
          "2023-07-13T02:00:00",
          "2023-07-13T03:00:00",
          "2023-07-13T04:00:00",
          "2023-07-13T05:00:00",
          "2023-07-13T06:00:00",
          "2023-07-13T07:00:00",
          "2023-07-13T08:00:00",
          "2023-07-13T09:00:00",
          "2023-07-13T10:00:00",
          "2023-07-13T11:00:00",
          "2023-07-13T12:00:00",
          "2023-07-13T13:00:00",
          "2023-07-13T14:00:00",
          "2023-07-13T15:00:00",
          "2023-07-13T16:00:00",
          "2023-07-13T17:00:00",
          "2023-07-13T18:00:00",
          "2023-07-13T19:00:00",
          "2023-07-13T20:00:00",
          "2023-07-13T21:00:00",
          "2023-07-13T22:00:00",
          "2023-07-13T23:00:00",
          "2023-07-14T00:00:00",
          "2023-07-14T01:00:00",
          "2023-07-14T02:00:00",
          "2023-07-14T03:00:00",
          "2023-07-14T04:00:00",
          "2023-07-14T05:00:00",
          "2023-07-14T06:00:00",
          "2023-07-14T07:00:00",
          "2023-07-14T08:00:00",
          "2023-07-14T09:00:00",
          "2023-07-14T10:00:00",
          "2023-07-14T11:00:00",
          "2023-07-14T12:00:00",
          "2023-07-14T13:00:00",
          "2023-07-14T14:00:00",
          "2023-07-14T15:00:00",
          "2023-07-14T16:00:00",
          "2023-07-14T17:00:00",
          "2023-07-14T18:00:00",
          "2023-07-14T19:00:00",
          "2023-07-14T20:00:00",
          "2023-07-14T21:00:00",
          "2023-07-14T22:00:00",
          "2023-07-14T23:00:00",
          "2023-07-15T00:00:00",
          "2023-07-15T01:00:00",
          "2023-07-15T02:00:00",
          "2023-07-15T03:00:00",
          "2023-07-15T04:00:00",
          "2023-07-15T05:00:00",
          "2023-07-15T06:00:00",
          "2023-07-15T07:00:00",
          "2023-07-15T08:00:00",
          "2023-07-15T09:00:00",
          "2023-07-15T10:00:00",
          "2023-07-15T11:00:00",
          "2023-07-15T12:00:00",
          "2023-07-15T13:00:00",
          "2023-07-15T14:00:00",
          "2023-07-15T15:00:00",
          "2023-07-15T16:00:00",
          "2023-07-15T17:00:00",
          "2023-07-15T18:00:00",
          "2023-07-15T19:00:00",
          "2023-07-15T20:00:00",
          "2023-07-15T21:00:00",
          "2023-07-15T22:00:00",
          "2023-07-15T23:00:00",
          "2023-07-16T00:00:00",
          "2023-07-16T01:00:00",
          "2023-07-16T02:00:00",
          "2023-07-16T03:00:00",
          "2023-07-16T04:00:00",
          "2023-07-16T05:00:00",
          "2023-07-16T06:00:00",
          "2023-07-16T07:00:00",
          "2023-07-16T08:00:00",
          "2023-07-16T09:00:00",
          "2023-07-16T10:00:00",
          "2023-07-16T11:00:00",
          "2023-07-16T12:00:00",
          "2023-07-16T13:00:00",
          "2023-07-16T14:00:00",
          "2023-07-16T15:00:00",
          "2023-07-16T16:00:00",
          "2023-07-16T17:00:00",
          "2023-07-16T18:00:00",
          "2023-07-16T19:00:00",
          "2023-07-16T20:00:00",
          "2023-07-16T21:00:00",
          "2023-07-16T22:00:00",
          "2023-07-16T23:00:00",
          "2023-07-17T00:00:00",
          "2023-07-17T01:00:00",
          "2023-07-17T02:00:00",
          "2023-07-17T03:00:00",
          "2023-07-17T04:00:00",
          "2023-07-17T05:00:00",
          "2023-07-17T06:00:00",
          "2023-07-17T07:00:00",
          "2023-07-17T08:00:00",
          "2023-07-17T09:00:00",
          "2023-07-17T10:00:00",
          "2023-07-17T11:00:00",
          "2023-07-17T12:00:00",
          "2023-07-17T13:00:00",
          "2023-07-17T14:00:00",
          "2023-07-17T15:00:00",
          "2023-07-17T16:00:00",
          "2023-07-17T17:00:00",
          "2023-07-17T18:00:00",
          "2023-07-17T19:00:00",
          "2023-07-17T20:00:00",
          "2023-07-17T21:00:00",
          "2023-07-17T22:00:00",
          "2023-07-17T23:00:00",
          "2023-07-18T00:00:00",
          "2023-07-18T01:00:00",
          "2023-07-18T02:00:00",
          "2023-07-18T03:00:00",
          "2023-07-18T04:00:00",
          "2023-07-18T05:00:00",
          "2023-07-18T06:00:00",
          "2023-07-18T07:00:00",
          "2023-07-18T08:00:00",
          "2023-07-18T09:00:00",
          "2023-07-18T10:00:00",
          "2023-07-18T11:00:00",
          "2023-07-18T12:00:00",
          "2023-07-18T13:00:00",
          "2023-07-18T14:00:00",
          "2023-07-18T15:00:00",
          "2023-07-18T16:00:00",
          "2023-07-18T17:00:00",
          "2023-07-18T18:00:00",
          "2023-07-18T19:00:00",
          "2023-07-18T20:00:00",
          "2023-07-18T21:00:00",
          "2023-07-18T22:00:00",
          "2023-07-18T23:00:00",
          "2023-07-19T00:00:00",
          "2023-07-19T01:00:00",
          "2023-07-19T02:00:00",
          "2023-07-19T03:00:00",
          "2023-07-19T04:00:00",
          "2023-07-19T05:00:00",
          "2023-07-19T06:00:00",
          "2023-07-19T07:00:00",
          "2023-07-19T08:00:00",
          "2023-07-19T09:00:00",
          "2023-07-19T10:00:00",
          "2023-07-19T11:00:00",
          "2023-07-19T12:00:00",
          "2023-07-19T13:00:00",
          "2023-07-19T14:00:00",
          "2023-07-19T15:00:00",
          "2023-07-19T16:00:00",
          "2023-07-19T17:00:00",
          "2023-07-19T18:00:00",
          "2023-07-19T19:00:00",
          "2023-07-19T20:00:00",
          "2023-07-19T21:00:00",
          "2023-07-19T22:00:00",
          "2023-07-19T23:00:00",
          "2023-07-20T00:00:00",
          "2023-07-20T01:00:00",
          "2023-07-20T02:00:00",
          "2023-07-20T03:00:00",
          "2023-07-20T04:00:00",
          "2023-07-20T05:00:00",
          "2023-07-20T06:00:00",
          "2023-07-20T07:00:00",
          "2023-07-20T08:00:00",
          "2023-07-20T09:00:00",
          "2023-07-20T10:00:00",
          "2023-07-20T11:00:00",
          "2023-07-20T12:00:00",
          "2023-07-20T13:00:00",
          "2023-07-20T14:00:00",
          "2023-07-20T15:00:00",
          "2023-07-20T16:00:00",
          "2023-07-20T17:00:00",
          "2023-07-20T18:00:00",
          "2023-07-20T19:00:00",
          "2023-07-20T20:00:00",
          "2023-07-20T21:00:00",
          "2023-07-20T22:00:00",
          "2023-07-20T23:00:00",
          "2023-07-21T00:00:00",
          "2023-07-21T01:00:00",
          "2023-07-21T02:00:00",
          "2023-07-21T03:00:00",
          "2023-07-21T04:00:00",
          "2023-07-21T05:00:00",
          "2023-07-21T06:00:00",
          "2023-07-21T07:00:00",
          "2023-07-21T08:00:00",
          "2023-07-21T09:00:00",
          "2023-07-21T10:00:00",
          "2023-07-21T11:00:00",
          "2023-07-21T12:00:00",
          "2023-07-21T13:00:00",
          "2023-07-21T14:00:00",
          "2023-07-21T15:00:00",
          "2023-07-21T16:00:00",
          "2023-07-21T17:00:00",
          "2023-07-21T18:00:00",
          "2023-07-21T19:00:00",
          "2023-07-21T20:00:00",
          "2023-07-21T21:00:00",
          "2023-07-21T22:00:00",
          "2023-07-21T23:00:00",
          "2023-07-22T00:00:00",
          "2023-07-22T01:00:00",
          "2023-07-22T02:00:00",
          "2023-07-22T03:00:00",
          "2023-07-22T04:00:00",
          "2023-07-22T05:00:00",
          "2023-07-22T06:00:00",
          "2023-07-22T07:00:00",
          "2023-07-22T08:00:00",
          "2023-07-22T09:00:00",
          "2023-07-22T10:00:00",
          "2023-07-22T11:00:00",
          "2023-07-22T12:00:00",
          "2023-07-22T13:00:00",
          "2023-07-22T14:00:00",
          "2023-07-22T15:00:00",
          "2023-07-22T16:00:00",
          "2023-07-22T17:00:00",
          "2023-07-22T18:00:00",
          "2023-07-22T19:00:00",
          "2023-07-22T20:00:00",
          "2023-07-22T21:00:00",
          "2023-07-22T22:00:00",
          "2023-07-22T23:00:00",
          "2023-07-23T00:00:00",
          "2023-07-23T01:00:00",
          "2023-07-23T02:00:00",
          "2023-07-23T03:00:00",
          "2023-07-23T04:00:00",
          "2023-07-23T05:00:00",
          "2023-07-23T06:00:00",
          "2023-07-23T07:00:00",
          "2023-07-23T08:00:00",
          "2023-07-23T09:00:00",
          "2023-07-23T10:00:00",
          "2023-07-23T11:00:00",
          "2023-07-23T12:00:00",
          "2023-07-23T13:00:00",
          "2023-07-23T14:00:00",
          "2023-07-23T15:00:00",
          "2023-07-23T16:00:00",
          "2023-07-23T17:00:00",
          "2023-07-23T18:00:00",
          "2023-07-23T19:00:00",
          "2023-07-23T20:00:00",
          "2023-07-23T21:00:00",
          "2023-07-23T22:00:00",
          "2023-07-23T23:00:00",
          "2023-07-24T00:00:00",
          "2023-07-24T01:00:00",
          "2023-07-24T02:00:00",
          "2023-07-24T03:00:00",
          "2023-07-24T04:00:00",
          "2023-07-24T05:00:00",
          "2023-07-24T06:00:00",
          "2023-07-24T07:00:00",
          "2023-07-24T08:00:00",
          "2023-07-24T09:00:00",
          "2023-07-24T10:00:00",
          "2023-07-24T11:00:00",
          "2023-07-24T12:00:00",
          "2023-07-24T13:00:00",
          "2023-07-24T14:00:00",
          "2023-07-24T15:00:00",
          "2023-07-24T16:00:00",
          "2023-07-24T17:00:00",
          "2023-07-24T18:00:00",
          "2023-07-24T19:00:00",
          "2023-07-24T20:00:00",
          "2023-07-24T21:00:00",
          "2023-07-24T22:00:00",
          "2023-07-24T23:00:00",
          "2023-07-25T00:00:00",
          "2023-07-25T01:00:00",
          "2023-07-25T02:00:00",
          "2023-07-25T03:00:00",
          "2023-07-25T04:00:00",
          "2023-07-25T05:00:00",
          "2023-07-25T06:00:00",
          "2023-07-25T07:00:00",
          "2023-07-25T08:00:00",
          "2023-07-25T09:00:00",
          "2023-07-25T10:00:00",
          "2023-07-25T11:00:00",
          "2023-07-25T12:00:00",
          "2023-07-25T13:00:00",
          "2023-07-25T14:00:00",
          "2023-07-25T15:00:00",
          "2023-07-25T16:00:00",
          "2023-07-25T17:00:00",
          "2023-07-25T18:00:00",
          "2023-07-25T19:00:00",
          "2023-07-25T20:00:00",
          "2023-07-25T21:00:00",
          "2023-07-25T22:00:00",
          "2023-07-25T23:00:00",
          "2023-07-26T00:00:00",
          "2023-07-26T01:00:00",
          "2023-07-26T02:00:00",
          "2023-07-26T03:00:00",
          "2023-07-26T04:00:00",
          "2023-07-26T05:00:00",
          "2023-07-26T06:00:00",
          "2023-07-26T07:00:00",
          "2023-07-26T08:00:00",
          "2023-07-26T09:00:00",
          "2023-07-26T10:00:00",
          "2023-07-26T11:00:00",
          "2023-07-26T12:00:00",
          "2023-07-26T13:00:00",
          "2023-07-26T14:00:00",
          "2023-07-26T15:00:00",
          "2023-07-26T16:00:00",
          "2023-07-26T17:00:00",
          "2023-07-26T18:00:00",
          "2023-07-26T19:00:00",
          "2023-07-26T20:00:00",
          "2023-07-26T21:00:00",
          "2023-07-26T22:00:00",
          "2023-07-26T23:00:00",
          "2023-07-27T00:00:00",
          "2023-07-27T01:00:00",
          "2023-07-27T02:00:00",
          "2023-07-27T03:00:00",
          "2023-07-27T04:00:00",
          "2023-07-27T05:00:00",
          "2023-07-27T06:00:00",
          "2023-07-27T07:00:00",
          "2023-07-27T08:00:00",
          "2023-07-27T09:00:00",
          "2023-07-27T10:00:00",
          "2023-07-27T11:00:00",
          "2023-07-27T12:00:00",
          "2023-07-27T13:00:00",
          "2023-07-27T14:00:00",
          "2023-07-27T15:00:00",
          "2023-07-27T16:00:00",
          "2023-07-27T17:00:00",
          "2023-07-27T18:00:00",
          "2023-07-27T19:00:00",
          "2023-07-27T20:00:00",
          "2023-07-27T21:00:00",
          "2023-07-27T22:00:00",
          "2023-07-27T23:00:00",
          "2023-07-28T00:00:00",
          "2023-07-28T01:00:00",
          "2023-07-28T02:00:00",
          "2023-07-28T03:00:00",
          "2023-07-28T04:00:00",
          "2023-07-28T05:00:00",
          "2023-07-28T06:00:00",
          "2023-07-28T07:00:00",
          "2023-07-28T08:00:00",
          "2023-07-28T09:00:00",
          "2023-07-28T10:00:00",
          "2023-07-28T11:00:00",
          "2023-07-28T12:00:00",
          "2023-07-28T13:00:00",
          "2023-07-28T14:00:00",
          "2023-07-28T15:00:00",
          "2023-07-28T16:00:00",
          "2023-07-28T17:00:00",
          "2023-07-28T18:00:00",
          "2023-07-28T19:00:00",
          "2023-07-28T20:00:00",
          "2023-07-28T21:00:00",
          "2023-07-28T22:00:00",
          "2023-07-28T23:00:00",
          "2023-07-29T00:00:00",
          "2023-07-29T01:00:00",
          "2023-07-29T02:00:00",
          "2023-07-29T03:00:00",
          "2023-07-29T04:00:00",
          "2023-07-29T05:00:00",
          "2023-07-29T06:00:00",
          "2023-07-29T07:00:00",
          "2023-07-29T08:00:00",
          "2023-07-29T09:00:00",
          "2023-07-29T10:00:00",
          "2023-07-29T11:00:00",
          "2023-07-29T12:00:00",
          "2023-07-29T13:00:00",
          "2023-07-29T14:00:00",
          "2023-07-29T15:00:00",
          "2023-07-29T16:00:00",
          "2023-07-29T17:00:00",
          "2023-07-29T18:00:00",
          "2023-07-29T19:00:00",
          "2023-07-29T20:00:00",
          "2023-07-29T21:00:00",
          "2023-07-29T22:00:00",
          "2023-07-29T23:00:00",
          "2023-07-30T00:00:00",
          "2023-07-30T01:00:00",
          "2023-07-30T02:00:00",
          "2023-07-30T03:00:00",
          "2023-07-30T04:00:00",
          "2023-07-30T05:00:00",
          "2023-07-30T06:00:00",
          "2023-07-30T07:00:00",
          "2023-07-30T08:00:00",
          "2023-07-30T09:00:00",
          "2023-07-30T10:00:00",
          "2023-07-30T11:00:00",
          "2023-07-30T12:00:00",
          "2023-07-30T13:00:00",
          "2023-07-30T14:00:00",
          "2023-07-30T15:00:00",
          "2023-07-30T16:00:00",
          "2023-07-30T17:00:00",
          "2023-07-30T18:00:00",
          "2023-07-30T19:00:00",
          "2023-07-30T20:00:00",
          "2023-07-30T21:00:00",
          "2023-07-30T22:00:00",
          "2023-07-30T23:00:00",
          "2023-07-31T00:00:00",
          "2023-07-31T01:00:00",
          "2023-07-31T02:00:00",
          "2023-07-31T03:00:00",
          "2023-07-31T04:00:00",
          "2023-07-31T05:00:00",
          "2023-07-31T06:00:00",
          "2023-07-31T07:00:00",
          "2023-07-31T08:00:00",
          "2023-07-31T09:00:00",
          "2023-07-31T10:00:00",
          "2023-07-31T11:00:00",
          "2023-07-31T12:00:00",
          "2023-07-31T13:00:00",
          "2023-07-31T14:00:00",
          "2023-07-31T15:00:00",
          "2023-07-31T16:00:00",
          "2023-07-31T17:00:00",
          "2023-07-31T18:00:00",
          "2023-07-31T19:00:00",
          "2023-07-31T20:00:00",
          "2023-07-31T21:00:00",
          "2023-07-31T22:00:00",
          "2023-07-31T23:00:00"
         ],
         "xaxis": "x",
         "y": [
          4973697.829765376,
          4797230.2261907905,
          4680252.625291478,
          4499492.984670348,
          4322159.919436112,
          4366169.659321442,
          4607964.240346909,
          4800092.312246881,
          5104461.580063406,
          5345867.164361607,
          5423200.528218769,
          5466320.666184571,
          5391750.408400513,
          5273553.412417598,
          5145172.985174619,
          5030719.128157813,
          5053644.562475003,
          5168256.064867247,
          5292465.447672568,
          5264398.191975161,
          5200037.946994416,
          5154772.628304295,
          5234121.047072113,
          4999445.435549468,
          4519911.336766414,
          4375551.007811658,
          4244782.996249825,
          4093088.04322052,
          3912582.575309962,
          3854300.427892044,
          3948646.5583631843,
          4029477.3248727396,
          4281848.283254676,
          4510532.332327291,
          4609632.415627584,
          4678071.746623233,
          4624520.573378086,
          4505378.756439008,
          4303632.300616078,
          4336097.262289554,
          4397874.818126343,
          4667718.3006039485,
          4946708.887730539,
          5046260.941292498,
          5052698.072920978,
          5042268.1037973985,
          5069415.1237135045,
          4747208.6124807,
          4487138.1250844225,
          4355674.075269192,
          4291904.621042863,
          4235956.33111839,
          4196956.0355827585,
          4552131.695792712,
          5323231.071564816,
          6034650.1820240095,
          6494792.370405421,
          6557382.347441934,
          6653579.732574388,
          6805192.6443182975,
          6485884.004455037,
          6530334.693689391,
          6429969.238097481,
          6256097.294732086,
          6176034.855631247,
          6125806.668476082,
          6164899.450543448,
          6076234.907564968,
          5839777.146832384,
          5708007.091353111,
          5629381.632301681,
          5264828.247328348,
          4791174.82263837,
          4636906.166657023,
          4463163.981745012,
          4279232.837312408,
          4163872.8972665593,
          4483829.842406787,
          5145991.700675726,
          5826803.851359263,
          6233635.453235567,
          6248708.30929669,
          6249813.697511263,
          6438039.804356687,
          6035676.106970824,
          6048689.286457777,
          5909019.41899281,
          5860510.553731561,
          5829899.222473793,
          5813951.301885538,
          5893891.759752944,
          5742034.257742107,
          5594715.289334416,
          5518696.243080355,
          5465872.235916331,
          5125056.493310355,
          4892681.269186005,
          4702765.570318177,
          4550765.833805516,
          4412363.954031035,
          4304551.089445971,
          4610095.003561936,
          5349128.757172741,
          6103297.685528919,
          6544551.185268797,
          6526078.478678152,
          6666967.810487419,
          6721613.508883774,
          6292122.654644154,
          6237301.450892925,
          6126797.882459991,
          6031552.598310083,
          5976792.072371744,
          5940211.094500206,
          6003016.855349563,
          5893887.346361168,
          5698976.269738726,
          5596825.609833941,
          5560523.838058643,
          5193832.610546008,
          4836946.080636993,
          4668627.205168724,
          4596808.8483648375,
          4436321.149608038,
          4337059.731393516,
          4653387.754133239,
          5306417.37691474,
          5982684.958156817,
          6299832.885531709,
          6323572.404274702,
          6439344.100426391,
          6558997.5981919095,
          6236579.4914091155,
          6254812.056067668,
          6199159.376546659,
          6217241.080269992,
          6299040.032127671,
          6298359.377541982,
          6349645.649437465,
          6188075.882892773,
          5888952.569597587,
          5697161.37793383,
          5559920.0532163605,
          5212691.979352362,
          4929119.449721627,
          4795023.745174602,
          4568845.8618032485,
          4439956.482842952,
          4248988.1956992,
          4559205.260343641,
          5287760.136990115,
          6025511.763923824,
          6450151.496352233,
          6531192.594858147,
          6635140.065265961,
          6777909.284416325,
          6422482.543454215,
          6410802.403798759,
          6325392.442473136,
          6145562.8255688995,
          6028509.04047557,
          6069016.056337491,
          6133690.391505793,
          5995084.786379583,
          5783201.150762849,
          5624358.325412802,
          5547366.516857989,
          5289254.569038048,
          4906147.744273461,
          4678812.501372762,
          4525967.757843047,
          4304708.233983099,
          4056565.326659195,
          4075195.619410895,
          4200734.776250355,
          4357009.239096135,
          4602891.60300611,
          4769119.02261088,
          4804341.768147305,
          4899511.4630702585,
          4890435.257351257,
          4783915.548533,
          4720970.034577839,
          4706552.7822906,
          4790973.735709265,
          4920397.494139254,
          5058434.730374262,
          5032929.119624935,
          4934873.926800825,
          4862066.066439867,
          4881901.103725605,
          4649077.334672183,
          4535960.087752774,
          4418684.125513338,
          4288883.410240978,
          4084944.811472118,
          3882674.92789039,
          3778524.6622695625,
          3830482.0871316046,
          3961916.271436192,
          4204451.437440574,
          4445810.660583973,
          4556865.22304704,
          4709151.790838204,
          4686181.349797577,
          4504211.647228345,
          4436601.812238835,
          4464289.601453401,
          4525239.876700856,
          4754990.324406236,
          5034467.295805775,
          5082213.663162567,
          5090627.742000312,
          5075139.289465696,
          5122753.872046292,
          4831695.154365495,
          4504601.207408242,
          4351536.94827304,
          4269848.753309742,
          4105566.9216125757,
          4000216.4356503934,
          4317851.515048839,
          5061505.665489249,
          5774869.674353361,
          6117329.0362621695,
          6128742.749409616,
          6233669.084103979,
          6436452.426190712,
          6080176.125559881,
          6054633.867296033,
          5937371.515336178,
          5844625.72154066,
          5794983.945992954,
          5753756.29814633,
          5829966.144577771,
          5734807.957972832,
          5580065.24390094,
          5503451.154051036,
          5445986.152963832,
          5026136.151771963,
          5053211.354465127,
          4894339.0486290455,
          4690720.467721507,
          4498458.584293075,
          4364012.4269384295,
          4706236.502800934,
          5380128.02982723,
          6054318.506006092,
          6375004.848543756,
          6405894.231248781,
          6473518.411149025,
          6683160.586180441,
          6283206.008873843,
          6293003.64784319,
          6159216.59682709,
          6115705.710038863,
          6060340.739826284,
          6025743.766573809,
          6076279.460182764,
          5975664.209872067,
          5781289.772468656,
          5681135.779387951,
          5620044.654329218,
          5221420.895163745,
          4944298.75703948,
          4773708.284115545,
          4604665.052767545,
          4429092.342120774,
          4305644.3944199905,
          4627546.532995492,
          5378981.959775962,
          6088200.396934167,
          6496785.088522889,
          6623688.226851299,
          6813537.133134082,
          6972924.59122394,
          6546065.62817876,
          6492627.747836694,
          6344234.356606677,
          6193581.767753378,
          6084715.548070677,
          6044320.785596557,
          6084917.821752012,
          5920113.538448758,
          5631734.123855673,
          5497197.216718465,
          5389257.501284152,
          5046496.992399216,
          4772746.351876982,
          4562527.172342069,
          4459031.905900776,
          4296502.81874907,
          4177210.8613089696,
          4528099.737428121,
          5235690.309953719,
          5911995.985021964,
          6194290.707011431,
          6162281.394999437,
          6310778.085947968,
          6460347.898824982,
          6111735.079282224,
          6108367.214273162,
          6020292.029300995,
          5902600.434775166,
          5834328.545921728,
          5720054.424777925,
          5754513.787784465,
          5616169.940756373,
          5413989.74586755,
          5294616.551727682,
          5254525.021001726,
          4870616.148940831,
          4767726.923893876,
          4563174.424161248,
          4422170.623043284,
          4229744.085028216,
          4112201.329736598,
          4408720.6410620585,
          5057356.238905966,
          5645847.735154375,
          5923708.179242939,
          5949663.673279554,
          6055564.736558884,
          6154331.172374949,
          5785609.564594537,
          5771704.814194411,
          5668905.446152836,
          5566574.387865834,
          5465950.207577378,
          5519963.918690227,
          5642057.84218733,
          5553286.569957994,
          5330354.098640583,
          5233527.0919688195,
          5197333.603052482,
          4910652.226272143,
          4868832.231618285,
          4646689.738607518,
          4395930.10125234,
          4132656.6579869166,
          3902129.283242345,
          3955669.0783283487,
          4146336.2026634663,
          4332012.226118527,
          4651120.148722127,
          4866198.350010797,
          5014163.345021792,
          5052244.483384132,
          4923897.755854502,
          4810572.468617402,
          4765755.903828494,
          4708104.04027044,
          4702601.762698576,
          4838873.22580947,
          5025846.5546018705,
          5049890.292665407,
          4922696.041753411,
          4902415.113839433,
          4961465.094756387,
          4724615.148532443,
          4531571.013576314,
          4374489.136869952,
          4186090.756198406,
          3969593.090362549,
          3784671.7413595766,
          3721321.0390293747,
          3755204.456928,
          3836095.763409011,
          4015330.9899861515,
          4202234.664374314,
          4294310.095078133,
          4411188.44413735,
          4444817.0742261335,
          4321141.787082963,
          4236300.130564578,
          4233090.337094955,
          4366549.841150507,
          4572842.970085815,
          4794310.019280225,
          4852038.287371434,
          4784172.470128119,
          4790681.32099469,
          4838243.366988815,
          4470439.234898351,
          4390660.596233033,
          4227298.058001153,
          4162869.777139306,
          4023798.378766708,
          3963589.7712343037,
          4290940.974138968,
          5006340.8796871975,
          5776477.824804649,
          6195197.352736518,
          6241270.324394442,
          6324862.397602715,
          6427826.316272795,
          6083451.303420953,
          6109800.900168225,
          6006150.119391285,
          5944285.947569765,
          5876465.324568078,
          5852796.485243574,
          5918960.740594789,
          5815018.475983992,
          5687967.365154095,
          5577434.1257853955,
          5527881.436100759,
          5148525.816925593,
          4688089.707056612,
          4526367.094930865,
          4398837.295173995,
          4221318.606685698,
          4084882.859370172,
          4373570.04759939,
          5086128.283256136,
          5789094.317393482,
          6158250.031833902,
          6251004.726622455,
          6371724.814130276,
          6434806.503860988,
          6163686.7859011665,
          6220394.595491089,
          6183503.960140511,
          6115554.129173391,
          6034115.158206455,
          6012013.011149339,
          6116240.211705439,
          6009561.876325995,
          5810158.504124768,
          5591198.395962916,
          5324601.975694537,
          4951359.329507597,
          4733722.115489058,
          4493476.072560698,
          4548398.955303878,
          4379373.454924822,
          4303732.204830602,
          4663958.678557545,
          5418943.540775895,
          6094523.380143918,
          6362801.941705205,
          6495189.083854467,
          6680670.915884048,
          6887644.57992731,
          6635930.180211902,
          6748136.563708976,
          6624610.217963688,
          6532197.538356312,
          6493355.170821913,
          6387183.631502613,
          6430736.900500625,
          6204116.296592966,
          5907926.980407819,
          5694214.113707475,
          5603643.093927294,
          5232916.487024978,
          4726711.813085914,
          4568538.771791369,
          4504712.396926463,
          4313678.327454537,
          4161135.3896968067,
          4411573.486977279,
          5074825.933381781,
          5755586.759981312,
          6179865.226395212,
          6128799.659622304,
          6182938.099858232,
          6273483.213230431,
          5867684.5500346795,
          5905260.2875979245,
          5760432.810943693,
          5641860.255294904,
          5593971.798772603,
          5597830.599376723,
          5661930.126420572,
          5615831.588201031,
          5477178.195873588,
          5408629.716916144,
          5339125.371045157,
          5002172.442898005,
          4619522.237041265,
          4440120.469373763,
          4301766.72912097,
          4132045.4738589227,
          4002065.3646282703,
          4266783.524981335,
          4875399.104601786,
          5453511.60654898,
          5745944.91636914,
          5808024.107561693,
          5879004.110326797,
          5954582.607899636,
          5686666.278182954,
          5663328.366193503,
          5601015.8402608335,
          5502798.820057198,
          5349399.987278506,
          5423057.715959355,
          5509468.860919476,
          5434512.206096947,
          5248650.56644699,
          5102868.333155304,
          5043508.922688201,
          4738950.345498398,
          4549382.737888023,
          4424142.520472139,
          4195318.083638236,
          3975502.104559183,
          3775730.593211755,
          3794814.046506971,
          3984671.4561448395,
          4119443.445330724,
          4438785.124341518,
          4632151.293540269,
          4716375.655988589,
          4738615.74391149,
          4661568.728320673,
          4622351.676196322,
          4575781.888973951,
          4578788.205399036,
          4486782.963303655,
          4582934.510662302,
          4714229.455580637,
          4760820.7557525635,
          4643865.961556017,
          4554740.920176819,
          4556953.725848496,
          4314459.783994928,
          4186747.321783155,
          4034072.649874553,
          3845124.3827218264,
          3647884.5672886223,
          3470120.403601706,
          3410976.4392067343,
          3418906.101139948,
          3449069.4368542433,
          3616833.605765134,
          3845546.1946661323,
          3998476.0034790337,
          4130408.3720495254,
          4132471.2817162424,
          4021117.397887349,
          3921004.5325131565,
          3903812.352340251,
          3990004.8273819536,
          4277300.802369744,
          4602646.422205985,
          4706713.238703474,
          4676079.342933103,
          4742903.6270941645,
          4818062.955903545,
          4545961.16884388,
          4197914.889915571,
          4067207.6691978574,
          3990022.3164814413,
          3862775.7865055203,
          3860392.6419863254,
          4291242.149980769,
          4958855.863800362,
          5611022.4454309195,
          5997831.003230512,
          6067789.618743449,
          6117240.079467669,
          6223889.52435343,
          5906269.469128922,
          5897606.850356981,
          5824781.603696793,
          5809175.871805102,
          5699003.55469887,
          5662000.5991088,
          5724437.506921917,
          5595317.949422553,
          5349706.747878417,
          5212152.5457627475,
          5105994.088443875,
          4757356.024345756,
          4390140.5222928375,
          4253288.188208029,
          4169766.4897483736,
          4003001.210912168,
          3890176.8235304356,
          4269573.300008982,
          4838304.804820761,
          5424794.859534577,
          5747419.933264345,
          5784304.183893338,
          5855621.790104359,
          5935796.168452725,
          5804885.864026263,
          6165476.652583718,
          6084770.399483964,
          5901267.098597422,
          5656423.531140998,
          5529050.105490074,
          5555503.022084191,
          5418073.478605837,
          5208521.37757656,
          5127596.210453033,
          5038542.182557389,
          4625870.415291518,
          4347001.715386897,
          4188571.2864189297,
          3969650.9741577506,
          3780648.192069888,
          3637889.4344372153,
          3930124.797994837,
          4458492.166515827,
          5095452.81512256,
          5486554.439588144,
          5521439.968195587,
          5617925.54412055,
          5683098.74505657,
          5358395.651889458,
          5275716.2554465085,
          5116782.030228972,
          5027946.114217848,
          4989775.356675014,
          5070703.14053598,
          5040611.269420564,
          4932088.587720022,
          4744677.394272402,
          4719743.831397086,
          4678682.263853461,
          4277888.910347655,
          4402445.042191163,
          4189966.002283618,
          4035321.6753629446,
          3821045.8795808107,
          3669137.23995021,
          3917652.4716664255,
          4509384.497248843,
          5092812.795785308,
          5377938.45132798,
          5361000.660009831,
          5403777.481307909,
          5443846.877754748,
          5169154.421307623,
          5181635.281811416,
          5131603.367252246,
          5092078.9624557495,
          5098287.776943952,
          5150978.1370782405,
          5265281.622447908,
          5195377.008947477,
          5090422.915825501,
          5052082.324719071,
          4984595.747977689,
          4641866.3177487105,
          4391961.894412965,
          4257100.450522959,
          4177215.4056358486,
          4018845.6224657,
          3892080.6855515093,
          4163842.644602686,
          4741436.297238931,
          5392044.743602678,
          5807402.946644455,
          5888378.133588687,
          6062059.567480981,
          6098213.591649711,
          5760743.518453851,
          5630931.188033149,
          5528144.622518435,
          5447292.781556413,
          5366666.835227296,
          5403598.139831126,
          5482600.056302175,
          5380437.564391866,
          5214898.6339586675,
          5126056.441131085,
          5077547.894216105,
          4820526.040600866,
          4424156.943535328,
          4248524.56358543,
          4103469.109983772,
          3910812.116824001,
          3689823.404068619,
          3740979.8049010783,
          3882765.947084889,
          3999804.1451539397,
          4238677.651555121,
          4437507.27175799,
          4541761.22851266,
          4579455.870203227,
          4479543.429137304,
          4389073.418846518,
          4371286.8568793535,
          4365572.11080429,
          4385014.745232612,
          4507331.46256651,
          4604843.930824816,
          4569338.252461463,
          4507817.93142584,
          4505992.893920973,
          4515904.918273196,
          4275039.6451783925,
          4063850.696776554,
          3898542.052066788,
          3813444.0507674664,
          3666652.467460051,
          3528342.13972719,
          3544420.4593458027,
          3644353.095126912,
          3746225.3746808767,
          3959663.5381571203,
          4146798.513592273,
          4258843.823247343,
          4326984.866819203,
          4321228.348233506,
          4185392.3133781105,
          4143666.019417584,
          4116243.866030723,
          4183930.469250843,
          4400116.394240141,
          4620887.996709168,
          4629748.9794805795,
          4537689.323491469,
          4558737.518198743,
          4554604.554906324,
          4254948.1395625025,
          3961192.131983578,
          3851633.0900773555,
          3819629.224252641,
          3707084.1158557087,
          3621874.0056431144,
          3884566.4500221014,
          4498055.380586833,
          5111637.210287049,
          5489341.166995704,
          5678763.53252016,
          5685178.224032357,
          5869039.704807922,
          5700893.963794246,
          5659121.374396756,
          5439783.453416854,
          5432578.445693344,
          5394121.9367791265,
          5308236.74084644,
          5378340.241347849,
          5150318.484693885,
          4954806.0477440655,
          4898196.608486384,
          4815025.891017258,
          4507878.934908405
         ],
         "yaxis": "y"
        }
       ],
       "layout": {
        "legend": {
         "title": {
          "text": ""
         },
         "tracegroupgap": 0
        },
        "template": {
         "data": {
          "bar": [
           {
            "error_x": {
             "color": "#2a3f5f"
            },
            "error_y": {
             "color": "#2a3f5f"
            },
            "marker": {
             "line": {
              "color": "white",
              "width": 0.5
             },
             "pattern": {
              "fillmode": "overlay",
              "size": 10,
              "solidity": 0.2
             }
            },
            "type": "bar"
           }
          ],
          "barpolar": [
           {
            "marker": {
             "line": {
              "color": "white",
              "width": 0.5
             },
             "pattern": {
              "fillmode": "overlay",
              "size": 10,
              "solidity": 0.2
             }
            },
            "type": "barpolar"
           }
          ],
          "carpet": [
           {
            "aaxis": {
             "endlinecolor": "#2a3f5f",
             "gridcolor": "#C8D4E3",
             "linecolor": "#C8D4E3",
             "minorgridcolor": "#C8D4E3",
             "startlinecolor": "#2a3f5f"
            },
            "baxis": {
             "endlinecolor": "#2a3f5f",
             "gridcolor": "#C8D4E3",
             "linecolor": "#C8D4E3",
             "minorgridcolor": "#C8D4E3",
             "startlinecolor": "#2a3f5f"
            },
            "type": "carpet"
           }
          ],
          "choropleth": [
           {
            "colorbar": {
             "outlinewidth": 0,
             "ticks": ""
            },
            "type": "choropleth"
           }
          ],
          "contour": [
           {
            "colorbar": {
             "outlinewidth": 0,
             "ticks": ""
            },
            "colorscale": [
             [
              0,
              "#0d0887"
             ],
             [
              0.1111111111111111,
              "#46039f"
             ],
             [
              0.2222222222222222,
              "#7201a8"
             ],
             [
              0.3333333333333333,
              "#9c179e"
             ],
             [
              0.4444444444444444,
              "#bd3786"
             ],
             [
              0.5555555555555556,
              "#d8576b"
             ],
             [
              0.6666666666666666,
              "#ed7953"
             ],
             [
              0.7777777777777778,
              "#fb9f3a"
             ],
             [
              0.8888888888888888,
              "#fdca26"
             ],
             [
              1,
              "#f0f921"
             ]
            ],
            "type": "contour"
           }
          ],
          "contourcarpet": [
           {
            "colorbar": {
             "outlinewidth": 0,
             "ticks": ""
            },
            "type": "contourcarpet"
           }
          ],
          "heatmap": [
           {
            "colorbar": {
             "outlinewidth": 0,
             "ticks": ""
            },
            "colorscale": [
             [
              0,
              "#0d0887"
             ],
             [
              0.1111111111111111,
              "#46039f"
             ],
             [
              0.2222222222222222,
              "#7201a8"
             ],
             [
              0.3333333333333333,
              "#9c179e"
             ],
             [
              0.4444444444444444,
              "#bd3786"
             ],
             [
              0.5555555555555556,
              "#d8576b"
             ],
             [
              0.6666666666666666,
              "#ed7953"
             ],
             [
              0.7777777777777778,
              "#fb9f3a"
             ],
             [
              0.8888888888888888,
              "#fdca26"
             ],
             [
              1,
              "#f0f921"
             ]
            ],
            "type": "heatmap"
           }
          ],
          "heatmapgl": [
           {
            "colorbar": {
             "outlinewidth": 0,
             "ticks": ""
            },
            "colorscale": [
             [
              0,
              "#0d0887"
             ],
             [
              0.1111111111111111,
              "#46039f"
             ],
             [
              0.2222222222222222,
              "#7201a8"
             ],
             [
              0.3333333333333333,
              "#9c179e"
             ],
             [
              0.4444444444444444,
              "#bd3786"
             ],
             [
              0.5555555555555556,
              "#d8576b"
             ],
             [
              0.6666666666666666,
              "#ed7953"
             ],
             [
              0.7777777777777778,
              "#fb9f3a"
             ],
             [
              0.8888888888888888,
              "#fdca26"
             ],
             [
              1,
              "#f0f921"
             ]
            ],
            "type": "heatmapgl"
           }
          ],
          "histogram": [
           {
            "marker": {
             "pattern": {
              "fillmode": "overlay",
              "size": 10,
              "solidity": 0.2
             }
            },
            "type": "histogram"
           }
          ],
          "histogram2d": [
           {
            "colorbar": {
             "outlinewidth": 0,
             "ticks": ""
            },
            "colorscale": [
             [
              0,
              "#0d0887"
             ],
             [
              0.1111111111111111,
              "#46039f"
             ],
             [
              0.2222222222222222,
              "#7201a8"
             ],
             [
              0.3333333333333333,
              "#9c179e"
             ],
             [
              0.4444444444444444,
              "#bd3786"
             ],
             [
              0.5555555555555556,
              "#d8576b"
             ],
             [
              0.6666666666666666,
              "#ed7953"
             ],
             [
              0.7777777777777778,
              "#fb9f3a"
             ],
             [
              0.8888888888888888,
              "#fdca26"
             ],
             [
              1,
              "#f0f921"
             ]
            ],
            "type": "histogram2d"
           }
          ],
          "histogram2dcontour": [
           {
            "colorbar": {
             "outlinewidth": 0,
             "ticks": ""
            },
            "colorscale": [
             [
              0,
              "#0d0887"
             ],
             [
              0.1111111111111111,
              "#46039f"
             ],
             [
              0.2222222222222222,
              "#7201a8"
             ],
             [
              0.3333333333333333,
              "#9c179e"
             ],
             [
              0.4444444444444444,
              "#bd3786"
             ],
             [
              0.5555555555555556,
              "#d8576b"
             ],
             [
              0.6666666666666666,
              "#ed7953"
             ],
             [
              0.7777777777777778,
              "#fb9f3a"
             ],
             [
              0.8888888888888888,
              "#fdca26"
             ],
             [
              1,
              "#f0f921"
             ]
            ],
            "type": "histogram2dcontour"
           }
          ],
          "mesh3d": [
           {
            "colorbar": {
             "outlinewidth": 0,
             "ticks": ""
            },
            "type": "mesh3d"
           }
          ],
          "parcoords": [
           {
            "line": {
             "colorbar": {
              "outlinewidth": 0,
              "ticks": ""
             }
            },
            "type": "parcoords"
           }
          ],
          "pie": [
           {
            "automargin": true,
            "type": "pie"
           }
          ],
          "scatter": [
           {
            "fillpattern": {
             "fillmode": "overlay",
             "size": 10,
             "solidity": 0.2
            },
            "type": "scatter"
           }
          ],
          "scatter3d": [
           {
            "line": {
             "colorbar": {
              "outlinewidth": 0,
              "ticks": ""
             }
            },
            "marker": {
             "colorbar": {
              "outlinewidth": 0,
              "ticks": ""
             }
            },
            "type": "scatter3d"
           }
          ],
          "scattercarpet": [
           {
            "marker": {
             "colorbar": {
              "outlinewidth": 0,
              "ticks": ""
             }
            },
            "type": "scattercarpet"
           }
          ],
          "scattergeo": [
           {
            "marker": {
             "colorbar": {
              "outlinewidth": 0,
              "ticks": ""
             }
            },
            "type": "scattergeo"
           }
          ],
          "scattergl": [
           {
            "marker": {
             "colorbar": {
              "outlinewidth": 0,
              "ticks": ""
             }
            },
            "type": "scattergl"
           }
          ],
          "scattermapbox": [
           {
            "marker": {
             "colorbar": {
              "outlinewidth": 0,
              "ticks": ""
             }
            },
            "type": "scattermapbox"
           }
          ],
          "scatterpolar": [
           {
            "marker": {
             "colorbar": {
              "outlinewidth": 0,
              "ticks": ""
             }
            },
            "type": "scatterpolar"
           }
          ],
          "scatterpolargl": [
           {
            "marker": {
             "colorbar": {
              "outlinewidth": 0,
              "ticks": ""
             }
            },
            "type": "scatterpolargl"
           }
          ],
          "scatterternary": [
           {
            "marker": {
             "colorbar": {
              "outlinewidth": 0,
              "ticks": ""
             }
            },
            "type": "scatterternary"
           }
          ],
          "surface": [
           {
            "colorbar": {
             "outlinewidth": 0,
             "ticks": ""
            },
            "colorscale": [
             [
              0,
              "#0d0887"
             ],
             [
              0.1111111111111111,
              "#46039f"
             ],
             [
              0.2222222222222222,
              "#7201a8"
             ],
             [
              0.3333333333333333,
              "#9c179e"
             ],
             [
              0.4444444444444444,
              "#bd3786"
             ],
             [
              0.5555555555555556,
              "#d8576b"
             ],
             [
              0.6666666666666666,
              "#ed7953"
             ],
             [
              0.7777777777777778,
              "#fb9f3a"
             ],
             [
              0.8888888888888888,
              "#fdca26"
             ],
             [
              1,
              "#f0f921"
             ]
            ],
            "type": "surface"
           }
          ],
          "table": [
           {
            "cells": {
             "fill": {
              "color": "#EBF0F8"
             },
             "line": {
              "color": "white"
             }
            },
            "header": {
             "fill": {
              "color": "#C8D4E3"
             },
             "line": {
              "color": "white"
             }
            },
            "type": "table"
           }
          ]
         },
         "layout": {
          "annotationdefaults": {
           "arrowcolor": "#2a3f5f",
           "arrowhead": 0,
           "arrowwidth": 1
          },
          "autotypenumbers": "strict",
          "coloraxis": {
           "colorbar": {
            "outlinewidth": 0,
            "ticks": ""
           }
          },
          "colorscale": {
           "diverging": [
            [
             0,
             "#8e0152"
            ],
            [
             0.1,
             "#c51b7d"
            ],
            [
             0.2,
             "#de77ae"
            ],
            [
             0.3,
             "#f1b6da"
            ],
            [
             0.4,
             "#fde0ef"
            ],
            [
             0.5,
             "#f7f7f7"
            ],
            [
             0.6,
             "#e6f5d0"
            ],
            [
             0.7,
             "#b8e186"
            ],
            [
             0.8,
             "#7fbc41"
            ],
            [
             0.9,
             "#4d9221"
            ],
            [
             1,
             "#276419"
            ]
           ],
           "sequential": [
            [
             0,
             "#0d0887"
            ],
            [
             0.1111111111111111,
             "#46039f"
            ],
            [
             0.2222222222222222,
             "#7201a8"
            ],
            [
             0.3333333333333333,
             "#9c179e"
            ],
            [
             0.4444444444444444,
             "#bd3786"
            ],
            [
             0.5555555555555556,
             "#d8576b"
            ],
            [
             0.6666666666666666,
             "#ed7953"
            ],
            [
             0.7777777777777778,
             "#fb9f3a"
            ],
            [
             0.8888888888888888,
             "#fdca26"
            ],
            [
             1,
             "#f0f921"
            ]
           ],
           "sequentialminus": [
            [
             0,
             "#0d0887"
            ],
            [
             0.1111111111111111,
             "#46039f"
            ],
            [
             0.2222222222222222,
             "#7201a8"
            ],
            [
             0.3333333333333333,
             "#9c179e"
            ],
            [
             0.4444444444444444,
             "#bd3786"
            ],
            [
             0.5555555555555556,
             "#d8576b"
            ],
            [
             0.6666666666666666,
             "#ed7953"
            ],
            [
             0.7777777777777778,
             "#fb9f3a"
            ],
            [
             0.8888888888888888,
             "#fdca26"
            ],
            [
             1,
             "#f0f921"
            ]
           ]
          },
          "colorway": [
           "#636efa",
           "#EF553B",
           "#00cc96",
           "#ab63fa",
           "#FFA15A",
           "#19d3f3",
           "#FF6692",
           "#B6E880",
           "#FF97FF",
           "#FECB52"
          ],
          "font": {
           "color": "#2a3f5f"
          },
          "geo": {
           "bgcolor": "white",
           "lakecolor": "white",
           "landcolor": "white",
           "showlakes": true,
           "showland": true,
           "subunitcolor": "#C8D4E3"
          },
          "hoverlabel": {
           "align": "left"
          },
          "hovermode": "closest",
          "mapbox": {
           "style": "light"
          },
          "paper_bgcolor": "white",
          "plot_bgcolor": "white",
          "polar": {
           "angularaxis": {
            "gridcolor": "#EBF0F8",
            "linecolor": "#EBF0F8",
            "ticks": ""
           },
           "bgcolor": "white",
           "radialaxis": {
            "gridcolor": "#EBF0F8",
            "linecolor": "#EBF0F8",
            "ticks": ""
           }
          },
          "scene": {
           "xaxis": {
            "backgroundcolor": "white",
            "gridcolor": "#DFE8F3",
            "gridwidth": 2,
            "linecolor": "#EBF0F8",
            "showbackground": true,
            "ticks": "",
            "zerolinecolor": "#EBF0F8"
           },
           "yaxis": {
            "backgroundcolor": "white",
            "gridcolor": "#DFE8F3",
            "gridwidth": 2,
            "linecolor": "#EBF0F8",
            "showbackground": true,
            "ticks": "",
            "zerolinecolor": "#EBF0F8"
           },
           "zaxis": {
            "backgroundcolor": "white",
            "gridcolor": "#DFE8F3",
            "gridwidth": 2,
            "linecolor": "#EBF0F8",
            "showbackground": true,
            "ticks": "",
            "zerolinecolor": "#EBF0F8"
           }
          },
          "shapedefaults": {
           "line": {
            "color": "#2a3f5f"
           }
          },
          "ternary": {
           "aaxis": {
            "gridcolor": "#DFE8F3",
            "linecolor": "#A2B1C6",
            "ticks": ""
           },
           "baxis": {
            "gridcolor": "#DFE8F3",
            "linecolor": "#A2B1C6",
            "ticks": ""
           },
           "bgcolor": "white",
           "caxis": {
            "gridcolor": "#DFE8F3",
            "linecolor": "#A2B1C6",
            "ticks": ""
           }
          },
          "title": {
           "x": 0.05
          },
          "xaxis": {
           "automargin": true,
           "gridcolor": "#EBF0F8",
           "linecolor": "#EBF0F8",
           "ticks": "",
           "title": {
            "standoff": 15
           },
           "zerolinecolor": "#EBF0F8",
           "zerolinewidth": 2
          },
          "yaxis": {
           "automargin": true,
           "gridcolor": "#EBF0F8",
           "linecolor": "#EBF0F8",
           "ticks": "",
           "title": {
            "standoff": 15
           },
           "zerolinecolor": "#EBF0F8",
           "zerolinewidth": 2
          }
         }
        },
        "title": {
         "text": "Actual vs Predicted Energy Consumption Over Time"
        },
        "xaxis": {
         "anchor": "y",
         "domain": [
          0,
          1
         ],
         "title": {
          "text": "Date"
         }
        },
        "yaxis": {
         "anchor": "x",
         "domain": [
          0,
          1
         ],
         "title": {
          "text": "Energy Consumption (kWh)"
         }
        }
       }
      }
     },
     "metadata": {},
     "output_type": "display_data"
    }
   ],
   "source": [
    "# Create the figure with step lines for both actual and predicted values\n",
    "fig = px.line(\n",
    "    y_preds_val.reset_index(),\n",
    "    x=\"datetime\",\n",
    "    y=[\"kWh\", \"pred\"],\n",
    "    labels={\n",
    "        \"datetime\": \"Date\",\n",
    "        \"value\": \"Energy Consumption (kWh)\",\n",
    "        \"variable\": \"Series\",\n",
    "    },\n",
    "    title=\"Actual vs Predicted Energy Consumption Over Time\",\n",
    "    line_shape=\"hv\",  # Set line shape to horizontal-vertical for step chart\n",
    ")\n",
    "\n",
    "# Customize the layout\n",
    "fig.update_layout(\n",
    "    template=\"plotly_white\",\n",
    "    legend=dict(title=\"\"),\n",
    "    xaxis_title=\"Date\",\n",
    "    yaxis_title=\"Energy Consumption (kWh)\",\n",
    ")\n",
    "\n",
    "# Show the figure\n",
    "fig.show()"
   ]
  },
  {
   "cell_type": "markdown",
   "metadata": {},
   "source": [
    "# Holdout Evaluation without Retraining\n",
    "\n",
    "- fit the model once on the trainval set\n",
    "- evaluate over the entire year and store predictions"
   ]
  },
  {
   "cell_type": "code",
   "execution_count": 75,
   "metadata": {},
   "outputs": [
    {
     "data": {
      "text/plain": [
       "{'p': 7, 'q': 3, 'P': 0, 'Q': 1, 'd': 1, 'D': 1}"
      ]
     },
     "execution_count": 75,
     "metadata": {},
     "output_type": "execute_result"
    }
   ],
   "source": [
    "best_hyperparams_df = (\n",
    "    pl.read_csv(\"3_SARIMAX_trials.csv\")\n",
    "    .sort(\"loss\")\n",
    "    .head(1)\n",
    "    .select(pl.selectors.contains(\"config/\"))\n",
    "    .unpivot()\n",
    "    .with_columns(\n",
    "        pl.col(\"variable\").str.replace(\"config/\", \"\"), pl.col(\"value\").cast(pl.Int64)\n",
    "    )\n",
    ")\n",
    "\n",
    "best_hyperparams = dict(\n",
    "    zip(best_hyperparams_df[\"variable\"], best_hyperparams_df[\"value\"])\n",
    ")\n",
    "\n",
    "best_hyperparams"
   ]
  },
  {
   "cell_type": "markdown",
   "metadata": {},
   "source": [
    "Do splits:"
   ]
  },
  {
   "cell_type": "code",
   "execution_count": 76,
   "metadata": {},
   "outputs": [],
   "source": [
    "df_trainval = df_full[\"2022-09-01\":\"2023-08-31\"]\n",
    "df_holdout = df_full[\"2023-09-01\":\"2024-08-31\"]"
   ]
  },
  {
   "cell_type": "markdown",
   "metadata": {},
   "source": [
    "Preprocess the data:"
   ]
  },
  {
   "cell_type": "code",
   "execution_count": 77,
   "metadata": {},
   "outputs": [],
   "source": [
    "X_trainval = df_trainval.drop(columns=[\"kWh\"])\n",
    "X_holdout = df_holdout.drop(columns=[\"kWh\"])\n",
    "\n",
    "X_trainval_preprocessed = pd.DataFrame(\n",
    "    preprocessor.fit_transform(X_trainval),\n",
    "    columns=preprocessor.get_feature_names_out(),\n",
    ")\n",
    "\n",
    "X_holdout_preprocessed = pd.DataFrame(\n",
    "    preprocessor.transform(X_holdout),\n",
    "    columns=preprocessor.get_feature_names_out(),\n",
    ")"
   ]
  },
  {
   "cell_type": "code",
   "execution_count": 78,
   "metadata": {},
   "outputs": [],
   "source": [
    "y_trainval = df_trainval[\"kWh\"]\n",
    "y_holdout = df_holdout[\"kWh\"]"
   ]
  },
  {
   "cell_type": "markdown",
   "metadata": {},
   "source": [
    "Fit model on the training and validation period:"
   ]
  },
  {
   "cell_type": "code",
   "execution_count": null,
   "metadata": {},
   "outputs": [],
   "source": [
    "# Fit model with best hyperparameters on history\n",
    "model = ARIMA(\n",
    "    order=(\n",
    "        best_hyperparams[\"p\"],\n",
    "        best_hyperparams[\"d\"],\n",
    "        best_hyperparams[\"q\"],\n",
    "    ),\n",
    "    season_length=168,\n",
    "    seasonal_order=(\n",
    "        best_hyperparams[\"P\"],\n",
    "        best_hyperparams[\"D\"],\n",
    "        best_hyperparams[\"Q\"],\n",
    "    ),\n",
    ")\n",
    "\n",
    "model = model.fit(\n",
    "    y=y_trainval.to_numpy(dtype=np.float64),\n",
    "    X=X_trainval_preprocessed.to_numpy(dtype=np.float64),\n",
    ")"
   ]
  },
  {
   "cell_type": "code",
   "execution_count": null,
   "metadata": {},
   "outputs": [],
   "source": [
    "y_pred = validation(\n",
    "    model=model,\n",
    "    X_train=X_trainval_preprocessed,\n",
    "    X_val=X_holdout_preprocessed,\n",
    "    y_train=y_trainval,\n",
    "    y_val=y_holdout,\n",
    "    verbose=True,\n",
    ")"
   ]
  },
  {
   "cell_type": "code",
   "execution_count": null,
   "metadata": {},
   "outputs": [],
   "source": [
    "y_preds_holdout = pd.DataFrame(\n",
    "    {\n",
    "        \"pred\": y_pred,\n",
    "        \"kWh\": y_holdout,\n",
    "    }\n",
    ")\n",
    "\n",
    "y_preds_holdout.head()"
   ]
  },
  {
   "cell_type": "code",
   "execution_count": null,
   "metadata": {},
   "outputs": [],
   "source": [
    "pl.DataFrame(data=model.model_[\"coef\"]).to_pandas().to_csv(\n",
    "    \"3_SARIMAX_holdout_model_coefficients.csv\", index=False\n",
    ")"
   ]
  },
  {
   "cell_type": "code",
   "execution_count": null,
   "metadata": {},
   "outputs": [],
   "source": [
    "(\n",
    "    y_preds_holdout.reset_index().to_csv(\n",
    "        \"3_SARIMAX_holdout_predictions_no_retraining.csv\", index=False\n",
    "    )\n",
    ")"
   ]
  },
  {
   "cell_type": "code",
   "execution_count": null,
   "metadata": {},
   "outputs": [],
   "source": [
    "# Create the figure with step lines for both actual and predicted values\n",
    "fig = px.line(\n",
    "    y_preds_holdout.reset_index(),\n",
    "    x=\"datetime\",\n",
    "    y=[\"kWh\", \"pred\"],\n",
    "    labels={\n",
    "        \"datetime\": \"Date\",\n",
    "        \"value\": \"Energy Consumption (kWh)\",\n",
    "        \"variable\": \"Series\",\n",
    "    },\n",
    "    title=\"Actual vs Predicted Energy Consumption Over Time\",\n",
    "    line_shape=\"hv\",  # Set line shape to horizontal-vertical for step chart\n",
    ")\n",
    "\n",
    "# Customize the layout\n",
    "fig.update_layout(\n",
    "    template=\"plotly_white\",\n",
    "    legend=dict(title=\"\"),\n",
    "    xaxis_title=\"Date\",\n",
    "    yaxis_title=\"Energy Consumption (kWh)\",\n",
    ")\n",
    "\n",
    "# Show the figure\n",
    "fig.show()"
   ]
  },
  {
   "cell_type": "markdown",
   "metadata": {},
   "source": [
    "# Holdout Evaluation with Retraining\n",
    "\n",
    "Retrain weekly, then predict the entire following week without retraining.\n",
    "\n",
    "- Training Size: Can not be much longer than a month, so go with that for now"
   ]
  },
  {
   "cell_type": "code",
   "execution_count": null,
   "metadata": {},
   "outputs": [],
   "source": [
    "# best_hyperparams_df = (\n",
    "#     pl.read_csv(\"3_SARIMAX_trials.csv\")\n",
    "#     .sort(\"loss\")\n",
    "#     .head(1)\n",
    "#     .select(pl.selectors.contains(\"config/\"))\n",
    "#     .unpivot()\n",
    "#     .with_columns(\n",
    "#         pl.col(\"variable\").str.replace(\"config/\", \"\"), pl.col(\"value\").cast(pl.Int64)\n",
    "#     )\n",
    "# )\n",
    "\n",
    "# best_hyperparams = dict(\n",
    "#     zip(best_hyperparams_df[\"variable\"], best_hyperparams_df[\"value\"])\n",
    "# )\n",
    "\n",
    "# best_hyperparams"
   ]
  },
  {
   "cell_type": "code",
   "execution_count": null,
   "metadata": {},
   "outputs": [],
   "source": [
    "# with open(\"autoarima_model.pkl\", \"rb\") as f:\n",
    "#     model_summary = pickle.load(f)\n",
    "\n",
    "# best_hyperparams_autoarima = {\n",
    "#     \"p\": sum(1 for key in model_summary[\"coef\"] if key.startswith(\"ar\")),\n",
    "#     \"q\": sum(1 for key in model_summary[\"coef\"] if key.startswith(\"ma\")),\n",
    "#     \"P\": sum(1 for key in model_summary[\"coef\"] if key.startswith(\"sar\")),\n",
    "#     \"Q\": sum(1 for key in model_summary[\"coef\"] if key.startswith(\"sma\")),\n",
    "#     \"d\": 1,\n",
    "#     \"D\": 1,\n",
    "# }\n",
    "\n",
    "# best_hyperparams_autoarima"
   ]
  },
  {
   "cell_type": "code",
   "execution_count": null,
   "metadata": {},
   "outputs": [],
   "source": [
    "# df_trainval = df_full[\"2022-09-01\":\"2023-08-31\"]\n",
    "# df_holdout = df_full[\"2023-09-01\":\"2024-08-31\"]"
   ]
  },
  {
   "cell_type": "code",
   "execution_count": null,
   "metadata": {},
   "outputs": [],
   "source": [
    "# retraining_freq = 7 * 24\n",
    "# retraining_indices = np.arange(0, df_holdout.shape[0], retraining_freq).tolist()\n",
    "# y_preds_list = []\n",
    "# model_coefs_list = []\n",
    "\n",
    "# for holdout_index in tqdm(retraining_indices):\n",
    "\n",
    "#     # Preprocess training history df\n",
    "#     X_train = pd.concat(\n",
    "#         [\n",
    "#             df_trainval.iloc[holdout_index:].drop(columns=[\"kWh\"]),\n",
    "#             df_holdout.iloc[:holdout_index].drop(columns=[\"kWh\"]),\n",
    "#         ],\n",
    "#         axis=0,\n",
    "#     )\n",
    "#     X_train_preprocessed = pd.DataFrame(\n",
    "#         preprocessor.fit_transform(X_train),\n",
    "#         columns=preprocessor.get_feature_names_out(),\n",
    "#     )\n",
    "\n",
    "#     X_holdout = df_holdout.iloc[holdout_index : holdout_index + retraining_freq].drop(\n",
    "#         columns=[\"kWh\"]\n",
    "#     )\n",
    "#     X_holdout_preprocessed = pd.DataFrame(\n",
    "#         preprocessor.transform(X_holdout),\n",
    "#         columns=preprocessor.get_feature_names_out(),\n",
    "#     )\n",
    "\n",
    "#     y_train = pd.concat(\n",
    "#         [\n",
    "#             df_trainval.iloc[holdout_index:][\"kWh\"],\n",
    "#             df_holdout.iloc[:holdout_index][\"kWh\"],\n",
    "#         ],\n",
    "#         axis=0,\n",
    "#     )\n",
    "#     y_holdout = df_holdout.iloc[holdout_index : holdout_index + retraining_freq][\"kWh\"]\n",
    "\n",
    "#     # Fit model with best hyperparameters on history\n",
    "#     model = ARIMA(\n",
    "#         order=(\n",
    "#             best_hyperparams[\"p\"],\n",
    "#             best_hyperparams[\"d\"],\n",
    "#             best_hyperparams[\"q\"],\n",
    "#         ),\n",
    "#         season_length=168,\n",
    "#         seasonal_order=(\n",
    "#             best_hyperparams[\"P\"],\n",
    "#             best_hyperparams[\"D\"],\n",
    "#             best_hyperparams[\"Q\"],\n",
    "#         ),\n",
    "#     )\n",
    "\n",
    "#     model = model.fit(\n",
    "#         y=y_train.to_numpy(dtype=np.float64),\n",
    "#         X=X_train_preprocessed.to_numpy(dtype=np.float64),\n",
    "#     )\n",
    "\n",
    "#     # Save the model coefficients for later visualisation\n",
    "#     model_coefs_list.append(pl.DataFrame(data=model.model_[\"coef\"]))\n",
    "\n",
    "#     # Make predictions for that week and store them\n",
    "#     y_pred = validation(\n",
    "#         model=model,\n",
    "#         X_train=X_train_preprocessed,\n",
    "#         X_val=X_holdout_preprocessed,\n",
    "#         y_train=y_train,\n",
    "#         y_val=y_holdout,\n",
    "#         verbose=False,\n",
    "#     )\n",
    "\n",
    "#     y_preds_list.append(\n",
    "#         pd.DataFrame(\n",
    "#             {\n",
    "#                 \"pred\": y_pred,\n",
    "#                 \"kWh\": y_holdout,\n",
    "#             }\n",
    "#         )\n",
    "#     )\n",
    "\n",
    "#     # Increment holdout index\n",
    "#     holdout_index += retraining_freq"
   ]
  },
  {
   "cell_type": "code",
   "execution_count": null,
   "metadata": {},
   "outputs": [],
   "source": [
    "# (\n",
    "#     pd.concat(y_preds_list)\n",
    "#     .reset_index()\n",
    "#     .to_csv(\"3_SARIMAX_holdout_predictions_with_retraining.csv\", index=False)\n",
    "# )"
   ]
  },
  {
   "cell_type": "code",
   "execution_count": null,
   "metadata": {},
   "outputs": [],
   "source": [
    "# loss = root_mean_squared_error(\n",
    "#     y_pred=pl.read_csv(\"3_SARIMAX_holdout_predictions_with_retraining.csv\")[\"pred\"],\n",
    "#     y_true=pl.read_csv(\"3_SARIMAX_holdout_predictions_with_retraining.csv\")[\"kWh\"],\n",
    "# )\n",
    "# loss"
   ]
  },
  {
   "cell_type": "code",
   "execution_count": null,
   "metadata": {},
   "outputs": [],
   "source": [
    "# pl.concat(model_coefs_list, how=\"vertical\").to_pandas().to_csv(\n",
    "#     \"3_SARIMAX_holdout_model_coefficients.csv\"\n",
    "# )"
   ]
  },
  {
   "cell_type": "code",
   "execution_count": null,
   "metadata": {},
   "outputs": [],
   "source": [
    "# # Create the figure with step lines for both actual and predicted values\n",
    "# fig = px.line(\n",
    "#     pd.concat(y_preds_list).reset_index(),\n",
    "#     x=\"datetime\",\n",
    "#     y=[\"kWh\", \"pred\"],\n",
    "#     labels={\n",
    "#         \"datetime\": \"Date\",\n",
    "#         \"value\": \"Energy Consumption (kWh)\",\n",
    "#         \"variable\": \"Series\",\n",
    "#     },\n",
    "#     title=\"Actual vs Predicted Energy Consumption Over Time\",\n",
    "#     line_shape=\"hv\",  # Set line shape to horizontal-vertical for step chart\n",
    "# )\n",
    "\n",
    "# # Customize the layout\n",
    "# fig.update_layout(\n",
    "#     template=\"plotly_white\",\n",
    "#     legend=dict(title=\"\"),\n",
    "#     xaxis_title=\"Date\",\n",
    "#     yaxis_title=\"Energy Consumption (kWh)\",\n",
    "# )\n",
    "\n",
    "# # Show the figure\n",
    "# fig.show()"
   ]
  }
 ],
 "metadata": {
  "kernelspec": {
   "display_name": "lapro_eth",
   "language": "python",
   "name": "python3"
  },
  "language_info": {
   "codemirror_mode": {
    "name": "ipython",
    "version": 3
   },
   "file_extension": ".py",
   "mimetype": "text/x-python",
   "name": "python",
   "nbconvert_exporter": "python",
   "pygments_lexer": "ipython3",
   "version": "3.10.15"
  }
 },
 "nbformat": 4,
 "nbformat_minor": 2
}
